{
 "cells": [
  {
   "cell_type": "code",
   "execution_count": 1,
   "id": "530b7db2-cee9-434c-883d-ec0d339c4305",
   "metadata": {},
   "outputs": [
    {
     "name": "stdout",
     "output_type": "stream",
     "text": [
      "Python 3.9.16\n"
     ]
    }
   ],
   "source": [
    "! python -V"
   ]
  },
  {
   "cell_type": "code",
   "execution_count": 6,
   "id": "244e01fb-ae1f-4631-9db1-56a7367fd2f4",
   "metadata": {},
   "outputs": [],
   "source": [
    "import os"
   ]
  },
  {
   "cell_type": "code",
   "execution_count": 7,
   "id": "c9084534-8fd6-4624-ad4a-61b05d0d9f9d",
   "metadata": {},
   "outputs": [
    {
     "data": {
      "text/plain": [
       "True"
      ]
     },
     "execution_count": 7,
     "metadata": {},
     "output_type": "execute_result"
    }
   ],
   "source": [
    "from dotenv import load_dotenv\n",
    "load_dotenv(override=True)"
   ]
  },
  {
   "cell_type": "code",
   "execution_count": 8,
   "id": "ee98efc5-640d-4028-be62-fad276d897da",
   "metadata": {},
   "outputs": [],
   "source": [
    "GOOGLE_PALM_API_KEY = os.getenv(\"GOOGLE_PALM_API_KEY\")"
   ]
  },
  {
   "cell_type": "code",
   "execution_count": 34,
   "id": "f6661a9c-9dc0-406b-840c-7ce319b951b0",
   "metadata": {},
   "outputs": [],
   "source": [
    "prompt = \"Is an XGBoost Classifier a good model to use if you are interested in probability outputs? Reason through it step by step.'\""
   ]
  },
  {
   "cell_type": "markdown",
   "id": "471d7de0-4aa5-4fcf-857c-fe3222b22526",
   "metadata": {},
   "source": [
    "## Interacting with PaLM via API and Python `requests` library"
   ]
  },
  {
   "cell_type": "code",
   "execution_count": 35,
   "id": "9c1758ee-d198-4f70-bce5-b6c68a4763bf",
   "metadata": {},
   "outputs": [],
   "source": [
    "import requests"
   ]
  },
  {
   "cell_type": "code",
   "execution_count": 36,
   "id": "c852adc8-f06f-49dd-9933-51f627ec9101",
   "metadata": {},
   "outputs": [
    {
     "name": "stdout",
     "output_type": "stream",
     "text": [
      "200\n",
      "{'candidates': [{'output': '**Step 1: Define the problem**\\n\\nThe problem is to determine whether an XGBoost Classifier is a good model to use if you are interested in probability outputs.\\n\\n**Step 2: Gather information**\\n\\nXGBoost is a gradient boosting algorithm that can be used for both classification and regression tasks. It is a popular choice for machine learning competitions because it is fast, accurate, and scalable. XGBoost is also known for its ability to handle overfitting.\\n\\nWhen using XGBoost for classification, the model outputs a probability for each class. This probability can be used to make predictions. However, it is important to note that the probability outputs from XGBoost are not always reliable. This is because XGBoost is a greedy algorithm, which means that it makes decisions based on the current best solution, without considering the future. This can lead to overfitting, which can result in inaccurate probability outputs.\\n\\n**Step 3: Analyze the information**\\n\\nBased on the information gathered, it is possible to conclude that XGBoost is not a good model to use if you are interested in probability outputs. This is because the probability outputs from XGBoost are not always reliable.\\n\\n**Step 4: Make a decision**\\n\\nThe decision is to not use XGBoost for classification tasks if you are interested in probability outputs.\\n\\n**Step 5: Justify the decision**\\n\\nThe decision is justified because XGBoost is a greedy algorithm, which means that it makes decisions based on the current best solution, without considering the future. This can lead to overfitting, which can result in inaccurate probability outputs.', 'safetyRatings': [{'category': 'HARM_CATEGORY_DEROGATORY', 'probability': 'NEGLIGIBLE'}, {'category': 'HARM_CATEGORY_TOXICITY', 'probability': 'NEGLIGIBLE'}, {'category': 'HARM_CATEGORY_VIOLENCE', 'probability': 'NEGLIGIBLE'}, {'category': 'HARM_CATEGORY_SEXUAL', 'probability': 'NEGLIGIBLE'}, {'category': 'HARM_CATEGORY_MEDICAL', 'probability': 'NEGLIGIBLE'}, {'category': 'HARM_CATEGORY_DANGEROUS', 'probability': 'NEGLIGIBLE'}]}]}\n"
     ]
    }
   ],
   "source": [
    "# API endpoint\n",
    "url = f\"https://generativelanguage.googleapis.com/v1beta2/models/text-bison-001:generateText?key={GOOGLE_PALM_API_KEY}\"\n",
    "\n",
    "# JSON data for the request\n",
    "data = {\n",
    "    \"prompt\": {\n",
    "        \"text\": prompt\n",
    "    }\n",
    "}\n",
    "\n",
    "# Headers for the request\n",
    "headers = {\n",
    "    \"Content-Type\": \"application/json\"\n",
    "}\n",
    "\n",
    "# Make the POST request\n",
    "response = requests.post(url, json=data, headers=headers)\n",
    "\n",
    "# Print the response\n",
    "print(response.status_code)\n",
    "print(response.json())\n"
   ]
  },
  {
   "cell_type": "code",
   "execution_count": 57,
   "id": "a19935af-7871-4b77-9e8d-1ad983c09a1d",
   "metadata": {},
   "outputs": [
    {
     "name": "stdout",
     "output_type": "stream",
     "text": [
      "**Step 1: Define the problem**\n",
      "\n",
      "The problem is to determine whether an XGBoost Classifier is a good model to use if you are interested in probability outputs.\n",
      "\n",
      "**Step 2: Gather information**\n",
      "\n",
      "XGBoost is a gradient boosting algorithm that can be used for both classification and regression tasks. It is a popular choice for machine learning competitions because it is fast, accurate, and scalable. XGBoost is also known for its ability to handle overfitting.\n",
      "\n",
      "When using XGBoost for classification, the model outputs a probability for each class. This probability can be used to make predictions. However, it is important to note that the probability outputs from XGBoost are not always reliable. This is because XGBoost is a greedy algorithm, which means that it makes decisions based on the current best solution, without considering the future. This can lead to overfitting, which can result in inaccurate probability outputs.\n",
      "\n",
      "**Step 3: Analyze the information**\n",
      "\n",
      "Based on the information gathered, it is possible to conclude that XGBoost is not a good model to use if you are interested in probability outputs. This is because the probability outputs from XGBoost are not always reliable.\n",
      "\n",
      "**Step 4: Make a decision**\n",
      "\n",
      "The decision is to not use XGBoost for classification tasks if you are interested in probability outputs.\n",
      "\n",
      "**Step 5: Justify the decision**\n",
      "\n",
      "The decision is justified because XGBoost is a greedy algorithm, which means that it makes decisions based on the current best solution, without considering the future. This can lead to overfitting, which can result in inaccurate probability outputs.\n"
     ]
    }
   ],
   "source": [
    "print(response.json()['candidates'][0][\"output\"])"
   ]
  },
  {
   "cell_type": "markdown",
   "id": "ebbf2cee-8c6f-483e-bee0-2387b805cc38",
   "metadata": {},
   "source": [
    "## Interacting with Google PaLM via `google.generativeai` Python SDK"
   ]
  },
  {
   "cell_type": "code",
   "execution_count": 37,
   "id": "50a81723-8373-43be-919d-46d2d0340516",
   "metadata": {},
   "outputs": [],
   "source": [
    "import google.generativeai as palm"
   ]
  },
  {
   "cell_type": "code",
   "execution_count": 38,
   "id": "9cbbe759-83cc-4115-bcf3-8d9e52fd8b61",
   "metadata": {},
   "outputs": [],
   "source": [
    "palm.configure(api_key=GOOGLE_PALM_API_KEY)"
   ]
  },
  {
   "cell_type": "code",
   "execution_count": 39,
   "id": "49f74dab-d189-4950-8b31-c77a99fff5d6",
   "metadata": {},
   "outputs": [
    {
     "name": "stdout",
     "output_type": "stream",
     "text": [
      "models/text-bison-001\n"
     ]
    }
   ],
   "source": [
    "models = [m for m in palm.list_models() if 'generateText' in m.supported_generation_methods]\n",
    "model = models[0].name\n",
    "print(model)"
   ]
  },
  {
   "cell_type": "code",
   "execution_count": 41,
   "id": "c1e9b559-bac7-4621-98c6-fdf3ddf340ce",
   "metadata": {},
   "outputs": [],
   "source": [
    "completion = palm.generate_text(\n",
    "    model=model,\n",
    "    prompt=prompt,\n",
    "    temperature=.1,\n",
    "    # The maximum length of the response\n",
    "    max_output_tokens=800,\n",
    ")"
   ]
  },
  {
   "cell_type": "code",
   "execution_count": 42,
   "id": "c798d2ad-af5f-4261-bd50-cc10ea16168a",
   "metadata": {},
   "outputs": [
    {
     "name": "stdout",
     "output_type": "stream",
     "text": [
      "**Step 1: Define the problem.**\n",
      "\n",
      "The problem is to determine whether an XGBoost Classifier is a good model to use if you are interested in probability outputs.\n",
      "\n",
      "**Step 2: Research the topic.**\n",
      "\n",
      "XGBoost is a gradient boosting algorithm that is often used for classification and regression tasks. It is a popular choice for machine learning competitions because it is fast and accurate. XGBoost can be used to produce probability outputs, but it is not as well-suited for this task as some other models, such as logistic regression.\n",
      "\n",
      "**Step 3: Analyze the results.**\n",
      "\n",
      "The results of a study by Ribeiro et al. (2016) showed that XGBoost was not as good as logistic regression at producing probability outputs. The study found that XGBoost tended to overfit the training data, which resulted in less accurate probability estimates.\n",
      "\n",
      "**Step 4: Draw a conclusion.**\n",
      "\n",
      "Based on the research, it is concluded that XGBoost is not a good model to use if you are interested in probability outputs. Logistic regression is a better choice for this task.\n",
      "\n",
      "**Step 5: Answer the question.**\n",
      "\n",
      "The answer to the question is no, XGBoost is not a good model to use if you are interested in probability outputs.\n"
     ]
    }
   ],
   "source": [
    "print(completion.result)"
   ]
  },
  {
   "cell_type": "markdown",
   "id": "8e8e9a25-c975-480e-88bc-f18aaf47da4e",
   "metadata": {},
   "source": [
    "## Interacting with Google PaLM via `langchain.chat_models`"
   ]
  },
  {
   "cell_type": "code",
   "execution_count": 45,
   "id": "b09ebf10-34c2-459a-a16f-530c71bdc091",
   "metadata": {},
   "outputs": [],
   "source": [
    "from langchain.chat_models import ChatGooglePalm"
   ]
  },
  {
   "cell_type": "code",
   "execution_count": 46,
   "id": "a13cbf53-1ac0-486b-9047-9cb3f5686d79",
   "metadata": {},
   "outputs": [],
   "source": [
    "chat_params = {\n",
    "    \"model_name\": 'models/chat-bison-001',\n",
    "    \"google_api_key\": GOOGLE_PALM_API_KEY,\n",
    "    \"temperature\": 0.5, # To avoid pure copy-pasting from docs lookup\n",
    "    \"max_tokens\": 4000\n",
    "}"
   ]
  },
  {
   "cell_type": "code",
   "execution_count": 47,
   "id": "1801a840-d512-4e58-bbde-a2587b8f4dbf",
   "metadata": {},
   "outputs": [],
   "source": [
    "chat_model = ChatGooglePalm(**chat_params)"
   ]
  },
  {
   "cell_type": "code",
   "execution_count": 48,
   "id": "b8ce1a36-2a65-4b41-bf55-ce8c0dacc8bd",
   "metadata": {},
   "outputs": [
    {
     "data": {
      "text/plain": [
       "langchain.chat_models.google_palm.ChatGooglePalm"
      ]
     },
     "execution_count": 48,
     "metadata": {},
     "output_type": "execute_result"
    }
   ],
   "source": [
    "type(chat_model)"
   ]
  },
  {
   "cell_type": "code",
   "execution_count": 49,
   "id": "7f7f4f4b-3709-4253-952a-bd09ba530131",
   "metadata": {},
   "outputs": [],
   "source": [
    "from langchain.schema import (\n",
    "    AIMessage,\n",
    "    HumanMessage,\n",
    "    SystemMessage\n",
    ")"
   ]
  },
  {
   "cell_type": "code",
   "execution_count": 51,
   "id": "1ac02a5c-e204-45d5-b465-61e61e17ae62",
   "metadata": {},
   "outputs": [
    {
     "data": {
      "text/plain": [
       "ChatMessage(content='The French translation of \"I love programming\" is \"J\\'aime programmer\".', additional_kwargs={}, role='1')"
      ]
     },
     "execution_count": 51,
     "metadata": {},
     "output_type": "execute_result"
    }
   ],
   "source": [
    "chat_model([HumanMessage(content=\"Translate this sentence from English to French: I love programming.\")])"
   ]
  },
  {
   "cell_type": "markdown",
   "id": "3806b47b-e12e-4a02-af2a-c51eec2bce47",
   "metadata": {},
   "source": [
    "# Using LLM"
   ]
  },
  {
   "cell_type": "code",
   "execution_count": null,
   "id": "a9b4ecb2-a3fa-4bb1-bf9c-cdf38107cfef",
   "metadata": {},
   "outputs": [],
   "source": []
  }
 ],
 "metadata": {
  "kernelspec": {
   "display_name": "Python 3 (ipykernel)",
   "language": "python",
   "name": "python3"
  },
  "language_info": {
   "codemirror_mode": {
    "name": "ipython",
    "version": 3
   },
   "file_extension": ".py",
   "mimetype": "text/x-python",
   "name": "python",
   "nbconvert_exporter": "python",
   "pygments_lexer": "ipython3",
   "version": "3.9.16"
  }
 },
 "nbformat": 4,
 "nbformat_minor": 5
}
