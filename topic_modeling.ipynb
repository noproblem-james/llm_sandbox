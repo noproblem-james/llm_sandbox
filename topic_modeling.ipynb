{
 "cells": [
  {
   "cell_type": "code",
   "execution_count": 18,
   "id": "bd5ed6d1-8051-4b39-90ed-9a9b910419fe",
   "metadata": {
    "tags": []
   },
   "outputs": [],
   "source": [
    "import pandas as pd"
   ]
  },
  {
   "cell_type": "code",
   "execution_count": 45,
   "id": "65136a4e-f974-4c72-9a07-f3fb53ca6966",
   "metadata": {
    "tags": []
   },
   "outputs": [],
   "source": [
    "from nltk.corpus import stopwords;\n",
    "import nltk;\n",
    "from gensim.models import ldamodel\n",
    "import gensim.corpora;\n",
    "from sklearn.feature_extraction.text import CountVectorizer, TfidfTransformer;\n",
    "from sklearn.decomposition import NMF;\n",
    "from sklearn.preprocessing import normalize;"
   ]
  },
  {
   "cell_type": "code",
   "execution_count": 25,
   "id": "22679f48-77f5-48d2-ae36-4791dc52462b",
   "metadata": {
    "tags": []
   },
   "outputs": [],
   "source": [
    "df = pd.read_csv(\"abcnews-date-text.csv\")"
   ]
  },
  {
   "cell_type": "code",
   "execution_count": 27,
   "id": "55c87d6d-1b13-42c1-9749-3ff8b37b9dbe",
   "metadata": {
    "tags": []
   },
   "outputs": [
    {
     "data": {
      "text/plain": [
       "1.244184"
      ]
     },
     "execution_count": 27,
     "metadata": {},
     "output_type": "execute_result"
    }
   ],
   "source": [
    "df.shape[0] / 1000000"
   ]
  },
  {
   "cell_type": "code",
   "execution_count": 47,
   "id": "15204598-26d5-45c3-9518-7be310dc6c4b",
   "metadata": {
    "tags": []
   },
   "outputs": [],
   "source": [
    "df_2 = pd.read_csv(\"data/winemag-data/winemag-data_first150k.csv\", index_col=0)"
   ]
  },
  {
   "cell_type": "code",
   "execution_count": 48,
   "id": "65fe3168-c9d1-4ca7-a7d9-0b8c249ab201",
   "metadata": {
    "tags": []
   },
   "outputs": [
    {
     "data": {
      "text/plain": [
       "(150930, 10)"
      ]
     },
     "execution_count": 48,
     "metadata": {},
     "output_type": "execute_result"
    }
   ],
   "source": [
    "df_2.shape"
   ]
  },
  {
   "cell_type": "code",
   "execution_count": 49,
   "id": "ec38d181-a776-40a3-bb01-87cc0ef6914b",
   "metadata": {
    "tags": []
   },
   "outputs": [
    {
     "data": {
      "text/html": [
       "<div>\n",
       "<style scoped>\n",
       "    .dataframe tbody tr th:only-of-type {\n",
       "        vertical-align: middle;\n",
       "    }\n",
       "\n",
       "    .dataframe tbody tr th {\n",
       "        vertical-align: top;\n",
       "    }\n",
       "\n",
       "    .dataframe thead th {\n",
       "        text-align: right;\n",
       "    }\n",
       "</style>\n",
       "<table border=\"1\" class=\"dataframe\">\n",
       "  <thead>\n",
       "    <tr style=\"text-align: right;\">\n",
       "      <th></th>\n",
       "      <th>country</th>\n",
       "      <th>description</th>\n",
       "      <th>designation</th>\n",
       "      <th>points</th>\n",
       "      <th>price</th>\n",
       "      <th>province</th>\n",
       "      <th>region_1</th>\n",
       "      <th>region_2</th>\n",
       "      <th>variety</th>\n",
       "      <th>winery</th>\n",
       "    </tr>\n",
       "  </thead>\n",
       "  <tbody>\n",
       "    <tr>\n",
       "      <th>0</th>\n",
       "      <td>US</td>\n",
       "      <td>This tremendous 100% varietal wine hails from ...</td>\n",
       "      <td>Martha's Vineyard</td>\n",
       "      <td>96</td>\n",
       "      <td>235.0</td>\n",
       "      <td>California</td>\n",
       "      <td>Napa Valley</td>\n",
       "      <td>Napa</td>\n",
       "      <td>Cabernet Sauvignon</td>\n",
       "      <td>Heitz</td>\n",
       "    </tr>\n",
       "    <tr>\n",
       "      <th>1</th>\n",
       "      <td>Spain</td>\n",
       "      <td>Ripe aromas of fig, blackberry and cassis are ...</td>\n",
       "      <td>Carodorum Selección Especial Reserva</td>\n",
       "      <td>96</td>\n",
       "      <td>110.0</td>\n",
       "      <td>Northern Spain</td>\n",
       "      <td>Toro</td>\n",
       "      <td>NaN</td>\n",
       "      <td>Tinta de Toro</td>\n",
       "      <td>Bodega Carmen Rodríguez</td>\n",
       "    </tr>\n",
       "    <tr>\n",
       "      <th>2</th>\n",
       "      <td>US</td>\n",
       "      <td>Mac Watson honors the memory of a wine once ma...</td>\n",
       "      <td>Special Selected Late Harvest</td>\n",
       "      <td>96</td>\n",
       "      <td>90.0</td>\n",
       "      <td>California</td>\n",
       "      <td>Knights Valley</td>\n",
       "      <td>Sonoma</td>\n",
       "      <td>Sauvignon Blanc</td>\n",
       "      <td>Macauley</td>\n",
       "    </tr>\n",
       "    <tr>\n",
       "      <th>3</th>\n",
       "      <td>US</td>\n",
       "      <td>This spent 20 months in 30% new French oak, an...</td>\n",
       "      <td>Reserve</td>\n",
       "      <td>96</td>\n",
       "      <td>65.0</td>\n",
       "      <td>Oregon</td>\n",
       "      <td>Willamette Valley</td>\n",
       "      <td>Willamette Valley</td>\n",
       "      <td>Pinot Noir</td>\n",
       "      <td>Ponzi</td>\n",
       "    </tr>\n",
       "    <tr>\n",
       "      <th>4</th>\n",
       "      <td>France</td>\n",
       "      <td>This is the top wine from La Bégude, named aft...</td>\n",
       "      <td>La Brûlade</td>\n",
       "      <td>95</td>\n",
       "      <td>66.0</td>\n",
       "      <td>Provence</td>\n",
       "      <td>Bandol</td>\n",
       "      <td>NaN</td>\n",
       "      <td>Provence red blend</td>\n",
       "      <td>Domaine de la Bégude</td>\n",
       "    </tr>\n",
       "  </tbody>\n",
       "</table>\n",
       "</div>"
      ],
      "text/plain": [
       "  country                                        description  \\\n",
       "0      US  This tremendous 100% varietal wine hails from ...   \n",
       "1   Spain  Ripe aromas of fig, blackberry and cassis are ...   \n",
       "2      US  Mac Watson honors the memory of a wine once ma...   \n",
       "3      US  This spent 20 months in 30% new French oak, an...   \n",
       "4  France  This is the top wine from La Bégude, named aft...   \n",
       "\n",
       "                            designation  points  price        province  \\\n",
       "0                     Martha's Vineyard      96  235.0      California   \n",
       "1  Carodorum Selección Especial Reserva      96  110.0  Northern Spain   \n",
       "2         Special Selected Late Harvest      96   90.0      California   \n",
       "3                               Reserve      96   65.0          Oregon   \n",
       "4                            La Brûlade      95   66.0        Provence   \n",
       "\n",
       "            region_1           region_2             variety  \\\n",
       "0        Napa Valley               Napa  Cabernet Sauvignon   \n",
       "1               Toro                NaN       Tinta de Toro   \n",
       "2     Knights Valley             Sonoma     Sauvignon Blanc   \n",
       "3  Willamette Valley  Willamette Valley          Pinot Noir   \n",
       "4             Bandol                NaN  Provence red blend   \n",
       "\n",
       "                    winery  \n",
       "0                    Heitz  \n",
       "1  Bodega Carmen Rodríguez  \n",
       "2                 Macauley  \n",
       "3                    Ponzi  \n",
       "4     Domaine de la Bégude  "
      ]
     },
     "execution_count": 49,
     "metadata": {},
     "output_type": "execute_result"
    }
   ],
   "source": [
    "df_2.head()"
   ]
  },
  {
   "cell_type": "code",
   "execution_count": 39,
   "id": "56780a1e-4d69-4bef-8111-4103a608c900",
   "metadata": {
    "tags": []
   },
   "outputs": [
    {
     "data": {
      "text/plain": [
       "Chardonnay                       9.60\n",
       "Pinot Noir                       9.47\n",
       "Cabernet Sauvignon               8.48\n",
       "Red Blend                        6.67\n",
       "Bordeaux-style Red Blend         4.87\n",
       "Sauvignon Blanc                  4.19\n",
       "Syrah                            3.86\n",
       "Riesling                         3.66\n",
       "Merlot                           3.36\n",
       "Zinfandel                        2.52\n",
       "Sangiovese                       2.22\n",
       "Malbec                           2.13\n",
       "White Blend                      1.87\n",
       "Rosé                             1.87\n",
       "Tempranillo                      1.69\n",
       "Nebbiolo                         1.48\n",
       "Portuguese Red                   1.47\n",
       "Sparkling Blend                  1.33\n",
       "Shiraz                           1.31\n",
       "Corvina, Rondinella, Molinara    1.11\n",
       "Name: variety, dtype: float64"
      ]
     },
     "execution_count": 39,
     "metadata": {},
     "output_type": "execute_result"
    }
   ],
   "source": [
    "df_2.variety.value_counts(1).round(4).head(20) * 100"
   ]
  },
  {
   "cell_type": "code",
   "execution_count": 51,
   "id": "414be1e9-f536-45bc-a188-d9800c36077a",
   "metadata": {
    "tags": []
   },
   "outputs": [
    {
     "name": "stderr",
     "output_type": "stream",
     "text": [
      "[nltk_data] Downloading package stopwords to\n",
      "[nltk_data]     /Users/jameshelfrich/nltk_data...\n",
      "[nltk_data]   Unzipping corpora/stopwords.zip.\n"
     ]
    },
    {
     "data": {
      "text/plain": [
       "True"
      ]
     },
     "execution_count": 51,
     "metadata": {},
     "output_type": "execute_result"
    }
   ],
   "source": [
    "nltk.download(\"stopwords\")"
   ]
  },
  {
   "cell_type": "code",
   "execution_count": 52,
   "id": "7b4f489b-45e3-45f8-97c4-4e38633a1ce7",
   "metadata": {
    "tags": []
   },
   "outputs": [],
   "source": [
    "stops = set(stopwords.words(\"english\"))"
   ]
  },
  {
   "cell_type": "code",
   "execution_count": 55,
   "id": "665eee69-e6c9-4f43-9e9a-517439fe590d",
   "metadata": {
    "tags": []
   },
   "outputs": [
    {
     "data": {
      "text/html": [
       "<div>\n",
       "<style scoped>\n",
       "    .dataframe tbody tr th:only-of-type {\n",
       "        vertical-align: middle;\n",
       "    }\n",
       "\n",
       "    .dataframe tbody tr th {\n",
       "        vertical-align: top;\n",
       "    }\n",
       "\n",
       "    .dataframe thead th {\n",
       "        text-align: right;\n",
       "    }\n",
       "</style>\n",
       "<table border=\"1\" class=\"dataframe\">\n",
       "  <thead>\n",
       "    <tr style=\"text-align: right;\">\n",
       "      <th></th>\n",
       "      <th>country</th>\n",
       "      <th>description</th>\n",
       "      <th>designation</th>\n",
       "      <th>points</th>\n",
       "      <th>price</th>\n",
       "      <th>province</th>\n",
       "      <th>region_1</th>\n",
       "      <th>region_2</th>\n",
       "      <th>variety</th>\n",
       "      <th>winery</th>\n",
       "    </tr>\n",
       "  </thead>\n",
       "  <tbody>\n",
       "    <tr>\n",
       "      <th>0</th>\n",
       "      <td>US</td>\n",
       "      <td>This tremendous 100% varietal wine hails from ...</td>\n",
       "      <td>Martha's Vineyard</td>\n",
       "      <td>96</td>\n",
       "      <td>235.0</td>\n",
       "      <td>California</td>\n",
       "      <td>Napa Valley</td>\n",
       "      <td>Napa</td>\n",
       "      <td>Cabernet Sauvignon</td>\n",
       "      <td>Heitz</td>\n",
       "    </tr>\n",
       "    <tr>\n",
       "      <th>1</th>\n",
       "      <td>Spain</td>\n",
       "      <td>Ripe aromas of fig, blackberry and cassis are ...</td>\n",
       "      <td>Carodorum Selección Especial Reserva</td>\n",
       "      <td>96</td>\n",
       "      <td>110.0</td>\n",
       "      <td>Northern Spain</td>\n",
       "      <td>Toro</td>\n",
       "      <td>NaN</td>\n",
       "      <td>Tinta de Toro</td>\n",
       "      <td>Bodega Carmen Rodríguez</td>\n",
       "    </tr>\n",
       "    <tr>\n",
       "      <th>2</th>\n",
       "      <td>US</td>\n",
       "      <td>Mac Watson honors the memory of a wine once ma...</td>\n",
       "      <td>Special Selected Late Harvest</td>\n",
       "      <td>96</td>\n",
       "      <td>90.0</td>\n",
       "      <td>California</td>\n",
       "      <td>Knights Valley</td>\n",
       "      <td>Sonoma</td>\n",
       "      <td>Sauvignon Blanc</td>\n",
       "      <td>Macauley</td>\n",
       "    </tr>\n",
       "    <tr>\n",
       "      <th>3</th>\n",
       "      <td>US</td>\n",
       "      <td>This spent 20 months in 30% new French oak, an...</td>\n",
       "      <td>Reserve</td>\n",
       "      <td>96</td>\n",
       "      <td>65.0</td>\n",
       "      <td>Oregon</td>\n",
       "      <td>Willamette Valley</td>\n",
       "      <td>Willamette Valley</td>\n",
       "      <td>Pinot Noir</td>\n",
       "      <td>Ponzi</td>\n",
       "    </tr>\n",
       "    <tr>\n",
       "      <th>4</th>\n",
       "      <td>France</td>\n",
       "      <td>This is the top wine from La Bégude, named aft...</td>\n",
       "      <td>La Brûlade</td>\n",
       "      <td>95</td>\n",
       "      <td>66.0</td>\n",
       "      <td>Provence</td>\n",
       "      <td>Bandol</td>\n",
       "      <td>NaN</td>\n",
       "      <td>Provence red blend</td>\n",
       "      <td>Domaine de la Bégude</td>\n",
       "    </tr>\n",
       "  </tbody>\n",
       "</table>\n",
       "</div>"
      ],
      "text/plain": [
       "  country                                        description  \\\n",
       "0      US  This tremendous 100% varietal wine hails from ...   \n",
       "1   Spain  Ripe aromas of fig, blackberry and cassis are ...   \n",
       "2      US  Mac Watson honors the memory of a wine once ma...   \n",
       "3      US  This spent 20 months in 30% new French oak, an...   \n",
       "4  France  This is the top wine from La Bégude, named aft...   \n",
       "\n",
       "                            designation  points  price        province  \\\n",
       "0                     Martha's Vineyard      96  235.0      California   \n",
       "1  Carodorum Selección Especial Reserva      96  110.0  Northern Spain   \n",
       "2         Special Selected Late Harvest      96   90.0      California   \n",
       "3                               Reserve      96   65.0          Oregon   \n",
       "4                            La Brûlade      95   66.0        Provence   \n",
       "\n",
       "            region_1           region_2             variety  \\\n",
       "0        Napa Valley               Napa  Cabernet Sauvignon   \n",
       "1               Toro                NaN       Tinta de Toro   \n",
       "2     Knights Valley             Sonoma     Sauvignon Blanc   \n",
       "3  Willamette Valley  Willamette Valley          Pinot Noir   \n",
       "4             Bandol                NaN  Provence red blend   \n",
       "\n",
       "                    winery  \n",
       "0                    Heitz  \n",
       "1  Bodega Carmen Rodríguez  \n",
       "2                 Macauley  \n",
       "3                    Ponzi  \n",
       "4     Domaine de la Bégude  "
      ]
     },
     "execution_count": 55,
     "metadata": {},
     "output_type": "execute_result"
    }
   ],
   "source": [
    "df_2.head()"
   ]
  },
  {
   "cell_type": "code",
   "execution_count": 59,
   "id": "a14cbfd7-33d2-4a7a-bed6-05c5a2dc2f91",
   "metadata": {
    "tags": []
   },
   "outputs": [],
   "source": [
    "df_2[\"bow\"] = df_2[\"description\"].str.lower().str.split()"
   ]
  },
  {
   "cell_type": "code",
   "execution_count": 63,
   "id": "9a0dadfe-e230-43c5-bb05-0431277acaa2",
   "metadata": {
    "tags": []
   },
   "outputs": [],
   "source": [
    "df_2[\"no_stops\"] = df_2[\"bow\"].apply(lambda x: [i for i in x if i not in stops])"
   ]
  },
  {
   "cell_type": "code",
   "execution_count": 68,
   "id": "473c7bd5-835f-44f9-ba85-7c7067de96c5",
   "metadata": {
    "tags": []
   },
   "outputs": [],
   "source": [
    "df_2[\"no_stops_str\"] = df_2[\"no_stops\"].apply(lambda x: \" \".join(x))"
   ]
  },
  {
   "cell_type": "code",
   "execution_count": 69,
   "id": "a1738a3f-7dec-4d29-aaa1-9d6c30b4f67b",
   "metadata": {
    "tags": []
   },
   "outputs": [
    {
     "data": {
      "text/plain": [
       "0         tremendous 100% varietal wine hails oakville a...\n",
       "1         ripe aromas fig, blackberry cassis softened sw...\n",
       "2         mac watson honors memory wine made mother trem...\n",
       "3         spent 20 months 30% new french oak, incorporat...\n",
       "4         top wine la bégude, named highest point vineya...\n",
       "                                ...                        \n",
       "150925    many people feel fiano represents southern ita...\n",
       "150926    offers intriguing nose ginger, lime floral ele...\n",
       "150927    classic example comes cru vineyard called terr...\n",
       "150928    perfect salmon shade, scents peaches, cherries...\n",
       "150929    pinot grigios taste like this. rich pear-like ...\n",
       "Name: no_stops_str, Length: 150930, dtype: object"
      ]
     },
     "execution_count": 69,
     "metadata": {},
     "output_type": "execute_result"
    }
   ],
   "source": [
    "df_2[\"no_stops_str\"]"
   ]
  },
  {
   "cell_type": "code",
   "execution_count": 53,
   "id": "9f568421-5fd3-427c-b168-a78a33990e4c",
   "metadata": {
    "tags": []
   },
   "outputs": [
    {
     "data": {
      "text/plain": [
       "179"
      ]
     },
     "execution_count": 53,
     "metadata": {},
     "output_type": "execute_result"
    }
   ],
   "source": [
    "len(stops)"
   ]
  },
  {
   "cell_type": "code",
   "execution_count": null,
   "id": "80d7c2f8-e0f5-4137-b79c-07d540deafcf",
   "metadata": {},
   "outputs": [],
   "source": [
    "nltk.corpus."
   ]
  },
  {
   "cell_type": "markdown",
   "id": "0b1fb164-727b-4c0f-be2a-74b38d379e26",
   "metadata": {},
   "source": [
    "# NMF"
   ]
  },
  {
   "cell_type": "code",
   "execution_count": 95,
   "id": "2734549d-b41f-48f6-85a2-8d39ed84b4b7",
   "metadata": {
    "tags": []
   },
   "outputs": [],
   "source": [
    "train_str = df_2[\"no_stops_str\"].copy()"
   ]
  },
  {
   "cell_type": "code",
   "execution_count": 71,
   "id": "94f81463-a7ff-4e51-912a-0106a46d5230",
   "metadata": {
    "tags": []
   },
   "outputs": [],
   "source": [
    "vectorizer = CountVectorizer(analyzer='word', max_features=5000);\n",
    "x_counts = vectorizer.fit_transform(train);"
   ]
  },
  {
   "cell_type": "code",
   "execution_count": 72,
   "id": "6716f2f0-0b40-4a85-92b8-650577631a03",
   "metadata": {
    "tags": []
   },
   "outputs": [
    {
     "data": {
      "text/plain": [
       "<150930x5000 sparse matrix of type '<class 'numpy.int64'>'\n",
       "\twith 3565510 stored elements in Compressed Sparse Row format>"
      ]
     },
     "execution_count": 72,
     "metadata": {},
     "output_type": "execute_result"
    }
   ],
   "source": [
    "x_counts"
   ]
  },
  {
   "cell_type": "code",
   "execution_count": 73,
   "id": "94366948-982b-402f-8071-2504f5707796",
   "metadata": {
    "tags": []
   },
   "outputs": [],
   "source": [
    "transformer = TfidfTransformer(smooth_idf=False);\n",
    "x_tfidf = transformer.fit_transform(x_counts);"
   ]
  },
  {
   "cell_type": "code",
   "execution_count": 74,
   "id": "5b00c3d7-6ff9-4abe-a9d9-8fb059c9a424",
   "metadata": {
    "tags": []
   },
   "outputs": [],
   "source": [
    "xtfidf_norm = normalize(x_tfidf, norm='l1', axis=1)"
   ]
  },
  {
   "cell_type": "code",
   "execution_count": 76,
   "id": "0a1d749b-04e5-4642-966f-4202fd2f21cd",
   "metadata": {
    "tags": []
   },
   "outputs": [],
   "source": [
    "num_topics = 7"
   ]
  },
  {
   "cell_type": "code",
   "execution_count": 77,
   "id": "607e06fd-0af5-4eef-9d56-3172676dbd97",
   "metadata": {
    "tags": []
   },
   "outputs": [],
   "source": [
    "#obtain a NMF model.\n",
    "model = NMF(n_components=num_topics, init='nndsvd');"
   ]
  },
  {
   "cell_type": "code",
   "execution_count": 78,
   "id": "6bf1c697-769c-42e1-9341-88a1203c7529",
   "metadata": {
    "tags": []
   },
   "outputs": [
    {
     "data": {
      "text/plain": [
       "NMF(init='nndsvd', n_components=7)"
      ]
     },
     "execution_count": 78,
     "metadata": {},
     "output_type": "execute_result"
    }
   ],
   "source": [
    "#fit the model\n",
    "model.fit(xtfidf_norm)"
   ]
  },
  {
   "cell_type": "code",
   "execution_count": 79,
   "id": "3e43084f-db6b-4ff3-9b5d-b9a85fd18b10",
   "metadata": {
    "tags": []
   },
   "outputs": [],
   "source": [
    "def get_nmf_topics(model, n_top_words):\n",
    "    \n",
    "    #the word ids obtained need to be reverse-mapped to the words so we can print the topic names.\n",
    "    feat_names = vectorizer.get_feature_names()\n",
    "    \n",
    "    word_dict = {};\n",
    "    for i in range(num_topics):\n",
    "        \n",
    "        #for each topic, obtain the largest values, and add the words they map to into the dictionary.\n",
    "        words_ids = model.components_[i].argsort()[:-20 - 1:-1]\n",
    "        words = [feat_names[key] for key in words_ids]\n",
    "        word_dict['Topic # ' + '{:02d}'.format(i+1)] = words;\n",
    "    \n",
    "    return pd.DataFrame(word_dict);"
   ]
  },
  {
   "cell_type": "code",
   "execution_count": 80,
   "id": "5ea8e93f-6db6-4b99-8536-3f79732cdee2",
   "metadata": {
    "tags": []
   },
   "outputs": [
    {
     "name": "stderr",
     "output_type": "stream",
     "text": [
      "/Users/jameshelfrich/Documents/data_science/public_projects/hf/env/lib/python3.7/site-packages/sklearn/utils/deprecation.py:87: FutureWarning: Function get_feature_names is deprecated; get_feature_names is deprecated in 1.0 and will be removed in 1.2. Please use get_feature_names_out instead.\n",
      "  warnings.warn(msg, category=FutureWarning)\n"
     ]
    },
    {
     "data": {
      "text/html": [
       "<div>\n",
       "<style scoped>\n",
       "    .dataframe tbody tr th:only-of-type {\n",
       "        vertical-align: middle;\n",
       "    }\n",
       "\n",
       "    .dataframe tbody tr th {\n",
       "        vertical-align: top;\n",
       "    }\n",
       "\n",
       "    .dataframe thead th {\n",
       "        text-align: right;\n",
       "    }\n",
       "</style>\n",
       "<table border=\"1\" class=\"dataframe\">\n",
       "  <thead>\n",
       "    <tr style=\"text-align: right;\">\n",
       "      <th></th>\n",
       "      <th>Topic # 01</th>\n",
       "      <th>Topic # 02</th>\n",
       "      <th>Topic # 03</th>\n",
       "      <th>Topic # 04</th>\n",
       "      <th>Topic # 05</th>\n",
       "      <th>Topic # 06</th>\n",
       "      <th>Topic # 07</th>\n",
       "    </tr>\n",
       "  </thead>\n",
       "  <tbody>\n",
       "    <tr>\n",
       "      <th>0</th>\n",
       "      <td>aromas</td>\n",
       "      <td>apple</td>\n",
       "      <td>wine</td>\n",
       "      <td>dry</td>\n",
       "      <td>fresh</td>\n",
       "      <td>sweet</td>\n",
       "      <td>drink</td>\n",
       "    </tr>\n",
       "    <tr>\n",
       "      <th>1</th>\n",
       "      <td>cherry</td>\n",
       "      <td>citrus</td>\n",
       "      <td>tannins</td>\n",
       "      <td>flavors</td>\n",
       "      <td>acidity</td>\n",
       "      <td>simple</td>\n",
       "      <td>now</td>\n",
       "    </tr>\n",
       "    <tr>\n",
       "      <th>2</th>\n",
       "      <td>berry</td>\n",
       "      <td>peach</td>\n",
       "      <td>ripe</td>\n",
       "      <td>pinot</td>\n",
       "      <td>light</td>\n",
       "      <td>soft</td>\n",
       "      <td>soft</td>\n",
       "    </tr>\n",
       "    <tr>\n",
       "      <th>3</th>\n",
       "      <td>palate</td>\n",
       "      <td>white</td>\n",
       "      <td>fruit</td>\n",
       "      <td>cherries</td>\n",
       "      <td>crisp</td>\n",
       "      <td>flavors</td>\n",
       "      <td>ready</td>\n",
       "    </tr>\n",
       "    <tr>\n",
       "      <th>4</th>\n",
       "      <td>finish</td>\n",
       "      <td>pear</td>\n",
       "      <td>wood</td>\n",
       "      <td>good</td>\n",
       "      <td>wine</td>\n",
       "      <td>sugary</td>\n",
       "      <td>ripe</td>\n",
       "    </tr>\n",
       "    <tr>\n",
       "      <th>5</th>\n",
       "      <td>black</td>\n",
       "      <td>green</td>\n",
       "      <td>fruits</td>\n",
       "      <td>cola</td>\n",
       "      <td>bright</td>\n",
       "      <td>like</td>\n",
       "      <td>fruity</td>\n",
       "    </tr>\n",
       "    <tr>\n",
       "      <th>6</th>\n",
       "      <td>spice</td>\n",
       "      <td>finish</td>\n",
       "      <td>rich</td>\n",
       "      <td>oak</td>\n",
       "      <td>fruity</td>\n",
       "      <td>vanilla</td>\n",
       "      <td>easy</td>\n",
       "    </tr>\n",
       "    <tr>\n",
       "      <th>7</th>\n",
       "      <td>plum</td>\n",
       "      <td>flavors</td>\n",
       "      <td>structure</td>\n",
       "      <td>cherry</td>\n",
       "      <td>red</td>\n",
       "      <td>jam</td>\n",
       "      <td>full</td>\n",
       "    </tr>\n",
       "    <tr>\n",
       "      <th>8</th>\n",
       "      <td>fruit</td>\n",
       "      <td>lemon</td>\n",
       "      <td>firm</td>\n",
       "      <td>noir</td>\n",
       "      <td>attractive</td>\n",
       "      <td>tastes</td>\n",
       "      <td>bodied</td>\n",
       "    </tr>\n",
       "    <tr>\n",
       "      <th>9</th>\n",
       "      <td>red</td>\n",
       "      <td>lime</td>\n",
       "      <td>years</td>\n",
       "      <td>silky</td>\n",
       "      <td>character</td>\n",
       "      <td>cherry</td>\n",
       "      <td>texture</td>\n",
       "    </tr>\n",
       "    <tr>\n",
       "      <th>10</th>\n",
       "      <td>notes</td>\n",
       "      <td>palate</td>\n",
       "      <td>aging</td>\n",
       "      <td>tannic</td>\n",
       "      <td>fruits</td>\n",
       "      <td>raspberry</td>\n",
       "      <td>2015</td>\n",
       "    </tr>\n",
       "    <tr>\n",
       "      <th>11</th>\n",
       "      <td>nose</td>\n",
       "      <td>aromas</td>\n",
       "      <td>well</td>\n",
       "      <td>blackberries</td>\n",
       "      <td>lively</td>\n",
       "      <td>candied</td>\n",
       "      <td>cherries</td>\n",
       "    </tr>\n",
       "    <tr>\n",
       "      <th>12</th>\n",
       "      <td>dark</td>\n",
       "      <td>chardonnay</td>\n",
       "      <td>black</td>\n",
       "      <td>shows</td>\n",
       "      <td>aftertaste</td>\n",
       "      <td>jammy</td>\n",
       "      <td>tannins</td>\n",
       "    </tr>\n",
       "    <tr>\n",
       "      <th>13</th>\n",
       "      <td>flavors</td>\n",
       "      <td>melon</td>\n",
       "      <td>barrel</td>\n",
       "      <td>blackberry</td>\n",
       "      <td>touch</td>\n",
       "      <td>pineapple</td>\n",
       "      <td>attractive</td>\n",
       "    </tr>\n",
       "    <tr>\n",
       "      <th>14</th>\n",
       "      <td>herbal</td>\n",
       "      <td>pineapple</td>\n",
       "      <td>age</td>\n",
       "      <td>nice</td>\n",
       "      <td>screwcap</td>\n",
       "      <td>little</td>\n",
       "      <td>flavors</td>\n",
       "    </tr>\n",
       "    <tr>\n",
       "      <th>15</th>\n",
       "      <td>offers</td>\n",
       "      <td>fruit</td>\n",
       "      <td>dense</td>\n",
       "      <td>currants</td>\n",
       "      <td>clean</td>\n",
       "      <td>wine</td>\n",
       "      <td>gentle</td>\n",
       "    </tr>\n",
       "    <tr>\n",
       "      <th>16</th>\n",
       "      <td>leather</td>\n",
       "      <td>clean</td>\n",
       "      <td>sample</td>\n",
       "      <td>little</td>\n",
       "      <td>texture</td>\n",
       "      <td>candy</td>\n",
       "      <td>rich</td>\n",
       "    </tr>\n",
       "    <tr>\n",
       "      <th>17</th>\n",
       "      <td>blackberry</td>\n",
       "      <td>crisp</td>\n",
       "      <td>acidity</td>\n",
       "      <td>currant</td>\n",
       "      <td>rosé</td>\n",
       "      <td>alcohol</td>\n",
       "      <td>medium</td>\n",
       "    </tr>\n",
       "    <tr>\n",
       "      <th>18</th>\n",
       "      <td>chocolate</td>\n",
       "      <td>notes</td>\n",
       "      <td>character</td>\n",
       "      <td>price</td>\n",
       "      <td>berry</td>\n",
       "      <td>dessert</td>\n",
       "      <td>up</td>\n",
       "    </tr>\n",
       "    <tr>\n",
       "      <th>19</th>\n",
       "      <td>blend</td>\n",
       "      <td>creamy</td>\n",
       "      <td>full</td>\n",
       "      <td>cabernet</td>\n",
       "      <td>strawberry</td>\n",
       "      <td>slightly</td>\n",
       "      <td>blackberries</td>\n",
       "    </tr>\n",
       "  </tbody>\n",
       "</table>\n",
       "</div>"
      ],
      "text/plain": [
       "    Topic # 01  Topic # 02 Topic # 03    Topic # 04  Topic # 05 Topic # 06  \\\n",
       "0       aromas       apple       wine           dry       fresh      sweet   \n",
       "1       cherry      citrus    tannins       flavors     acidity     simple   \n",
       "2        berry       peach       ripe         pinot       light       soft   \n",
       "3       palate       white      fruit      cherries       crisp    flavors   \n",
       "4       finish        pear       wood          good        wine     sugary   \n",
       "5        black       green     fruits          cola      bright       like   \n",
       "6        spice      finish       rich           oak      fruity    vanilla   \n",
       "7         plum     flavors  structure        cherry         red        jam   \n",
       "8        fruit       lemon       firm          noir  attractive     tastes   \n",
       "9          red        lime      years         silky   character     cherry   \n",
       "10       notes      palate      aging        tannic      fruits  raspberry   \n",
       "11        nose      aromas       well  blackberries      lively    candied   \n",
       "12        dark  chardonnay      black         shows  aftertaste      jammy   \n",
       "13     flavors       melon     barrel    blackberry       touch  pineapple   \n",
       "14      herbal   pineapple        age          nice    screwcap     little   \n",
       "15      offers       fruit      dense      currants       clean       wine   \n",
       "16     leather       clean     sample        little     texture      candy   \n",
       "17  blackberry       crisp    acidity       currant        rosé    alcohol   \n",
       "18   chocolate       notes  character         price       berry    dessert   \n",
       "19       blend      creamy       full      cabernet  strawberry   slightly   \n",
       "\n",
       "      Topic # 07  \n",
       "0          drink  \n",
       "1            now  \n",
       "2           soft  \n",
       "3          ready  \n",
       "4           ripe  \n",
       "5         fruity  \n",
       "6           easy  \n",
       "7           full  \n",
       "8         bodied  \n",
       "9        texture  \n",
       "10          2015  \n",
       "11      cherries  \n",
       "12       tannins  \n",
       "13    attractive  \n",
       "14       flavors  \n",
       "15        gentle  \n",
       "16          rich  \n",
       "17        medium  \n",
       "18            up  \n",
       "19  blackberries  "
      ]
     },
     "execution_count": 80,
     "metadata": {},
     "output_type": "execute_result"
    }
   ],
   "source": [
    "get_nmf_topics(model, 20)"
   ]
  },
  {
   "cell_type": "code",
   "execution_count": null,
   "id": "93e3f2f5-8555-4bac-aaf6-49aecfa7588a",
   "metadata": {},
   "outputs": [],
   "source": []
  },
  {
   "cell_type": "markdown",
   "id": "4bd1ab2c-bf0c-494b-9eef-aa40437c628d",
   "metadata": {},
   "source": [
    "# LDA"
   ]
  },
  {
   "cell_type": "code",
   "execution_count": 83,
   "id": "e76e862c-9b6f-4d44-83d8-98a56bdda7c9",
   "metadata": {
    "tags": []
   },
   "outputs": [],
   "source": [
    "train = df_2[\"no_stops\"].copy()"
   ]
  },
  {
   "cell_type": "code",
   "execution_count": 84,
   "id": "dc5bbb89-6d25-40c5-8562-cceb9d7cb1a1",
   "metadata": {
    "tags": []
   },
   "outputs": [],
   "source": [
    "id2word = gensim.corpora.Dictionary(train);"
   ]
  },
  {
   "cell_type": "code",
   "execution_count": 85,
   "id": "04b0e8b8-7ac9-4fcd-89e1-a11d8f09b552",
   "metadata": {
    "tags": []
   },
   "outputs": [],
   "source": [
    "corpus = [id2word.doc2bow(text) for text in train];"
   ]
  },
  {
   "cell_type": "code",
   "execution_count": 86,
   "id": "49baecc9-37f9-4db1-a956-aa22abf9c2d0",
   "metadata": {
    "tags": []
   },
   "outputs": [],
   "source": [
    "lda = ldamodel.LdaModel(corpus=corpus, id2word=id2word, num_topics=num_topics);"
   ]
  },
  {
   "cell_type": "code",
   "execution_count": 87,
   "id": "95f2e857-b79c-4351-a592-3676a879f74d",
   "metadata": {
    "tags": []
   },
   "outputs": [],
   "source": [
    "def get_lda_topics(model, num_topics):\n",
    "    word_dict = {};\n",
    "    for i in range(num_topics):\n",
    "        words = model.show_topic(i, topn = 20);\n",
    "        word_dict['Topic # ' + '{:02d}'.format(i+1)] = [i[0] for i in words];\n",
    "    return pd.DataFrame(word_dict);"
   ]
  },
  {
   "cell_type": "code",
   "execution_count": 88,
   "id": "c7f064e9-3f53-4955-984d-0b082130c94a",
   "metadata": {
    "tags": []
   },
   "outputs": [
    {
     "data": {
      "text/html": [
       "<div>\n",
       "<style scoped>\n",
       "    .dataframe tbody tr th:only-of-type {\n",
       "        vertical-align: middle;\n",
       "    }\n",
       "\n",
       "    .dataframe tbody tr th {\n",
       "        vertical-align: top;\n",
       "    }\n",
       "\n",
       "    .dataframe thead th {\n",
       "        text-align: right;\n",
       "    }\n",
       "</style>\n",
       "<table border=\"1\" class=\"dataframe\">\n",
       "  <thead>\n",
       "    <tr style=\"text-align: right;\">\n",
       "      <th></th>\n",
       "      <th>Topic # 01</th>\n",
       "      <th>Topic # 02</th>\n",
       "      <th>Topic # 03</th>\n",
       "      <th>Topic # 04</th>\n",
       "      <th>Topic # 05</th>\n",
       "      <th>Topic # 06</th>\n",
       "      <th>Topic # 07</th>\n",
       "    </tr>\n",
       "  </thead>\n",
       "  <tbody>\n",
       "    <tr>\n",
       "      <th>0</th>\n",
       "      <td>flavors</td>\n",
       "      <td>imported</td>\n",
       "      <td>wine</td>\n",
       "      <td>wine</td>\n",
       "      <td>flavors</td>\n",
       "      <td>cabernet</td>\n",
       "      <td>new</td>\n",
       "    </tr>\n",
       "    <tr>\n",
       "      <th>1</th>\n",
       "      <td>cherry</td>\n",
       "      <td>imports.</td>\n",
       "      <td>wine,</td>\n",
       "      <td>aromas</td>\n",
       "      <td>wine</td>\n",
       "      <td>blend</td>\n",
       "      <td>oak</td>\n",
       "    </tr>\n",
       "    <tr>\n",
       "      <th>2</th>\n",
       "      <td>fruit</td>\n",
       "      <td>wine</td>\n",
       "      <td>fruit</td>\n",
       "      <td>fruit</td>\n",
       "      <td>aromas</td>\n",
       "      <td>finish.</td>\n",
       "      <td>pinot</td>\n",
       "    </tr>\n",
       "    <tr>\n",
       "      <th>3</th>\n",
       "      <td>wine</td>\n",
       "      <td>nice,</td>\n",
       "      <td>ripe</td>\n",
       "      <td>offers</td>\n",
       "      <td>citrus</td>\n",
       "      <td>black</td>\n",
       "      <td>one</td>\n",
       "    </tr>\n",
       "    <tr>\n",
       "      <th>4</th>\n",
       "      <td>good</td>\n",
       "      <td>fruit</td>\n",
       "      <td>tannins</td>\n",
       "      <td>notes</td>\n",
       "      <td>finish.</td>\n",
       "      <td>wine</td>\n",
       "      <td>best</td>\n",
       "    </tr>\n",
       "    <tr>\n",
       "      <th>5</th>\n",
       "      <td>flavors.</td>\n",
       "      <td>ltd.</td>\n",
       "      <td>years.</td>\n",
       "      <td>spice</td>\n",
       "      <td>fruit</td>\n",
       "      <td>tannins</td>\n",
       "      <td>wine</td>\n",
       "    </tr>\n",
       "    <tr>\n",
       "      <th>6</th>\n",
       "      <td>aromas</td>\n",
       "      <td>still</td>\n",
       "      <td>acidity</td>\n",
       "      <td>mouth</td>\n",
       "      <td>crisp</td>\n",
       "      <td>notes</td>\n",
       "      <td>shows</td>\n",
       "    </tr>\n",
       "    <tr>\n",
       "      <th>7</th>\n",
       "      <td>palate</td>\n",
       "      <td>here.</td>\n",
       "      <td>rich</td>\n",
       "      <td>fruit,</td>\n",
       "      <td>white</td>\n",
       "      <td>fruit</td>\n",
       "      <td>oak.</td>\n",
       "    </tr>\n",
       "    <tr>\n",
       "      <th>8</th>\n",
       "      <td>bit</td>\n",
       "      <td>drinkable</td>\n",
       "      <td>great</td>\n",
       "      <td>delivers</td>\n",
       "      <td>apple</td>\n",
       "      <td>merlot</td>\n",
       "      <td>vineyard</td>\n",
       "    </tr>\n",
       "    <tr>\n",
       "      <th>9</th>\n",
       "      <td>black</td>\n",
       "      <td>cab,</td>\n",
       "      <td>wine.</td>\n",
       "      <td>bright</td>\n",
       "      <td>green</td>\n",
       "      <td>flavors</td>\n",
       "      <td>fruit</td>\n",
       "    </tr>\n",
       "    <tr>\n",
       "      <th>10</th>\n",
       "      <td>berry</td>\n",
       "      <td>sharp,</td>\n",
       "      <td>black</td>\n",
       "      <td>pair</td>\n",
       "      <td>flavors.</td>\n",
       "      <td>red</td>\n",
       "      <td>made</td>\n",
       "    </tr>\n",
       "    <tr>\n",
       "      <th>11</th>\n",
       "      <td>finish.</td>\n",
       "      <td>one</td>\n",
       "      <td>well</td>\n",
       "      <td>spice,</td>\n",
       "      <td>peach</td>\n",
       "      <td>long</td>\n",
       "      <td>oak,</td>\n",
       "    </tr>\n",
       "    <tr>\n",
       "      <th>12</th>\n",
       "      <td>finish</td>\n",
       "      <td>wines.</td>\n",
       "      <td>acidity.</td>\n",
       "      <td>dried</td>\n",
       "      <td>acidity</td>\n",
       "      <td>cherry</td>\n",
       "      <td>flavors</td>\n",
       "    </tr>\n",
       "    <tr>\n",
       "      <th>13</th>\n",
       "      <td>drink</td>\n",
       "      <td>time</td>\n",
       "      <td>flavors</td>\n",
       "      <td>cherry,</td>\n",
       "      <td>fresh</td>\n",
       "      <td>soft</td>\n",
       "      <td>100%</td>\n",
       "    </tr>\n",
       "    <tr>\n",
       "      <th>14</th>\n",
       "      <td>there's</td>\n",
       "      <td>south</td>\n",
       "      <td>wood</td>\n",
       "      <td>cherry</td>\n",
       "      <td>imported</td>\n",
       "      <td>rich</td>\n",
       "      <td>really</td>\n",
       "    </tr>\n",
       "    <tr>\n",
       "      <th>15</th>\n",
       "      <td>plum</td>\n",
       "      <td>wines</td>\n",
       "      <td>dry</td>\n",
       "      <td>tones</td>\n",
       "      <td>notes</td>\n",
       "      <td>cab</td>\n",
       "      <td>complex</td>\n",
       "    </tr>\n",
       "    <tr>\n",
       "      <th>16</th>\n",
       "      <td>red</td>\n",
       "      <td>filled</td>\n",
       "      <td>good</td>\n",
       "      <td>mouthfeel</td>\n",
       "      <td>sweet</td>\n",
       "      <td>chocolate</td>\n",
       "      <td>flavors,</td>\n",
       "    </tr>\n",
       "    <tr>\n",
       "      <th>17</th>\n",
       "      <td>little</td>\n",
       "      <td>natural</td>\n",
       "      <td>years</td>\n",
       "      <td>berry</td>\n",
       "      <td>pear</td>\n",
       "      <td>drink</td>\n",
       "      <td>vintage</td>\n",
       "    </tr>\n",
       "    <tr>\n",
       "      <th>18</th>\n",
       "      <td>oak</td>\n",
       "      <td>finesse</td>\n",
       "      <td>age</td>\n",
       "      <td>here's</td>\n",
       "      <td>good</td>\n",
       "      <td>dark</td>\n",
       "      <td>quite</td>\n",
       "    </tr>\n",
       "    <tr>\n",
       "      <th>19</th>\n",
       "      <td>blackberry</td>\n",
       "      <td>say</td>\n",
       "      <td>fruits</td>\n",
       "      <td>red</td>\n",
       "      <td>finish</td>\n",
       "      <td>hints</td>\n",
       "      <td>wines</td>\n",
       "    </tr>\n",
       "  </tbody>\n",
       "</table>\n",
       "</div>"
      ],
      "text/plain": [
       "    Topic # 01 Topic # 02 Topic # 03 Topic # 04 Topic # 05 Topic # 06  \\\n",
       "0      flavors   imported       wine       wine    flavors   cabernet   \n",
       "1       cherry   imports.      wine,     aromas       wine      blend   \n",
       "2        fruit       wine      fruit      fruit     aromas    finish.   \n",
       "3         wine      nice,       ripe     offers     citrus      black   \n",
       "4         good      fruit    tannins      notes    finish.       wine   \n",
       "5     flavors.       ltd.     years.      spice      fruit    tannins   \n",
       "6       aromas      still    acidity      mouth      crisp      notes   \n",
       "7       palate      here.       rich     fruit,      white      fruit   \n",
       "8          bit  drinkable      great   delivers      apple     merlot   \n",
       "9        black       cab,      wine.     bright      green    flavors   \n",
       "10       berry     sharp,      black       pair   flavors.        red   \n",
       "11     finish.        one       well     spice,      peach       long   \n",
       "12      finish     wines.   acidity.      dried    acidity     cherry   \n",
       "13       drink       time    flavors    cherry,      fresh       soft   \n",
       "14     there's      south       wood     cherry   imported       rich   \n",
       "15        plum      wines        dry      tones      notes        cab   \n",
       "16         red     filled       good  mouthfeel      sweet  chocolate   \n",
       "17      little    natural      years      berry       pear      drink   \n",
       "18         oak    finesse        age     here's       good       dark   \n",
       "19  blackberry        say     fruits        red     finish      hints   \n",
       "\n",
       "   Topic # 07  \n",
       "0         new  \n",
       "1         oak  \n",
       "2       pinot  \n",
       "3         one  \n",
       "4        best  \n",
       "5        wine  \n",
       "6       shows  \n",
       "7        oak.  \n",
       "8    vineyard  \n",
       "9       fruit  \n",
       "10       made  \n",
       "11       oak,  \n",
       "12    flavors  \n",
       "13       100%  \n",
       "14     really  \n",
       "15    complex  \n",
       "16   flavors,  \n",
       "17    vintage  \n",
       "18      quite  \n",
       "19      wines  "
      ]
     },
     "execution_count": 88,
     "metadata": {},
     "output_type": "execute_result"
    }
   ],
   "source": [
    "get_lda_topics(lda, num_topics)"
   ]
  },
  {
   "cell_type": "markdown",
   "id": "1eed74da-45e6-44aa-88ca-d6780c535db0",
   "metadata": {},
   "source": [
    "# BERT"
   ]
  },
  {
   "cell_type": "code",
   "execution_count": 92,
   "id": "616e466e-0fb9-422c-8db6-005bf7ec35b1",
   "metadata": {
    "tags": []
   },
   "outputs": [],
   "source": [
    "from bertopic import BERTopic"
   ]
  },
  {
   "cell_type": "code",
   "execution_count": null,
   "id": "1ae4d089-8e79-42df-bc2c-c4ec51cc5952",
   "metadata": {},
   "outputs": [],
   "source": [
    "from bertopic.vectorizers import ClassTfidfTransformer"
   ]
  },
  {
   "cell_type": "code",
   "execution_count": 103,
   "id": "8a6a26f8-22dc-4e91-84ad-11eba1bac353",
   "metadata": {
    "tags": []
   },
   "outputs": [],
   "source": [
    "ctfidf_model = ClassTfidfTransformer(reduce_frequent_words=True)\n",
    "topic_model = BERTopic(ctfidf_model=ctfidf_model, language=\"english\", calculate_probabilities=True, verbose=True)"
   ]
  },
  {
   "cell_type": "code",
   "execution_count": null,
   "id": "cbc51811-e96a-4062-a464-fbb4056b2a1f",
   "metadata": {
    "tags": []
   },
   "outputs": [
    {
     "data": {
      "application/vnd.jupyter.widget-view+json": {
       "model_id": "2abb9027d9d741938eb283a0db1be513",
       "version_major": 2,
       "version_minor": 0
      },
      "text/plain": [
       "Batches:   0%|          | 0/4717 [00:00<?, ?it/s]"
      ]
     },
     "metadata": {},
     "output_type": "display_data"
    }
   ],
   "source": [
    "#instantiate BERTopic\n",
    "# topic_model = BERTopic(language=\"english\", calculate_probabilities=True, verbose=True)\n",
    "\n",
    "#generate the topics\n",
    "topics, probs = topic_model.fit_transform(train_str)"
   ]
  },
  {
   "cell_type": "code",
   "execution_count": null,
   "id": "60f4b315-facb-4687-a4c9-72c9a7d8fe56",
   "metadata": {
    "tags": []
   },
   "outputs": [],
   "source": [
    "topic_model.save(\"my_model\", serialization=\"pickle\")"
   ]
  },
  {
   "cell_type": "code",
   "execution_count": null,
   "id": "6b933990-142f-4b17-98d4-2417323d9306",
   "metadata": {},
   "outputs": [],
   "source": []
  }
 ],
 "metadata": {
  "kernelspec": {
   "display_name": "Python 3 (ipykernel)",
   "language": "python",
   "name": "python3"
  },
  "language_info": {
   "codemirror_mode": {
    "name": "ipython",
    "version": 3
   },
   "file_extension": ".py",
   "mimetype": "text/x-python",
   "name": "python",
   "nbconvert_exporter": "python",
   "pygments_lexer": "ipython3",
   "version": "3.7.12"
  }
 },
 "nbformat": 4,
 "nbformat_minor": 5
}
