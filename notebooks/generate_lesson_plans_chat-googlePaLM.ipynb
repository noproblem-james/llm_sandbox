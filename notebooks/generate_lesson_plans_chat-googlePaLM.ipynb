{
 "cells": [
  {
   "cell_type": "markdown",
   "id": "56c0fcb2-ecb6-4bdf-8305-67937a7f4463",
   "metadata": {},
   "source": [
    "# TODO\n",
    " Google PaLM API for langchain doesnt like anything other than the first message to be a system message, so i restructured the chat templates. The error message was pretty misleading.  \n",
    " Now the model doesn't follow the format instructions at all. It doesnt even attempt to conform to JSON format, much less the specific structure."
   ]
  },
  {
   "cell_type": "code",
   "execution_count": 1,
   "id": "fc2b0572-02a4-4f96-9fdf-0f9bda0d28c9",
   "metadata": {},
   "outputs": [],
   "source": [
    "import os\n",
    "import json\n",
    "import time\n",
    "import pprint as pp\n",
    "import pandas as pd\n",
    "from pydantic import BaseModel, Field\n",
    "from typing import List, Dict\n",
    "from dotenv import load_dotenv\n",
    "from langchain.chat_models import ChatOpenAI\n",
    "from langchain.prompts import HumanMessagePromptTemplate, SystemMessagePromptTemplate, ChatPromptTemplate\n",
    "from langchain.output_parsers import PydanticOutputParser\n",
    "from IPython.display import display, Markdown, JSON"
   ]
  },
  {
   "cell_type": "code",
   "execution_count": 2,
   "id": "a73b7144-33c5-45aa-b30e-150f8155707b",
   "metadata": {
    "scrolled": true
   },
   "outputs": [
    {
     "data": {
      "text/plain": [
       "True"
      ]
     },
     "execution_count": 2,
     "metadata": {},
     "output_type": "execute_result"
    }
   ],
   "source": [
    "load_dotenv(override=True) # loading API key from environment"
   ]
  },
  {
   "cell_type": "markdown",
   "id": "7c3a3d4e-4a93-466a-93d6-e7f466a79b21",
   "metadata": {},
   "source": [
    "## Read in data with annual curriculum plan"
   ]
  },
  {
   "cell_type": "code",
   "execution_count": 3,
   "id": "0a0c2e78-bace-4029-8a65-1b1b33ae9f19",
   "metadata": {},
   "outputs": [
    {
     "data": {
      "text/html": [
       "<div>\n",
       "<style scoped>\n",
       "    .dataframe tbody tr th:only-of-type {\n",
       "        vertical-align: middle;\n",
       "    }\n",
       "\n",
       "    .dataframe tbody tr th {\n",
       "        vertical-align: top;\n",
       "    }\n",
       "\n",
       "    .dataframe thead th {\n",
       "        text-align: right;\n",
       "    }\n",
       "</style>\n",
       "<table border=\"1\" class=\"dataframe\">\n",
       "  <thead>\n",
       "    <tr style=\"text-align: right;\">\n",
       "      <th></th>\n",
       "      <th>month</th>\n",
       "      <th>theme_to_explore</th>\n",
       "      <th>language_arts</th>\n",
       "      <th>math</th>\n",
       "      <th>social_studies</th>\n",
       "      <th>science</th>\n",
       "    </tr>\n",
       "  </thead>\n",
       "  <tbody>\n",
       "    <tr>\n",
       "      <th>0</th>\n",
       "      <td>August</td>\n",
       "      <td>Getting to Know One Another; Class Community</td>\n",
       "      <td>Personal narratives, reading comprehension</td>\n",
       "      <td>Counting and sorting</td>\n",
       "      <td>Our classroom community; citizenship and gover...</td>\n",
       "      <td>Exploring the school environment and local eco...</td>\n",
       "    </tr>\n",
       "    <tr>\n",
       "      <th>1</th>\n",
       "      <td>September</td>\n",
       "      <td>On the Map, where we’re from</td>\n",
       "      <td>Descriptive writing (My Place); vocabulary dev...</td>\n",
       "      <td>latitutde and longitude; place value</td>\n",
       "      <td>My hometown; local history; geography</td>\n",
       "      <td>Water cycle, rivers; Geology, caves, aquifers</td>\n",
       "    </tr>\n",
       "    <tr>\n",
       "      <th>2</th>\n",
       "      <td>October</td>\n",
       "      <td>Fall; Halloween; Dia de los Muertos</td>\n",
       "      <td>Creative writing; grammar and punctuation</td>\n",
       "      <td>units of measurement (length, weight, etc.); E...</td>\n",
       "      <td>Fall celebrations around the world; elections</td>\n",
       "      <td>Food chains and food webs; Local flora and fauna</td>\n",
       "    </tr>\n",
       "    <tr>\n",
       "      <th>3</th>\n",
       "      <td>November</td>\n",
       "      <td>Gratitude; Native Americans</td>\n",
       "      <td>Listening and speaking skills; Thankful Though...</td>\n",
       "      <td>Addition and subtraction</td>\n",
       "      <td>Native American history; Settlement of US and ...</td>\n",
       "      <td>Seasonal Changes and Plants; Winter Animal Ada...</td>\n",
       "    </tr>\n",
       "    <tr>\n",
       "      <th>4</th>\n",
       "      <td>December</td>\n",
       "      <td>Winter Solstice and winter holidays</td>\n",
       "      <td>book exchange; holiday cards; holiday play/skit</td>\n",
       "      <td>Geometry (2-D shapes); symmetry (snowflake)</td>\n",
       "      <td>Winter holidays worldwide</td>\n",
       "      <td>Physical science (matter, energy, force, motion)</td>\n",
       "    </tr>\n",
       "    <tr>\n",
       "      <th>5</th>\n",
       "      <td>January</td>\n",
       "      <td>Calendar, New Year, Goals, MLK</td>\n",
       "      <td>Dreams and goals; journaling; 'I Have a Dream'...</td>\n",
       "      <td>Time units, Calendar math, multiplication</td>\n",
       "      <td>New Year's Celebrations worldwide; Community h...</td>\n",
       "      <td>Climate zones, seasons, and weather</td>\n",
       "    </tr>\n",
       "    <tr>\n",
       "      <th>6</th>\n",
       "      <td>February</td>\n",
       "      <td>Black History, Love/Valentine's Day</td>\n",
       "      <td>African American biographies; exploring emotio...</td>\n",
       "      <td>Fractions, Division; Number Patterns</td>\n",
       "      <td>African American Achievements; Civil Rights Mo...</td>\n",
       "      <td>The human body, heart health and exercise</td>\n",
       "    </tr>\n",
       "    <tr>\n",
       "      <th>7</th>\n",
       "      <td>March</td>\n",
       "      <td>Spring; Easter; Ramadan</td>\n",
       "      <td>Springtime poetry; nature observation</td>\n",
       "      <td>Patterns and Geometry; Geometry in Islamic Art</td>\n",
       "      <td>Cultural Spring celebrations -- Easter, Ramadan</td>\n",
       "      <td>Life cycles of plants and animals (frogs and b...</td>\n",
       "    </tr>\n",
       "    <tr>\n",
       "      <th>8</th>\n",
       "      <td>April</td>\n",
       "      <td>Space; Passover</td>\n",
       "      <td>Space stories, science fiction; constellation ...</td>\n",
       "      <td>Patterns and algebraic thinking; math in the s...</td>\n",
       "      <td>Passover origins; History of astronomy</td>\n",
       "      <td>Solar System and celestial bodies</td>\n",
       "    </tr>\n",
       "    <tr>\n",
       "      <th>9</th>\n",
       "      <td>May</td>\n",
       "      <td>Ocean Life</td>\n",
       "      <td>Ocean vocabulary; sea creatures; sea stories</td>\n",
       "      <td>Problem-solving and mathematical reasoning; oc...</td>\n",
       "      <td>Coastal ecosystems; exploration and navigation</td>\n",
       "      <td>Ocean zones; Marine life and habitats</td>\n",
       "    </tr>\n",
       "  </tbody>\n",
       "</table>\n",
       "</div>"
      ],
      "text/plain": [
       "       month                              theme_to_explore  \\\n",
       "0     August  Getting to Know One Another; Class Community   \n",
       "1  September                  On the Map, where we’re from   \n",
       "2    October           Fall; Halloween; Dia de los Muertos   \n",
       "3   November                   Gratitude; Native Americans   \n",
       "4   December           Winter Solstice and winter holidays   \n",
       "5    January                Calendar, New Year, Goals, MLK   \n",
       "6   February           Black History, Love/Valentine's Day   \n",
       "7      March                       Spring; Easter; Ramadan   \n",
       "8      April                               Space; Passover   \n",
       "9        May                                    Ocean Life   \n",
       "\n",
       "                                       language_arts  \\\n",
       "0         Personal narratives, reading comprehension   \n",
       "1  Descriptive writing (My Place); vocabulary dev...   \n",
       "2          Creative writing; grammar and punctuation   \n",
       "3  Listening and speaking skills; Thankful Though...   \n",
       "4    book exchange; holiday cards; holiday play/skit   \n",
       "5  Dreams and goals; journaling; 'I Have a Dream'...   \n",
       "6  African American biographies; exploring emotio...   \n",
       "7              Springtime poetry; nature observation   \n",
       "8  Space stories, science fiction; constellation ...   \n",
       "9       Ocean vocabulary; sea creatures; sea stories   \n",
       "\n",
       "                                                math  \\\n",
       "0                               Counting and sorting   \n",
       "1               latitutde and longitude; place value   \n",
       "2  units of measurement (length, weight, etc.); E...   \n",
       "3                           Addition and subtraction   \n",
       "4        Geometry (2-D shapes); symmetry (snowflake)   \n",
       "5          Time units, Calendar math, multiplication   \n",
       "6               Fractions, Division; Number Patterns   \n",
       "7     Patterns and Geometry; Geometry in Islamic Art   \n",
       "8  Patterns and algebraic thinking; math in the s...   \n",
       "9  Problem-solving and mathematical reasoning; oc...   \n",
       "\n",
       "                                      social_studies  \\\n",
       "0  Our classroom community; citizenship and gover...   \n",
       "1              My hometown; local history; geography   \n",
       "2     Fall celebrations around the world; elections    \n",
       "3  Native American history; Settlement of US and ...   \n",
       "4                          Winter holidays worldwide   \n",
       "5  New Year's Celebrations worldwide; Community h...   \n",
       "6  African American Achievements; Civil Rights Mo...   \n",
       "7    Cultural Spring celebrations -- Easter, Ramadan   \n",
       "8             Passover origins; History of astronomy   \n",
       "9     Coastal ecosystems; exploration and navigation   \n",
       "\n",
       "                                             science  \n",
       "0  Exploring the school environment and local eco...  \n",
       "1      Water cycle, rivers; Geology, caves, aquifers  \n",
       "2   Food chains and food webs; Local flora and fauna  \n",
       "3  Seasonal Changes and Plants; Winter Animal Ada...  \n",
       "4   Physical science (matter, energy, force, motion)  \n",
       "5                Climate zones, seasons, and weather  \n",
       "6          The human body, heart health and exercise  \n",
       "7  Life cycles of plants and animals (frogs and b...  \n",
       "8                  Solar System and celestial bodies  \n",
       "9              Ocean zones; Marine life and habitats  "
      ]
     },
     "execution_count": 3,
     "metadata": {},
     "output_type": "execute_result"
    }
   ],
   "source": [
    "GSHEET_ID = os.getenv('GSHEET_ID')\n",
    "google_sheet_url = f\"https://docs.google.com/spreadsheets/d/{GSHEET_ID}/export?format=csv&gid=0\"\n",
    "annual_plan_df = pd.read_csv(google_sheet_url)\n",
    "annual_plan_df.rename(columns=lambda x: x.replace(\" \", \"_\").lower(), inplace=True)\n",
    "annual_plan_df"
   ]
  },
  {
   "cell_type": "markdown",
   "id": "ac4a13b0-088d-441c-b02a-4c44e3c9b5aa",
   "metadata": {},
   "source": [
    "# Create Prompt Templates"
   ]
  },
  {
   "cell_type": "code",
   "execution_count": 239,
   "id": "71282f17-be38-4121-99c6-d4999390bffb",
   "metadata": {},
   "outputs": [],
   "source": [
    "class ActivityIdea(BaseModel):\n",
    "    name: str\n",
    "    description: str\n",
    "\n",
    "class ActivityIdeasOutput(BaseModel):\n",
    "    ideas: List[ActivityIdea]\n",
    "# Set up a parser + inject instructions into the prompt template.\n",
    "activity_ideas_parser = PydanticOutputParser(pydantic_object=ActivityIdeasOutput)"
   ]
  },
  {
   "cell_type": "code",
   "execution_count": 257,
   "id": "cba0a205-2646-4f93-a31b-5b27350c760f",
   "metadata": {},
   "outputs": [],
   "source": [
    "idea_system_template = SystemMessagePromptTemplate.from_template(\n",
    "    template= \"\"\"\n",
    "    You are a curriculum development expert and I am a teacher of second graders at a micro-school, with seven students of varying abilities.\n",
    "    - The microschool stresses the importance of outdoor education and student-led development, but it also wants to ensure high academic standards.\n",
    "    - Try to work in phonics work and literacy development into the language art activities.\n",
    "    - Try to work in arithmetic and numeracy development into the math activities.\n",
    "    - Keep in mind the grade level and number of the students when generating your response.\n",
    "    \n",
    "    I want you to help me brainstorm activity ideas for my classroom.\n",
    "    Each activity could also be thought of as a lesson where the kids are learning valuable skills.\n",
    "    I only need you to give me the activity names and a brief description of each idea.\n",
    "    \n",
    "    Here are some additional guidelines for generating these ideas:\n",
    "    - Be creative in your activity ideas. Avoid common activities that have no direct relation to the lesson content, like scavenger hunts and word searches.\n",
    "    - Each activity idea should be able to be accomplished in 30 mins-3 hours.\n",
    "    - Each activity should relate directly to skills and concepts from the relevant academic subject.\n",
    "    - The description should only be sentence or two and should not simply repeat the theme or the topic. It should describe the nature of the activity.\n",
    "\n",
    "    {format_instructions}\n",
    "    \"\"\"\n",
    ")"
   ]
  },
  {
   "cell_type": "code",
   "execution_count": 258,
   "id": "6ca20a2c-b933-4572-ad08-91080112626d",
   "metadata": {},
   "outputs": [],
   "source": [
    "idea_human_template = HumanMessagePromptTemplate.from_template(\n",
    "    template=\"\"\"\n",
    "    I want you to generate {num_ideas} activity ideas for the month of {month}. The theme for this month is {theme}.\n",
    "    The academic subject is {subject} and the topic suggestions for this month are: {topic}.    \n",
    "    \"\"\"\n",
    ")"
   ]
  },
  {
   "cell_type": "code",
   "execution_count": 259,
   "id": "bebac731-6296-472e-ae09-81554b9f2531",
   "metadata": {},
   "outputs": [],
   "source": [
    "idea_chat_prompt_template = ChatPromptTemplate(\n",
    "    messages=[idea_system_template, idea_human_template],\n",
    "    input_variables=[\"num_ideas\", \"month\", \"theme\", \"subject\", \"topic\"],\n",
    "    partial_variables={\"format_instructions\": activity_ideas_parser.get_format_instructions()}\n",
    ")"
   ]
  },
  {
   "cell_type": "code",
   "execution_count": 260,
   "id": "f6734f66-33e2-487c-801c-31b86f66b0e8",
   "metadata": {
    "scrolled": true
   },
   "outputs": [
    {
     "name": "stdout",
     "output_type": "stream",
     "text": [
      "The output should be formatted as a JSON instance that conforms to the JSON schema below.\n",
      "\n",
      "As an example, for the schema {\"properties\": {\"foo\": {\"title\": \"Foo\", \"description\": \"a list of strings\", \"type\": \"array\", \"items\": {\"type\": \"string\"}}}, \"required\": [\"foo\"]}\n",
      "the object {\"foo\": [\"bar\", \"baz\"]} is a well-formatted instance of the schema. The object {\"properties\": {\"foo\": [\"bar\", \"baz\"]}} is not well-formatted.\n",
      "\n",
      "Here is the output schema:\n",
      "```\n",
      "{\"properties\": {\"ideas\": {\"title\": \"Ideas\", \"type\": \"array\", \"items\": {\"$ref\": \"#/definitions/ActivityIdea\"}}}, \"required\": [\"ideas\"], \"definitions\": {\"ActivityIdea\": {\"title\": \"ActivityIdea\", \"type\": \"object\", \"properties\": {\"name\": {\"title\": \"Name\", \"type\": \"string\"}, \"description\": {\"title\": \"Description\", \"type\": \"string\"}}, \"required\": [\"name\", \"description\"]}}}\n",
      "```\n"
     ]
    }
   ],
   "source": [
    "print(activity_ideas_parser.get_format_instructions())"
   ]
  },
  {
   "cell_type": "code",
   "execution_count": 261,
   "id": "74cacd5a-fff6-4c43-86f6-e1a9593e4535",
   "metadata": {},
   "outputs": [],
   "source": [
    "class LessonPlanOutput(BaseModel):\n",
    "    time_estimate: str\n",
    "    list_of_materials: List[str]\n",
    "    procedure: List[str]\n",
    "    additional_notes: List[str]\n",
    "    differentiation_strategies: List[str]\n",
    "\n",
    "# Set up a parser + inject instructions into the prompt template.\n",
    "lesson_plan_parser = PydanticOutputParser(pydantic_object=LessonPlanOutput)"
   ]
  },
  {
   "cell_type": "code",
   "execution_count": 262,
   "id": "2fb3a659-f520-48b5-a465-9a676dff54c8",
   "metadata": {},
   "outputs": [],
   "source": [
    "lesson_system_template = SystemMessagePromptTemplate.from_template(\n",
    "    template= \"\"\"\n",
    "    You are a curriculum development expert and I am a teacher of second graders at a micro-school, with seven students of varying abilities.\n",
    "    - The microschool stresses the importance of outdoor education and student-led development, but it also wants to ensure high academic standards.\n",
    "    - Try to work in phonics work and literacy development into the language art activities.\n",
    "    - Try to work in arithmetic and numeracy development into the math activities.\n",
    "    - Keep in mind the grade level and number of the students when generating your response.\n",
    "    \n",
    "    I want you to generate a detailed lesson plan. I will give you a name and a short description of the lesson, as well as the academic subject the lesson plan should relate to.\n",
    "    You will provide:\n",
    "     - a time estimate\n",
    "     - a list of materials\n",
    "     - a step-by-step procedure for executing the lesson.\n",
    "     - additional notes\n",
    "     - differentiation strategies for evaluating students and providing additional challenge or assistance, and modifications for neurodivergent students\n",
    "     \n",
    "     Additional guidelines for the lesson plan:\n",
    "      - Ensure that the lesson uses and develops skills relevant to the academic subject.\n",
    "      - Try to make the best estimate of the total amount of time the activity will take. Be generous because these are young kids and they take a while!\n",
    "      - The 'additional notes' specifies the actual content mentioned in the 'procedure' (e.g., interview questions, puzzle clues, specific writing prompts, etc.), so lesson plan provides everything needed to execute the lesson.\n",
    "    \n",
    "    {format_instructions}\n",
    "    \"\"\"\n",
    "    )"
   ]
  },
  {
   "cell_type": "code",
   "execution_count": 267,
   "id": "acd3ca7d-be4b-4d33-812a-990706a9628f",
   "metadata": {},
   "outputs": [],
   "source": [
    "lesson_human_template = HumanMessagePromptTemplate.from_template(\n",
    "    template=\"\"\"\n",
    "    I want you to generate a *detailed* lesson plan for the academic subject of {subject}.\n",
    "    The name of the lesson is {activity_name}, and the short description is: {activity_description}.\n",
    "    \"\"\"\n",
    ")"
   ]
  },
  {
   "cell_type": "code",
   "execution_count": 264,
   "id": "982eec11-b61f-42d5-8ca2-5f3c103ece44",
   "metadata": {},
   "outputs": [],
   "source": [
    "    # - The 'differentiation strategies' provides modifications for students who need more support, for students who need more challenge, and for neurodivergent students."
   ]
  },
  {
   "cell_type": "code",
   "execution_count": 265,
   "id": "549c688e-42f8-44ed-9e84-9e0fd66b0c51",
   "metadata": {},
   "outputs": [],
   "source": [
    "    # - The 'additional notes' must **NOT** include differentiation strageties. There should be no overlap. Double-check this before giving me your response."
   ]
  },
  {
   "cell_type": "code",
   "execution_count": 268,
   "id": "6ae08714-d533-4725-b7a3-fae601ff6c5c",
   "metadata": {},
   "outputs": [],
   "source": [
    "lesson_plan_chat_prompt_template = ChatPromptTemplate(\n",
    "    messages=[lesson_system_template, lesson_human_template],\n",
    "    input_variables=[\"activity_name\", \"activity_description\", \"subject\"],\n",
    "    partial_variables={\"format_instructions\": lesson_plan_parser.get_format_instructions()}\n",
    ")"
   ]
  },
  {
   "cell_type": "code",
   "execution_count": 269,
   "id": "2c95618e-5b54-4b30-89dd-eccc5b0bd099",
   "metadata": {},
   "outputs": [
    {
     "name": "stdout",
     "output_type": "stream",
     "text": [
      "The output should be formatted as a JSON instance that conforms to the JSON schema below.\n",
      "\n",
      "As an example, for the schema {\"properties\": {\"foo\": {\"title\": \"Foo\", \"description\": \"a list of strings\", \"type\": \"array\", \"items\": {\"type\": \"string\"}}}, \"required\": [\"foo\"]}\n",
      "the object {\"foo\": [\"bar\", \"baz\"]} is a well-formatted instance of the schema. The object {\"properties\": {\"foo\": [\"bar\", \"baz\"]}} is not well-formatted.\n",
      "\n",
      "Here is the output schema:\n",
      "```\n",
      "{\"properties\": {\"time_estimate\": {\"title\": \"Time Estimate\", \"type\": \"string\"}, \"list_of_materials\": {\"title\": \"List Of Materials\", \"type\": \"array\", \"items\": {\"type\": \"string\"}}, \"procedure\": {\"title\": \"Procedure\", \"type\": \"array\", \"items\": {\"type\": \"string\"}}, \"additional_notes\": {\"title\": \"Additional Notes\", \"type\": \"array\", \"items\": {\"type\": \"string\"}}, \"differentiation_strategies\": {\"title\": \"Differentiation Strategies\", \"type\": \"array\", \"items\": {\"type\": \"string\"}}}, \"required\": [\"time_estimate\", \"list_of_materials\", \"procedure\", \"additional_notes\", \"differentiation_strategies\"]}\n",
      "```\n"
     ]
    }
   ],
   "source": [
    "print(lesson_plan_parser.get_format_instructions())"
   ]
  },
  {
   "cell_type": "markdown",
   "id": "48bb69f8-a88c-4d5c-a204-6bc6e4c3c275",
   "metadata": {},
   "source": [
    "# Test on Single Record"
   ]
  },
  {
   "cell_type": "code",
   "execution_count": 270,
   "id": "ef850678-6948-4c2e-9545-72aebcb1813e",
   "metadata": {},
   "outputs": [],
   "source": [
    "num_plans = 5"
   ]
  },
  {
   "cell_type": "code",
   "execution_count": 271,
   "id": "ba55d394-bbbe-4d91-a800-733c009c6638",
   "metadata": {},
   "outputs": [],
   "source": [
    "month = \"September\"\n",
    "subject = 'math'"
   ]
  },
  {
   "cell_type": "code",
   "execution_count": 272,
   "id": "a5529a5c-a967-473e-9f92-df8b0c1852e1",
   "metadata": {},
   "outputs": [],
   "source": [
    "month_record = annual_plan_df.query(\"month == @month\").to_dict(orient='records')[0]"
   ]
  },
  {
   "cell_type": "code",
   "execution_count": 273,
   "id": "fbdda230-1448-4191-9636-bae7ce2597f7",
   "metadata": {},
   "outputs": [],
   "source": [
    "theme = month_record['theme_to_explore']\n",
    "topic = month_record[subject]"
   ]
  },
  {
   "cell_type": "code",
   "execution_count": 277,
   "id": "30d76435-0f38-4dd0-8dbe-7581cdb6ca5d",
   "metadata": {},
   "outputs": [],
   "source": [
    "idea_prompt = idea_chat_prompt_template.format_prompt(\n",
    "    num_ideas=num_plans,\n",
    "    month=month,\n",
    "    theme=theme,\n",
    "    subject=subject, \n",
    "    topic=topic \n",
    ")"
   ]
  },
  {
   "cell_type": "code",
   "execution_count": 278,
   "id": "55893d2c-d3f4-4dcd-b459-6304c6bc1419",
   "metadata": {},
   "outputs": [
    {
     "data": {
      "text/plain": [
       "langchain.prompts.chat.ChatPromptValue"
      ]
     },
     "execution_count": 278,
     "metadata": {},
     "output_type": "execute_result"
    }
   ],
   "source": [
    "type(idea_prompt)"
   ]
  },
  {
   "cell_type": "code",
   "execution_count": 279,
   "id": "4b58009c-88ec-4296-8e10-34a8b671b7dd",
   "metadata": {},
   "outputs": [
    {
     "name": "stdout",
     "output_type": "stream",
     "text": [
      "\n",
      "    You are a curriculum development expert and I am a teacher of second graders at a micro-school, with seven students of varying abilities.\n",
      "    - The microschool stresses the importance of outdoor education and student-led development, but it also wants to ensure high academic standards.\n",
      "    - Try to work in phonics work and literacy development into the language art activities.\n",
      "    - Try to work in arithmetic and numeracy development into the math activities.\n",
      "    - Keep in mind the grade level and number of the students when generating your response.\n",
      "    \n",
      "    I want you to help me brainstorm activity ideas for my classroom.\n",
      "    Each activity could also be thought of as a lesson where the kids are learning valuable skills.\n",
      "    I only need you to give me the activity names and a brief description of each idea.\n",
      "    \n",
      "    Here are some additional guidelines for generating these ideas:\n",
      "    - Be creative in your activity ideas. Avoid common activities that have no direct relation to the lesson content, like scavenger hunts and word searches.\n",
      "    - Each activity idea should be able to be accomplished in 30 mins-3 hours.\n",
      "    - Each activity should relate directly to skills and concepts from the relevant academic subject.\n",
      "    - The description should only be sentence or two and should not simply repeat the theme or the topic. It should describe the nature of the activity.\n",
      "\n",
      "    The output should be formatted as a JSON instance that conforms to the JSON schema below.\n",
      "\n",
      "As an example, for the schema {\"properties\": {\"foo\": {\"title\": \"Foo\", \"description\": \"a list of strings\", \"type\": \"array\", \"items\": {\"type\": \"string\"}}}, \"required\": [\"foo\"]}\n",
      "the object {\"foo\": [\"bar\", \"baz\"]} is a well-formatted instance of the schema. The object {\"properties\": {\"foo\": [\"bar\", \"baz\"]}} is not well-formatted.\n",
      "\n",
      "Here is the output schema:\n",
      "```\n",
      "{\"properties\": {\"ideas\": {\"title\": \"Ideas\", \"type\": \"array\", \"items\": {\"$ref\": \"#/definitions/ActivityIdea\"}}}, \"required\": [\"ideas\"], \"definitions\": {\"ActivityIdea\": {\"title\": \"ActivityIdea\", \"type\": \"object\", \"properties\": {\"name\": {\"title\": \"Name\", \"type\": \"string\"}, \"description\": {\"title\": \"Description\", \"type\": \"string\"}}, \"required\": [\"name\", \"description\"]}}}\n",
      "```\n",
      "    \n"
     ]
    }
   ],
   "source": [
    "print(idea_prompt.messages[0].content)"
   ]
  },
  {
   "cell_type": "code",
   "execution_count": 280,
   "id": "fa127bc0-5a85-4650-aa4d-6c149ffadbfc",
   "metadata": {},
   "outputs": [
    {
     "name": "stdout",
     "output_type": "stream",
     "text": [
      "\n",
      "    I want you to generate 5 activity ideas for the month of September. The theme for this month is On the Map, where we’re from.\n",
      "    The academic subject is math and the topic suggestions for this month are: latitutde and longitude; place value.    \n",
      "    \n"
     ]
    }
   ],
   "source": [
    "print(idea_prompt.messages[1].content)"
   ]
  },
  {
   "cell_type": "code",
   "execution_count": 282,
   "id": "ec97e284-7a9a-4cc7-938c-d681fbaa2195",
   "metadata": {},
   "outputs": [],
   "source": [
    "idea_messages = idea_prompt.to_messages()"
   ]
  },
  {
   "cell_type": "code",
   "execution_count": 283,
   "id": "5102a56e-d15c-4706-8720-b7d4a3bf5daa",
   "metadata": {},
   "outputs": [
    {
     "data": {
      "text/plain": [
       "list"
      ]
     },
     "execution_count": 283,
     "metadata": {},
     "output_type": "execute_result"
    }
   ],
   "source": [
    "type(idea_messages)"
   ]
  },
  {
   "cell_type": "code",
   "execution_count": 284,
   "id": "24c848d0-aaf1-4e43-b84e-a567755cf0e0",
   "metadata": {},
   "outputs": [
    {
     "data": {
      "text/plain": [
       "2"
      ]
     },
     "execution_count": 284,
     "metadata": {},
     "output_type": "execute_result"
    }
   ],
   "source": [
    "len(idea_messages)"
   ]
  },
  {
   "cell_type": "code",
   "execution_count": 285,
   "id": "19eedfd8-e4ea-4354-b8c2-da5e7e855ac2",
   "metadata": {},
   "outputs": [
    {
     "data": {
      "text/plain": [
       "langchain.schema.messages.SystemMessage"
      ]
     },
     "execution_count": 285,
     "metadata": {},
     "output_type": "execute_result"
    }
   ],
   "source": [
    "type(idea_messages[0])"
   ]
  },
  {
   "cell_type": "code",
   "execution_count": 286,
   "id": "4dc7a00b-3b37-4631-b6dd-a2b4df2f2c18",
   "metadata": {},
   "outputs": [
    {
     "data": {
      "text/plain": [
       "langchain.schema.messages.HumanMessage"
      ]
     },
     "execution_count": 286,
     "metadata": {},
     "output_type": "execute_result"
    }
   ],
   "source": [
    "type(idea_messages[1])"
   ]
  },
  {
   "cell_type": "code",
   "execution_count": 287,
   "id": "bc068c26-bad6-495d-b1cb-00523213805b",
   "metadata": {},
   "outputs": [],
   "source": [
    "# dummy = SystemMessage(content='you are a helpful assistant')\n",
    "\n",
    "# idea_messages.insert(0, dummy)\n",
    "# from langchain.prompts.chat import ChatPromptValue\n",
    "\n",
    "# from langchain.schema.messages import SystemMessage"
   ]
  },
  {
   "cell_type": "markdown",
   "id": "08a50d1a-2e7b-40ae-bc8c-845620401f38",
   "metadata": {},
   "source": [
    "### Instantiate Test Chat Model"
   ]
  },
  {
   "cell_type": "code",
   "execution_count": 288,
   "id": "fbba9d9d-39bb-49ce-a8e8-69cacd631f76",
   "metadata": {},
   "outputs": [],
   "source": [
    "model_name = \"gpt-3.5-turbo\"\n",
    "# chat_model = ChatOpenAI(model_name=model_name, temperature=0.1, max_tokens=3000)\n",
    "# model_name = \"text-davinci-003\"\n",
    "# model = OpenAI(model_name=model_name, temperature=temperature, max_tokens=3000)\n",
    "from langchain.chat_models import ChatGooglePalm\n",
    "chat_model = ChatGooglePalm(model_name='models/chat-bison-001', temperature=0.1, max_tokens=1000)"
   ]
  },
  {
   "cell_type": "code",
   "execution_count": 289,
   "id": "58f68b3b-35b5-401b-8973-73924fe3a384",
   "metadata": {},
   "outputs": [
    {
     "data": {
      "text/plain": [
       "langchain.schema.messages.SystemMessage"
      ]
     },
     "execution_count": 289,
     "metadata": {},
     "output_type": "execute_result"
    }
   ],
   "source": [
    "type(idea_messages[0])"
   ]
  },
  {
   "cell_type": "code",
   "execution_count": 290,
   "id": "425e9817-9180-4492-ba59-c97addf28c31",
   "metadata": {},
   "outputs": [],
   "source": [
    "from langchain.schema import (\n",
    "    AIMessage,\n",
    "    HumanMessage,\n",
    "    SystemMessage\n",
    ")"
   ]
  },
  {
   "cell_type": "code",
   "execution_count": null,
   "id": "ad9b5f06-0c6d-44d9-9db1-7b9c18859007",
   "metadata": {},
   "outputs": [],
   "source": []
  },
  {
   "cell_type": "code",
   "execution_count": 291,
   "id": "558bbdf1-6e8e-47bd-ba41-a5b8372df39d",
   "metadata": {},
   "outputs": [],
   "source": [
    "idea_response = chat_model(idea_messages)"
   ]
  },
  {
   "cell_type": "code",
   "execution_count": 293,
   "id": "3e6637d9-11ec-48a5-8c93-7ea902268c53",
   "metadata": {},
   "outputs": [
    {
     "data": {
      "text/plain": [
       "'Here are 5 activity ideas for the month of September, with the theme \"On the Map, where we\\'re from\":\\n\\n1. **Latitude and Longitude**\\n\\n* **Activity:** Have students create a map of their neighborhood or community. They can use markers, crayons, or paint to color in the different areas. Then, they can use a compass to find the latitude and longitude of their home and other important places in their neighborhood.\\n* **Learning Objectives:** Students will learn about latitude and longitude and how to use them to find locations on a map. They will also practice their map skills, such as using a compass and identifying different landmarks.\\n* **Materials:** Paper, markers, crayons, paint, compass\\n\\n2. **Place Value**\\n\\n* **Activity:** Have students create a map of the world using place value blocks. They can use the blocks to represent the population of each country. Then, they can compare the populations of different countries and discuss why some countries have more people than others.\\n* **Learning Objectives:** Students will learn about place value and how to use it to represent numbers. They will also practice their math skills, such as comparing numbers and solving problems.\\n* **Materials:** Place value blocks, paper, markers\\n\\n3. **Map Scavenger Hunt**\\n\\n* **Activity:** Hide objects around the classroom or school that represent different places on a map. Give students a list of the objects and have them find them. Once they have found all of the objects, they can use them to create a map of the classroom or school.\\n* **Learning Objectives:** Students will learn about different places on a map. They will also practice their map skills, such as finding objects on a map and using a compass.\\n* **Materials:** Objects that represent different places on a map, paper, markers, compass\\n\\n4. **Map Trivia**\\n\\n* **Activity:** Create a trivia game about maps. Ask students questions about different types of maps, how to read a map, and famous maps. You can also have students draw their own maps and ask them to label different features.\\n* **Learning Objectives:** Students will learn about different types of maps and how to read a map. They will also practice their map skills, such as identifying different features on a map.\\n* **Materials:** Map trivia questions, paper, markers\\n\\n5. **Map Art**\\n\\n* **Activity:** Have students create a piece of art that represents a map. They can use any materials they want, such as paint, markers, crayons, or collage materials. Once they have finished their art, they can share it with the class and discuss what it represents.\\n* **Learning Objectives:** Students will learn about different types of maps and how to create their own maps. They will also practice their art skills, such as using different materials and creating a composition.\\n* **Materials:** Any materials students want to use to create their art\\n\\nI hope these activity ideas are helpful!'"
      ]
     },
     "execution_count": 293,
     "metadata": {},
     "output_type": "execute_result"
    }
   ],
   "source": [
    "idea_response.content"
   ]
  },
  {
   "cell_type": "code",
   "execution_count": 294,
   "id": "03ecda6d-f8e5-4770-a5a0-8e42e5f217ba",
   "metadata": {},
   "outputs": [
    {
     "ename": "OutputParserException",
     "evalue": "Failed to parse ActivityIdeasOutput from completion Here are 5 activity ideas for the month of September, with a theme of \"On the Map, where we're from\":\n\n* **Activity 1: Create a map of your neighborhood.**\n\nStudents will use a variety of materials, such as paper, markers, and string, to create a map of their neighborhood. They can label the important landmarks, such as their house, school, and park. This activity will help students learn about the geography of their community and develop their spatial reasoning skills.\n\n* **Activity 2: Learn about latitude and longitude.**\n\nStudents will learn about latitude and longitude and how they are used to locate places on a map. They can use a globe or a map to practice finding different locations. This activity will help students develop their understanding of spatial relationships.\n\n* **Activity 3: Play a game of \"Where in the World?\"**\n\nStudents will work in teams to guess the location of different places around the world. The teacher will give clues about the location, such as the climate, the type of government, or the language spoken. This activity will help students learn about different cultures and countries.\n\n* **Activity 4: Make a globe out of a paper plate.**\n\nStudents will use a paper plate, markers, and glue to make a globe of the world. They can label the continents, oceans, and major countries. This activity will help students learn about the geography of the world.\n\n* **Activity 5: Create a travel brochure.**\n\nStudents will work in groups to create a travel brochure for a place they would like to visit. They can include information about the location, such as the climate, the type of government, and the language spoken. They can also include pictures and maps. This activity will help students learn about different cultures and countries.\n\nI hope these activity ideas are helpful!. Got: Expecting value: line 1 column 1 (char 0)",
     "output_type": "error",
     "traceback": [
      "\u001b[0;31m---------------------------------------------------------------------------\u001b[0m",
      "\u001b[0;31mJSONDecodeError\u001b[0m                           Traceback (most recent call last)",
      "File \u001b[0;32m~/Documents/data_science/public_projects/hf/env/lib/python3.9/site-packages/langchain/output_parsers/pydantic.py:28\u001b[0m, in \u001b[0;36mPydanticOutputParser.parse\u001b[0;34m(self, text)\u001b[0m\n\u001b[1;32m     27\u001b[0m     json_str \u001b[38;5;241m=\u001b[39m match\u001b[38;5;241m.\u001b[39mgroup()\n\u001b[0;32m---> 28\u001b[0m json_object \u001b[38;5;241m=\u001b[39m \u001b[43mjson\u001b[49m\u001b[38;5;241;43m.\u001b[39;49m\u001b[43mloads\u001b[49m\u001b[43m(\u001b[49m\u001b[43mjson_str\u001b[49m\u001b[43m,\u001b[49m\u001b[43m \u001b[49m\u001b[43mstrict\u001b[49m\u001b[38;5;241;43m=\u001b[39;49m\u001b[38;5;28;43;01mFalse\u001b[39;49;00m\u001b[43m)\u001b[49m\n\u001b[1;32m     29\u001b[0m \u001b[38;5;28;01mreturn\u001b[39;00m \u001b[38;5;28mself\u001b[39m\u001b[38;5;241m.\u001b[39mpydantic_object\u001b[38;5;241m.\u001b[39mparse_obj(json_object)\n",
      "File \u001b[0;32m~/.pyenv/versions/3.9.16/lib/python3.9/json/__init__.py:359\u001b[0m, in \u001b[0;36mloads\u001b[0;34m(s, cls, object_hook, parse_float, parse_int, parse_constant, object_pairs_hook, **kw)\u001b[0m\n\u001b[1;32m    358\u001b[0m     kw[\u001b[38;5;124m'\u001b[39m\u001b[38;5;124mparse_constant\u001b[39m\u001b[38;5;124m'\u001b[39m] \u001b[38;5;241m=\u001b[39m parse_constant\n\u001b[0;32m--> 359\u001b[0m \u001b[38;5;28;01mreturn\u001b[39;00m \u001b[38;5;28;43mcls\u001b[39;49m\u001b[43m(\u001b[49m\u001b[38;5;241;43m*\u001b[39;49m\u001b[38;5;241;43m*\u001b[39;49m\u001b[43mkw\u001b[49m\u001b[43m)\u001b[49m\u001b[38;5;241;43m.\u001b[39;49m\u001b[43mdecode\u001b[49m\u001b[43m(\u001b[49m\u001b[43ms\u001b[49m\u001b[43m)\u001b[49m\n",
      "File \u001b[0;32m~/.pyenv/versions/3.9.16/lib/python3.9/json/decoder.py:337\u001b[0m, in \u001b[0;36mJSONDecoder.decode\u001b[0;34m(self, s, _w)\u001b[0m\n\u001b[1;32m    333\u001b[0m \u001b[38;5;250m\u001b[39m\u001b[38;5;124;03m\"\"\"Return the Python representation of ``s`` (a ``str`` instance\u001b[39;00m\n\u001b[1;32m    334\u001b[0m \u001b[38;5;124;03mcontaining a JSON document).\u001b[39;00m\n\u001b[1;32m    335\u001b[0m \n\u001b[1;32m    336\u001b[0m \u001b[38;5;124;03m\"\"\"\u001b[39;00m\n\u001b[0;32m--> 337\u001b[0m obj, end \u001b[38;5;241m=\u001b[39m \u001b[38;5;28;43mself\u001b[39;49m\u001b[38;5;241;43m.\u001b[39;49m\u001b[43mraw_decode\u001b[49m\u001b[43m(\u001b[49m\u001b[43ms\u001b[49m\u001b[43m,\u001b[49m\u001b[43m \u001b[49m\u001b[43midx\u001b[49m\u001b[38;5;241;43m=\u001b[39;49m\u001b[43m_w\u001b[49m\u001b[43m(\u001b[49m\u001b[43ms\u001b[49m\u001b[43m,\u001b[49m\u001b[43m \u001b[49m\u001b[38;5;241;43m0\u001b[39;49m\u001b[43m)\u001b[49m\u001b[38;5;241;43m.\u001b[39;49m\u001b[43mend\u001b[49m\u001b[43m(\u001b[49m\u001b[43m)\u001b[49m\u001b[43m)\u001b[49m\n\u001b[1;32m    338\u001b[0m end \u001b[38;5;241m=\u001b[39m _w(s, end)\u001b[38;5;241m.\u001b[39mend()\n",
      "File \u001b[0;32m~/.pyenv/versions/3.9.16/lib/python3.9/json/decoder.py:355\u001b[0m, in \u001b[0;36mJSONDecoder.raw_decode\u001b[0;34m(self, s, idx)\u001b[0m\n\u001b[1;32m    354\u001b[0m \u001b[38;5;28;01mexcept\u001b[39;00m \u001b[38;5;167;01mStopIteration\u001b[39;00m \u001b[38;5;28;01mas\u001b[39;00m err:\n\u001b[0;32m--> 355\u001b[0m     \u001b[38;5;28;01mraise\u001b[39;00m JSONDecodeError(\u001b[38;5;124m\"\u001b[39m\u001b[38;5;124mExpecting value\u001b[39m\u001b[38;5;124m\"\u001b[39m, s, err\u001b[38;5;241m.\u001b[39mvalue) \u001b[38;5;28;01mfrom\u001b[39;00m \u001b[38;5;28;01mNone\u001b[39;00m\n\u001b[1;32m    356\u001b[0m \u001b[38;5;28;01mreturn\u001b[39;00m obj, end\n",
      "\u001b[0;31mJSONDecodeError\u001b[0m: Expecting value: line 1 column 1 (char 0)",
      "\nDuring handling of the above exception, another exception occurred:\n",
      "\u001b[0;31mOutputParserException\u001b[0m                     Traceback (most recent call last)",
      "Cell \u001b[0;32mIn[294], line 1\u001b[0m\n\u001b[0;32m----> 1\u001b[0m ideas_parsed \u001b[38;5;241m=\u001b[39m \u001b[43mactivity_ideas_parser\u001b[49m\u001b[38;5;241;43m.\u001b[39;49m\u001b[43mparse\u001b[49m\u001b[43m(\u001b[49m\u001b[43mresponse\u001b[49m\u001b[38;5;241;43m.\u001b[39;49m\u001b[43mcontent\u001b[49m\u001b[43m)\u001b[49m\n",
      "File \u001b[0;32m~/Documents/data_science/public_projects/hf/env/lib/python3.9/site-packages/langchain/output_parsers/pydantic.py:34\u001b[0m, in \u001b[0;36mPydanticOutputParser.parse\u001b[0;34m(self, text)\u001b[0m\n\u001b[1;32m     32\u001b[0m name \u001b[38;5;241m=\u001b[39m \u001b[38;5;28mself\u001b[39m\u001b[38;5;241m.\u001b[39mpydantic_object\u001b[38;5;241m.\u001b[39m\u001b[38;5;18m__name__\u001b[39m\n\u001b[1;32m     33\u001b[0m msg \u001b[38;5;241m=\u001b[39m \u001b[38;5;124mf\u001b[39m\u001b[38;5;124m\"\u001b[39m\u001b[38;5;124mFailed to parse \u001b[39m\u001b[38;5;132;01m{\u001b[39;00mname\u001b[38;5;132;01m}\u001b[39;00m\u001b[38;5;124m from completion \u001b[39m\u001b[38;5;132;01m{\u001b[39;00mtext\u001b[38;5;132;01m}\u001b[39;00m\u001b[38;5;124m. Got: \u001b[39m\u001b[38;5;132;01m{\u001b[39;00me\u001b[38;5;132;01m}\u001b[39;00m\u001b[38;5;124m\"\u001b[39m\n\u001b[0;32m---> 34\u001b[0m \u001b[38;5;28;01mraise\u001b[39;00m OutputParserException(msg, llm_output\u001b[38;5;241m=\u001b[39mtext)\n",
      "\u001b[0;31mOutputParserException\u001b[0m: Failed to parse ActivityIdeasOutput from completion Here are 5 activity ideas for the month of September, with a theme of \"On the Map, where we're from\":\n\n* **Activity 1: Create a map of your neighborhood.**\n\nStudents will use a variety of materials, such as paper, markers, and string, to create a map of their neighborhood. They can label the important landmarks, such as their house, school, and park. This activity will help students learn about the geography of their community and develop their spatial reasoning skills.\n\n* **Activity 2: Learn about latitude and longitude.**\n\nStudents will learn about latitude and longitude and how they are used to locate places on a map. They can use a globe or a map to practice finding different locations. This activity will help students develop their understanding of spatial relationships.\n\n* **Activity 3: Play a game of \"Where in the World?\"**\n\nStudents will work in teams to guess the location of different places around the world. The teacher will give clues about the location, such as the climate, the type of government, or the language spoken. This activity will help students learn about different cultures and countries.\n\n* **Activity 4: Make a globe out of a paper plate.**\n\nStudents will use a paper plate, markers, and glue to make a globe of the world. They can label the continents, oceans, and major countries. This activity will help students learn about the geography of the world.\n\n* **Activity 5: Create a travel brochure.**\n\nStudents will work in groups to create a travel brochure for a place they would like to visit. They can include information about the location, such as the climate, the type of government, and the language spoken. They can also include pictures and maps. This activity will help students learn about different cultures and countries.\n\nI hope these activity ideas are helpful!. Got: Expecting value: line 1 column 1 (char 0)"
     ]
    }
   ],
   "source": [
    "ideas_parsed = activity_ideas_parser.parse(response.content)"
   ]
  },
  {
   "cell_type": "code",
   "execution_count": 27,
   "id": "1c4abafe-3557-492e-b9c5-81dc50015329",
   "metadata": {},
   "outputs": [
    {
     "name": "stdout",
     "output_type": "stream",
     "text": [
      "{'ideas': [{'description': 'Students will create a visual representation of '\n",
      "                           'their journey to school using latitude and '\n",
      "                           'longitude coordinates.',\n",
      "            'name': 'Mapping Our Journey'},\n",
      "           {'description': 'Students will use a map to identify and locate '\n",
      "                           'different landmarks in their neighborhood, '\n",
      "                           'practicing their understanding of latitude and '\n",
      "                           'longitude.',\n",
      "            'name': 'Exploring Our Neighborhood'},\n",
      "           {'description': 'Students will go on a scavenger hunt around the '\n",
      "                           'school grounds, using latitude and longitude '\n",
      "                           'coordinates to find hidden treasures.',\n",
      "            'name': 'Latitude and Longitude Scavenger Hunt'},\n",
      "           {'description': 'Students will create a cityscape using place value '\n",
      "                           'blocks, representing buildings with different '\n",
      "                           'place values to reinforce their understanding of '\n",
      "                           'place value concepts.',\n",
      "            'name': 'Place Value City'},\n",
      "           {'description': 'Students will solve math problems related to maps '\n",
      "                           'and geography, such as calculating distances '\n",
      "                           'between cities or finding the scale of a map.',\n",
      "            'name': 'Map Math Challenge'}]}\n"
     ]
    }
   ],
   "source": [
    "pp.pprint(ideas_parsed.dict())"
   ]
  },
  {
   "cell_type": "code",
   "execution_count": 28,
   "id": "e7cc668f-134c-4f6f-93ff-38515e09cb93",
   "metadata": {},
   "outputs": [],
   "source": [
    "idea = ideas_parsed.ideas[0]"
   ]
  },
  {
   "cell_type": "code",
   "execution_count": 29,
   "id": "5f408fe2-56b7-4c17-8a54-a314a3433e33",
   "metadata": {},
   "outputs": [],
   "source": [
    "idea_name = idea.name\n",
    "idea_description = idea.description"
   ]
  },
  {
   "cell_type": "code",
   "execution_count": 30,
   "id": "c2e1a71e-7ba6-468a-b2f5-b363d957a7db",
   "metadata": {},
   "outputs": [
    {
     "name": "stdout",
     "output_type": "stream",
     "text": [
      "Mapping Our Journey: Students will create a visual representation of their journey to school using latitude and longitude coordinates.\n"
     ]
    }
   ],
   "source": [
    "print(f\"{idea_name}: {idea_description}\")"
   ]
  },
  {
   "cell_type": "code",
   "execution_count": 31,
   "id": "ab62f60d-e220-4b47-86ae-6e258185fca2",
   "metadata": {},
   "outputs": [],
   "source": [
    "lesson_plan_prompt_value = lesson_plan_chat_prompt_template.format_prompt(\n",
    "    activity_name=idea_name,\n",
    "    activity_description=idea_description,\n",
    "    subject=subject\n",
    ")"
   ]
  },
  {
   "cell_type": "code",
   "execution_count": 32,
   "id": "a03e9d8d-f07e-4f0e-ba49-1677cdcf76f5",
   "metadata": {},
   "outputs": [],
   "source": [
    "lp_messages = lesson_plan_prompt_value.to_messages()"
   ]
  },
  {
   "cell_type": "code",
   "execution_count": 33,
   "id": "ce4b74df-5f9a-49ef-a89c-e3043cdcf7e3",
   "metadata": {},
   "outputs": [
    {
     "data": {
      "text/plain": [
       "[SystemMessage(content='\\n    You are a curriculum development expert and I am a teacher of second graders at a micro-school, with seven students of varying abilities.\\n    - The microschool stresses the importance of outdoor education and student-led development, but it also wants to ensure high academic standards.\\n    - Try to work in phonics work and literacy development into the language art activities.\\n    - Try to work in arithmetic and numeracy development into the math activities.\\n    - Keep in mind the grade level and number of the students when generating your response.\\n    ', additional_kwargs={}),\n",
       " SystemMessage(content='\\n    I want you to generate a detailed lesson plan. I will give you a name and a short description of the lesson, as well as the academic subject the lesson plan should relate to.\\n    You will provide:\\n     - a time estimate\\n     - a list of materials\\n     - a step-by-step procedure for executing the lesson.\\n     - additional notes\\n     - differentiation strategies for evaluating students and providing additional challenge or assistance, and modifications for neurodivergent students\\n     \\n     Additional guidelines for the lesson plan:\\n      - Ensure that the lesson uses and develops skills relevant to the academic subject.\\n      - Try to make the best estimate of the total amount of time the activity will take. Be generous because these are young kids and they take a while!\\n      - The \\'additional notes\\' specifies the actual content mentioned in the \\'procedure\\' (e.g., interview questions, puzzle clues, specific writing prompts, etc.), so lesson plan provides everything needed to execute the lesson.\\n    \\n    The output should be formatted as a JSON instance that conforms to the JSON schema below.\\n\\nAs an example, for the schema {\"properties\": {\"foo\": {\"title\": \"Foo\", \"description\": \"a list of strings\", \"type\": \"array\", \"items\": {\"type\": \"string\"}}}, \"required\": [\"foo\"]}\\nthe object {\"foo\": [\"bar\", \"baz\"]} is a well-formatted instance of the schema. The object {\"properties\": {\"foo\": [\"bar\", \"baz\"]}} is not well-formatted.\\n\\nHere is the output schema:\\n```\\n{\"properties\": {\"time_estimate\": {\"title\": \"Time Estimate\", \"type\": \"string\"}, \"list_of_materials\": {\"title\": \"List Of Materials\", \"type\": \"array\", \"items\": {\"type\": \"string\"}}, \"procedure\": {\"title\": \"Procedure\", \"type\": \"array\", \"items\": {\"type\": \"string\"}}, \"additional_notes\": {\"title\": \"Additional Notes\", \"type\": \"array\", \"items\": {\"type\": \"string\"}}, \"differentiation_strategies\": {\"title\": \"Differentiation Strategies\", \"type\": \"array\", \"items\": {\"type\": \"string\"}}}, \"required\": [\"time_estimate\", \"list_of_materials\", \"procedure\", \"additional_notes\", \"differentiation_strategies\"]}\\n```\\n    ', additional_kwargs={}),\n",
       " HumanMessage(content='\\n    I want you to generate a *detailed* lesson plan for the academic subject of math.\\n    The name of the lesson is Mapping Our Journey, and the short description is: Students will create a visual representation of their journey to school using latitude and longitude coordinates..\\n    ', additional_kwargs={}, example=False)]"
      ]
     },
     "execution_count": 33,
     "metadata": {},
     "output_type": "execute_result"
    }
   ],
   "source": [
    "lp_messages"
   ]
  },
  {
   "cell_type": "code",
   "execution_count": 34,
   "id": "8227753a-d3d8-410f-84b3-590109994b75",
   "metadata": {},
   "outputs": [],
   "source": [
    "lp_response = chat_model(lp_messages)"
   ]
  },
  {
   "cell_type": "code",
   "execution_count": 35,
   "id": "6e43433f-1964-4ff5-b8e8-7aa8cc692fbd",
   "metadata": {},
   "outputs": [],
   "source": [
    "lp_parsed = lesson_plan_parser.parse(lp_response.content)"
   ]
  },
  {
   "cell_type": "code",
   "execution_count": 36,
   "id": "689d1ba2-fec0-48c3-8637-d127781f5275",
   "metadata": {},
   "outputs": [],
   "source": [
    "lp_dict = lp_parsed.dict()"
   ]
  },
  {
   "cell_type": "code",
   "execution_count": 37,
   "id": "832dc9a8-0de4-47fc-b2e3-f03c91d29585",
   "metadata": {},
   "outputs": [],
   "source": [
    "full_lp = {k: v for k, v in idea.dict().items()}\n",
    "full_lp.update(lp_dict)"
   ]
  },
  {
   "cell_type": "code",
   "execution_count": 38,
   "id": "72e83436-c333-4aef-8b87-15f73ea9d02b",
   "metadata": {
    "scrolled": true
   },
   "outputs": [
    {
     "data": {
      "text/plain": [
       "[\"Encourage creativity and artistic expression in the students' maps.\",\n",
       " 'Remind the students to use rulers to draw straight lines between the locations.',\n",
       " 'Provide support and guidance to students who may struggle with reading and interpreting the latitude and longitude coordinates.',\n",
       " 'For neurodivergent students, consider providing visual aids or manipulatives to help them understand the concept of latitude and longitude.']"
      ]
     },
     "execution_count": 38,
     "metadata": {},
     "output_type": "execute_result"
    }
   ],
   "source": [
    "full_lp['additional_notes']"
   ]
  },
  {
   "cell_type": "code",
   "execution_count": 39,
   "id": "03a923b3-cd8b-4411-9810-157965cb5809",
   "metadata": {},
   "outputs": [
    {
     "data": {
      "text/plain": [
       "['For advanced students, challenge them to include additional significant locations on their maps and write more detailed descriptions.',\n",
       " 'For students who need extra support, provide pre-marked latitude and longitude coordinates for them to use when mapping their journeys.',\n",
       " 'For neurodivergent students, offer alternative ways for them to represent their journey, such as using symbols or pictures instead of latitude and longitude coordinates.']"
      ]
     },
     "execution_count": 39,
     "metadata": {},
     "output_type": "execute_result"
    }
   ],
   "source": [
    "full_lp['differentiation_strategies']"
   ]
  },
  {
   "cell_type": "markdown",
   "id": "03141867-d447-46a7-a823-4ed8765284ac",
   "metadata": {},
   "source": [
    "## Define Markdown Helper Functions"
   ]
  },
  {
   "cell_type": "code",
   "execution_count": 40,
   "id": "a6a8d2f6-0ed4-48fe-bfc9-963b4c15d81c",
   "metadata": {},
   "outputs": [],
   "source": [
    "def make_ordered_list_markdown(lst):\n",
    "    markdown_list = [f\"{idx}. {val}\" for idx, val in enumerate(lst, start=1)]\n",
    "    return '\\n'.join(markdown_list)"
   ]
  },
  {
   "cell_type": "code",
   "execution_count": 41,
   "id": "998ee8e0-6b5b-4e3e-9c6d-c37a1481b1f3",
   "metadata": {},
   "outputs": [],
   "source": [
    "def make_list_markdown(lst):\n",
    "    return \"- \" + \"\\n- \".join(lst)"
   ]
  },
  {
   "cell_type": "code",
   "execution_count": 42,
   "id": "ee7c2632-1664-4e3a-b9d0-32479bbd7301",
   "metadata": {},
   "outputs": [],
   "source": [
    "def convert_lesson_plan_to_markdown(lesson_plan_dict):\n",
    "    res = []\n",
    "    res.append(f\"## {lesson_plan_dict['name']}\")\n",
    "    res.append(lesson_plan_dict['description'])\n",
    "    res.append(f\"\\n### Time estimate: {lesson_plan_dict['time_estimate']}\")\n",
    "    res.append(f\"\\n### Materials\")\n",
    "    res.append(make_list_markdown(lesson_plan_dict[\"list_of_materials\"]))\n",
    "    res.append(f\"\\n### Procedure\")\n",
    "    res.append(make_ordered_list_markdown(lesson_plan_dict['procedure']))\n",
    "    res.append(f\"\\n### Additional notes\")\n",
    "    res.append(make_list_markdown(lesson_plan_dict['additional_notes']))\n",
    "    res.append(f\"\\n### Differentiation strategies\")\n",
    "    res.append(make_list_markdown(lesson_plan_dict['differentiation_strategies']))\n",
    "    \n",
    "    return \"\\n\".join(res)\n",
    "    "
   ]
  },
  {
   "cell_type": "code",
   "execution_count": 43,
   "id": "ca1e82b9-91b7-49a6-8cb6-4d4ec08210c9",
   "metadata": {
    "scrolled": true
   },
   "outputs": [],
   "source": [
    "md = convert_lesson_plan_to_markdown(full_lp)"
   ]
  },
  {
   "cell_type": "code",
   "execution_count": 44,
   "id": "b1a21bf9-ad74-4821-9b7a-26acb1cd44ab",
   "metadata": {},
   "outputs": [
    {
     "data": {
      "text/markdown": [
       "## Mapping Our Journey\n",
       "Students will create a visual representation of their journey to school using latitude and longitude coordinates.\n",
       "\n",
       "### Time estimate: 60 minutes\n",
       "\n",
       "### Materials\n",
       "- Large world map\n",
       "- Markers or colored pencils\n",
       "- Rulers\n",
       "- Latitude and longitude coordinates handout\n",
       "- Index cards or sticky notes\n",
       "\n",
       "### Procedure\n",
       "1. Introduce the concept of latitude and longitude to the students. Explain that latitude and longitude are coordinates used to locate places on a map.\n",
       "2. Show the students a large world map and point out the lines of latitude (horizontal) and longitude (vertical). Explain that latitude measures distance north or south of the equator, while longitude measures distance east or west of the prime meridian.\n",
       "3. Distribute the latitude and longitude coordinates handout to each student. Review the handout together, explaining how to read and interpret latitude and longitude coordinates.\n",
       "4. Have the students think about their journey to school. Ask them to identify at least three significant locations along their route.\n",
       "5. Instruct the students to use the latitude and longitude coordinates to locate each of the significant locations on the world map. They can use markers or colored pencils to mark the locations.\n",
       "6. Once the students have marked their significant locations, have them use rulers to draw lines connecting the locations, creating a visual representation of their journey to school.\n",
       "7. After the students have finished mapping their journeys, have them write a short description of each significant location on index cards or sticky notes. They can attach the cards or notes to the corresponding locations on the map.\n",
       "8. Give the students an opportunity to share their maps and descriptions with the class. Encourage them to explain why each location is significant to their journey to school.\n",
       "9. Wrap up the lesson by discussing the importance of maps and coordinates in navigation and understanding the world around us.\n",
       "\n",
       "### Additional notes\n",
       "- Encourage creativity and artistic expression in the students' maps.\n",
       "- Remind the students to use rulers to draw straight lines between the locations.\n",
       "- Provide support and guidance to students who may struggle with reading and interpreting the latitude and longitude coordinates.\n",
       "- For neurodivergent students, consider providing visual aids or manipulatives to help them understand the concept of latitude and longitude.\n",
       "\n",
       "### Differentiation strategies\n",
       "- For advanced students, challenge them to include additional significant locations on their maps and write more detailed descriptions.\n",
       "- For students who need extra support, provide pre-marked latitude and longitude coordinates for them to use when mapping their journeys.\n",
       "- For neurodivergent students, offer alternative ways for them to represent their journey, such as using symbols or pictures instead of latitude and longitude coordinates."
      ],
      "text/plain": [
       "<IPython.core.display.Markdown object>"
      ]
     },
     "metadata": {},
     "output_type": "display_data"
    }
   ],
   "source": [
    "display(Markdown(md))"
   ]
  },
  {
   "cell_type": "markdown",
   "id": "915f045c-ff9c-4361-971d-e9e7fb1a4fa7",
   "metadata": {},
   "source": [
    "# Define Wrapper Functions"
   ]
  },
  {
   "cell_type": "code",
   "execution_count": 45,
   "id": "2e4dbec5-2624-48e5-98b5-7afb8b70eb95",
   "metadata": {},
   "outputs": [],
   "source": [
    "def prompt_wrapper(prompt_template, parser, model, max_retries=5, **kwargs):\n",
    "    prompt_value = prompt_template.format_prompt(**kwargs)\n",
    "    messages = prompt_value.to_messages()\n",
    "    for attempt in range(max_retries + 1):  #sometimes the parser fails inexplicably\n",
    "        try:\n",
    "            output = model(messages)\n",
    "            parsed_output = parser.parse(output.content)\n",
    "            break\n",
    "        except Exception as e:\n",
    "            if attempt < max_retries:\n",
    "                print(e)\n",
    "                print(f\"Attempt {attempt + 1} failed. Retrying...\")\n",
    "                time.sleep(2)  # Wait before retrying\n",
    "            else:\n",
    "                print(f\"API call failed after {max_retries} attempts. Skipping.\")\n",
    "    return parsed_output"
   ]
  },
  {
   "cell_type": "code",
   "execution_count": 46,
   "id": "8b745061-18b3-4db6-8bdf-3e3698368cb6",
   "metadata": {},
   "outputs": [],
   "source": [
    "chat_model = ChatOpenAI(model_name=\"gpt-3.5-turbo\", temperature=temperature, max_tokens=3000)"
   ]
  },
  {
   "cell_type": "code",
   "execution_count": 47,
   "id": "6ad745de-c80b-47e7-bc68-61068dce5117",
   "metadata": {},
   "outputs": [
    {
     "name": "stdout",
     "output_type": "stream",
     "text": [
      "{'ideas': [{'description': 'Students will create a visual representation of '\n",
      "                           'their journey to school using latitude and '\n",
      "                           'longitude coordinates.',\n",
      "            'name': 'Mapping Our Journey'},\n",
      "           {'description': 'Students will use latitude and longitude '\n",
      "                           'coordinates to find hidden treasures around the '\n",
      "                           'school campus.',\n",
      "            'name': 'Latitude and Longitude Scavenger Hunt'},\n",
      "           {'description': 'Students will create a city using place value '\n",
      "                           'blocks to represent the different buildings and '\n",
      "                           'landmarks.',\n",
      "            'name': 'Place Value City'},\n",
      "           {'description': 'Students will solve math puzzles related to maps '\n",
      "                           'and geography, incorporating place value concepts.',\n",
      "            'name': 'Map Math Puzzles'},\n",
      "           {'description': 'Students will play a game of bingo, where they '\n",
      "                           'have to identify and mark locations on a map using '\n",
      "                           'latitude and longitude coordinates.',\n",
      "            'name': 'Geography Bingo'}]}\n"
     ]
    }
   ],
   "source": [
    "# Generate activity ideas for each month-subject combo\n",
    "activity_ideas_parsed = prompt_wrapper(  \n",
    "                prompt_template=idea_chat_prompt_template, \n",
    "                parser=activity_ideas_parser,\n",
    "                model=chat_model,\n",
    "                num_ideas=num_plans,\n",
    "                month=month,\n",
    "                theme=theme,\n",
    "                subject=subject, \n",
    "                topic=topic\n",
    "            )\n",
    "\n",
    "# examine output\n",
    "pp.pprint(activity_ideas_parsed.dict())"
   ]
  },
  {
   "cell_type": "code",
   "execution_count": 48,
   "id": "779dd20e-f97c-4d8d-80a8-a05147a6f39c",
   "metadata": {},
   "outputs": [],
   "source": [
    "def wrapper(annual_plan_df, activity_ideas_model, lesson_plan_model, num_plans=5, months=None):\n",
    "    res = {}\n",
    "    if months is None:\n",
    "        months = annual_plan_df['month'].values\n",
    "    df = annual_plan_df.query('month.isin(@months)')\n",
    "    display(df)\n",
    "    for idx, row in df.head(3).iterrows(): # first iterate through the months in the table\n",
    "        month = row[\"month\"]\n",
    "        theme = row[\"theme_to_explore\"]\n",
    "        print(f\"# {month}\")\n",
    "        markdown_lst = []\n",
    "        markdown_lst.append(f\"# {month}\")\n",
    "        markdown_lst.append(f\"## Theme: {theme}\")\n",
    "        res[month] = dict()\n",
    "        subjects = df.columns[2:].values\n",
    "        for subject in subjects:  # for each month, iterate through the academic subjects\n",
    "            pretty_subject = subject.replace(\"_\", \" \").title()\n",
    "            markdown_lst.append(f\"\\n# {pretty_subject}\")\n",
    "            print(f\"## {pretty_subject}\")\n",
    "            topic = row[subject]\n",
    "            activity_ideas_parsed = prompt_wrapper(  # Generate activity ideas for each month-subject combo\n",
    "                prompt_template=idea_chat_prompt_template, \n",
    "                parser=activity_ideas_parser,\n",
    "                model=activity_ideas_model,\n",
    "                num_ideas=num_plans,\n",
    "                month=month,\n",
    "                theme=theme,\n",
    "                subject=subject, \n",
    "                topic=topic\n",
    "            )\n",
    "            print(\"  - Generated ideas\")\n",
    "            res[month][subject] = activity_ideas_parsed.dict()\n",
    "            \n",
    "            for idea in res[month][subject][\"ideas\"]: #  Generate lesson plans for each idea\n",
    "                activity_name = idea[\"name\"]\n",
    "                activity_description = idea[\"description\"]\n",
    "                lesson_plan = prompt_wrapper(\n",
    "                    prompt_template=lesson_plan_chat_prompt_template, \n",
    "                    parser=lesson_plan_parser,\n",
    "                    model=lesson_plan_model,\n",
    "                    activity_name=activity_name, \n",
    "                    activity_description=activity_description, \n",
    "                    subject=subject\n",
    "                )\n",
    "                idea.update(lesson_plan)\n",
    "                lesson_plan_markdown = convert_lesson_plan_to_markdown(idea)\n",
    "                markdown_lst.append(f\"\\n{lesson_plan_markdown}\")\n",
    "                markdown_string = \"\\n\".join(markdown_lst)\n",
    "            print(\"  - Generated lesson plans\")\n",
    "                \n",
    "        # Write the output of each month to a Markdown file\n",
    "        output_file_path = f'../output/{idx + 1} {month} Lesson Plans.md'\n",
    "        with open(output_file_path, \"w\") as output_file:\n",
    "            output_file.write(markdown_string)\n",
    "\n",
    "        print(f\"Markdown output written to '{output_file_path}'.\")\n",
    "        print(\"*\" * 50, \"\\n\")\n",
    "        # break\n",
    "    \n",
    "    # Write full results to a JSON file\n",
    "    full_result_output_path = \"../output/lesson_plan.json\"\n",
    "    with open(full_result_output_path , \"w\") as json_file:\n",
    "        json.dump(res, json_file)\n",
    "    print(f\"JSON output written to '{full_result_output_path }'.\")\n",
    "    return res"
   ]
  },
  {
   "cell_type": "markdown",
   "id": "c096e392-98cd-4b6f-a666-43a0e5e64d1d",
   "metadata": {},
   "source": [
    "# Run"
   ]
  },
  {
   "cell_type": "code",
   "execution_count": 49,
   "id": "f035cc07-b571-4dc2-b750-a6b8f3028fba",
   "metadata": {},
   "outputs": [
    {
     "data": {
      "text/html": [
       "<div>\n",
       "<style scoped>\n",
       "    .dataframe tbody tr th:only-of-type {\n",
       "        vertical-align: middle;\n",
       "    }\n",
       "\n",
       "    .dataframe tbody tr th {\n",
       "        vertical-align: top;\n",
       "    }\n",
       "\n",
       "    .dataframe thead th {\n",
       "        text-align: right;\n",
       "    }\n",
       "</style>\n",
       "<table border=\"1\" class=\"dataframe\">\n",
       "  <thead>\n",
       "    <tr style=\"text-align: right;\">\n",
       "      <th></th>\n",
       "      <th>month</th>\n",
       "      <th>theme_to_explore</th>\n",
       "      <th>language_arts</th>\n",
       "      <th>math</th>\n",
       "      <th>social_studies</th>\n",
       "      <th>science</th>\n",
       "    </tr>\n",
       "  </thead>\n",
       "  <tbody>\n",
       "    <tr>\n",
       "      <th>0</th>\n",
       "      <td>August</td>\n",
       "      <td>Getting to Know One Another; Class Community</td>\n",
       "      <td>Personal narratives, reading comprehension</td>\n",
       "      <td>Counting and sorting</td>\n",
       "      <td>Our classroom community; citizenship and gover...</td>\n",
       "      <td>Exploring the school environment and local eco...</td>\n",
       "    </tr>\n",
       "    <tr>\n",
       "      <th>1</th>\n",
       "      <td>September</td>\n",
       "      <td>On the Map, where we’re from</td>\n",
       "      <td>Descriptive writing (My Place); vocabulary dev...</td>\n",
       "      <td>latitutde and longitude; place value</td>\n",
       "      <td>My hometown; local history; geography</td>\n",
       "      <td>Water cycle, rivers; Geology, caves, aquifers</td>\n",
       "    </tr>\n",
       "    <tr>\n",
       "      <th>2</th>\n",
       "      <td>October</td>\n",
       "      <td>Fall; Halloween; Dia de los Muertos</td>\n",
       "      <td>Creative writing; grammar and punctuation</td>\n",
       "      <td>units of measurement (length, weight, etc.); E...</td>\n",
       "      <td>Fall celebrations around the world; elections</td>\n",
       "      <td>Food chains and food webs; Local flora and fauna</td>\n",
       "    </tr>\n",
       "    <tr>\n",
       "      <th>3</th>\n",
       "      <td>November</td>\n",
       "      <td>Gratitude; Native Americans</td>\n",
       "      <td>Listening and speaking skills; Thankful Though...</td>\n",
       "      <td>Addition and subtraction</td>\n",
       "      <td>Native American history; Settlement of US and ...</td>\n",
       "      <td>Seasonal Changes and Plants; Winter Animal Ada...</td>\n",
       "    </tr>\n",
       "    <tr>\n",
       "      <th>4</th>\n",
       "      <td>December</td>\n",
       "      <td>Winter Solstice and winter holidays</td>\n",
       "      <td>book exchange; holiday cards; holiday play/skit</td>\n",
       "      <td>Geometry (2-D shapes); symmetry (snowflake)</td>\n",
       "      <td>Winter holidays worldwide</td>\n",
       "      <td>Physical science (matter, energy, force, motion)</td>\n",
       "    </tr>\n",
       "  </tbody>\n",
       "</table>\n",
       "</div>"
      ],
      "text/plain": [
       "       month                              theme_to_explore  \\\n",
       "0     August  Getting to Know One Another; Class Community   \n",
       "1  September                  On the Map, where we’re from   \n",
       "2    October           Fall; Halloween; Dia de los Muertos   \n",
       "3   November                   Gratitude; Native Americans   \n",
       "4   December           Winter Solstice and winter holidays   \n",
       "\n",
       "                                       language_arts  \\\n",
       "0         Personal narratives, reading comprehension   \n",
       "1  Descriptive writing (My Place); vocabulary dev...   \n",
       "2          Creative writing; grammar and punctuation   \n",
       "3  Listening and speaking skills; Thankful Though...   \n",
       "4    book exchange; holiday cards; holiday play/skit   \n",
       "\n",
       "                                                math  \\\n",
       "0                               Counting and sorting   \n",
       "1               latitutde and longitude; place value   \n",
       "2  units of measurement (length, weight, etc.); E...   \n",
       "3                           Addition and subtraction   \n",
       "4        Geometry (2-D shapes); symmetry (snowflake)   \n",
       "\n",
       "                                      social_studies  \\\n",
       "0  Our classroom community; citizenship and gover...   \n",
       "1              My hometown; local history; geography   \n",
       "2     Fall celebrations around the world; elections    \n",
       "3  Native American history; Settlement of US and ...   \n",
       "4                          Winter holidays worldwide   \n",
       "\n",
       "                                             science  \n",
       "0  Exploring the school environment and local eco...  \n",
       "1      Water cycle, rivers; Geology, caves, aquifers  \n",
       "2   Food chains and food webs; Local flora and fauna  \n",
       "3  Seasonal Changes and Plants; Winter Animal Ada...  \n",
       "4   Physical science (matter, energy, force, motion)  "
      ]
     },
     "execution_count": 49,
     "metadata": {},
     "output_type": "execute_result"
    }
   ],
   "source": [
    "annual_plan_df.head(6)"
   ]
  },
  {
   "cell_type": "code",
   "execution_count": 50,
   "id": "dad23e3f-a553-4be4-8164-dc9da5349c34",
   "metadata": {},
   "outputs": [],
   "source": [
    "activity_ideas_model = ChatOpenAI(model_name=model_name, temperature=.8, max_tokens=500)"
   ]
  },
  {
   "cell_type": "code",
   "execution_count": 51,
   "id": "46e25840-99c8-4005-8e8a-2cd84a4c32e8",
   "metadata": {},
   "outputs": [],
   "source": [
    "lesson_plan_model = ChatOpenAI(model_name=model_name, temperature=.2, max_tokens=3000)"
   ]
  },
  {
   "cell_type": "code",
   "execution_count": null,
   "id": "9d47adbe-57ce-45fa-b32c-396c84e17f77",
   "metadata": {},
   "outputs": [
    {
     "data": {
      "text/html": [
       "<div>\n",
       "<style scoped>\n",
       "    .dataframe tbody tr th:only-of-type {\n",
       "        vertical-align: middle;\n",
       "    }\n",
       "\n",
       "    .dataframe tbody tr th {\n",
       "        vertical-align: top;\n",
       "    }\n",
       "\n",
       "    .dataframe thead th {\n",
       "        text-align: right;\n",
       "    }\n",
       "</style>\n",
       "<table border=\"1\" class=\"dataframe\">\n",
       "  <thead>\n",
       "    <tr style=\"text-align: right;\">\n",
       "      <th></th>\n",
       "      <th>month</th>\n",
       "      <th>theme_to_explore</th>\n",
       "      <th>language_arts</th>\n",
       "      <th>math</th>\n",
       "      <th>social_studies</th>\n",
       "      <th>science</th>\n",
       "    </tr>\n",
       "  </thead>\n",
       "  <tbody>\n",
       "    <tr>\n",
       "      <th>4</th>\n",
       "      <td>December</td>\n",
       "      <td>Winter Solstice and winter holidays</td>\n",
       "      <td>book exchange; holiday cards; holiday play/skit</td>\n",
       "      <td>Geometry (2-D shapes); symmetry (snowflake)</td>\n",
       "      <td>Winter holidays worldwide</td>\n",
       "      <td>Physical science (matter, energy, force, motion)</td>\n",
       "    </tr>\n",
       "  </tbody>\n",
       "</table>\n",
       "</div>"
      ],
      "text/plain": [
       "      month                     theme_to_explore  \\\n",
       "4  December  Winter Solstice and winter holidays   \n",
       "\n",
       "                                     language_arts  \\\n",
       "4  book exchange; holiday cards; holiday play/skit   \n",
       "\n",
       "                                          math             social_studies  \\\n",
       "4  Geometry (2-D shapes); symmetry (snowflake)  Winter holidays worldwide   \n",
       "\n",
       "                                            science  \n",
       "4  Physical science (matter, energy, force, motion)  "
      ]
     },
     "metadata": {},
     "output_type": "display_data"
    },
    {
     "name": "stdout",
     "output_type": "stream",
     "text": [
      "# December\n",
      "## Language Arts\n",
      "  - Generated ideas\n"
     ]
    }
   ],
   "source": [
    "lesson_plans = wrapper(annual_plan_df, activity_ideas_model, lesson_plan_model, months=[\"December\"])"
   ]
  },
  {
   "cell_type": "markdown",
   "id": "14c4c95d-8f44-48e8-98ab-f02272102bfd",
   "metadata": {},
   "source": [
    "# View Results"
   ]
  },
  {
   "cell_type": "code",
   "execution_count": null,
   "id": "6c3a9449-3cb8-4cfb-a05d-c29e84d695d6",
   "metadata": {},
   "outputs": [],
   "source": [
    "month = months[0]"
   ]
  },
  {
   "cell_type": "code",
   "execution_count": null,
   "id": "633c52e5-dd2d-43ab-9d0f-c2ab789fd70f",
   "metadata": {},
   "outputs": [],
   "source": [
    "for idea in lesson_plans[month]['language_arts']['ideas']:\n",
    "    display(Markdown(f\"**{idea['name']}**: {idea['description']}\"))"
   ]
  },
  {
   "cell_type": "code",
   "execution_count": null,
   "id": "d31036c9-fdc2-4aa1-ad22-f8dd0af85595",
   "metadata": {},
   "outputs": [],
   "source": [
    "display(JSON(lesson_plans))"
   ]
  }
 ],
 "metadata": {
  "kernelspec": {
   "display_name": "Python 3 (ipykernel)",
   "language": "python",
   "name": "python3"
  },
  "language_info": {
   "codemirror_mode": {
    "name": "ipython",
    "version": 3
   },
   "file_extension": ".py",
   "mimetype": "text/x-python",
   "name": "python",
   "nbconvert_exporter": "python",
   "pygments_lexer": "ipython3",
   "version": "3.9.16"
  }
 },
 "nbformat": 4,
 "nbformat_minor": 5
}
