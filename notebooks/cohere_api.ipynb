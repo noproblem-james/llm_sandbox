{
 "cells": [
  {
   "cell_type": "code",
   "execution_count": 1,
   "id": "530b7db2-cee9-434c-883d-ec0d339c4305",
   "metadata": {},
   "outputs": [
    {
     "name": "stdout",
     "output_type": "stream",
     "text": [
      "Python 3.9.16\n"
     ]
    }
   ],
   "source": [
    "! python -V"
   ]
  },
  {
   "cell_type": "code",
   "execution_count": 2,
   "id": "ae804531-5dc7-4fe6-a7de-0afc750eb86f",
   "metadata": {},
   "outputs": [
    {
     "data": {
      "text/plain": [
       "True"
      ]
     },
     "execution_count": 2,
     "metadata": {},
     "output_type": "execute_result"
    }
   ],
   "source": [
    "import os\n",
    "from dotenv import load_dotenv\n",
    "load_dotenv(override=True)"
   ]
  },
  {
   "cell_type": "code",
   "execution_count": 3,
   "id": "cc7edddb-19b2-43e2-9723-f1bc21ae0192",
   "metadata": {},
   "outputs": [],
   "source": [
    "COHERE_API_KEY = os.getenv(\"COHERE_API_KEY\")"
   ]
  },
  {
   "cell_type": "code",
   "execution_count": 4,
   "id": "57752ade-ce0d-4912-886f-9fa1b8802fc1",
   "metadata": {},
   "outputs": [],
   "source": [
    "MAX_TOKENS = 1200\n",
    "TEMP = 0.1"
   ]
  },
  {
   "cell_type": "code",
   "execution_count": 5,
   "id": "87a948d4-ae41-4bc2-8a92-edaa3d5e9042",
   "metadata": {},
   "outputs": [],
   "source": [
    "MODEL = None"
   ]
  },
  {
   "cell_type": "code",
   "execution_count": 6,
   "id": "f6661a9c-9dc0-406b-840c-7ce319b951b0",
   "metadata": {},
   "outputs": [],
   "source": [
    "prompt = \"Is an XGBoost Classifier a good model to use if you are interested in probability outputs? Reason through it step by step.'\""
   ]
  },
  {
   "cell_type": "markdown",
   "id": "471d7de0-4aa5-4fcf-857c-fe3222b22526",
   "metadata": {},
   "source": [
    "## Interacting with Cohere via API and Python `requests` library"
   ]
  },
  {
   "cell_type": "code",
   "execution_count": 7,
   "id": "9c1758ee-d198-4f70-bce5-b6c68a4763bf",
   "metadata": {},
   "outputs": [],
   "source": [
    "import requests"
   ]
  },
  {
   "cell_type": "code",
   "execution_count": 8,
   "id": "aa2c32f3-2839-4cc4-8713-880c4cf475a9",
   "metadata": {},
   "outputs": [],
   "source": [
    "API_ENDPOINT_BASE = \"https://api.cohere.ai/v1/generate\""
   ]
  },
  {
   "cell_type": "code",
   "execution_count": 9,
   "id": "85be6282-9c0a-44b6-9b4c-d0ca1e8f50ff",
   "metadata": {},
   "outputs": [],
   "source": [
    "def gen_chat_completion(prompt, api_endpoint, api_key, model, temperature, max_tokens):\n",
    "\n",
    "    headers = {\n",
    "        \"accept\": \"application/json\",\n",
    "        \"authorization\": f\"Bearer {api_key}\",\n",
    "        \"content-type\": \"application/json\",\n",
    "    }\n",
    "    \n",
    "    data = {\n",
    "        \"max_tokens\": max_tokens,\n",
    "        \"truncate\": \"END\",\n",
    "        \"return_likelihoods\": \"NONE\",\n",
    "        \"prompt\": f\"{prompt}\"\n",
    "    }\n",
    "    \n",
    "    # Make the POST request\n",
    "    response = requests.post(url=api_endpoint, json=data, headers=headers)\n",
    "    \n",
    "    # Print the response\n",
    "    if response.status_code == 200:\n",
    "        return response.json()['generations'][0]['text']\n",
    "    else:\n",
    "        raise Exception(f\"Error: {response.status_code}: {response.text}\")"
   ]
  },
  {
   "cell_type": "code",
   "execution_count": 10,
   "id": "12f8c45a-f026-4a1b-9f7d-76c02df82a6b",
   "metadata": {},
   "outputs": [],
   "source": [
    "response = gen_chat_completion(\n",
    "    prompt=prompt, \n",
    "    api_endpoint=API_ENDPOINT_BASE, \n",
    "    api_key=COHERE_API_KEY, \n",
    "    model=None, \n",
    "    temperature=TEMP, \n",
    "    max_tokens=MAX_TOKENS\n",
    ")"
   ]
  },
  {
   "cell_type": "code",
   "execution_count": 11,
   "id": "f8608975-fcca-4335-aa64-e6b69281b01f",
   "metadata": {},
   "outputs": [
    {
     "name": "stdout",
     "output_type": "stream",
     "text": [
      " Yes, XGBoost is a powerful machine learning algorithm that can be used to predict probability outcomes. Here are some reasons why it can be a good choice for this purpose:\n",
      "\n",
      "1. Feature importance: XGBoost assigns feature weights based on their importance in the model, which can help you understand which features are most important for predicting probability outcomes.\n",
      "\n",
      "2. Robustness: XGBoost is known for its ability to handle high-dimensional data, missing values, and outliers, which can make it a good choice for probability prediction tasks that involve complex data sets.\n",
      "\n",
      "3. Interpretability: XGBoost models can be used to generate regression trees that can help you understand the underlying patterns in the data and how they relate to probability outcomes.\n",
      "\n",
      "4. Scalability: XGBoost is a scalable algorithm that can handle large data sets and multiple cores, which can make it a good choice for probability prediction tasks that involve large data sets and high-performance computing.\n",
      "\n",
      "Overall, XGBoost can be a good choice for probability prediction tasks, particularly when dealing with complex data sets and high-performance computing. However, it's important to note that no single model is perfect for all tasks, and the choice of model depends on the specific needs of the project.\n"
     ]
    }
   ],
   "source": [
    "print(response)"
   ]
  },
  {
   "cell_type": "markdown",
   "id": "ebbf2cee-8c6f-483e-bee0-2387b805cc38",
   "metadata": {},
   "source": [
    "## Interacting with cohere via `cohere` Python SDK"
   ]
  },
  {
   "cell_type": "code",
   "execution_count": 12,
   "id": "be1f4de1-2c8a-413f-ae17-39644755d791",
   "metadata": {},
   "outputs": [],
   "source": [
    "import cohere"
   ]
  },
  {
   "cell_type": "code",
   "execution_count": 13,
   "id": "1a4ff2c6-1a07-42a6-add0-e63c0ea2e019",
   "metadata": {},
   "outputs": [],
   "source": [
    "co = cohere.Client(COHERE_API_KEY)"
   ]
  },
  {
   "cell_type": "code",
   "execution_count": 14,
   "id": "50a81723-8373-43be-919d-46d2d0340516",
   "metadata": {},
   "outputs": [],
   "source": [
    "response = co.generate(prompt=prompt, max_tokens=MAX_TOKENS)"
   ]
  },
  {
   "cell_type": "code",
   "execution_count": 19,
   "id": "62740188-81a6-40ff-9bea-2fa6c460934a",
   "metadata": {},
   "outputs": [
    {
     "data": {
      "text/plain": [
       "cohere.responses.generation.Generations"
      ]
     },
     "execution_count": 19,
     "metadata": {},
     "output_type": "execute_result"
    }
   ],
   "source": [
    "type(response)"
   ]
  },
  {
   "cell_type": "code",
   "execution_count": 28,
   "id": "7df926ae-8b11-4411-999c-6a906d620470",
   "metadata": {},
   "outputs": [
    {
     "name": "stdout",
     "output_type": "stream",
     "text": [
      " Yes, XGBoost is a good model to use if you are interested in probability outputs. XGBoost is a machine learning algorithm that uses a boosted decision tree approach to classify new observations. It has been shown to be highly accurate and robust, and is widely used in many fields.\n",
      "\n",
      "The boosted decision tree approach used by XGBoost involves building an ensemble of weak learners, which are decision trees that are trained on different subsets of the training data. These weak learners are then combined to form a strong learner that is used to classify new observations.\n",
      "\n",
      "The probability output of an XGBoost classifier is a measure of the likelihood that a new observation will be classified as a particular class. It is calculated by averaging the probabilities of the individual weak learners in the ensemble.\n",
      "\n",
      "The probability output of an XGBoost classifier can be used to inform decision-making in a variety of ways. For example, it can be used to assess the risk associated with a particular classification, or to evaluate the performance of the model.\n",
      "\n",
      "In conclusion, an XGBoost classifier is a good model to use if you are interested in probability outputs. It is highly accurate and robust, and its probability output can be used to inform decision-making in a variety of ways.\n"
     ]
    }
   ],
   "source": [
    "print(response.generations[0].text)"
   ]
  },
  {
   "cell_type": "markdown",
   "id": "8e8e9a25-c975-480e-88bc-f18aaf47da4e",
   "metadata": {},
   "source": [
    "## Interacting with cohere via `langchain.llms`"
   ]
  },
  {
   "cell_type": "code",
   "execution_count": 16,
   "id": "c3837669-a96a-4612-9708-8bf5c26400f3",
   "metadata": {},
   "outputs": [],
   "source": [
    "from langchain.llms import Cohere\n",
    "from langchain import PromptTemplate, LLMChain"
   ]
  },
  {
   "cell_type": "code",
   "execution_count": 17,
   "id": "027f00dd-93e6-4c15-8ded-f083a41e0051",
   "metadata": {},
   "outputs": [],
   "source": [
    "llm = Cohere(cohere_api_key=COHERE_API_KEY)"
   ]
  },
  {
   "cell_type": "code",
   "execution_count": 29,
   "id": "8d226da6-1c51-4513-9909-75c77a014a22",
   "metadata": {},
   "outputs": [
    {
     "data": {
      "text/plain": [
       "langchain.llms.cohere.Cohere"
      ]
     },
     "execution_count": 29,
     "metadata": {},
     "output_type": "execute_result"
    }
   ],
   "source": [
    "type(llm)"
   ]
  },
  {
   "cell_type": "code",
   "execution_count": 30,
   "id": "fa678254-d51e-4d4b-bddd-7af761f24150",
   "metadata": {},
   "outputs": [],
   "source": [
    "reply = llm(prompt)"
   ]
  },
  {
   "cell_type": "code",
   "execution_count": 31,
   "id": "5976fbea-e99d-4f59-bb2a-47440cac525d",
   "metadata": {},
   "outputs": [
    {
     "name": "stdout",
     "output_type": "stream",
     "text": [
      " XGBoost is a powerful and popular machine learning algorithm that is often used for classification tasks. It is a tree-based algorithm that builds an ensemble of decision trees, which can be used to make predictions on new, unseen data.\n",
      "\n",
      "As for the probability output, XGBoost can provide the probability of a class for each sample. The probability output can be used to evaluate the model's performance and make informed decisions. However, it is important to note that the probability output is not always accurate, as it is a prediction based on the model's assumptions and the data it has been trained on.\n",
      "\n",
      "Therefore, if you are interested in probability outputs, XGBoost may be a good model to use, but it is important to evaluate the model's performance and make informed decisions based on the results.\n"
     ]
    }
   ],
   "source": [
    "print(reply)"
   ]
  }
 ],
 "metadata": {
  "kernelspec": {
   "display_name": "Python 3 (ipykernel)",
   "language": "python",
   "name": "python3"
  },
  "language_info": {
   "codemirror_mode": {
    "name": "ipython",
    "version": 3
   },
   "file_extension": ".py",
   "mimetype": "text/x-python",
   "name": "python",
   "nbconvert_exporter": "python",
   "pygments_lexer": "ipython3",
   "version": "3.9.16"
  }
 },
 "nbformat": 4,
 "nbformat_minor": 5
}
