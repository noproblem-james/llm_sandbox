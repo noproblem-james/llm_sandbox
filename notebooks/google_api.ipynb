{
 "cells": [
  {
   "cell_type": "code",
   "execution_count": 1,
   "id": "530b7db2-cee9-434c-883d-ec0d339c4305",
   "metadata": {},
   "outputs": [
    {
     "name": "stdout",
     "output_type": "stream",
     "text": [
      "Python 3.9.16\n"
     ]
    }
   ],
   "source": [
    "! python -V"
   ]
  },
  {
   "cell_type": "code",
   "execution_count": null,
   "id": "ae804531-5dc7-4fe6-a7de-0afc750eb86f",
   "metadata": {},
   "outputs": [],
   "source": [
    "import os\n",
    "\n",
    "from dotenv import load_dotenv\n",
    "load_dotenv(override=True)\n",
    "\n",
    "GOOGLE_PALM_API_KEY = os.getenv(\"GOOGLE_PALM_API_KEY\")"
   ]
  },
  {
   "cell_type": "code",
   "execution_count": 5,
   "id": "57752ade-ce0d-4912-886f-9fa1b8802fc1",
   "metadata": {},
   "outputs": [],
   "source": [
    "MAX_TOKENS = 4000\n",
    "TEMP = 1"
   ]
  },
  {
   "cell_type": "code",
   "execution_count": 32,
   "id": "87a948d4-ae41-4bc2-8a92-edaa3d5e9042",
   "metadata": {},
   "outputs": [],
   "source": [
    "MODEL = 'chat-bison-001'"
   ]
  },
  {
   "cell_type": "code",
   "execution_count": 33,
   "id": "f6661a9c-9dc0-406b-840c-7ce319b951b0",
   "metadata": {},
   "outputs": [],
   "source": [
    "prompt = \"Is an XGBoost Classifier a good model to use if you are interested in probability outputs? Reason through it step by step.'\""
   ]
  },
  {
   "cell_type": "markdown",
   "id": "471d7de0-4aa5-4fcf-857c-fe3222b22526",
   "metadata": {},
   "source": [
    "## Interacting with PaLM via API and Python `requests` library"
   ]
  },
  {
   "cell_type": "code",
   "execution_count": 34,
   "id": "9c1758ee-d198-4f70-bce5-b6c68a4763bf",
   "metadata": {},
   "outputs": [],
   "source": [
    "import requests"
   ]
  },
  {
   "cell_type": "code",
   "execution_count": 35,
   "id": "a41645bf-8d7c-42f6-b8b2-d70507dec96f",
   "metadata": {},
   "outputs": [],
   "source": [
    "API_ENDPOINT_BASE = \"https://generativelanguage.googleapis.com/v1beta2/models/\""
   ]
  },
  {
   "cell_type": "code",
   "execution_count": 36,
   "id": "85be6282-9c0a-44b6-9b4c-d0ca1e8f50ff",
   "metadata": {},
   "outputs": [],
   "source": [
    "def gen_chat_completion(prompt, model, temperature, max_tokens):\n",
    "    # API endpoint\n",
    "    url =f\"{API_ENDPOINT_BASE}{MODEL}:generateText?key={GOOGLE_PALM_API_KEY}\"\n",
    "    \n",
    "    # JSON data for the request\n",
    "    data = {\n",
    "        \"prompt\": {\n",
    "            \"text\": prompt\n",
    "        }\n",
    "    }\n",
    "    \n",
    "    # Headers for the request\n",
    "    headers = {\n",
    "        \"Content-Type\": \"application/json\"\n",
    "    }\n",
    "    \n",
    "    # Make the POST request\n",
    "    response = requests.post(url, json=data, headers=headers)\n",
    "    \n",
    "    # Print the response\n",
    "    if response.status_code == 200:\n",
    "        return response.json()['candidates'][0][\"output\"]\n",
    "    else:\n",
    "        raise Exception(f\"Error: {response.status_code}: {response.text}\")"
   ]
  },
  {
   "cell_type": "code",
   "execution_count": null,
   "id": "f8608975-fcca-4335-aa64-e6b69281b01f",
   "metadata": {},
   "outputs": [],
   "source": []
  },
  {
   "cell_type": "code",
   "execution_count": 37,
   "id": "72529559-be97-4911-a421-f643865bb40c",
   "metadata": {
    "scrolled": true
   },
   "outputs": [
    {
     "ename": "Exception",
     "evalue": "Error: 404: {\n  \"error\": {\n    \"code\": 404,\n    \"message\": \"models/chat-bison-001 is not found for API version v1beta2, or is not supported for generateText. Call ListModels to see the list of available models and their supported methods.\",\n    \"status\": \"NOT_FOUND\"\n  }\n}\n",
     "output_type": "error",
     "traceback": [
      "\u001b[0;31m---------------------------------------------------------------------------\u001b[0m",
      "\u001b[0;31mException\u001b[0m                                 Traceback (most recent call last)",
      "Cell \u001b[0;32mIn[37], line 1\u001b[0m\n\u001b[0;32m----> 1\u001b[0m response_text \u001b[38;5;241m=\u001b[39m \u001b[43mgen_chat_completion\u001b[49m\u001b[43m(\u001b[49m\u001b[43mprompt\u001b[49m\u001b[43m,\u001b[49m\u001b[43m \u001b[49m\u001b[43mMODEL\u001b[49m\u001b[43m,\u001b[49m\u001b[43m \u001b[49m\u001b[43mTEMP\u001b[49m\u001b[43m,\u001b[49m\u001b[43m \u001b[49m\u001b[43mMAX_TOKENS\u001b[49m\u001b[43m)\u001b[49m\n",
      "Cell \u001b[0;32mIn[36], line 24\u001b[0m, in \u001b[0;36mgen_chat_completion\u001b[0;34m(prompt, model, temperature, max_tokens)\u001b[0m\n\u001b[1;32m     22\u001b[0m     \u001b[38;5;28;01mreturn\u001b[39;00m response\u001b[38;5;241m.\u001b[39mjson()[\u001b[38;5;124m'\u001b[39m\u001b[38;5;124mcandidates\u001b[39m\u001b[38;5;124m'\u001b[39m][\u001b[38;5;241m0\u001b[39m][\u001b[38;5;124m\"\u001b[39m\u001b[38;5;124moutput\u001b[39m\u001b[38;5;124m\"\u001b[39m]\n\u001b[1;32m     23\u001b[0m \u001b[38;5;28;01melse\u001b[39;00m:\n\u001b[0;32m---> 24\u001b[0m     \u001b[38;5;28;01mraise\u001b[39;00m \u001b[38;5;167;01mException\u001b[39;00m(\u001b[38;5;124mf\u001b[39m\u001b[38;5;124m\"\u001b[39m\u001b[38;5;124mError: \u001b[39m\u001b[38;5;132;01m{\u001b[39;00mresponse\u001b[38;5;241m.\u001b[39mstatus_code\u001b[38;5;132;01m}\u001b[39;00m\u001b[38;5;124m: \u001b[39m\u001b[38;5;132;01m{\u001b[39;00mresponse\u001b[38;5;241m.\u001b[39mtext\u001b[38;5;132;01m}\u001b[39;00m\u001b[38;5;124m\"\u001b[39m)\n",
      "\u001b[0;31mException\u001b[0m: Error: 404: {\n  \"error\": {\n    \"code\": 404,\n    \"message\": \"models/chat-bison-001 is not found for API version v1beta2, or is not supported for generateText. Call ListModels to see the list of available models and their supported methods.\",\n    \"status\": \"NOT_FOUND\"\n  }\n}\n"
     ]
    }
   ],
   "source": [
    "response_text = gen_chat_completion(prompt, MODEL, TEMP, MAX_TOKENS)"
   ]
  },
  {
   "cell_type": "code",
   "execution_count": 13,
   "id": "a27a72dd-260d-46d6-b7c0-8afed51e0b7a",
   "metadata": {},
   "outputs": [
    {
     "name": "stdout",
     "output_type": "stream",
     "text": [
      "**Step 1: Define the problem**\n",
      "\n",
      "The problem is to determine whether an XGBoost Classifier is a good model to use if you are interested in probability outputs.\n",
      "\n",
      "**Step 2: Research the relevant information**\n",
      "\n",
      "XGBoost is a gradient boosting algorithm that is often used for classification and regression tasks. It is a very powerful algorithm that can achieve state-of-the-art results on a variety of datasets. However, XGBoost is not a probabilistic model, and it does not output probabilities directly. Instead, it outputs class predictions.\n",
      "\n",
      "**Step 3: Analyze the information**\n",
      "\n",
      "If you are interested in probability outputs, then XGBoost is not the best model to use. There are other models, such as logistic regression and random forests, that are specifically designed to output probabilities. These models will give you more accurate and interpretable results than XGBoost.\n",
      "\n",
      "**Step 4: Make a decision**\n",
      "\n",
      "Based on the information that we have gathered, we can conclude that XGBoost is not a good model to use if you are interested in probability outputs. There are other models that are better suited for this task.\n",
      "\n",
      "**Step 5: Communicate your answer**\n",
      "\n",
      "In conclusion, XGBoost is not a good model to use if you are interested in probability outputs. There are other models, such as logistic regression and random forests, that are specifically designed to output probabilities and will give you more accurate and interpretable results.\n"
     ]
    }
   ],
   "source": [
    "print(response_text)"
   ]
  },
  {
   "cell_type": "markdown",
   "id": "ebbf2cee-8c6f-483e-bee0-2387b805cc38",
   "metadata": {},
   "source": [
    "## Interacting with Google PaLM via `google.generativeai` Python SDK"
   ]
  },
  {
   "cell_type": "code",
   "execution_count": 14,
   "id": "50a81723-8373-43be-919d-46d2d0340516",
   "metadata": {},
   "outputs": [],
   "source": [
    "import google.generativeai as palm"
   ]
  },
  {
   "cell_type": "code",
   "execution_count": 15,
   "id": "9cbbe759-83cc-4115-bcf3-8d9e52fd8b61",
   "metadata": {},
   "outputs": [],
   "source": [
    "palm.configure(api_key=GOOGLE_PALM_API_KEY)"
   ]
  },
  {
   "cell_type": "code",
   "execution_count": 16,
   "id": "49f74dab-d189-4950-8b31-c77a99fff5d6",
   "metadata": {},
   "outputs": [
    {
     "name": "stdout",
     "output_type": "stream",
     "text": [
      "models/text-bison-001\n"
     ]
    }
   ],
   "source": [
    "models = [m for m in palm.list_models() if 'generateText' in m.supported_generation_methods]\n",
    "model = models[0].name\n",
    "print(model)"
   ]
  },
  {
   "cell_type": "code",
   "execution_count": 17,
   "id": "c1e9b559-bac7-4621-98c6-fdf3ddf340ce",
   "metadata": {},
   "outputs": [],
   "source": [
    "completion = palm.generate_text(\n",
    "    model=model,\n",
    "    prompt=prompt,\n",
    "    temperature=.1,\n",
    "    # The maximum length of the response\n",
    "    max_output_tokens=800,\n",
    ")"
   ]
  },
  {
   "cell_type": "code",
   "execution_count": 18,
   "id": "c798d2ad-af5f-4261-bd50-cc10ea16168a",
   "metadata": {},
   "outputs": [
    {
     "name": "stdout",
     "output_type": "stream",
     "text": [
      "**Step 1: Define the problem.**\n",
      "\n",
      "The problem is to determine whether an XGBoost Classifier is a good model to use if you are interested in probability outputs.\n",
      "\n",
      "**Step 2: Research the topic.**\n",
      "\n",
      "XGBoost is a gradient boosting algorithm that is often used for classification and regression tasks. It is a very powerful algorithm that can achieve state-of-the-art results on many datasets. However, XGBoost is not designed to output probabilities. Instead, it outputs class labels.\n",
      "\n",
      "**Step 3: Analyze the results.**\n",
      "\n",
      "If you are interested in probability outputs, then you should not use XGBoost directly. Instead, you should use a different algorithm that is designed to output probabilities, such as a logistic regression model or a random forest model.\n",
      "\n",
      "**Step 4: Draw a conclusion.**\n",
      "\n",
      "The conclusion is that XGBoost is not a good model to use if you are interested in probability outputs. Instead, you should use a different algorithm that is designed to output probabilities.\n"
     ]
    }
   ],
   "source": [
    "print(completion.result)"
   ]
  },
  {
   "cell_type": "code",
   "execution_count": null,
   "id": "a0fd45e4-233d-4960-b245-8e8d87400532",
   "metadata": {},
   "outputs": [],
   "source": []
  },
  {
   "cell_type": "code",
   "execution_count": null,
   "id": "6b3eea27-333a-4466-b5c4-e2807101952a",
   "metadata": {},
   "outputs": [],
   "source": []
  },
  {
   "cell_type": "markdown",
   "id": "8e8e9a25-c975-480e-88bc-f18aaf47da4e",
   "metadata": {},
   "source": [
    "## Interacting with Google PaLM via `langchain.chat_models`"
   ]
  },
  {
   "cell_type": "code",
   "execution_count": 19,
   "id": "b09ebf10-34c2-459a-a16f-530c71bdc091",
   "metadata": {},
   "outputs": [],
   "source": [
    "from langchain.chat_models import ChatGooglePalm"
   ]
  },
  {
   "cell_type": "code",
   "execution_count": 39,
   "id": "a13cbf53-1ac0-486b-9047-9cb3f5686d79",
   "metadata": {},
   "outputs": [],
   "source": [
    "chat_params = {\n",
    "    \"model_name\": 'models/chat-bison-001',\n",
    "    \"google_api_key\": GOOGLE_PALM_API_KEY,\n",
    "    \"temperature\": 0.5, # To avoid pure copy-pasting from docs lookup\n",
    "    \"max_tokens\": 4000\n",
    "}"
   ]
  },
  {
   "cell_type": "code",
   "execution_count": 26,
   "id": "f620500a-3cff-4d64-8e57-c9d0f848ae39",
   "metadata": {},
   "outputs": [],
   "source": [
    "chat_params = {\n",
    "    \"model_name\": MODEL,\n",
    "    \"google_api_key\": GOOGLE_PALM_API_KEY,\n",
    "    \"temperature\": TEMP, # To avoid pure copy-pasting from docs lookup\n",
    "    \"max_tokens\": MAX_TOKENS\n",
    "}"
   ]
  },
  {
   "cell_type": "code",
   "execution_count": 40,
   "id": "fda684e9-4b0d-4e17-9fde-37f03b7a9ce1",
   "metadata": {},
   "outputs": [
    {
     "data": {
      "text/plain": [
       "'chat-bison-001'"
      ]
     },
     "execution_count": 40,
     "metadata": {},
     "output_type": "execute_result"
    }
   ],
   "source": [
    "MODEL"
   ]
  },
  {
   "cell_type": "code",
   "execution_count": 41,
   "id": "1801a840-d512-4e58-bbde-a2587b8f4dbf",
   "metadata": {},
   "outputs": [],
   "source": [
    "chat_model = ChatGooglePalm(**chat_params)"
   ]
  },
  {
   "cell_type": "code",
   "execution_count": 42,
   "id": "b8ce1a36-2a65-4b41-bf55-ce8c0dacc8bd",
   "metadata": {},
   "outputs": [
    {
     "data": {
      "text/plain": [
       "langchain.chat_models.google_palm.ChatGooglePalm"
      ]
     },
     "execution_count": 42,
     "metadata": {},
     "output_type": "execute_result"
    }
   ],
   "source": [
    "type(chat_model)"
   ]
  },
  {
   "cell_type": "code",
   "execution_count": 43,
   "id": "7f7f4f4b-3709-4253-952a-bd09ba530131",
   "metadata": {},
   "outputs": [],
   "source": [
    "from langchain.schema import (\n",
    "    AIMessage,\n",
    "    HumanMessage,\n",
    "    SystemMessage\n",
    ")"
   ]
  },
  {
   "cell_type": "code",
   "execution_count": 44,
   "id": "1ac02a5c-e204-45d5-b465-61e61e17ae62",
   "metadata": {},
   "outputs": [],
   "source": [
    "reply = chat_model([HumanMessage(content=prompt)])"
   ]
  },
  {
   "cell_type": "code",
   "execution_count": 45,
   "id": "271015e7-744c-4767-b7a9-d9f5070b7f4d",
   "metadata": {},
   "outputs": [
    {
     "name": "stdout",
     "output_type": "stream",
     "text": [
      "XGBoost is a gradient boosting framework that is known for its accuracy and speed. It is often used for classification and regression tasks.\n",
      "\n",
      "XGBoost can be used to produce probability outputs by using the `probability_model` parameter. This parameter takes a value between 0 and 1, and it controls the amount of regularization that is applied to the model. A higher value of `probability_model` will result in a more conservative model, which will produce lower probabilities. A lower value of `probability_model` will result in a more aggressive model, which will produce higher probabilities.\n",
      "\n",
      "The following code shows how to use XGBoost to produce probability outputs:\n",
      "\n",
      "```\n",
      "from xgboost import XGBClassifier\n",
      "\n",
      "model = XGBClassifier(probability_model=0.5)\n",
      "model.fit(X_train, y_train)\n",
      "y_pred_proba = model.predict_proba(X_test)\n",
      "```\n",
      "\n",
      "The `y_pred_proba` array will contain the predicted probabilities for each data point in `X_test`. These probabilities can be used to make predictions about new data points.\n",
      "\n",
      "For example, if we want to predict the probability that a new data point belongs to class 1, we can use the following code:\n",
      "\n",
      "```\n",
      "y_pred = model.predict(X_new)\n",
      "y_pred_proba[y_pred == 1]\n",
      "```\n",
      "\n",
      "This code will return the predicted probability that each data point in `X_new` belongs to class 1.\n",
      "\n",
      "XGBoost is a good model to use if you are interested in probability outputs because it is accurate and fast. It can be used to produce probability outputs by using the `probability_model` parameter.\n"
     ]
    }
   ],
   "source": [
    "print(reply.content)"
   ]
  },
  {
   "cell_type": "markdown",
   "id": "3806b47b-e12e-4a02-af2a-c51eec2bce47",
   "metadata": {},
   "source": [
    "# Using LLM"
   ]
  },
  {
   "cell_type": "code",
   "execution_count": null,
   "id": "a9b4ecb2-a3fa-4bb1-bf9c-cdf38107cfef",
   "metadata": {},
   "outputs": [],
   "source": []
  }
 ],
 "metadata": {
  "kernelspec": {
   "display_name": "Python 3 (ipykernel)",
   "language": "python",
   "name": "python3"
  },
  "language_info": {
   "codemirror_mode": {
    "name": "ipython",
    "version": 3
   },
   "file_extension": ".py",
   "mimetype": "text/x-python",
   "name": "python",
   "nbconvert_exporter": "python",
   "pygments_lexer": "ipython3",
   "version": "3.9.16"
  }
 },
 "nbformat": 4,
 "nbformat_minor": 5
}
