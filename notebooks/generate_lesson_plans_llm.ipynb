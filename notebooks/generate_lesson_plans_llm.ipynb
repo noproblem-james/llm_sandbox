{
 "cells": [
  {
   "cell_type": "markdown",
   "id": "56c0fcb2-ecb6-4bdf-8305-67937a7f4463",
   "metadata": {},
   "source": [
    "# TODO\n",
    "- [X] specify lesson plan in json format, then convert to markdown\n",
    "- [ ] parallelize the lesson plan creation\n",
    "- [ ] generate all activity ideas at once, so there is less repetition in the ideas (e.g., there are many small variations on the 'scavenger hunt' idea)\n",
    "- [ ] try different models:\n",
    "  - [ ] chat model instead of LLM\n",
    "  - [ ] different providers instead of OpenAI\n",
    "  - [ ] local model"
   ]
  },
  {
   "cell_type": "code",
   "execution_count": 1,
   "id": "fc2b0572-02a4-4f96-9fdf-0f9bda0d28c9",
   "metadata": {},
   "outputs": [],
   "source": [
    "import os\n",
    "import json\n",
    "import time\n",
    "import pprint as pp\n",
    "import pandas as pd\n",
    "from pydantic import BaseModel, Field\n",
    "from typing import List, Dict\n",
    "from dotenv import load_dotenv\n",
    "from langchain.prompts import PromptTemplate\n",
    "from langchain.llms import OpenAI\n",
    "from langchain.output_parsers import PydanticOutputParser\n",
    "from IPython.display import display, Markdown, JSON"
   ]
  },
  {
   "cell_type": "code",
   "execution_count": 2,
   "id": "a73b7144-33c5-45aa-b30e-150f8155707b",
   "metadata": {
    "scrolled": true
   },
   "outputs": [
    {
     "data": {
      "text/plain": [
       "True"
      ]
     },
     "execution_count": 2,
     "metadata": {},
     "output_type": "execute_result"
    }
   ],
   "source": [
    "load_dotenv(override=True) # loading API key from environment"
   ]
  },
  {
   "cell_type": "markdown",
   "id": "7c3a3d4e-4a93-466a-93d6-e7f466a79b21",
   "metadata": {},
   "source": [
    "## Read in data with annual curriculum plan"
   ]
  },
  {
   "cell_type": "code",
   "execution_count": 3,
   "id": "df6fdbf7-da0d-4759-9f1c-52d6206b364c",
   "metadata": {},
   "outputs": [],
   "source": [
    "GSHEET_ID = os.getenv('GSHEET_ID')"
   ]
  },
  {
   "cell_type": "code",
   "execution_count": 4,
   "id": "d9796f0f-05ad-4efc-8011-3d82b906b68f",
   "metadata": {},
   "outputs": [
    {
     "data": {
      "text/html": [
       "<div>\n",
       "<style scoped>\n",
       "    .dataframe tbody tr th:only-of-type {\n",
       "        vertical-align: middle;\n",
       "    }\n",
       "\n",
       "    .dataframe tbody tr th {\n",
       "        vertical-align: top;\n",
       "    }\n",
       "\n",
       "    .dataframe thead th {\n",
       "        text-align: right;\n",
       "    }\n",
       "</style>\n",
       "<table border=\"1\" class=\"dataframe\">\n",
       "  <thead>\n",
       "    <tr style=\"text-align: right;\">\n",
       "      <th></th>\n",
       "      <th>month</th>\n",
       "      <th>theme_to_explore</th>\n",
       "      <th>language_arts</th>\n",
       "      <th>math</th>\n",
       "      <th>social_studies</th>\n",
       "      <th>science</th>\n",
       "    </tr>\n",
       "  </thead>\n",
       "  <tbody>\n",
       "    <tr>\n",
       "      <th>0</th>\n",
       "      <td>August</td>\n",
       "      <td>Getting to Know One Another; Class Community</td>\n",
       "      <td>All About Me: Personal Narratives</td>\n",
       "      <td>Friendship Math: Counting and Sorting</td>\n",
       "      <td>Our Classroom Community</td>\n",
       "      <td>Exploring the school environment and local eco...</td>\n",
       "    </tr>\n",
       "    <tr>\n",
       "      <th>1</th>\n",
       "      <td>September</td>\n",
       "      <td>On the Map, where we’re from</td>\n",
       "      <td>My Place on the Map: Descriptive Writing</td>\n",
       "      <td>Mapping Our Neighborhood; Measurement (units o...</td>\n",
       "      <td>My Hometown and Its History; Local History; ge...</td>\n",
       "      <td>Water cycle, rivers; Geology, caves</td>\n",
       "    </tr>\n",
       "    <tr>\n",
       "      <th>2</th>\n",
       "      <td>October</td>\n",
       "      <td>Fall; Halloween; Dia de los Muertos</td>\n",
       "      <td>Spooky Stories: Creative Writing</td>\n",
       "      <td>Place value; Estimation and graphs</td>\n",
       "      <td>Fall celebrations (Halloween, Dia de los Muertos)</td>\n",
       "      <td>Animal science: Investigating Local Food Chains</td>\n",
       "    </tr>\n",
       "    <tr>\n",
       "      <th>3</th>\n",
       "      <td>November</td>\n",
       "      <td>Gratitude; Native Americans</td>\n",
       "      <td>Thankful Thoughts; Native American Storytelling</td>\n",
       "      <td>Addition and Subtraction</td>\n",
       "      <td>Native American History</td>\n",
       "      <td>Investigating Seasonal Changes and Plants</td>\n",
       "    </tr>\n",
       "    <tr>\n",
       "      <th>4</th>\n",
       "      <td>December</td>\n",
       "      <td>Winter Solstice and winter holidays</td>\n",
       "      <td>Holiday Traditions Around the World</td>\n",
       "      <td>Snowflake Symmetry; geometry (2-D shapes)</td>\n",
       "      <td>Holidays Worldwide</td>\n",
       "      <td>Exploring Winter Animal Adaptations</td>\n",
       "    </tr>\n",
       "    <tr>\n",
       "      <th>5</th>\n",
       "      <td>January</td>\n",
       "      <td>Calendar, New Year, Goals, MLK</td>\n",
       "      <td>Dreams and Goals; MLK biography</td>\n",
       "      <td>Calendar Math</td>\n",
       "      <td>New Year's Celebrations Around the World; Comm...</td>\n",
       "      <td>Climate Zones and Seasons</td>\n",
       "    </tr>\n",
       "    <tr>\n",
       "      <th>6</th>\n",
       "      <td>February</td>\n",
       "      <td>Black History, Love/Valentine's Day</td>\n",
       "      <td>African American Biographies; Exploring Emotio...</td>\n",
       "      <td>Fractions, Division; Number Patterns</td>\n",
       "      <td>African American Achievements; Civil Rights Mo...</td>\n",
       "      <td>The human body, heart health and exercise</td>\n",
       "    </tr>\n",
       "    <tr>\n",
       "      <th>7</th>\n",
       "      <td>March</td>\n",
       "      <td>Spring; Easter; Ramadan</td>\n",
       "      <td>Springtime Poetry and Descriptions</td>\n",
       "      <td>Patterns and Geometry; Geometry in Islamic Art</td>\n",
       "      <td>Cultural Spring Celebrations (Easter, Ramadan)</td>\n",
       "      <td>Life Cycles of Plants and Animals (frogs and b...</td>\n",
       "    </tr>\n",
       "    <tr>\n",
       "      <th>8</th>\n",
       "      <td>April</td>\n",
       "      <td>Space; Passover</td>\n",
       "      <td>Cosmic Adventures: Space Stories</td>\n",
       "      <td>Planet Math: Solar System</td>\n",
       "      <td>Passover Origins; History of astronomy</td>\n",
       "      <td>Exploring the Solar System and Celestial Bodies</td>\n",
       "    </tr>\n",
       "    <tr>\n",
       "      <th>9</th>\n",
       "      <td>May</td>\n",
       "      <td>Ocean Life</td>\n",
       "      <td>Ocean Explorers: Descriptive Writing</td>\n",
       "      <td>Dive into Math: Ocean Measurements</td>\n",
       "      <td>Coastal Ecosystems</td>\n",
       "      <td>Marine Life and Habitats</td>\n",
       "    </tr>\n",
       "  </tbody>\n",
       "</table>\n",
       "</div>"
      ],
      "text/plain": [
       "       month                              theme_to_explore  \\\n",
       "0     August  Getting to Know One Another; Class Community   \n",
       "1  September                  On the Map, where we’re from   \n",
       "2    October           Fall; Halloween; Dia de los Muertos   \n",
       "3   November                   Gratitude; Native Americans   \n",
       "4   December           Winter Solstice and winter holidays   \n",
       "5    January                Calendar, New Year, Goals, MLK   \n",
       "6   February           Black History, Love/Valentine's Day   \n",
       "7      March                       Spring; Easter; Ramadan   \n",
       "8      April                               Space; Passover   \n",
       "9        May                                    Ocean Life   \n",
       "\n",
       "                                       language_arts  \\\n",
       "0                  All About Me: Personal Narratives   \n",
       "1           My Place on the Map: Descriptive Writing   \n",
       "2                   Spooky Stories: Creative Writing   \n",
       "3    Thankful Thoughts; Native American Storytelling   \n",
       "4                Holiday Traditions Around the World   \n",
       "5                    Dreams and Goals; MLK biography   \n",
       "6  African American Biographies; Exploring Emotio...   \n",
       "7                 Springtime Poetry and Descriptions   \n",
       "8                   Cosmic Adventures: Space Stories   \n",
       "9               Ocean Explorers: Descriptive Writing   \n",
       "\n",
       "                                                math  \\\n",
       "0              Friendship Math: Counting and Sorting   \n",
       "1  Mapping Our Neighborhood; Measurement (units o...   \n",
       "2                 Place value; Estimation and graphs   \n",
       "3                           Addition and Subtraction   \n",
       "4          Snowflake Symmetry; geometry (2-D shapes)   \n",
       "5                                      Calendar Math   \n",
       "6               Fractions, Division; Number Patterns   \n",
       "7     Patterns and Geometry; Geometry in Islamic Art   \n",
       "8                          Planet Math: Solar System   \n",
       "9                 Dive into Math: Ocean Measurements   \n",
       "\n",
       "                                      social_studies  \\\n",
       "0                            Our Classroom Community   \n",
       "1  My Hometown and Its History; Local History; ge...   \n",
       "2  Fall celebrations (Halloween, Dia de los Muertos)   \n",
       "3                            Native American History   \n",
       "4                                 Holidays Worldwide   \n",
       "5  New Year's Celebrations Around the World; Comm...   \n",
       "6  African American Achievements; Civil Rights Mo...   \n",
       "7     Cultural Spring Celebrations (Easter, Ramadan)   \n",
       "8             Passover Origins; History of astronomy   \n",
       "9                                 Coastal Ecosystems   \n",
       "\n",
       "                                             science  \n",
       "0  Exploring the school environment and local eco...  \n",
       "1                Water cycle, rivers; Geology, caves  \n",
       "2    Animal science: Investigating Local Food Chains  \n",
       "3          Investigating Seasonal Changes and Plants  \n",
       "4                Exploring Winter Animal Adaptations  \n",
       "5                          Climate Zones and Seasons  \n",
       "6          The human body, heart health and exercise  \n",
       "7  Life Cycles of Plants and Animals (frogs and b...  \n",
       "8    Exploring the Solar System and Celestial Bodies  \n",
       "9                           Marine Life and Habitats  "
      ]
     },
     "execution_count": 4,
     "metadata": {},
     "output_type": "execute_result"
    }
   ],
   "source": [
    "google_sheet_url = f\"https://docs.google.com/spreadsheets/d/{GSHEET_ID}/export?format=csv&gid=0\"\n",
    "annual_plan_df = pd.read_csv(google_sheet_url)\n",
    "annual_plan_df.rename(columns=lambda x: x.replace(\" \", \"_\").lower(), inplace=True)\n",
    "annual_plan_df"
   ]
  },
  {
   "cell_type": "markdown",
   "id": "d3aa8756-38a8-4372-8583-0196a1a39c1a",
   "metadata": {},
   "source": [
    "## Instantiate the LLM"
   ]
  },
  {
   "cell_type": "code",
   "execution_count": 6,
   "id": "2bc4b303-2db5-47c7-b3c8-e3b42225f30b",
   "metadata": {},
   "outputs": [],
   "source": [
    "model_name = \"text-davinci-003\"\n",
    "temperature = 0.1\n",
    "model = OpenAI(model_name=model_name, temperature=temperature, max_tokens=3000)"
   ]
  },
  {
   "cell_type": "markdown",
   "id": "ac4a13b0-088d-441c-b02a-4c44e3c9b5aa",
   "metadata": {},
   "source": [
    "# Create Prompt Templates"
   ]
  },
  {
   "cell_type": "code",
   "execution_count": 7,
   "id": "71282f17-be38-4121-99c6-d4999390bffb",
   "metadata": {},
   "outputs": [],
   "source": [
    "class ActivityIdea(BaseModel):\n",
    "    name: str\n",
    "    description: str\n",
    "\n",
    "class ActivityIdeasOutput(BaseModel):\n",
    "    ideas: List[ActivityIdea]\n",
    "# Set up a parser + inject instructions into the prompt template.\n",
    "activity_ideas_parser = PydanticOutputParser(pydantic_object=ActivityIdeasOutput)"
   ]
  },
  {
   "cell_type": "code",
   "execution_count": 8,
   "id": "6ca20a2c-b933-4572-ad08-91080112626d",
   "metadata": {},
   "outputs": [],
   "source": [
    "activity_idea_prompt = PromptTemplate(\n",
    "    template=\"\"\"Answer the user query.\n",
    "    {format_instructions}\n",
    "    You are a curriculum development expert and I am a teacher of second graders at a micro-school, with seven students of varying abilities.\n",
    "    I want you to generate {num_ideas} activity ideas for the month of {month}. Each activity could also be thought of as a lesson where the kids are learning valuable skills.\n",
    "    I have a theme for the month, which is {theme}.\n",
    "    The academic subject is {subject} and the topic is {topic}.\n",
    "\n",
    "    Here are some additional guidelines:\n",
    "    - The microschool  stresses the importance of outdoor education and student-led development, but it also wants to ensure high academic standards, so your lesson plans should be a mix of exploration and drilling the fundamentals. \n",
    "    - Try to be creative in your ideas. Do not use the idea of a scavenger hunt, because it has been overdone.\n",
    "    - Try to work in phonics work and literacy development into the language art activities.\n",
    "    - Try to work in arithmetic and numeracy development into the math activities.\n",
    "    - Each activity idea should be able to be accomplished in 30 mins-3 hours.\n",
    "    - Each activity should relate directly to skills and concepts from the academic subject of {subject}.\n",
    "    - I only need you to give me the activity names and a brief description of each idea.\n",
    "    - The description should only be sentence or two and should not simply repeat the theme or the topic. It should describe the nature of the activity.\n",
    "    - Keep in mind these are second-graders who are not ready for advanced concepts like decimals.\n",
    "    \"\"\"\n",
    "    ,\n",
    "    input_variables=[\"num_ideas\", \"month\", \"theme\", \"subject\", \"topic\"],\n",
    "    partial_variables={\"format_instructions\": activity_ideas_parser.get_format_instructions()}\n",
    ")"
   ]
  },
  {
   "cell_type": "code",
   "execution_count": 9,
   "id": "f6734f66-33e2-487c-801c-31b86f66b0e8",
   "metadata": {},
   "outputs": [
    {
     "name": "stdout",
     "output_type": "stream",
     "text": [
      "The output should be formatted as a JSON instance that conforms to the JSON schema below.\n",
      "\n",
      "As an example, for the schema {\"properties\": {\"foo\": {\"title\": \"Foo\", \"description\": \"a list of strings\", \"type\": \"array\", \"items\": {\"type\": \"string\"}}}, \"required\": [\"foo\"]}\n",
      "the object {\"foo\": [\"bar\", \"baz\"]} is a well-formatted instance of the schema. The object {\"properties\": {\"foo\": [\"bar\", \"baz\"]}} is not well-formatted.\n",
      "\n",
      "Here is the output schema:\n",
      "```\n",
      "{\"properties\": {\"ideas\": {\"title\": \"Ideas\", \"type\": \"array\", \"items\": {\"$ref\": \"#/definitions/ActivityIdea\"}}}, \"required\": [\"ideas\"], \"definitions\": {\"ActivityIdea\": {\"title\": \"ActivityIdea\", \"type\": \"object\", \"properties\": {\"name\": {\"title\": \"Name\", \"type\": \"string\"}, \"description\": {\"title\": \"Description\", \"type\": \"string\"}}, \"required\": [\"name\", \"description\"]}}}\n",
      "```\n"
     ]
    }
   ],
   "source": [
    "print(activity_ideas_parser.get_format_instructions())"
   ]
  },
  {
   "cell_type": "code",
   "execution_count": 10,
   "id": "74cacd5a-fff6-4c43-86f6-e1a9593e4535",
   "metadata": {},
   "outputs": [],
   "source": [
    "class LessonPlanOutput(BaseModel):\n",
    "    time_estimate: str\n",
    "    list_of_materials: List[str]\n",
    "    procedure: List[str]\n",
    "    additional_notes: List[str]\n",
    "    differentiation_strategies: List[str]\n",
    "\n",
    "# Set up a parser + inject instructions into the prompt template.\n",
    "lesson_plan_parser = PydanticOutputParser(pydantic_object=LessonPlanOutput)"
   ]
  },
  {
   "cell_type": "code",
   "execution_count": 11,
   "id": "2c95618e-5b54-4b30-89dd-eccc5b0bd099",
   "metadata": {},
   "outputs": [
    {
     "name": "stdout",
     "output_type": "stream",
     "text": [
      "The output should be formatted as a JSON instance that conforms to the JSON schema below.\n",
      "\n",
      "As an example, for the schema {\"properties\": {\"foo\": {\"title\": \"Foo\", \"description\": \"a list of strings\", \"type\": \"array\", \"items\": {\"type\": \"string\"}}}, \"required\": [\"foo\"]}\n",
      "the object {\"foo\": [\"bar\", \"baz\"]} is a well-formatted instance of the schema. The object {\"properties\": {\"foo\": [\"bar\", \"baz\"]}} is not well-formatted.\n",
      "\n",
      "Here is the output schema:\n",
      "```\n",
      "{\"properties\": {\"time_estimate\": {\"title\": \"Time Estimate\", \"type\": \"string\"}, \"list_of_materials\": {\"title\": \"List Of Materials\", \"type\": \"array\", \"items\": {\"type\": \"string\"}}, \"procedure\": {\"title\": \"Procedure\", \"type\": \"array\", \"items\": {\"type\": \"string\"}}, \"additional_notes\": {\"title\": \"Additional Notes\", \"type\": \"array\", \"items\": {\"type\": \"string\"}}, \"differentiation_strategies\": {\"title\": \"Differentiation Strategies\", \"type\": \"array\", \"items\": {\"type\": \"string\"}}}, \"required\": [\"time_estimate\", \"list_of_materials\", \"procedure\", \"additional_notes\", \"differentiation_strategies\"]}\n",
      "```\n"
     ]
    }
   ],
   "source": [
    "print(lesson_plan_parser.get_format_instructions())"
   ]
  },
  {
   "cell_type": "code",
   "execution_count": 12,
   "id": "b1a583b2-4c85-4163-9526-8631598cdf19",
   "metadata": {},
   "outputs": [],
   "source": [
    "lesson_plan_prompt = PromptTemplate(\n",
    "    template=\"\"\"Answer the user query.\n",
    "    {format_instructions}\n",
    "    You are a curriculum development expert and i am a teacher of second graders at a micro-school, with seven students of varying abilities.\n",
    "    I want you to generate a *detailed* lesson plan.\n",
    "    The name of the lesson is {activity_name}, and the short description is: {activity_description}\n",
    "\n",
    "    Additional guidelines for the lesson plan:\n",
    "    - The microschool  stresses the importance of outdoor education and student-led development, but it also wants to ensure high academic standards.\n",
    "    - Ensure that the lesson uses and develops skills relevant to the academic subject: {subject}\n",
    "    - Try to make the best estimate of the total amount of time the activity will take. Be generous because these are young kids and they take a while!\n",
    "    - The additional notes should include the actual content if applicable (e.g., interview questions, puzzle clues,specific writing prompts, etc.), so the teacher does not need to do additional brainstorming to create the lesson.\n",
    "    - The differentiation strategies should provide modifications for students who need more support, for students who need more challenge, and for neurodivergent students.\n",
    "    \"\"\"\n",
    "    ,\n",
    "    input_variables=[\"activity_name\", \"activity_description\", \"subject\"],\n",
    "    partial_variables={\"format_instructions\": lesson_plan_parser.get_format_instructions()}\n",
    ")"
   ]
  },
  {
   "cell_type": "code",
   "execution_count": 13,
   "id": "47d8f771-35d1-4276-b4c5-272f1555dc8d",
   "metadata": {},
   "outputs": [
    {
     "name": "stdout",
     "output_type": "stream",
     "text": [
      "The output should be formatted as a JSON instance that conforms to the JSON schema below.\n",
      "\n",
      "As an example, for the schema {\"properties\": {\"foo\": {\"title\": \"Foo\", \"description\": \"a list of strings\", \"type\": \"array\", \"items\": {\"type\": \"string\"}}}, \"required\": [\"foo\"]}\n",
      "the object {\"foo\": [\"bar\", \"baz\"]} is a well-formatted instance of the schema. The object {\"properties\": {\"foo\": [\"bar\", \"baz\"]}} is not well-formatted.\n",
      "\n",
      "Here is the output schema:\n",
      "```\n",
      "{\"properties\": {\"time_estimate\": {\"title\": \"Time Estimate\", \"type\": \"string\"}, \"list_of_materials\": {\"title\": \"List Of Materials\", \"type\": \"array\", \"items\": {\"type\": \"string\"}}, \"procedure\": {\"title\": \"Procedure\", \"type\": \"array\", \"items\": {\"type\": \"string\"}}, \"additional_notes\": {\"title\": \"Additional Notes\", \"type\": \"array\", \"items\": {\"type\": \"string\"}}, \"differentiation_strategies\": {\"title\": \"Differentiation Strategies\", \"type\": \"array\", \"items\": {\"type\": \"string\"}}}, \"required\": [\"time_estimate\", \"list_of_materials\", \"procedure\", \"additional_notes\", \"differentiation_strategies\"]}\n",
      "```\n"
     ]
    }
   ],
   "source": [
    "print(lesson_plan_parser.get_format_instructions())"
   ]
  },
  {
   "cell_type": "markdown",
   "id": "03141867-d447-46a7-a823-4ed8765284ac",
   "metadata": {},
   "source": [
    "# Define Helper Functions"
   ]
  },
  {
   "cell_type": "code",
   "execution_count": 14,
   "id": "2e4dbec5-2624-48e5-98b5-7afb8b70eb95",
   "metadata": {},
   "outputs": [],
   "source": [
    "def prompt_wrapper(prompt, parser, model, max_retries=5, **kwargs):\n",
    "    res ={}\n",
    "    _input = prompt.format_prompt(**kwargs)\n",
    "    for attempt in range(max_retries + 1):  #sometimes the parser fails inexplicably\n",
    "        try:\n",
    "            output = model(_input.to_string())\n",
    "            parsed_output = parser.parse(output)\n",
    "            break\n",
    "        except Exception as e:\n",
    "            if attempt < max_retries:\n",
    "                # print(e)\n",
    "                print(f\"Attempt {attempt + 1} failed. Retrying...\")\n",
    "                time.sleep(2)  # Wait before retrying\n",
    "            else:\n",
    "                print(f\"API call failed after {max_retries} attempts. Skipping.\")\n",
    "    return parsed_output\n",
    "    "
   ]
  },
  {
   "cell_type": "code",
   "execution_count": 15,
   "id": "a6a8d2f6-0ed4-48fe-bfc9-963b4c15d81c",
   "metadata": {},
   "outputs": [],
   "source": [
    "def make_ordered_list_markdown(lst):\n",
    "    markdown_list = [f\"{idx}. {val}\" for idx, val in enumerate(lst, start=1)]\n",
    "    return '\\n'.join(markdown_list)"
   ]
  },
  {
   "cell_type": "code",
   "execution_count": 16,
   "id": "998ee8e0-6b5b-4e3e-9c6d-c37a1481b1f3",
   "metadata": {},
   "outputs": [],
   "source": [
    "def make_list_markdown(lst):\n",
    "    return \"- \" + \"\\n- \".join(lst)"
   ]
  },
  {
   "cell_type": "code",
   "execution_count": 17,
   "id": "ee7c2632-1664-4e3a-b9d0-32479bbd7301",
   "metadata": {},
   "outputs": [],
   "source": [
    "def convert_lesson_plan_to_markdown(lesson_plan_dict):\n",
    "    res = []\n",
    "    res.append(f\"## {lesson_plan_dict['name']}\")\n",
    "    res.append(lesson_plan_dict['description'])\n",
    "    res.append(f\"\\n### Time estimate: {lesson_plan_dict['time_estimate']}\")\n",
    "    res.append(f\"\\n### Materials\")\n",
    "    res.append(make_list_markdown(lesson_plan_dict[\"list_of_materials\"]))\n",
    "    res.append(f\"\\n### Procedure\")\n",
    "    res.append(make_ordered_list_markdown(lesson_plan_dict['procedure']))\n",
    "    res.append(f\"\\n### Additional notes\")\n",
    "    res.append(make_list_markdown(lesson_plan_dict['additional_notes']))\n",
    "    res.append(f\"\\n### Differentiation strategies\")\n",
    "    res.append(make_list_markdown(lesson_plan_dict['differentiation_strategies']))\n",
    "    \n",
    "    return \"\\n\".join(res)\n",
    "    "
   ]
  },
  {
   "cell_type": "markdown",
   "id": "333f9b93-ac87-48fe-b86e-4f1ea227ecf9",
   "metadata": {},
   "source": [
    "## Test on single records"
   ]
  },
  {
   "cell_type": "code",
   "execution_count": 18,
   "id": "f0bc51d8-6639-42d1-b574-a828a081ec2c",
   "metadata": {},
   "outputs": [],
   "source": [
    "month = \"September\""
   ]
  },
  {
   "cell_type": "code",
   "execution_count": 19,
   "id": "02676353-b95e-4c0b-b1ad-6f2abe673e10",
   "metadata": {},
   "outputs": [],
   "source": [
    "subject = 'math'"
   ]
  },
  {
   "cell_type": "code",
   "execution_count": 20,
   "id": "63419676-6e89-406c-bc21-443d4c2d066b",
   "metadata": {},
   "outputs": [],
   "source": [
    "month_record = annual_plan_df.set_index(\"month\").loc[month].to_dict()"
   ]
  },
  {
   "cell_type": "code",
   "execution_count": 21,
   "id": "cc7d5ac0-5528-4134-a6de-0d0bc333fdf3",
   "metadata": {},
   "outputs": [
    {
     "data": {
      "text/plain": [
       "{'theme_to_explore': 'On the Map, where we’re from',\n",
       " 'language_arts': 'My Place on the Map: Descriptive Writing',\n",
       " 'math': 'Mapping Our Neighborhood; Measurement (units of lenghth, weight, etc.)',\n",
       " 'social_studies': 'My Hometown and Its History; Local History; geography',\n",
       " 'science': 'Water cycle, rivers; Geology, caves'}"
      ]
     },
     "execution_count": 21,
     "metadata": {},
     "output_type": "execute_result"
    }
   ],
   "source": [
    "month_record"
   ]
  },
  {
   "cell_type": "code",
   "execution_count": 22,
   "id": "fde72058-485b-4487-896d-34639db08fb1",
   "metadata": {},
   "outputs": [],
   "source": [
    "theme = month_record['theme_to_explore']"
   ]
  },
  {
   "cell_type": "code",
   "execution_count": 23,
   "id": "7060730a-d7b3-467a-981a-a94b22c2a54f",
   "metadata": {},
   "outputs": [],
   "source": [
    "topic = month_record[subject]"
   ]
  },
  {
   "cell_type": "code",
   "execution_count": 24,
   "id": "ea94f452-958f-4bba-9580-f40b5437675f",
   "metadata": {},
   "outputs": [
    {
     "data": {
      "text/plain": [
       "'Mapping Our Neighborhood; Measurement (units of lenghth, weight, etc.)'"
      ]
     },
     "execution_count": 24,
     "metadata": {},
     "output_type": "execute_result"
    }
   ],
   "source": [
    "topic"
   ]
  },
  {
   "cell_type": "code",
   "execution_count": 25,
   "id": "11b24e24-6383-4417-9ef0-c38d46eb29ad",
   "metadata": {},
   "outputs": [
    {
     "data": {
      "text/plain": [
       "'On the Map, where we’re from'"
      ]
     },
     "execution_count": 25,
     "metadata": {},
     "output_type": "execute_result"
    }
   ],
   "source": [
    "theme"
   ]
  },
  {
   "cell_type": "code",
   "execution_count": 26,
   "id": "a49144d4-27e7-4803-a039-fa7a976b515d",
   "metadata": {},
   "outputs": [],
   "source": [
    "num_plans = 5"
   ]
  },
  {
   "cell_type": "code",
   "execution_count": 27,
   "id": "56cb7f44-4dbe-4022-8ddf-69093647e558",
   "metadata": {},
   "outputs": [],
   "source": [
    "activity_ideas_parsed = prompt_wrapper(  # Generate activity ideas for each month-subject combo\n",
    "                prompt=activity_idea_prompt, \n",
    "                parser=activity_ideas_parser,\n",
    "                model=model,\n",
    "                num_ideas=num_plans,\n",
    "                month=month,\n",
    "                theme=theme,\n",
    "                subject=subject, \n",
    "                topic=topic\n",
    "            )"
   ]
  },
  {
   "cell_type": "code",
   "execution_count": 28,
   "id": "36ebbd7e-b387-4cd4-89b6-b248818598a8",
   "metadata": {},
   "outputs": [],
   "source": [
    "activity_ideas_dict = activity_ideas_parsed.dict()"
   ]
  },
  {
   "cell_type": "code",
   "execution_count": 29,
   "id": "13f9e1b0-7550-414a-b012-6f5250124012",
   "metadata": {},
   "outputs": [
    {
     "name": "stdout",
     "output_type": "stream",
     "text": [
      "{'ideas': [{'description': 'Create a map of the neighborhood using a variety '\n",
      "                           'of measurement tools, such as rulers, tape '\n",
      "                           'measures, and yardsticks. Have the students '\n",
      "                           'measure the length and width of buildings, '\n",
      "                           'streets, and other landmarks.',\n",
      "            'name': 'Mapping Our Neighborhood'},\n",
      "           {'description': 'Have the students measure their height, weight, '\n",
      "                           'and other body parts using a variety of '\n",
      "                           'measurement tools. Have them compare their '\n",
      "                           'measurements to each other and discuss the '\n",
      "                           'differences.',\n",
      "            'name': 'Measuring Ourselves'},\n",
      "           {'description': 'Have the students measure the size of objects '\n",
      "                           'around them, such as furniture, toys, and other '\n",
      "                           'items. Have them compare the measurements and '\n",
      "                           'discuss the differences.',\n",
      "            'name': 'Measuring Our World'},\n",
      "           {'description': 'Have the students create a map of the world using '\n",
      "                           'a variety of measurement tools. Have them measure '\n",
      "                           'the size of countries, oceans, and other '\n",
      "                           'landmarks.',\n",
      "            'name': 'Mapping Our World'},\n",
      "           {'description': 'Have the students measure the amount of time it '\n",
      "                           'takes to complete various tasks, such as reading a '\n",
      "                           'book, running a race, or completing a puzzle. Have '\n",
      "                           'them compare their results and discuss the '\n",
      "                           'differences.',\n",
      "            'name': 'Measuring Our Time'}]}\n"
     ]
    }
   ],
   "source": [
    "pp.pprint(activity_ideas_dict)\n"
   ]
  },
  {
   "cell_type": "code",
   "execution_count": 30,
   "id": "86d1b470-33ec-4e95-a4d7-2b5c1fffae0b",
   "metadata": {},
   "outputs": [],
   "source": [
    "activity_idea = activity_ideas_dict[\"ideas\"][0]"
   ]
  },
  {
   "cell_type": "code",
   "execution_count": 31,
   "id": "0dc77118-6d45-466a-b940-ae60e81a7382",
   "metadata": {},
   "outputs": [
    {
     "data": {
      "text/plain": [
       "{'name': 'Mapping Our Neighborhood',\n",
       " 'description': 'Create a map of the neighborhood using a variety of measurement tools, such as rulers, tape measures, and yardsticks. Have the students measure the length and width of buildings, streets, and other landmarks.'}"
      ]
     },
     "execution_count": 31,
     "metadata": {},
     "output_type": "execute_result"
    }
   ],
   "source": [
    "activity_idea"
   ]
  },
  {
   "cell_type": "code",
   "execution_count": 32,
   "id": "df509d5c-a6d6-43ca-83eb-0563195023bf",
   "metadata": {},
   "outputs": [],
   "source": [
    "idea_name = activity_idea[\"name\"]\n",
    "idea_description = activity_idea[\"description\"]"
   ]
  },
  {
   "cell_type": "code",
   "execution_count": 33,
   "id": "39114852-9dbd-4057-a807-3f80621b0e06",
   "metadata": {},
   "outputs": [
    {
     "name": "stdout",
     "output_type": "stream",
     "text": [
      "Mapping Our Neighborhood: Create a map of the neighborhood using a variety of measurement tools, such as rulers, tape measures, and yardsticks. Have the students measure the length and width of buildings, streets, and other landmarks.\n"
     ]
    }
   ],
   "source": [
    "print(f\"{idea_name}: {idea_description}\")"
   ]
  },
  {
   "cell_type": "code",
   "execution_count": 34,
   "id": "be410351-da1a-433c-b968-3a22c423c48b",
   "metadata": {},
   "outputs": [],
   "source": [
    "lesson_plan_output_parsed = prompt_wrapper(\n",
    "    prompt=lesson_plan_prompt, \n",
    "    parser=lesson_plan_parser, \n",
    "    model=model,\n",
    "    activity_name=idea_name, \n",
    "    activity_description=idea_description, \n",
    "    subject=subject\n",
    ")"
   ]
  },
  {
   "cell_type": "code",
   "execution_count": 35,
   "id": "5267e918-dc36-4a12-b829-640050c8c6c8",
   "metadata": {},
   "outputs": [
    {
     "data": {
      "text/plain": [
       "'2 hours'"
      ]
     },
     "execution_count": 35,
     "metadata": {},
     "output_type": "execute_result"
    }
   ],
   "source": [
    "lesson_plan_output_parsed.time_estimate"
   ]
  },
  {
   "cell_type": "code",
   "execution_count": 36,
   "id": "f3c933d3-3399-4656-a6ce-6d2e64cccdec",
   "metadata": {},
   "outputs": [],
   "source": [
    "lp_parsed_dict = lesson_plan_output_parsed.dict()"
   ]
  },
  {
   "cell_type": "code",
   "execution_count": 37,
   "id": "1624b751-d865-4f3a-95a5-2ef58f05b658",
   "metadata": {},
   "outputs": [],
   "source": [
    "full_lesson_plan_dict = {k: v for k, v in activity_idea.items()}\n",
    "full_lesson_plan_dict.update(lesson_plan_output_parsed.dict())"
   ]
  },
  {
   "cell_type": "code",
   "execution_count": 38,
   "id": "757f1823-ee29-4463-9c11-d634fd1cf403",
   "metadata": {},
   "outputs": [
    {
     "data": {
      "text/plain": [
       "{'name': 'Mapping Our Neighborhood',\n",
       " 'description': 'Create a map of the neighborhood using a variety of measurement tools, such as rulers, tape measures, and yardsticks. Have the students measure the length and width of buildings, streets, and other landmarks.',\n",
       " 'time_estimate': '2 hours',\n",
       " 'list_of_materials': ['Rulers', 'Tape measures', 'Yardsticks'],\n",
       " 'procedure': ['Have the students measure the length and width of buildings, streets, and other landmarks.',\n",
       "  'Have the students create a map of the neighborhood using the measurements they have taken.'],\n",
       " 'additional_notes': ['Encourage the students to think critically about the measurements they are taking and how they can use them to create an accurate map.',\n",
       "  'Provide examples of maps and discuss the importance of accuracy in mapping.'],\n",
       " 'differentiation_strategies': ['For students who need more support: Provide additional guidance and support when measuring and creating the map.',\n",
       "  'For students who need more challenge: Encourage the students to think of creative ways to measure and create the map.',\n",
       "  'For neurodivergent students: Provide additional breaks and allow for more time to complete the activity.']}"
      ]
     },
     "execution_count": 38,
     "metadata": {},
     "output_type": "execute_result"
    }
   ],
   "source": [
    "full_lesson_plan_dict"
   ]
  },
  {
   "cell_type": "code",
   "execution_count": 39,
   "id": "d8ac38cd-4f87-4461-b72d-50f6da4fa935",
   "metadata": {},
   "outputs": [],
   "source": [
    "lesson_plan_markdown = convert_lesson_plan_to_markdown(full_lesson_plan_dict)"
   ]
  },
  {
   "cell_type": "code",
   "execution_count": 40,
   "id": "6fba043a-18a6-4fa1-bf15-faf597cc90d6",
   "metadata": {},
   "outputs": [
    {
     "data": {
      "text/markdown": [
       "## Mapping Our Neighborhood\n",
       "Create a map of the neighborhood using a variety of measurement tools, such as rulers, tape measures, and yardsticks. Have the students measure the length and width of buildings, streets, and other landmarks.\n",
       "\n",
       "### Time estimate: 2 hours\n",
       "\n",
       "### Materials\n",
       "- Rulers\n",
       "- Tape measures\n",
       "- Yardsticks\n",
       "\n",
       "### Procedure\n",
       "1. Have the students measure the length and width of buildings, streets, and other landmarks.\n",
       "2. Have the students create a map of the neighborhood using the measurements they have taken.\n",
       "\n",
       "### Additional notes\n",
       "- Encourage the students to think critically about the measurements they are taking and how they can use them to create an accurate map.\n",
       "- Provide examples of maps and discuss the importance of accuracy in mapping.\n",
       "\n",
       "### Differentiation strategies\n",
       "- For students who need more support: Provide additional guidance and support when measuring and creating the map.\n",
       "- For students who need more challenge: Encourage the students to think of creative ways to measure and create the map.\n",
       "- For neurodivergent students: Provide additional breaks and allow for more time to complete the activity."
      ],
      "text/plain": [
       "<IPython.core.display.Markdown object>"
      ]
     },
     "metadata": {},
     "output_type": "display_data"
    }
   ],
   "source": [
    "display(Markdown(lesson_plan_markdown))"
   ]
  },
  {
   "cell_type": "markdown",
   "id": "915f045c-ff9c-4361-971d-e9e7fb1a4fa7",
   "metadata": {},
   "source": [
    "# Define Wrapper Function"
   ]
  },
  {
   "cell_type": "code",
   "execution_count": 45,
   "id": "779dd20e-f97c-4d8d-80a8-a05147a6f39c",
   "metadata": {},
   "outputs": [],
   "source": [
    "def wrapper(annual_plan_df, num_plans=5, months=None):\n",
    "    res = {}\n",
    "    if months is None:\n",
    "        months = annual_plan_df['month'].values\n",
    "    df = annual_plan_df.query('month.isin(@months)')\n",
    "    for idx, row in df.head(3).iterrows(): # first iterate through the months in the table\n",
    "        month = row[\"month\"]\n",
    "        theme = row[\"theme_to_explore\"]\n",
    "        print(f\"# {month}\")\n",
    "        markdown_lst = []\n",
    "        markdown_lst.append(f\"# {month}\")\n",
    "        markdown_lst.append(f\"## Theme: {theme}\")\n",
    "        res[month] = dict()\n",
    "        subjects = df.columns[2:].values\n",
    "        for subject in subjects:  # for each month, iterate through the academic subjects\n",
    "            pretty_subject = subject.replace(\"_\", \" \").title()\n",
    "            markdown_lst.append(f\"\\n# {pretty_subject}\")\n",
    "            print(f\"- {pretty_subject}\")\n",
    "            topic = row[subject]\n",
    "            activity_ideas_parsed = prompt_wrapper(  # Generate activity ideas for each month-subject combo\n",
    "                prompt=activity_idea_prompt, \n",
    "                parser=activity_ideas_parser,\n",
    "                model=model,\n",
    "                num_ideas=num_plans,\n",
    "                month=month,\n",
    "                theme=theme,\n",
    "                subject=subject, \n",
    "                topic=topic\n",
    "            )\n",
    "            print(\"Generated ideas\")\n",
    "            res[month][subject] = activity_ideas_parsed.dict()\n",
    "            for idea in res[month][subject][\"ideas\"]: #  Generate lesson plans for each idea\n",
    "                activity_name = idea[\"name\"]\n",
    "                activity_description = idea[\"description\"]\n",
    "                lesson_plan = prompt_wrapper(\n",
    "                    prompt=lesson_plan_prompt, \n",
    "                    parser=lesson_plan_parser,\n",
    "                    model=model,\n",
    "                    activity_name=activity_name, \n",
    "                    activity_description=activity_description, \n",
    "                    subject=subject\n",
    "                )\n",
    "                idea.update(lesson_plan)\n",
    "                lesson_plan_markdown = convert_lesson_plan_to_markdown(idea)\n",
    "                markdown_lst.append(f\"\\n{lesson_plan_markdown}\")\n",
    "                markdown_string = \"\\n\".join(markdown_lst)\n",
    "            print(\"Generated lesson plans\")\n",
    "                \n",
    "        # Write the output of each month to a Markdown file\n",
    "        output_file_path = f'../output/{idx + 1} {month} Lesson Plans.md'\n",
    "        with open(output_file_path, \"w\") as output_file:\n",
    "            output_file.write(markdown_string)\n",
    "\n",
    "        print(f\"Markdown output written to '{output_file_path}'.\")\n",
    "        print(\"*\" * 50, \"\\n\")\n",
    "        # break\n",
    "    \n",
    "    # Write full results to a JSON file\n",
    "    full_result_output_path = \"../output/lesson_plan.json\"\n",
    "    with open(full_result_output_path , \"w\") as json_file:\n",
    "        json.dump(res, json_file)\n",
    "    print(f\"JSON output written to '{full_result_output_path }'.\")\n",
    "    return res"
   ]
  },
  {
   "cell_type": "markdown",
   "id": "c096e392-98cd-4b6f-a666-43a0e5e64d1d",
   "metadata": {},
   "source": [
    "# Run"
   ]
  },
  {
   "cell_type": "code",
   "execution_count": 46,
   "id": "f035cc07-b571-4dc2-b750-a6b8f3028fba",
   "metadata": {},
   "outputs": [
    {
     "data": {
      "text/html": [
       "<div>\n",
       "<style scoped>\n",
       "    .dataframe tbody tr th:only-of-type {\n",
       "        vertical-align: middle;\n",
       "    }\n",
       "\n",
       "    .dataframe tbody tr th {\n",
       "        vertical-align: top;\n",
       "    }\n",
       "\n",
       "    .dataframe thead th {\n",
       "        text-align: right;\n",
       "    }\n",
       "</style>\n",
       "<table border=\"1\" class=\"dataframe\">\n",
       "  <thead>\n",
       "    <tr style=\"text-align: right;\">\n",
       "      <th></th>\n",
       "      <th>month</th>\n",
       "      <th>theme_to_explore</th>\n",
       "      <th>language_arts</th>\n",
       "      <th>math</th>\n",
       "      <th>social_studies</th>\n",
       "      <th>science</th>\n",
       "    </tr>\n",
       "  </thead>\n",
       "  <tbody>\n",
       "    <tr>\n",
       "      <th>0</th>\n",
       "      <td>August</td>\n",
       "      <td>Getting to Know One Another; Class Community</td>\n",
       "      <td>All About Me: Personal Narratives</td>\n",
       "      <td>Friendship Math: Counting and Sorting</td>\n",
       "      <td>Our Classroom Community</td>\n",
       "      <td>Exploring the school environment and local eco...</td>\n",
       "    </tr>\n",
       "    <tr>\n",
       "      <th>1</th>\n",
       "      <td>September</td>\n",
       "      <td>On the Map, where we’re from</td>\n",
       "      <td>My Place on the Map: Descriptive Writing</td>\n",
       "      <td>Mapping Our Neighborhood; Measurement (units o...</td>\n",
       "      <td>My Hometown and Its History; Local History; ge...</td>\n",
       "      <td>Water cycle, rivers; Geology, caves</td>\n",
       "    </tr>\n",
       "    <tr>\n",
       "      <th>2</th>\n",
       "      <td>October</td>\n",
       "      <td>Fall; Halloween; Dia de los Muertos</td>\n",
       "      <td>Spooky Stories: Creative Writing</td>\n",
       "      <td>Place value; Estimation and graphs</td>\n",
       "      <td>Fall celebrations (Halloween, Dia de los Muertos)</td>\n",
       "      <td>Animal science: Investigating Local Food Chains</td>\n",
       "    </tr>\n",
       "    <tr>\n",
       "      <th>3</th>\n",
       "      <td>November</td>\n",
       "      <td>Gratitude; Native Americans</td>\n",
       "      <td>Thankful Thoughts; Native American Storytelling</td>\n",
       "      <td>Addition and Subtraction</td>\n",
       "      <td>Native American History</td>\n",
       "      <td>Investigating Seasonal Changes and Plants</td>\n",
       "    </tr>\n",
       "    <tr>\n",
       "      <th>4</th>\n",
       "      <td>December</td>\n",
       "      <td>Winter Solstice and winter holidays</td>\n",
       "      <td>Holiday Traditions Around the World</td>\n",
       "      <td>Snowflake Symmetry; geometry (2-D shapes)</td>\n",
       "      <td>Holidays Worldwide</td>\n",
       "      <td>Exploring Winter Animal Adaptations</td>\n",
       "    </tr>\n",
       "  </tbody>\n",
       "</table>\n",
       "</div>"
      ],
      "text/plain": [
       "       month                              theme_to_explore  \\\n",
       "0     August  Getting to Know One Another; Class Community   \n",
       "1  September                  On the Map, where we’re from   \n",
       "2    October           Fall; Halloween; Dia de los Muertos   \n",
       "3   November                   Gratitude; Native Americans   \n",
       "4   December           Winter Solstice and winter holidays   \n",
       "\n",
       "                                     language_arts  \\\n",
       "0                All About Me: Personal Narratives   \n",
       "1         My Place on the Map: Descriptive Writing   \n",
       "2                 Spooky Stories: Creative Writing   \n",
       "3  Thankful Thoughts; Native American Storytelling   \n",
       "4              Holiday Traditions Around the World   \n",
       "\n",
       "                                                math  \\\n",
       "0              Friendship Math: Counting and Sorting   \n",
       "1  Mapping Our Neighborhood; Measurement (units o...   \n",
       "2                 Place value; Estimation and graphs   \n",
       "3                           Addition and Subtraction   \n",
       "4          Snowflake Symmetry; geometry (2-D shapes)   \n",
       "\n",
       "                                      social_studies  \\\n",
       "0                            Our Classroom Community   \n",
       "1  My Hometown and Its History; Local History; ge...   \n",
       "2  Fall celebrations (Halloween, Dia de los Muertos)   \n",
       "3                            Native American History   \n",
       "4                                 Holidays Worldwide   \n",
       "\n",
       "                                             science  \n",
       "0  Exploring the school environment and local eco...  \n",
       "1                Water cycle, rivers; Geology, caves  \n",
       "2    Animal science: Investigating Local Food Chains  \n",
       "3          Investigating Seasonal Changes and Plants  \n",
       "4                Exploring Winter Animal Adaptations  "
      ]
     },
     "execution_count": 46,
     "metadata": {},
     "output_type": "execute_result"
    }
   ],
   "source": [
    "annual_plan_df.head()"
   ]
  },
  {
   "cell_type": "code",
   "execution_count": 48,
   "id": "9d47adbe-57ce-45fa-b32c-396c84e17f77",
   "metadata": {},
   "outputs": [
    {
     "name": "stdout",
     "output_type": "stream",
     "text": [
      "# November\n",
      "- Language Arts\n",
      "Generated ideas\n",
      "Generated lesson plans\n",
      "- Math\n",
      "Generated ideas\n",
      "Generated lesson plans\n",
      "- Social Studies\n",
      "Generated ideas\n",
      "Attempt 1 failed. Retrying...\n",
      "Generated lesson plans\n",
      "- Science\n",
      "Generated ideas\n",
      "Generated lesson plans\n",
      "Markdown output written to '../output/4 November Lesson Plans.md'.\n",
      "************************************************** \n",
      "\n",
      "# December\n",
      "- Language Arts\n",
      "Generated ideas\n",
      "Generated lesson plans\n",
      "- Math\n",
      "Generated ideas\n",
      "Generated lesson plans\n",
      "- Social Studies\n",
      "Generated ideas\n",
      "Attempt 1 failed. Retrying...\n",
      "Generated lesson plans\n",
      "- Science\n",
      "Generated ideas\n",
      "Generated lesson plans\n",
      "Markdown output written to '../output/5 December Lesson Plans.md'.\n",
      "************************************************** \n",
      "\n",
      "JSON output written to '../output/lesson_plan.json'.\n"
     ]
    }
   ],
   "source": [
    "lesson_plans = wrapper(annual_plan_df, months=[\"November\", \"December\"])"
   ]
  },
  {
   "cell_type": "markdown",
   "id": "14c4c95d-8f44-48e8-98ab-f02272102bfd",
   "metadata": {},
   "source": [
    "# View Results"
   ]
  },
  {
   "cell_type": "code",
   "execution_count": 41,
   "id": "d31036c9-fdc2-4aa1-ad22-f8dd0af85595",
   "metadata": {},
   "outputs": [
    {
     "data": {
      "application/json": {
       "August": {
        "language_arts": {
         "ideas": [
          {
           "additional_notes": [
            "The stories should be focused on the students and their classmates.",
            "Encourage the students to use descriptive language and to think about the characters and setting of their stories.",
            "Provide the students with storytelling prompts if they need help getting started.",
            "Encourage the students to use their imaginations and to create stories that are meaningful to them."
           ],
           "description": "Students will create and share stories about themselves and their classmates.",
           "differentiation_strategies": [
            "For students who need more support: Provide additional time to brainstorm and write their stories. Provide additional storytelling prompts to help them get started. Allow them to work with a partner to help them come up with ideas.",
            "For students who need more challenge: Encourage them to use more complex language and to add more details to their stories. Ask them to think of ways to make their stories more interesting.",
            "For neurodivergent students: Allow them to take breaks as needed. Provide them with visual aids or other tools to help them understand the activity. Give them the option to work with a partner or in a small group."
           ],
           "list_of_materials": [
            "Paper",
            "Pencils",
            "Colored Pencils",
            "Storytelling Prompts"
           ],
           "name": "Storytelling",
           "procedure": [
            "Introduce the lesson and explain the activity to the students.",
            "Provide each student with paper and pencils.",
            "Give the students a few minutes to brainstorm ideas for their stories.",
            "Have the students write out their stories.",
            "Allow the students to share their stories with the class.",
            "Discuss the stories as a class and ask questions to help the students think more deeply about the stories."
           ],
           "time_estimate": "2 hours"
          },
          {
           "additional_notes": [
            "Encourage students to be creative with their word games and come up with their own rules.",
            "Provide example stories, questions, clues, or prompts to help students come up with their own word games."
           ],
           "description": "Students will play educational word games to practice literacy skills.",
           "differentiation_strategies": [
            "For students who need more support: Provide more guidance and assistance when creating and playing the word games.",
            "For students who need more challenge: Encourage students to come up with more complex rules for their word games.",
            "For neurodivergent students: Allow students to work independently or in pairs, and provide a quiet area for students who need a break from the group activity."
           ],
           "list_of_materials": [
            "pencils",
            "paper",
            "word game materials (e.g. cards, dice, etc.)"
           ],
           "name": "Word Games",
           "procedure": [
            "Introduce the lesson and explain the activity to students.",
            "Divide students into small groups and provide each group with the necessary materials.",
            "Have each group create their own word game based on the language_arts skills they are learning.",
            "Allow students to play their word games and provide help and guidance as needed.",
            "Once all groups have finished playing their games, have each group explain their game to the class and discuss the language_arts skills they practiced."
           ],
           "time_estimate": "2 hours"
          },
          {
           "additional_notes": [
            "Writing prompts should be tailored to the students' interests and abilities",
            "Encourage students to use descriptive language and vivid imagery",
            "Provide examples of stories that use the writing prompts to help students understand the concept"
           ],
           "description": "Students will use writing prompts to create personal narratives about themselves.",
           "differentiation_strategies": [
            "For students who need more support: provide additional examples of writing prompts and stories, and give more time for brainstorming and writing",
            "For students who need more challenge: provide more complex writing prompts and encourage students to use more sophisticated language and structure",
            "For neurodivergent students: provide a quiet space for students to work and allow students to work alone or in pairs instead of in a group"
           ],
           "list_of_materials": [
            "Writing prompts",
            "Paper",
            "Pencils"
           ],
           "name": "Writing Prompts",
           "procedure": [
            "Introduce the lesson and explain the purpose of writing prompts",
            "Provide examples of writing prompts",
            "Allow students to brainstorm ideas for their own writing prompts",
            "Instruct students to write a story using their writing prompt",
            "Allow students to share their stories with the class",
            "Discuss the stories and provide feedback to the students"
           ],
           "time_estimate": "2 hours"
          },
          {
           "additional_notes": [
            "The scavenger hunt cards should include questions about each student’s favorite color, food, hobby, etc.",
            "Provide a list of example items that the teams can look for in the classroom (e.g., a book with a yellow cover, a painting of a flower, etc.)"
           ],
           "description": "Students will explore the classroom and find items related to the theme of getting to know one another.",
           "differentiation_strategies": [
            "For students who need more support: provide additional scaffolding and guidance when introducing the activity and when reviewing the answers",
            "For students who need more challenge: provide more complex questions or tasks for the scavenger hunt",
            "For neurodivergent students: provide visual supports or allow them to work with a partner"
           ],
           "list_of_materials": [
            "pencils",
            "paper",
            "scavenger hunt cards"
           ],
           "name": "Classroom Scavenger Hunt",
           "procedure": [
            "Introduce the activity and explain the rules",
            "Divide the class into teams of two or three students",
            "Have each team select a scavenger hunt card",
            "Allow the teams to explore the classroom and find items related to the theme of getting to know one another",
            "Have the teams write down their answers on the paper",
            "Have the teams present their answers to the class and discuss",
            "Review the answers as a class and discuss any differences or similarities"
           ],
           "time_estimate": "1 hour"
          },
          {
           "additional_notes": [
            "Encourage the students to be creative and think outside the box.",
            "Provide prompts to help the students get started, such as 'What did you do last weekend?' or 'What is your favorite hobby?'.",
            "Remind the students to be respectful of each other's experiences and feelings."
           ],
           "description": "Students will write letters to each other about their personal experiences.",
           "differentiation_strategies": [
            "For students who need more support: provide additional prompts and guidance throughout the activity.",
            "For students who need more challenge: encourage them to be creative and think of unique experiences to write about.",
            "For neurodivergent students: provide additional breaks throughout the activity and allow them to work at their own pace."
           ],
           "list_of_materials": [
            "Paper",
            "Writing utensils",
            "Envelopes"
           ],
           "name": "Letter Writing",
           "procedure": [
            "Explain the activity to the students: they will be writing letters to each other about their personal experiences.",
            "Break the students into pairs and provide each pair with paper, writing utensils, and envelopes.",
            "Allow the students to brainstorm ideas for their letters and provide guidance as needed.",
            "Once the students have finished writing their letters, have them exchange their letters with their partner and read them aloud.",
            "Allow time for the students to discuss their letters and ask questions about each other's experiences.",
            "Close the activity by having the students reflect on what they learned from the activity."
           ],
           "time_estimate": "2 hours"
          }
         ]
        },
        "math": {
         "ideas": [
          {
           "additional_notes": [
            "Encourage students to work together and help each other out.",
            "Provide examples of counting and sorting activities that can be done outdoors or in a game format.",
            "Encourage students to ask questions and provide support for any questions they have.",
            "Provide support for any students who need extra help understanding the concepts."
           ],
           "description": "Students work together to count and sort objects in the classroom, outdoors, or in a game format. This activity helps build teamwork and math skills.",
           "differentiation_strategies": [
            "For students who need more support: provide additional examples and visuals to help them understand the concepts.",
            "For students who need more challenge: provide more complex counting and sorting activities.",
            "For neurodivergent students: provide alternative activities that focus on the same concepts but in a different format."
           ],
           "list_of_materials": [
            "objects to count and sort",
            "pencils and paper"
           ],
           "name": "Friendship Math: Counting and Sorting",
           "procedure": [
            "Introduce the activity and explain the purpose of the activity.",
            "Provide instructions for the activity, including how to count and sort the objects.",
            "Allow the students to work together to count and sort the objects.",
            "Discuss the results of the activity and how it relates to math skills.",
            "Provide an opportunity for students to reflect on the activity and discuss any challenges they faced."
           ],
           "time_estimate": "45 minutes"
          },
          {
           "additional_notes": [
            "Encourage the students to discuss the numbers and words as they are labeling the number line.",
            "Check in with each group to ensure they are understanding the concept.",
            "Encourage the students to discuss why the number line is important and how it can help them with math.",
            "Provide additional support or challenge as needed."
           ],
           "description": "Students work together to create a number line and label it with numbers and words. This activity helps build teamwork and math skills.",
           "differentiation_strategies": [
            "For students who need more support: provide additional scaffolding and verbal cues as needed.",
            "For students who need more challenge: provide additional challenges such as having them create their own number line or having them label the number line with fractions or decimals.",
            "For neurodivergent students: provide additional time to process the instructions and allow them to work at their own pace."
           ],
           "list_of_materials": [
            "Number line",
            "Number cards (1-10)",
            "Word cards (one, two, etc.)"
           ],
           "name": "Friendship Math: Number Line",
           "procedure": [
            "Divide the students into groups of two or three.",
            "Provide each group with a number line and number cards (1-10).",
            "Instruct the students to work together to label the number line with the number cards.",
            "Provide each group with word cards (one, two, etc.)",
            "Instruct the students to work together to label the number line with the word cards."
           ],
           "time_estimate": "1 hour"
          },
          {
           "additional_notes": [
            "Encourage the students to think critically and ask questions.",
            "Encourage the students to work together and help each other.",
            "Provide examples of different objects that can be measured, such as a pencil, a book, or a table.",
            "Explain the difference between length, width, and height."
           ],
           "description": "Students work together to measure different objects in the classroom or outdoors. This activity helps build teamwork and math skills.",
           "differentiation_strategies": [
            "For students who need more support: Provide additional guidance and assistance when measuring objects.",
            "For students who need more challenge: Have the students measure more complex objects and compare the results.",
            "For neurodivergent students: Allow the students to work at their own pace and provide verbal and visual cues to help them understand the concepts."
           ],
           "list_of_materials": [
            "Measuring tape",
            "Rulers",
            "Objects to measure"
           ],
           "name": "Friendship Math: Measurement",
           "procedure": [
            "Explain to the students the concept of measurement and why it is important.",
            "Divide the students into teams of two or three.",
            "Give each team a measuring tape or ruler.",
            "Provide each team with objects to measure.",
            "Allow the teams to measure the objects and record their results.",
            "Discuss the results as a class and compare the measurements of the different teams.",
            "Discuss the importance of accuracy and precision when measuring."
           ],
           "time_estimate": "2 hours"
          },
          {
           "additional_notes": [
            "Encourage students to think outside the box and explore different types of patterns (e.g., color patterns, shape patterns, number patterns, etc.).",
            "Provide examples of patterns for students to use as a reference.",
            "Remind students to be creative and use their imagination when creating patterns."
           ],
           "description": "Students work together to identify and create patterns. This activity helps build teamwork and math skills.",
           "differentiation_strategies": [
            "For students who need more support: provide more structure and guidance when introducing the activity.",
            "For students who need more challenge: provide additional prompts or questions to help them think more critically.",
            "For neurodivergent students: provide visual aids or tactile materials to help them understand the concept of patterns."
           ],
           "list_of_materials": [
            "Pens",
            "Paper",
            "Colored Pencils",
            "Pattern Cards"
           ],
           "name": "Friendship Math: Patterns",
           "procedure": [
            "Introduce the activity to the students and explain the concept of patterns.",
            "Have students work in pairs or small groups to identify and create patterns.",
            "Encourage students to explain their patterns to each other.",
            "Provide additional prompts or questions to help students identify patterns.",
            "Have the students create their own patterns.",
            "Have the students present their patterns to the class.",
            "Discuss the patterns and ask questions to help students understand them."
           ],
           "time_estimate": "1.5 hours"
          },
          {
           "additional_notes": [],
           "description": "Students work together to create stories using math concepts. This activity helps build teamwork and math skills.",
           "differentiation_strategies": [],
           "list_of_materials": [],
           "name": "Friendship Math: Storytelling",
           "procedure": [],
           "time_estimate": ""
          }
         ]
        },
        "science": {
         "ideas": [
          {
           "additional_notes": [
            "Encourage the students to ask questions and make observations about the plants and animals they encounter.",
            "Provide students with a list of questions to guide their exploration (e.g., What colors do you see? What shapes do you see? How do the plants and animals interact with each other?).",
            "Encourage students to draw pictures of their observations in their notebooks."
           ],
           "description": "Go on a walk around the school grounds and local area to explore the local ecosystems and observe the different plants and animals that live there.",
           "differentiation_strategies": [
            "For students who need more support: provide them with more guidance and structure when exploring the area.",
            "For students who need more challenge: provide them with more open-ended questions and allow them to explore the area more independently.",
            "For neurodivergent students: provide them with visual supports and allow them to explore the area at their own pace."
           ],
           "list_of_materials": [
            "Magnifying glasses",
            "Notebooks",
            "Pencils",
            "Clipboards"
           ],
           "name": "Nature Walk",
           "procedure": [
            "Explain the purpose of the activity and the expectations for the students.",
            "Divide the students into small groups and assign each group a specific area to explore.",
            "Provide each group with magnifying glasses, notebooks, pencils, and clipboards.",
            "Have the students observe and record their findings in their notebooks.",
            "Allow the students to share their findings with the class.",
            "Discuss the findings as a class and draw conclusions about the local ecosystems."
           ],
           "time_estimate": "2 hours"
          },
          {
           "additional_notes": [
            "Provide example stories or prompts to help the students think about the plants and animals they find.",
            "Encourage the students to think about the environment and how their actions can impact it."
           ],
           "description": "Create a scavenger hunt around the school grounds and local area to find different plants and animals and identify them.",
           "differentiation_strategies": [
            "For students who need more support: Provide more guidance and support during the activity, and provide a simplified list of items to find.",
            "For students who need more challenge: Provide more difficult items to find, and encourage the students to think critically about their findings.",
            "For neurodivergent students: Provide a visual list of items to find, and allow the students to take breaks as needed."
           ],
           "list_of_materials": [
            "Paper",
            "Pencils",
            "Scavenger Hunt List",
            "Magnifying Glasses (optional)"
           ],
           "name": "Nature Scavenger Hunt",
           "procedure": [
            "Explain the activity to the students and provide the list of items to find.",
            "Divide the students into groups of two or three.",
            "Allow the students to explore the school grounds and local area to find the items on the list.",
            "Encourage the students to use the magnifying glasses to observe the details of the plants and animals.",
            "Once the students have found all the items on the list, have them discuss their findings and identify the plants and animals."
           ],
           "time_estimate": "2-3 hours"
          },
          {
           "additional_notes": [
            "Encourage the students to think of creative ways to use the natural materials they find.",
            "Remind the students to be respectful of the environment when collecting materials.",
            "Provide examples of art projects to help the students brainstorm ideas."
           ],
           "description": "Create art projects using natural materials found around the school grounds and local area.",
           "differentiation_strategies": [
            "For students who need more support: provide more guidance and support as they create their art projects.",
            "For students who need more challenge: encourage them to be more creative with their art projects.",
            "For neurodivergent students: provide more time for them to complete the activity and provide additional guidance and support as needed."
           ],
           "list_of_materials": [
            "Natural materials found around the school grounds and local area",
            "Paper",
            "Pencils",
            "Crayons"
           ],
           "name": "Nature Art",
           "procedure": [
            "Explain to the students the purpose of the activity and the materials they will need.",
            "Have the students explore the school grounds and local area to find natural materials for their art projects.",
            "Provide guidance and support as the students create their art projects.",
            "Have the students present their art projects to the class and explain their creative process."
           ],
           "time_estimate": "2 hours"
          },
          {
           "additional_notes": [
            "Encourage students to be creative in their observations and descriptions",
            "Provide prompts for students to help them think of things to observe and record (e.g. What did you see? What did you hear? How did it smell? What did it feel like?)",
            "Provide examples of observations and descriptions to help students understand what is expected of them"
           ],
           "description": "Create a nature journal to document the observations made while exploring the school grounds and local area.",
           "differentiation_strategies": [
            "For students who need more support: Provide additional prompts and examples of observations and descriptions",
            "For students who need more challenge: Encourage students to use more descriptive language and to include more details in their observations and descriptions",
            "For neurodivergent students: Allow students to work independently or in small groups and provide additional time to complete the activity"
           ],
           "list_of_materials": [
            "Nature journal",
            "Pencils",
            "Colored pencils",
            "Magnifying glasses"
           ],
           "name": "Nature Journaling",
           "procedure": [
            "Introduce the activity and the concept of nature journaling",
            "Explain the importance of documenting observations",
            "Discuss the different types of observations that can be made (e.g. sights, sounds, smells, textures)",
            "Divide students into groups and have them explore the school grounds and local area",
            "Encourage students to make observations and record them in their nature journals",
            "Review the observations made and discuss the importance of documenting them"
           ],
           "time_estimate": "2-3 hours"
          },
          {
           "additional_notes": [
            "Encourage students to use descriptive language and vivid imagery in their stories",
            "Provide example stories to help students get started",
            "Provide questions to help students think about their observations and generate ideas",
            "Provide prompts to help students create their stories"
           ],
           "description": "Create stories using the observations made while exploring the school grounds and local area.",
           "differentiation_strategies": [
            "For students who need more support: provide additional examples and prompts, and encourage them to work with a partner or in a small group",
            "For students who need more challenge: provide open-ended questions and prompts, and encourage them to explore more complex ideas and concepts",
            "For neurodivergent students: provide a quiet space for them to work, and provide additional support and guidance as needed"
           ],
           "list_of_materials": [
            "Paper",
            "Pencils",
            "Colored Pencils",
            "Camera (optional)"
           ],
           "name": "Nature Storytelling",
           "procedure": [
            "Take the students on a nature walk around the school grounds and local area",
            "Have students observe and take notes on their surroundings",
            "When they return to the classroom, have them use their notes to create stories about their observations",
            "Encourage students to use their imaginations and be creative",
            "Have students share their stories with the class"
           ],
           "time_estimate": "2 hours"
          }
         ]
        },
        "social_studies": {
         "ideas": [
          {
           "additional_notes": [
            "Encourage students to be creative and think outside the box.",
            "Remind students that the artwork does not have to be perfect, but should express their feelings and ideas.",
            "Provide examples of artwork that other students have created in the past."
           ],
           "description": "Students will create a piece of art that describes something about themselves that they would like their classmates to know.",
           "differentiation_strategies": [
            "For students who need more support: provide a list of ideas for artwork and encourage them to choose one to create.",
            "For students who need more challenge: provide a more complex project, such as creating a series of artwork that tells a story.",
            "For neurodivergent students: provide visual instructions and allow them to work at their own pace."
           ],
           "list_of_materials": [
            "Paper",
            "Pencils",
            "Crayons",
            "Markers",
            "Paint"
           ],
           "name": "Getting to Know One Another Through Art",
           "procedure": [
            "Introduce the lesson and explain the goal: to create a piece of art that describes something about themselves that they would like their classmates to know.",
            "Explain that the art can be anything from a drawing to a painting to a sculpture.",
            "Give students time to brainstorm ideas and create their artwork.",
            "Once finished, have students share their artwork with the class and explain what it means to them."
           ],
           "time_estimate": "2 hours"
          },
          {
           "additional_notes": [
            "The scavenger hunt list should include items that represent the classroom community, such as a book that represents diversity, a desk that represents collaboration, or a plant that represents growth",
            "Encourage the teams to discuss why each item is an important part of the classroom community",
            "Encourage the teams to be creative in their descriptions of the items"
           ],
           "description": "Students will work together in teams to complete a scavenger hunt around the classroom to find objects that represent the classroom community.",
           "differentiation_strategies": [
            "For students who need more support: provide additional guidance and support during the scavenger hunt, and allow them to work with a partner if needed",
            "For students who need more challenge: provide more complex items to find on the scavenger hunt list, and encourage them to come up with more detailed descriptions of the items",
            "For neurodivergent students: provide a clear structure for the scavenger hunt and allow them to work at their own pace"
           ],
           "list_of_materials": [
            "Scavenger hunt list",
            "Paper and pencils for each student"
           ],
           "name": "Classroom Community Scavenger Hunt",
           "procedure": [
            "Explain the concept of a classroom community and how it is important to the microschool",
            "Divide the students into teams of two or three",
            "Provide each team with a scavenger hunt list and paper and pencils",
            "Explain that each team must find all of the items on the list and write down a brief description of each item",
            "Allow the teams to explore the classroom and find the items on the list",
            "When all teams have found all the items on the list, have each team explain what each item represents in terms of the classroom community"
           ],
           "time_estimate": "2 hours"
          },
          {
           "additional_notes": [
            "Encourage students to think about the values of the classroom community when creating their stories.",
            "Encourage students to think about the different perspectives of their classmates when creating their stories.",
            "Encourage students to think about how their stories can reflect the values of the classroom community."
           ],
           "description": "Students will work together to create a story that reflects the classroom community.",
           "differentiation_strategies": [
            "For students who need more support: Provide sentence starters or story prompts to help them get started.",
            "For students who need more challenge: Encourage them to use more descriptive words and/or to create a longer story.",
            "For neurodivergent students: Allow them to work independently or with a partner, and provide a quiet space for them to work if needed."
           ],
           "list_of_materials": [
            "Paper",
            "Pencils",
            "Colored Pencils"
           ],
           "name": "Classroom Community Storytelling",
           "procedure": [
            "Introduce the lesson and explain the purpose of the activity.",
            "Divide the students into groups of 3-4.",
            "Have each group brainstorm ideas for their story.",
            "Have each group write their story.",
            "Have each group share their story with the class.",
            "Discuss the stories and how they reflect the classroom community."
           ],
           "time_estimate": "2 hours"
          },
          {
           "additional_notes": [
            "The math problems should be age-appropriate and should focus on topics such as counting, addition, subtraction, shapes, etc.",
            "The questions should be open-ended to allow for creativity and critical thinking."
           ],
           "description": "Students will work together to solve math problems that relate to the classroom community.",
           "differentiation_strategies": [
            "For students who need more support, provide more concrete examples and scaffolding.",
            "For students who need more challenge, provide more abstract problems and encourage them to come up with their own solutions.",
            "For neurodivergent students, provide visual aids and allow for alternative methods of communication."
           ],
           "list_of_materials": [
            "pencils",
            "paper",
            "erasers",
            "whiteboard markers",
            "whiteboard eraser"
           ],
           "name": "Classroom Community Math",
           "procedure": [
            "Introduce the lesson by discussing the importance of community and how math can help us understand our community better.",
            "Divide the students into small groups and give each group a set of math problems related to the classroom community.",
            "Encourage the students to work together to solve the problems.",
            "Have each group present their solutions to the class.",
            "Discuss the solutions as a class and ask questions to reinforce understanding."
           ],
           "time_estimate": "2 hours"
          },
          {
           "additional_notes": [
            "Encourage students to use descriptive words and to think of creative ways to use the words they create.",
            "Provide examples of sentences for students who need extra support.",
            "Provide additional challenges for students who need more of a challenge.",
            "Provide modifications for neurodivergent students, such as allowing them to work independently or with a partner."
           ],
           "description": "Students will work together to practice phonics skills by creating words related to the classroom community.",
           "differentiation_strategies": [
            "For students who need more support: provide additional examples and allow for extra time.",
            "For students who need more challenge: provide more difficult words and have them create longer sentences.",
            "For neurodivergent students: provide modifications such as allowing them to work independently or with a partner, and provide them with additional time if necessary."
           ],
           "list_of_materials": [
            "Paper",
            "Pencils",
            "Whiteboard",
            "Markers"
           ],
           "name": "Classroom Community Phonics",
           "procedure": [
            "Introduce the lesson and explain the objectives.",
            "Have students brainstorm words related to the classroom community.",
            "Have students work in small groups to create a list of words.",
            "Have each group share their list with the class.",
            "Have students practice their phonics skills by sounding out the words.",
            "Have students create sentences with the words they created.",
            "Have students share their sentences with the class.",
            "Discuss the importance of the classroom community and how it relates to the academic subject of social studies."
           ],
           "time_estimate": "1 hour"
          }
         ]
        }
       },
       "October": {
        "language_arts": {
         "ideas": [
          {
           "additional_notes": [
            "Encourage students to be creative and think outside the box when creating their stories",
            "Remind students to add a twist to the traditional stories",
            "Provide example stories for students to get ideas from"
           ],
           "description": "Students create their own spooky stories by adding a twist to traditional stories.",
           "differentiation_strategies": [
            "For students who need more support: Provide additional guidance and support when brainstorming and writing their stories",
            "For students who need more challenge: Encourage students to add more detail to their stories and to think of more creative twists",
            "For neurodivergent students: Allow students to work in a quiet space and provide them with additional time to complete the activity"
           ],
           "list_of_materials": [
            "Pencils",
            "Paper",
            "Storybooks"
           ],
           "name": "Storytelling with a Twist",
           "procedure": [
            "Introduce the activity and explain the instructions",
            "Allow students to brainstorm ideas for their stories",
            "Provide students with time to write their stories",
            "Have students share their stories with the class"
           ],
           "time_estimate": "2 hours"
          },
          {
           "additional_notes": [
            "The word search should include spooky words such as 'ghost', 'witch', 'monster', etc.",
            "Encourage students to think of other words that might fit the theme and add them to the word search.",
            "Provide hints or clues if students are having difficulty finding the words."
           ],
           "description": "Students practice their phonics skills by finding spooky words in a word search.",
           "differentiation_strategies": [
            "For students who need more support: provide a word bank with the words they need to find.",
            "For students who need more challenge: provide a blank word search and ask them to come up with their own spooky words to fill it in.",
            "For neurodivergent students: provide a simplified version of the word search with fewer words and larger spaces between them."
           ],
           "list_of_materials": [
            "pencils",
            "word search worksheet"
           ],
           "name": "Scary Word Search",
           "procedure": [
            "Introduce the activity and explain the purpose of the activity.",
            "Explain the rules of the activity and provide any necessary instructions.",
            "Allow students to work in pairs or individually to complete the word search.",
            "When students are finished, have them share their answers with the class.",
            "Discuss the answers and encourage students to explain their thinking."
           ],
           "time_estimate": "1 hour"
          },
          {
           "additional_notes": [
            "Explain that haikus are often about nature, but for this lesson, students can write about anything related to Halloween.",
            "Provide examples of Halloween haikus for students who need more guidance.",
            "Encourage students to be creative and to think outside the box."
           ],
           "description": "Students practice their creative writing skills by writing haikus about Halloween.",
           "differentiation_strategies": [
            "For students who need more support: provide additional examples and prompts, and allow students to work in pairs or small groups.",
            "For students who need more challenge: encourage students to use more complex language, and to use imagery to create vivid descriptions.",
            "For neurodivergent students: provide additional structure and support, and allow students to work at their own pace."
           ],
           "list_of_materials": [
            "Paper",
            "Pencils",
            "Colored Pencils"
           ],
           "name": "Halloween Haiku",
           "procedure": [
            "Introduce the concept of haiku poetry and provide examples.",
            "Discuss the elements of haiku poetry (3 lines, 5-7-5 syllable pattern, and a focus on nature).",
            "Have students brainstorm ideas for their haikus.",
            "Have students write their haikus.",
            "Have students share their haikus with the class."
           ],
           "time_estimate": "1.5 hours"
          },
          {
           "additional_notes": [
            "The worksheets should include questions and clues related to language_arts.",
            "For students who need more support, provide additional guidance and support.",
            "For students who need more challenge, provide additional questions and more difficult problems.",
            "For neurodivergent students, provide visual aids and allow extra time to complete the worksheets."
           ],
           "description": "Students practice their basic math skills by solving spooky themed math problems.",
           "differentiation_strategies": [
            "Provide additional guidance and support for students who need more support.",
            "Provide additional questions and more difficult problems for students who need more challenge.",
            "Provide visual aids and allow extra time to complete the worksheets for neurodivergent students."
           ],
           "list_of_materials": [
            "pencils",
            "paper",
            "calculators",
            "spooky math worksheets"
           ],
           "name": "Spooky Math",
           "procedure": [
            "Introduce the lesson and explain the objective.",
            "Explain the spooky math worksheets, and have students complete them.",
            "Check student work and provide feedback.",
            "Review the answers with the class."
           ],
           "time_estimate": "2 hours"
          },
          {
           "additional_notes": [
            "Encourage students to think critically about the cultural context of Dia de los Muertos art",
            "Encourage students to use their imaginations to create unique pieces of art",
            "Provide additional examples of Dia de los Muertos art to inspire students' creativity"
           ],
           "description": "Students create art projects inspired by Dia de los Muertos.",
           "differentiation_strategies": [
            "For students who need more support: provide additional examples and guidance on how to create their art",
            "For students who need more challenge: provide more complex examples of Dia de los Muertos art and encourage students to use their imaginations to create unique pieces of art",
            "For neurodivergent students: provide a quiet space for students to work and provide additional guidance and support as needed"
           ],
           "list_of_materials": [
            "Paper",
            "Pencils",
            "Crayons",
            "Markers",
            "Paint",
            "Clay"
           ],
           "name": "Dia de los Muertos Art",
           "procedure": [
            "Introduce the topic of Dia de los Muertos and its cultural significance",
            "Discuss the elements of traditional Dia de los Muertos art",
            "Provide examples of Dia de los Muertos art for students to look at and discuss",
            "Allow students to choose the medium they will use to create their art",
            "Provide students with time to create their art",
            "Allow students to share their art with the class"
           ],
           "time_estimate": "2 hours"
          }
         ]
        },
        "math": {
         "ideas": [
          {
           "additional_notes": [
            "Ask students to compare the number of leaves they collected to the number of leaves other students collected",
            "Provide examples of place value and estimation",
            "Encourage students to practice counting with the leaves"
           ],
           "description": "Students collect leaves and count them to practice place value and estimation.",
           "differentiation_strategies": [
            "For students who need more support: Provide visuals and hands-on activities to help them understand place value and estimation",
            "For students who need more challenge: Ask them to find the median, mode, and range of the leaves collected",
            "For neurodivergent students: Provide a quiet space for them to work and give them extra time to complete the activity"
           ],
           "list_of_materials": [
            "Leaves",
            "Paper",
            "Pencils"
           ],
           "name": "Fall Leaf Counting",
           "procedure": [
            "Have students collect leaves from outside",
            "Have students count the leaves and record the number on paper",
            "Discuss place value and estimation with students"
           ],
           "time_estimate": "1 hour"
          },
          {
           "additional_notes": [
            "Provide each group with a different math puzzle to solve",
            "Encourage students to use creative thinking to solve the puzzles",
            "Explain the importance of collaboration and problem-solving",
            "Provide examples of real-world applications of the math concepts being used"
           ],
           "description": "Students solve math puzzles related to Halloween themes to practice basic arithmetic.",
           "differentiation_strategies": [
            "For students who need more support: provide additional guidance and support when needed",
            "For students who need more challenge: provide additional puzzles with more complex math concepts",
            "For neurodivergent students: provide additional time to complete the puzzles and provide verbal instruction as needed"
           ],
           "list_of_materials": [
            "pencils",
            "paper",
            "math puzzles with Halloween themes"
           ],
           "name": "Halloween Math Puzzles",
           "procedure": [
            "Introduce the activity and explain the objectives",
            "Divide students into groups of 2-3",
            "Have each group work on one puzzle at a time",
            "Encourage students to work together to solve the puzzles",
            "Check in with each group periodically to provide assistance and guidance",
            "Allow students to share their solutions with the class",
            "Discuss the solutions and review any incorrect answers",
            "Conclude the activity by discussing the importance of math and how it relates to Halloween"
           ],
           "time_estimate": "1.5-2 hours"
          },
          {
           "additional_notes": [
            "Questions for the math games can include: What is the sum of two numbers? What is the difference between two numbers? What is the product of two numbers?",
            "Clues can include: Think about the numbers you are working with. What patterns do you see?",
            "Example stories can include: Maria and her family are celebrating Dia de los Muertos. How many candles do they need to buy if each family member needs two candles?"
           ],
           "description": "Students play math games related to Dia de los Muertos to practice basic numeracy skills.",
           "differentiation_strategies": [
            "For students who need more support, provide additional guidance and assistance with the math questions.",
            "For students who need more challenge, provide more difficult math questions.",
            "For neurodivergent students, provide visual aids and allow them to take breaks as needed."
           ],
           "list_of_materials": [
            "pencils",
            "paper",
            "dice",
            "math worksheets"
           ],
           "name": "Dia de los Muertos Math Games",
           "procedure": [
            "Explain the concept of Dia de los Muertos and how it relates to math",
            "Divide the students into pairs",
            "Have each pair choose a math game to play",
            "Provide instructions and guidance as needed",
            "Allow students to play the game for 10-15 minutes",
            "Switch pairs and have them choose a different game",
            "Repeat until all students have had a chance to play each game"
           ],
           "time_estimate": "2 hours"
          },
          {
           "additional_notes": [
            "Encourage the students to look for signs of the changing season, such as leaves changing color, animals preparing for winter, etc.",
            "Suggest that the students draw pictures of what they observe.",
            "When discussing the answers to the worksheet, ask questions such as 'What did you observe?' and 'What does this tell us about the changing season?'",
            "Provide additional phonics practice if needed."
           ],
           "description": "Students go on a nature walk to observe and discuss the changing of the season and practice basic phonics.",
           "differentiation_strategies": [
            "For students who need more support: provide additional guidance and support during the nature walk, and provide a simpler version of the worksheet.",
            "For students who need more challenge: provide more complex questions and activities during the nature walk, and provide a more challenging version of the worksheet.",
            "For neurodivergent students: provide visual aids to help them understand the concepts, and provide a worksheet that is tailored to their needs."
           ],
           "list_of_materials": [
            "pencils",
            "notebooks",
            "nature scavenger hunt worksheet"
           ],
           "name": "Fall Nature Walk",
           "procedure": [
            "Gather the students and explain the goal of the nature walk.",
            "Discuss the changing of the season and how it affects nature.",
            "Have the students go on a nature walk and observe and discuss the changes.",
            "Back in the classroom, have the students complete a nature scavenger hunt worksheet.",
            "Discuss the answers to the worksheet and practice basic phonics."
           ],
           "time_estimate": "2 hours"
          },
          {
           "additional_notes": [
            "Encourage students to be creative and to use different colors and shapes to represent the data.",
            "Remind students to label their graphs clearly.",
            "Ask students to explain their graphs to the class."
           ],
           "description": "Students create graphs of the plants in the school garden to practice graphing skills.",
           "differentiation_strategies": [
            "For students who need more support: Provide more structure and guidance when creating the graphs.",
            "For students who need more challenge: Ask students to create more complex graphs and analyze the data.",
            "For neurodivergent students: Allow students to work at their own pace and provide additional breaks as needed."
           ],
           "list_of_materials": [
            "pencils",
            "paper",
            "crayons",
            "markers",
            "chalk"
           ],
           "name": "Graphs in the Garden",
           "procedure": [
            "Have students observe the plants in the school garden and record their observations on paper.",
            "Discuss the different types of graphs (bar, line, pie, etc.) and how they can be used to represent data.",
            "Have students create graphs of the plants in the school garden using the materials provided.",
            "Have students compare and contrast the graphs they created and discuss their findings."
           ],
           "time_estimate": "2 hours"
          }
         ]
        },
        "science": {
         "ideas": [
          {
           "additional_notes": [
            "Provide examples of different animals and plants in the food chain.",
            "Provide questions to help guide the discussion.",
            "Provide prompts to help students think more deeply about the food chain."
           ],
           "description": "Go outdoors and explore the local food chain in your area. Observe and discuss the different animals and plants that make up the food chain.",
           "differentiation_strategies": [
            "For students who need more support: Provide additional examples and visuals of the food chain.",
            "For students who need more challenge: Ask students to draw a diagram of the food chain.",
            "For neurodivergent students: Allow students to take breaks as needed and provide additional time for processing information."
           ],
           "list_of_materials": [
            "Binoculars",
            "Magnifying glasses",
            "Notebooks",
            "Pencils"
           ],
           "name": "Outdoor Exploration",
           "procedure": [
            "Go outdoors and explore the local food chain in your area.",
            "Observe and discuss the different animals and plants that make up the food chain.",
            "Encourage students to take notes and draw pictures of what they observe.",
            "Ask questions about the food chain and how it works.",
            "Discuss the importance of outdoor education and student-led development.",
            "Discuss the relevance of the activity to the academic subject of science."
           ],
           "time_estimate": "2 hours"
          },
          {
           "additional_notes": [
            "Encourage the students to ask questions and make observations about the animals and plants they find.",
            "Remind the students to respect the environment and not disturb the animals or plants they find.",
            "Provide examples of food chains that the students can use as a reference.",
            "Provide a list of animals and plants that the students should look for."
           ],
           "description": "Create a scavenger hunt that encourages students to find and identify local animals and plants in the food chain.",
           "differentiation_strategies": [
            "For students who need more support: provide additional scaffolding and support, such as additional guidance and hints for solving the clues.",
            "For students who need more challenge: provide more difficult clues to solve, or have them create their own clues for the scavenger hunt.",
            "For neurodivergent students: provide visual cues and prompts, and break down the activity into smaller steps."
           ],
           "list_of_materials": [
            "Paper",
            "Pencils",
            "Clipboards",
            "Scavenger Hunt Clues"
           ],
           "name": "Animal Scavenger Hunt",
           "procedure": [
            "Explain the concept of a food chain to the students and ask them to brainstorm examples of animals and plants that are part of the food chain in their local environment.",
            "Divide the students into small groups and give each group a set of scavenger hunt clues.",
            "Have the students work together to solve the clues and find the animals and plants in the local environment.",
            "Once the students have found all the animals and plants, have them discuss how they are connected in the food chain and how they interact with each other.",
            "Have the students draw a diagram of the food chain they have discovered."
           ],
           "time_estimate": "2 hours"
          },
          {
           "additional_notes": [
            "Encourage the students to think about the relationships between animals and plants in the food chain.",
            "Discuss the importance of the food chain in the environment.",
            "Provide examples of food chains to the students."
           ],
           "description": "Create art projects that explore the food chain. Have students draw and paint pictures of animals and plants in the food chain.",
           "differentiation_strategies": [
            "For students who need more support: Provide additional guidance and assistance with the art projects.",
            "For students who need more challenge: Encourage the students to think about more complex food chains.",
            "For neurodivergent students: Provide additional time and support for the art projects."
           ],
           "list_of_materials": [
            "Paper",
            "Pencils",
            "Paints",
            "Paintbrushes"
           ],
           "name": "Food Chain Art",
           "procedure": [
            "Explain the concept of a food chain to the students.",
            "Have the students brainstorm ideas for their art projects.",
            "Provide guidance and assistance as needed.",
            "Allow the students to create their art projects.",
            "Have the students present their art projects to the class."
           ],
           "time_estimate": "2-3 hours"
          },
          {
           "additional_notes": [
            "Encourage the students to ask questions and explain their thinking",
            "Provide examples of food chains to help the students understand the concept",
            "Provide additional materials such as books about food chains to help the students learn more about the topic"
           ],
           "description": "Introduce basic math concepts such as counting and sorting through food chain activities. Have students count and sort animals and plants in the food chain.",
           "differentiation_strategies": [
            "For students who need more support: Provide additional guidance and support when creating the food chain",
            "For students who need more challenge: Ask the students to create more complex food chains with more animals and plants",
            "For neurodivergent students: Allow the students to work in a quiet area with fewer distractions"
           ],
           "list_of_materials": [
            "Animal and plant pictures",
            "Paper",
            "Colored pencils",
            "Whiteboard"
           ],
           "name": "Food Chain Math",
           "procedure": [
            "Explain the concept of a food chain and introduce the activity to the students",
            "Divide the students into groups of two and provide each group with the necessary materials",
            "Have the students create a food chain by counting and sorting the animals and plants in the pictures",
            "Have the students present their food chains to the class",
            "Discuss the food chains and the math concepts used to create them"
           ],
           "time_estimate": "2 hours"
          },
          {
           "additional_notes": [
            "Provide example stories for the students to use as a starting point.",
            "Encourage the students to use their imaginations and be creative with their stories.",
            "Provide books about food chains for the students to use for reference."
           ],
           "description": "Encourage students to create stories about the food chain. Have them use phonics and literacy skills to create stories about animals and plants in the food chain.",
           "differentiation_strategies": [
            "For students who need more support: Provide additional examples and prompts to help them create their stories.",
            "For students who need more challenge: Provide more complex stories and ask them to create more detailed stories.",
            "For neurodivergent students: Allow them to work in a quiet space and provide visual aids to help them understand the concept of a food chain."
           ],
           "list_of_materials": [
            "Paper",
            "Pencils",
            "Colored Pencils",
            "Whiteboard",
            "Whiteboard Markers",
            "Books about Food Chains"
           ],
           "name": "Food Chain Storytelling",
           "procedure": [
            "Introduce the concept of a food chain and explain how it works.",
            "Divide the students into small groups and provide each group with paper and pencils.",
            "Instruct the students to create a story about a food chain. Encourage them to use phonics and literacy skills to create stories about animals and plants in the food chain.",
            "Have each group present their stories to the class.",
            "Discuss the stories as a class, and talk about the different animals and plants in the food chain.",
            "Have the students draw a picture of the food chain they created."
           ],
           "time_estimate": "2-3 hours"
          }
         ]
        },
        "social_studies": {
         "ideas": [
          {
           "additional_notes": [
            "Questions to ask while on the nature walk: What colors do you see? What shapes do you see? What do you think the animals are doing? What do you think the plants are doing?",
            "For students who need more support, provide a list of words to use in their descriptions, or have them draw a picture and provide a few words to describe it.",
            "For students who need more challenge, encourage them to observe more closely and provide more detailed descriptions.",
            "For neurodivergent students, provide a more structured activity by giving students a list of specific items to look for and observe."
           ],
           "description": "Students explore the changing of the season by going on a nature walk and observing the changes in the environment.",
           "differentiation_strategies": [
            "For students who need more support, provide a list of words to use in their descriptions, or have them draw a picture and provide a few words to describe it.",
            "For students who need more challenge, encourage them to observe more closely and provide more detailed descriptions.",
            "For neurodivergent students, provide a more structured activity by giving students a list of specific items to look for and observe."
           ],
           "list_of_materials": [
            "paper",
            "pencils",
            "clipboards",
            "magnifying glasses"
           ],
           "name": "Fall Nature Walk",
           "procedure": [
            "Have students form groups of two or three.",
            "Provide each group with paper, pencils, clipboards, and magnifying glasses.",
            "Explain the activity: Students will explore the changing of the season by going on a nature walk and observing the changes in the environment.",
            "Have students take turns leading their group on the nature walk, observing the changes in the environment and discussing what they see.",
            "Once the walk is complete, have students draw a picture of what they saw and write a short description of their experience.",
            "Have students present their drawings and descriptions to the class."
           ],
           "time_estimate": "2 hours"
          },
          {
           "additional_notes": [
            "Encourage students to think about the colors of the leaves and how they change over the season.",
            "Remind students to use their scissors safely.",
            "Provide examples of other autumn art projects for inspiration."
           ],
           "description": "Students create a piece of art that reflects the changing of the season, such as a collage of fall leaves.",
           "differentiation_strategies": [
            "For students who need more support: Provide a template of a fall leaf collage for them to follow.",
            "For students who need more challenge: Encourage them to create a 3D collage with the leaves.",
            "For neurodivergent students: Allow them to create their art project in a sensory-friendly environment."
           ],
           "list_of_materials": [
            "Fall leaves",
            "Construction paper",
            "Glue",
            "Scissors"
           ],
           "name": "Autumn Art Project",
           "procedure": [
            "Introduce the project and explain the concept of autumn.",
            "Have students collect fall leaves outside and bring them back to the classroom.",
            "Provide students with construction paper and glue.",
            "Instruct students to arrange the leaves on the construction paper and glue them down.",
            "Allow time for students to complete their projects.",
            "Have students present their projects and discuss the changing of the season."
           ],
           "time_estimate": "3 hours"
          },
          {
           "additional_notes": [
            "Encourage students to use their imaginations and be creative in their storytelling.",
            "Remind students to be respectful of each other's ideas and to listen to each other when they are sharing their stories.",
            "Suggested prompts: What is the haunted house like? Who lives in the haunted house? What kind of adventures do the characters have?"
           ],
           "description": "Students create a story together about a Halloween-related topic, such as a haunted house.",
           "differentiation_strategies": [
            "For students who need more support: Provide additional prompts and questions to help them brainstorm ideas for their story.",
            "For students who need more challenge: Encourage them to use more descriptive language when telling their story.",
            "For neurodivergent students: Allow them to work with a partner or in a small group to help them with the activity."
           ],
           "list_of_materials": [
            "pencils",
            "paper",
            "markers",
            "crayons"
           ],
           "name": "Halloween Storytelling",
           "procedure": [
            "Introduce the lesson by discussing Halloween and the importance of storytelling.",
            "Explain the activity: Students will work together to create a story about a Halloween-related topic, such as a haunted house.",
            "Provide students with prompts and questions to help them brainstorm ideas for their story.",
            "Have students take turns adding to the story.",
            "When the story is complete, have the students draw a picture to accompany it.",
            "Have the students share their stories and pictures with the class."
           ],
           "time_estimate": "2 hours"
          },
          {
           "additional_notes": [
            "Encourage students to think of creative ways to incorporate elements of Dia de los Muertos into their craft.",
            "Remind students to use the materials responsibly and to clean up after themselves.",
            "Discuss the history and cultural significance of Dia de los Muertos with the class."
           ],
           "description": "Students create a craft related to Dia de los Muertos, such as a calavera mask or a paper flower.",
           "differentiation_strategies": [
            "For students who need more support: provide them with pre-made templates or examples of crafts.",
            "For students who need more challenge: provide them with more difficult materials or more complex projects.",
            "For neurodivergent students: provide them with additional time or allow them to work in a quieter environment."
           ],
           "list_of_materials": [
            "Paper",
            "Scissors",
            "Glue",
            "Markers"
           ],
           "name": "Dia de los Muertos Craft",
           "procedure": [
            "Introduce students to Dia de los Muertos and discuss the significance of the holiday.",
            "Explain the project and provide examples of possible crafts.",
            "Allow students to brainstorm and create a plan for their craft.",
            "Provide materials and guide students as they create their craft.",
            "Allow time for students to share their crafts with the class."
           ],
           "time_estimate": "2 hours"
          },
          {
           "additional_notes": [
            "Encourage students to work together and discuss their answers",
            "Provide additional worksheets for students who finish early",
            "Provide additional math problems for students who need more challenge"
           ],
           "description": "Students play math games related to the season, such as counting leaves or sorting pumpkins by size.",
           "differentiation_strategies": [
            "Provide visual aids for students who need more support",
            "Allow students to work in pairs or small groups for more collaboration",
            "Allow students to take breaks if they become overwhelmed"
           ],
           "list_of_materials": [
            "Leaves",
            "Pumpkins",
            "Math worksheets",
            "Pencils",
            "Crayons"
           ],
           "name": "Fall Math Games",
           "procedure": [
            "Gather students outside and explain the lesson plan",
            "Have students count the leaves in a pile",
            "Have students sort the pumpkins by size",
            "Provide math worksheets to reinforce the concepts",
            "Allow students to draw pictures of the fall season with the crayons and pencils"
           ],
           "time_estimate": "2 hours"
          }
         ]
        }
       },
       "September": {
        "language_arts": {
         "ideas": [
          {
           "additional_notes": [
            "Encourage students to use descriptive language when labeling the landmarks and places of interest",
            "Provide students with examples of descriptive language to use",
            "Encourage students to use their imagination and creativity when drawing the map"
           ],
           "description": "Create a map of your neighborhood, including local landmarks and places of interest",
           "differentiation_strategies": [
            "For students who need more support: provide students with a pre-drawn map of their neighborhood, and allow them to label the landmarks and places of interest",
            "For students who need more challenge: encourage students to draw a more detailed map, including streets and other features",
            "For neurodivergent students: provide students with a visual reference of the landmarks and places of interest, and allow them to draw the map from the visual reference"
           ],
           "list_of_materials": [
            "Map of the neighborhood",
            "Markers or crayons",
            "Paper"
           ],
           "name": "Create a Map of Your Neighborhood",
           "procedure": [
            "Instruct students to draw a map of their neighborhood, including local landmarks and places of interest",
            "Provide students with a map of the neighborhood as a reference",
            "Encourage students to use their imagination and creativity to draw the map",
            "Allow students to work in pairs or individually",
            "Provide students with markers or crayons to draw the map",
            "Instruct students to label each landmark and place of interest"
           ],
           "time_estimate": "2 hours"
          },
          {
           "additional_notes": [
            "Encourage students to use descriptive language to describe places and people in their stories.",
            "Remind students to use correct grammar and punctuation.",
            "Provide students with a list of questions to help them generate ideas for their stories.",
            "Provide example stories for students to use as models."
           ],
           "description": "Write a story about your neighborhood, including descriptions of places and people",
           "differentiation_strategies": [
            "For students who need more support: provide sentence starters and give them more time to complete the assignment.",
            "For students who need more challenge: provide additional questions and encourage them to use more complex language.",
            "For neurodivergent students: provide an outline of the story and allow them to fill in the details."
           ],
           "list_of_materials": [
            "paper",
            "pencils",
            "crayons"
           ],
           "name": "Write a Story About Your Neighborhood",
           "procedure": [
            "Explain the assignment to the students and provide examples of stories about neighborhoods.",
            "Have students brainstorm ideas for their stories and jot down notes.",
            "Have students write their stories and illustrate them.",
            "Have students share their stories with the class."
           ],
           "time_estimate": "2 hours"
          },
          {
           "additional_notes": [
            "Encourage students to use sensory language and vivid descriptions in their writing.",
            "Provide prompts such as: What does it look like? What does it smell like? What does it feel like? What does it sound like?",
            "Provide examples of descriptions of favorite places in the neighborhood."
           ],
           "description": "Write a description of your favorite place in your neighborhood",
           "differentiation_strategies": [
            "For students who need more support: provide a list of words to use in their descriptions and have them circle the words they want to use in their writing.",
            "For students who need more challenge: have them write a longer description and/or have them use more descriptive language.",
            "For neurodivergent students: provide visuals to help them understand the concept and/or provide a quiet space for them to work."
           ],
           "list_of_materials": [
            "Paper",
            "Pencils",
            "Colored Pencils"
           ],
           "name": "Describe Your Favorite Place",
           "procedure": [
            "Introduce the concept of describing a favorite place and explain why it is important to be able to do so.",
            "Have students brainstorm a list of their favorite places in the neighborhood.",
            "Have students choose one of their favorite places and write a description of it.",
            "Have students share their descriptions with the class.",
            "Discuss the descriptions as a class and point out the different techniques used by the students."
           ],
           "time_estimate": "2 hours"
          },
          {
           "additional_notes": [
            "Encourage the students to think of words that describe the people, places, and things in their neighborhood.",
            "Suggest that the students use synonyms to come up with more words.",
            "Remind the students to use descriptive language when drawing their pictures."
           ],
           "description": "Create a word bank of descriptive words related to your neighborhood",
           "differentiation_strategies": [
            "For students who need more support: Provide a list of words that could be used to describe the neighborhood, and have the students choose which words to use in their word bank.",
            "For students who need more challenge: Ask the students to come up with their own words to describe the neighborhood.",
            "For neurodivergent students: Allow the students to work in small groups to brainstorm and create their word banks."
           ],
           "list_of_materials": [
            "pencils",
            "paper",
            "markers",
            "notebooks"
           ],
           "name": "Make a Word Bank",
           "procedure": [
            "Explain to the students that they will be creating a word bank of descriptive words related to their neighborhood.",
            "Have the students brainstorm a list of words that describe their neighborhood.",
            "Have the students create a word bank by writing down the words they brainstormed.",
            "Have the students draw a picture of their neighborhood using the words from their word bank."
           ],
           "time_estimate": "2 hours"
          },
          {
           "additional_notes": [
            "Encourage students to be creative with their stories and decorations",
            "Remind students to use language appropriate for their age group",
            "Provide prompts and questions to help students generate ideas for their stories"
           ],
           "description": "Create a scrapbook of photos and stories about your neighborhood",
           "differentiation_strategies": [
            "For students needing more support: provide them with a list of questions to answer about their photo",
            "For students needing more challenge: encourage them to use more descriptive language in their stories and to be more creative with their decorations",
            "For neurodivergent students: provide them with a list of words they can use to describe their photo and provide them with a list of decorations they can use in their scrapbook"
           ],
           "list_of_materials": [
            "Scrapbook paper",
            "Photos",
            "Markers",
            "Glue",
            "Scissors"
           ],
           "name": "Make a Neighborhood Scrapbook",
           "procedure": [
            "Gather photos and stories about your neighborhood",
            "Divide the scrapbook into sections for each student",
            "Have each student choose a photo and write a story about it",
            "Have each student decorate their section of the scrapbook"
           ],
           "time_estimate": "2-3 hours"
          }
         ]
        },
        "math": {
         "ideas": [
          {
           "additional_notes": [
            "Encourage the students to use their imagination and creativity when drawing their maps",
            "Remind the students to use accurate measurements when drawing their maps",
            "Provide examples of maps and discuss the differences between them"
           ],
           "description": "Create a map of the neighborhood with the students, using a variety of measurement tools (rulers, tape measures, etc.) to measure distances and features.",
           "differentiation_strategies": [
            "For students who need more support: provide additional guidance and assistance when measuring and drawing the features of the neighborhood",
            "For students who need more challenge: have the students measure and draw more features of the neighborhood",
            "For neurodivergent students: provide additional time to complete the activity and allow them to work at their own pace"
           ],
           "list_of_materials": [
            "Rulers",
            "Tape Measures",
            "Paper",
            "Pencils"
           ],
           "name": "Mapping Our Neighborhood",
           "procedure": [
            "Discuss the concept of mapping and the importance of accuracy",
            "Divide the students into groups of two or three",
            "Provide each group with rulers, tape measures, paper, and pencils",
            "Have the students measure and draw the features of the neighborhood on their maps",
            "Have the students compare their maps to each other and discuss any discrepancies",
            "Have the students present their maps to the class"
           ],
           "time_estimate": "2-3 hours"
          },
          {
           "additional_notes": [
            "Encourage the students to think of other ways to measure length",
            "Discuss the importance of accuracy when measuring",
            "Discuss the different units of measurement"
           ],
           "description": "Have the students measure themselves and each other using a variety of units of length (inches, feet, etc.).",
           "differentiation_strategies": [
            "For students who need more support: provide extra guidance and support when measuring",
            "For students who need more challenge: ask them to measure more complex objects",
            "For neurodivergent students: provide visual aids and allow them to take breaks when needed"
           ],
           "list_of_materials": [
            "Measuring tape",
            "Rulers",
            "Yardsticks",
            "Other measuring tools"
           ],
           "name": "Measuring Ourselves",
           "procedure": [
            "Explain the purpose of the activity to the students",
            "Demonstrate how to measure using the different tools",
            "Have the students measure themselves and each other",
            "Discuss the results and compare the different measurements"
           ],
           "time_estimate": "2 hours"
          },
          {
           "additional_notes": [
            "Encourage the students to think critically and ask questions.",
            "Provide examples of how the different units of measurement are used in everyday life.",
            "Encourage the students to think of creative ways to measure the objects.",
            "Have the students practice estimating measurements before using the measuring tools."
           ],
           "description": "Have the students compare measurements of various objects in the classroom, such as desks, chairs, and books, using a variety of units of length (inches, feet, etc.).",
           "differentiation_strategies": [
            "For students who need more support: provide additional guidance and scaffolding when measuring and converting measurements.",
            "For students who need more challenge: have the students measure more complex objects and convert between more complex units of measurement.",
            "For neurodivergent students: provide visual aids (e.g. diagrams, pictures) to help them understand the concepts and provide additional guidance when needed."
           ],
           "list_of_materials": [
            "Measuring tape",
            "Rulers",
            "Objects to measure (e.g. desks, chairs, books)"
           ],
           "name": "Comparing Measurements",
           "procedure": [
            "Explain to the students that they will be comparing measurements of various objects in the classroom using a variety of units of length.",
            "Divide the students into small groups and provide each group with measuring tape, rulers, and objects to measure.",
            "Have the students measure the objects and record their measurements.",
            "Have the students compare their measurements and discuss their findings.",
            "Discuss as a class the different units of measurement and how they are used.",
            "Have the students practice converting between different units of measurement.",
            "Discuss the importance of accuracy when measuring."
           ],
           "time_estimate": "2 hours"
          },
          {
           "additional_notes": [
            "Encourage students to think of creative ways to measure the weight of objects, such as using a ruler, a cup, or a balance scale",
            "Ask questions to help students understand the concept of weight, such as 'What do you think will be heavier, a book or a pencil?'",
            "Provide examples of different units of weight, such as ounces, pounds, kilograms, etc."
           ],
           "description": "Have the students measure the weight of various objects in the classroom, using a variety of units of weight (ounces, pounds, etc.).",
           "differentiation_strategies": [
            "For students who need more support: provide more examples of how to measure the weight of objects, and provide more guidance on how to use the scales",
            "For students who need more challenge: ask more complex questions about the weight of objects, and encourage students to come up with their own experiments to measure weight",
            "For neurodivergent students: provide visual aids to help explain the concept of weight, and allow them to take breaks when needed"
           ],
           "list_of_materials": [
            "Scales",
            "Various objects to weigh"
           ],
           "name": "Weighing Objects",
           "procedure": [
            "Explain to the students the concept of weight and how it is measured",
            "Demonstrate how to use the scales to measure the weight of objects",
            "Allow the students to take turns measuring the weight of various objects",
            "Discuss the results and how they compare to each other"
           ],
           "time_estimate": "1 hour"
          },
          {
           "additional_notes": [
            "Encourage the students to think critically about the measurements they are taking.",
            "Remind the students to be respectful of the community and to be mindful of safety.",
            "Encourage the students to think of creative ways to measure the distances, such as counting steps or using a string."
           ],
           "description": "Have the students explore the community and measure distances between various landmarks, using a variety of measurement tools (rulers, tape measures, etc.).",
           "differentiation_strategies": [
            "For students who need more support: Provide a list of landmarks to measure and have the students measure the distances between them.",
            "For students who need more challenge: Have the students come up with their own landmarks to measure and have them measure the distances between them.",
            "For neurodivergent students: Provide visual cues (e.g., pictures of the landmarks) and have the students measure the distances between them."
           ],
           "list_of_materials": [
            "rulers",
            "tape measures",
            "pencils",
            "notebooks"
           ],
           "name": "Exploring Our Community",
           "procedure": [
            "Have the students explore the community and measure distances between various landmarks.",
            "Provide each student with a ruler or tape measure and have them measure the distances.",
            "Have the students record their measurements in their notebooks.",
            "Once the measurements are complete, have the students discuss their findings and compare their measurements.",
            "Have the students discuss the importance of accuracy and precision in measurement."
           ],
           "time_estimate": "2-3 hours"
          }
         ]
        },
        "science": {
         "ideas": [
          {
           "additional_notes": [
            "Encourage the students to ask questions and make observations.",
            "Provide prompts to help the students think more deeply about the environment around them.",
            "Provide example stories and facts about the local geology and caves."
           ],
           "description": "Go on a hike to explore the local geology and caves",
           "differentiation_strategies": [
            "For students who need more support: provide additional prompts and explanations; break down tasks into smaller steps; provide more time to complete tasks.",
            "For students who need more challenge: provide more complex prompts and questions; provide opportunities for independent research; provide more open-ended tasks.",
            "For neurodivergent students: provide a quiet space for breaks; provide visuals and other non-verbal cues; provide alternative ways to express understanding of the material."
           ],
           "list_of_materials": [
            "Backpacks",
            "Hiking boots",
            "Snacks",
            "Water bottles",
            "Maps",
            "Compasses",
            "Notebooks",
            "Pens",
            "Magnifying glasses"
           ],
           "name": "Geology Hike",
           "procedure": [
            "Gather the students and explain the activity and the goal of the hike.",
            "Discuss the importance of outdoor education and student-led development.",
            "Discuss the academic subject of science and the skills the students will be developing during the hike.",
            "Divide the students into small groups and assign a leader to each group.",
            "Provide each group with a map, a compass, a notebook, a pen, and a magnifying glass.",
            "Go on the hike, stopping to observe the local geology and caves.",
            "Encourage the students to take notes and draw pictures in their notebooks.",
            "At the end of the hike, gather the students and have a discussion about the things they observed and the skills they developed."
           ],
           "time_estimate": "2-3 hours"
          },
          {
           "additional_notes": [
            "Questions to ask students: What do you observe? What is the water cycle? How does the water cycle work? What did you learn from the water testing? What do the results of the water testing tell us?",
            "Provide examples of how the water cycle works in nature",
            "Encourage students to draw diagrams of the water cycle in their notebooks"
           ],
           "description": "Visit a nearby river and study the water cycle",
           "differentiation_strategies": [
            "For students who need more support: Provide additional visual aids to explain the water cycle, such as diagrams or videos. Allow students to work in pairs or small groups to complete the activities. Break down the activities into smaller steps.",
            "For students who need more challenge: Ask students to think of ways to apply the concepts they learned to real-world problems. Ask them to come up with creative solutions to the problems they identify.",
            "For neurodivergent students: Allow students to take breaks when needed. Provide visual aids and alternate activities to help them engage with the material."
           ],
           "list_of_materials": [
            "Notebooks",
            "Pencils",
            "Magnifying glasses",
            "Water testing kits"
           ],
           "name": "River Study",
           "procedure": [
            "Visit a nearby river and observe the environment",
            "Discuss the water cycle and its components",
            "Have students take notes in their notebooks",
            "Use magnifying glasses to observe the river up close",
            "Use water testing kits to measure the pH and other properties of the water",
            "Discuss the results of the testing and how it relates to the water cycle"
           ],
           "time_estimate": "2-3 hours"
          },
          {
           "additional_notes": [
            "Explain the water cycle in simple terms, such as evaporation, condensation, and precipitation.",
            "Encourage the students to ask questions and provide examples to help them understand the concepts.",
            "Provide prompts for the students to help them think more deeply about the water cycle."
           ],
           "description": "Create a model of the water cycle",
           "differentiation_strategies": [
            "For students who need more support: Provide more time for the students to complete the activity and provide additional guidance and support.",
            "For students who need more challenge: Ask the students to create a more detailed model of the water cycle or to create a diagram to illustrate the different stages.",
            "For neurodivergent students: Allow the students to work independently or in a small group and provide additional breaks as needed."
           ],
           "list_of_materials": [
            "Plastic tub",
            "Water",
            "Food coloring",
            "Plastic wrap",
            "Popsicle sticks",
            "Paper cups",
            "Markers"
           ],
           "name": "Water Cycle Model",
           "procedure": [
            "Explain the water cycle to the students and discuss the different stages.",
            "Divide the students into groups of two or three.",
            "Have each group fill the plastic tub with water and a few drops of food coloring.",
            "Have the students cover the tub with plastic wrap and secure it with the popsicle sticks.",
            "Have the students draw arrows on the cups to illustrate the different stages of the water cycle.",
            "Have the students place the cups around the tub to represent the stages of the water cycle.",
            "Have the students observe the water cycle in action.",
            "Discuss the observations with the students."
           ],
           "time_estimate": "2 hours"
          },
          {
           "additional_notes": [
            "Encourage students to ask questions and provide them with resources to help answer their questions",
            "Provide students with examples of rivers and tributaries to help them understand the concept better",
            "Encourage students to think about the impact of rivers on the environment and how they can help protect them"
           ],
           "description": "Map out a nearby river and its tributaries",
           "differentiation_strategies": [
            "Provide more support to students who need it by breaking down the instructions into smaller steps",
            "Provide more challenging tasks to students who need it, such as having them draw a map of the river and its tributaries",
            "Provide accommodations for neurodivergent students, such as providing them with a quiet space to work or allowing them to work independently"
           ],
           "list_of_materials": [
            "Pencils",
            "Pens",
            "Paper",
            "Map of the river and its tributaries"
           ],
           "name": "River Mapping",
           "procedure": [
            "Explain the purpose of the activity and the goal of mapping out a nearby river and its tributaries",
            "Divide the students into pairs and provide each pair with a map of the river and its tributaries",
            "Instruct the pairs to use the map to trace the path of the river and its tributaries",
            "Provide guidance and support to the pairs as needed",
            "Once the pairs have finished tracing, have them discuss their findings and answer any questions",
            "Have the pairs present their findings to the class"
           ],
           "time_estimate": "2 hours"
          },
          {
           "additional_notes": [
            "Encourage students to think about how the environment of the cave could be used to create artwork",
            "Provide prompts such as “How can you use the colors of the cave to create a painting?”",
            "Remind students to be respectful of the cave environment and not to damage any of the artwork"
           ],
           "description": "Create art inspired by the local caves",
           "differentiation_strategies": [
            "For students who need more support: Provide more guidance and structure for the activity, such as providing a template or example of what the artwork could look like",
            "For students who need more challenge: Encourage them to think outside the box and create something more abstract or unique",
            "For neurodivergent students: Allow them to explore the cave at their own pace and provide them with a quiet space to create their artwork"
           ],
           "list_of_materials": [
            "Paper",
            "Pencils",
            "Crayons",
            "Paint",
            "Brushes",
            "Clay",
            "Stones",
            "Moss"
           ],
           "name": "Cave Art",
           "procedure": [
            "Visit a local cave and observe the environment and artwork",
            "Discuss the history of cave art and its meaning",
            "Brainstorm ideas for creating art inspired by the cave",
            "Create art using the materials provided",
            "Discuss the artwork created and the meaning behind it"
           ],
           "time_estimate": "2-3 hours"
          }
         ]
        },
        "social_studies": {
         "ideas": [
          {
           "additional_notes": [
            "Encourage students to think about the history of their hometown and how it has changed over time",
            "Provide examples of maps and landmarks to help students brainstorm ideas"
           ],
           "description": "Create a map of your hometown and its landmarks",
           "differentiation_strategies": [
            "For students who need more support: provide a simplified map with fewer landmarks and fewer details",
            "For students who need more challenge: provide additional landmarks and details for them to include in their maps",
            "For neurodivergent students: provide a visual checklist of landmarks and details for them to include in their maps"
           ],
           "list_of_materials": [
            "Paper",
            "Pencils",
            "Colored Pencils",
            "Map of Hometown"
           ],
           "name": "My Hometown Mapping",
           "procedure": [
            "Instruct students to draw a map of their hometown, including major landmarks",
            "Encourage students to use their imaginations to draw unique features of their hometown",
            "Have students label their maps with the names of the landmarks",
            "Discuss the maps as a class, and have students explain why they chose to draw certain features"
           ],
           "time_estimate": "2 hours"
          },
          {
           "additional_notes": [
            "Encourage students to think about the events from different perspectives (e.g., political, social, economic, etc.)",
            "Encourage students to think about the impact of the events on their local community",
            "Remind students to think about the sequence of events and the order in which they should be placed on the timeline"
           ],
           "description": "Create a timeline of important events in your local history",
           "differentiation_strategies": [
            "For students who need more support: provide more structure and guidance for the research process",
            "For students who need more challenge: encourage students to think more deeply about the events and their impact on the local community",
            "For neurodivergent students: provide visual aids and other tools to help them understand the concept of a timeline"
           ],
           "list_of_materials": [
            "Paper",
            "Markers",
            "Construction paper",
            "Scissors",
            "Glue",
            "Local history books",
            "Pictures of local landmarks"
           ],
           "name": "Local History Timeline",
           "procedure": [
            "Explain the concept of a timeline and its purpose",
            "Have students brainstorm important events in their local history",
            "Have students research the events they brainstormed",
            "Have students draw pictures of the events and write a short description of each event",
            "Have students arrange the events on a timeline and glue them to the paper",
            "Have students present their timelines to the class"
           ],
           "time_estimate": "2-3 hours"
          },
          {
           "additional_notes": [
            "The quiz should include questions about different countries, their capitals, their flags, their climates, and their cultures.",
            "Questions should be tailored to the age and abilities of the students."
           ],
           "description": "Test your knowledge of geography with a fun quiz",
           "differentiation_strategies": [
            "For students who need more support: provide additional time for the quiz and provide hints for difficult questions.",
            "For students who need more challenge: provide more difficult questions and ask them to explain their answers.",
            "For neurodivergent students: provide visual aids to help them understand the questions and provide them with extra time to answer the questions."
           ],
           "list_of_materials": [
            "pencils",
            "paper",
            "geography quiz questions"
           ],
           "name": "Geography Quiz",
           "procedure": [
            "Introduce the geography quiz and explain the rules.",
            "Divide students into groups of two or three.",
            "Allow students to work together to answer the questions.",
            "Have students take turns reading the questions and answering them.",
            "Review the answers with the class.",
            "Discuss the answers and ask students to explain why they chose the answers they did."
           ],
           "time_estimate": "1 hour"
          },
          {
           "additional_notes": [
            "Be sure to emphasize the importance of outdoor education and student-led development",
            "Encourage the students to think critically and ask questions about the objects they find",
            "Provide examples of objects that start with each letter sound to help the students get started"
           ],
           "description": "Go on a scavenger hunt to find objects that start with a certain letter sound",
           "differentiation_strategies": [
            "For students who need more support: provide a list of objects that they can find and check off",
            "For students who need more challenge: provide a list of objects that they can find and then ask them to explain why the object starts with that letter sound",
            "For neurodivergent students: provide a list of objects that they can find and then provide additional activities such as drawing a picture of the object or writing a story about it"
           ],
           "list_of_materials": [
            "Pencils",
            "Paper",
            "Clipboard",
            "Objects to find"
           ],
           "name": "Phonics Scavenger Hunt",
           "procedure": [
            "Explain the concept of phonics and the different letter sounds",
            "Divide the class into small groups and assign each group a letter sound",
            "Give each group a clipboard and a pencil",
            "Have the students go on a scavenger hunt to find objects that start with the assigned letter sound",
            "Have the students write down the objects they find on the paper",
            "Once the students are done, have them come back and share what they found"
           ],
           "time_estimate": "1 hour"
          },
          {
           "additional_notes": [
            "Encourage students to think about the real-world applications of math mapping",
            "Provide examples of how mapping is used in everyday life, such as navigation, surveying, and planning",
            "Encourage students to come up with their own questions and problems to solve using math mapping"
           ],
           "description": "Practice counting and basic arithmetic by mapping out distances on a map",
           "differentiation_strategies": [
            "For students who need more support: provide additional guidance and scaffolding when introducing the concept of mapping",
            "For students who need more challenge: provide more complex problems for the students to solve using math mapping",
            "For neurodivergent students: provide visual aids and other accommodations as needed"
           ],
           "list_of_materials": [
            "Map",
            "Pencils",
            "Rulers"
           ],
           "name": "Math Mapping",
           "procedure": [
            "Explain the concept of mapping to the students",
            "Demonstrate how to use a ruler to measure distances on a map",
            "Have the students practice measuring distances on a map",
            "Have the students practice counting and basic arithmetic using the distances they have measured"
           ],
           "time_estimate": "2 hours"
          }
         ]
        }
       }
      },
      "text/plain": [
       "<IPython.core.display.JSON object>"
      ]
     },
     "metadata": {
      "application/json": {
       "expanded": false,
       "root": "root"
      }
     },
     "output_type": "display_data"
    }
   ],
   "source": [
    "display(JSON(lesson_plans))"
   ]
  },
  {
   "cell_type": "code",
   "execution_count": null,
   "id": "c2d58215-a64f-428f-88fc-a7eb1f713b1f",
   "metadata": {},
   "outputs": [],
   "source": []
  }
 ],
 "metadata": {
  "kernelspec": {
   "display_name": "Python 3 (ipykernel)",
   "language": "python",
   "name": "python3"
  },
  "language_info": {
   "codemirror_mode": {
    "name": "ipython",
    "version": 3
   },
   "file_extension": ".py",
   "mimetype": "text/x-python",
   "name": "python",
   "nbconvert_exporter": "python",
   "pygments_lexer": "ipython3",
   "version": "3.9.16"
  }
 },
 "nbformat": 4,
 "nbformat_minor": 5
}
