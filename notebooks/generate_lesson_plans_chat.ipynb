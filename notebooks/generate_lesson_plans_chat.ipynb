{
 "cells": [
  {
   "cell_type": "markdown",
   "id": "56c0fcb2-ecb6-4bdf-8305-67937a7f4463",
   "metadata": {},
   "source": [
    "# TODO\n",
    "- [X] specify lesson plan in json format, then convert to markdown\n",
    "- [ ] parallelize the lesson plan creation\n",
    "- [ ] generate all activity ideas at once, so there is less repetition in the ideas (e.g., there are many small variations on the 'scavenger hunt' idea)\n",
    "- [ ] try different models:\n",
    "  - [X] chat model instead of LLM\n",
    "  - [ ] different providers instead of OpenAI\n",
    "  - [ ] local model"
   ]
  },
  {
   "cell_type": "code",
   "execution_count": 1,
   "id": "fc2b0572-02a4-4f96-9fdf-0f9bda0d28c9",
   "metadata": {},
   "outputs": [],
   "source": [
    "import os\n",
    "import json\n",
    "import time\n",
    "import pprint as pp\n",
    "import pandas as pd\n",
    "from pydantic import BaseModel, Field\n",
    "from typing import List, Dict\n",
    "from dotenv import load_dotenv\n",
    "from langchain.chat_models import ChatOpenAI\n",
    "from langchain.prompts import HumanMessagePromptTemplate, SystemMessagePromptTemplate, ChatPromptTemplate\n",
    "from langchain.output_parsers import PydanticOutputParser\n",
    "from IPython.display import display, Markdown, JSON"
   ]
  },
  {
   "cell_type": "code",
   "execution_count": 2,
   "id": "a73b7144-33c5-45aa-b30e-150f8155707b",
   "metadata": {
    "scrolled": true
   },
   "outputs": [
    {
     "data": {
      "text/plain": [
       "True"
      ]
     },
     "execution_count": 2,
     "metadata": {},
     "output_type": "execute_result"
    }
   ],
   "source": [
    "load_dotenv(override=True) # loading API key from environment"
   ]
  },
  {
   "cell_type": "markdown",
   "id": "7c3a3d4e-4a93-466a-93d6-e7f466a79b21",
   "metadata": {
    "jp-MarkdownHeadingCollapsed": true
   },
   "source": [
    "## Read in data with annual curriculum plan"
   ]
  },
  {
   "cell_type": "code",
   "execution_count": 3,
   "id": "0a0c2e78-bace-4029-8a65-1b1b33ae9f19",
   "metadata": {},
   "outputs": [
    {
     "data": {
      "text/html": [
       "<div>\n",
       "<style scoped>\n",
       "    .dataframe tbody tr th:only-of-type {\n",
       "        vertical-align: middle;\n",
       "    }\n",
       "\n",
       "    .dataframe tbody tr th {\n",
       "        vertical-align: top;\n",
       "    }\n",
       "\n",
       "    .dataframe thead th {\n",
       "        text-align: right;\n",
       "    }\n",
       "</style>\n",
       "<table border=\"1\" class=\"dataframe\">\n",
       "  <thead>\n",
       "    <tr style=\"text-align: right;\">\n",
       "      <th></th>\n",
       "      <th>month</th>\n",
       "      <th>theme_to_explore</th>\n",
       "      <th>language_arts</th>\n",
       "      <th>math</th>\n",
       "      <th>social_studies</th>\n",
       "      <th>science</th>\n",
       "    </tr>\n",
       "  </thead>\n",
       "  <tbody>\n",
       "    <tr>\n",
       "      <th>0</th>\n",
       "      <td>August</td>\n",
       "      <td>Getting to Know One Another; Class Community</td>\n",
       "      <td>Personal narratives, reading comprehension</td>\n",
       "      <td>Counting and sorting</td>\n",
       "      <td>Our classroom community; citizenship and gover...</td>\n",
       "      <td>Exploring the school environment and local eco...</td>\n",
       "    </tr>\n",
       "    <tr>\n",
       "      <th>1</th>\n",
       "      <td>September</td>\n",
       "      <td>On the Map, where we’re from</td>\n",
       "      <td>Descriptive writing (My Place); vocabulary dev...</td>\n",
       "      <td>latitutde and longitude; place value</td>\n",
       "      <td>My hometown; local history; geography</td>\n",
       "      <td>Water cycle, rivers; Geology, caves, aquifers</td>\n",
       "    </tr>\n",
       "    <tr>\n",
       "      <th>2</th>\n",
       "      <td>October</td>\n",
       "      <td>Fall; Halloween; Dia de los Muertos</td>\n",
       "      <td>Creative writing; grammar and punctuation</td>\n",
       "      <td>units of measurement (length, weight, etc.); E...</td>\n",
       "      <td>Fall celebrations around the world; elections</td>\n",
       "      <td>Food chains and food webs; Local flora and fauna</td>\n",
       "    </tr>\n",
       "    <tr>\n",
       "      <th>3</th>\n",
       "      <td>November</td>\n",
       "      <td>Gratitude; Native Americans</td>\n",
       "      <td>Listening and speaking skills; Thankful Though...</td>\n",
       "      <td>Addition and subtraction</td>\n",
       "      <td>Native American history; Settlement of US and ...</td>\n",
       "      <td>Seasonal Changes and Plants; Winter Animal Ada...</td>\n",
       "    </tr>\n",
       "    <tr>\n",
       "      <th>4</th>\n",
       "      <td>December</td>\n",
       "      <td>Winter Solstice and winter holidays</td>\n",
       "      <td>book exchange; holiday cards; holiday play/skit</td>\n",
       "      <td>Geometry (2-D shapes); symmetry (snowflake)</td>\n",
       "      <td>Winter holidays worldwide</td>\n",
       "      <td>Physical science (matter, energy, force, motion)</td>\n",
       "    </tr>\n",
       "    <tr>\n",
       "      <th>5</th>\n",
       "      <td>January</td>\n",
       "      <td>Calendar, New Year, Goals, MLK</td>\n",
       "      <td>Dreams and goals; journaling; 'I Have a Dream'...</td>\n",
       "      <td>Time units, Calendar math, multiplication</td>\n",
       "      <td>New Year's Celebrations worldwide; Community h...</td>\n",
       "      <td>Climate zones, seasons, and weather</td>\n",
       "    </tr>\n",
       "    <tr>\n",
       "      <th>6</th>\n",
       "      <td>February</td>\n",
       "      <td>Black History, Love/Valentine's Day</td>\n",
       "      <td>African American biographies; exploring emotio...</td>\n",
       "      <td>Fractions, Division; Number Patterns</td>\n",
       "      <td>African American Achievements; Civil Rights Mo...</td>\n",
       "      <td>The human body, heart health and exercise</td>\n",
       "    </tr>\n",
       "    <tr>\n",
       "      <th>7</th>\n",
       "      <td>March</td>\n",
       "      <td>Spring; Easter; Ramadan</td>\n",
       "      <td>Springtime poetry; nature observation</td>\n",
       "      <td>Patterns and Geometry; Geometry in Islamic Art</td>\n",
       "      <td>Cultural Spring celebrations -- Easter, Ramadan</td>\n",
       "      <td>Life cycles of plants and animals (frogs and b...</td>\n",
       "    </tr>\n",
       "    <tr>\n",
       "      <th>8</th>\n",
       "      <td>April</td>\n",
       "      <td>Space; Passover</td>\n",
       "      <td>Space stories, science fiction; constellation ...</td>\n",
       "      <td>Patterns and algebraic thinking; math in the s...</td>\n",
       "      <td>Passover origins; History of astronomy</td>\n",
       "      <td>Solar System and celestial bodies</td>\n",
       "    </tr>\n",
       "    <tr>\n",
       "      <th>9</th>\n",
       "      <td>May</td>\n",
       "      <td>Ocean Life</td>\n",
       "      <td>Ocean vocabulary; sea creatures; sea stories</td>\n",
       "      <td>Problem-solving and mathematical reasoning; oc...</td>\n",
       "      <td>Coastal ecosystems; exploration and navigation</td>\n",
       "      <td>Ocean zones; Marine life and habitats</td>\n",
       "    </tr>\n",
       "  </tbody>\n",
       "</table>\n",
       "</div>"
      ],
      "text/plain": [
       "       month                              theme_to_explore  \\\n",
       "0     August  Getting to Know One Another; Class Community   \n",
       "1  September                  On the Map, where we’re from   \n",
       "2    October           Fall; Halloween; Dia de los Muertos   \n",
       "3   November                   Gratitude; Native Americans   \n",
       "4   December           Winter Solstice and winter holidays   \n",
       "5    January                Calendar, New Year, Goals, MLK   \n",
       "6   February           Black History, Love/Valentine's Day   \n",
       "7      March                       Spring; Easter; Ramadan   \n",
       "8      April                               Space; Passover   \n",
       "9        May                                    Ocean Life   \n",
       "\n",
       "                                       language_arts  \\\n",
       "0         Personal narratives, reading comprehension   \n",
       "1  Descriptive writing (My Place); vocabulary dev...   \n",
       "2          Creative writing; grammar and punctuation   \n",
       "3  Listening and speaking skills; Thankful Though...   \n",
       "4    book exchange; holiday cards; holiday play/skit   \n",
       "5  Dreams and goals; journaling; 'I Have a Dream'...   \n",
       "6  African American biographies; exploring emotio...   \n",
       "7              Springtime poetry; nature observation   \n",
       "8  Space stories, science fiction; constellation ...   \n",
       "9       Ocean vocabulary; sea creatures; sea stories   \n",
       "\n",
       "                                                math  \\\n",
       "0                               Counting and sorting   \n",
       "1               latitutde and longitude; place value   \n",
       "2  units of measurement (length, weight, etc.); E...   \n",
       "3                           Addition and subtraction   \n",
       "4        Geometry (2-D shapes); symmetry (snowflake)   \n",
       "5          Time units, Calendar math, multiplication   \n",
       "6               Fractions, Division; Number Patterns   \n",
       "7     Patterns and Geometry; Geometry in Islamic Art   \n",
       "8  Patterns and algebraic thinking; math in the s...   \n",
       "9  Problem-solving and mathematical reasoning; oc...   \n",
       "\n",
       "                                      social_studies  \\\n",
       "0  Our classroom community; citizenship and gover...   \n",
       "1              My hometown; local history; geography   \n",
       "2     Fall celebrations around the world; elections    \n",
       "3  Native American history; Settlement of US and ...   \n",
       "4                          Winter holidays worldwide   \n",
       "5  New Year's Celebrations worldwide; Community h...   \n",
       "6  African American Achievements; Civil Rights Mo...   \n",
       "7    Cultural Spring celebrations -- Easter, Ramadan   \n",
       "8             Passover origins; History of astronomy   \n",
       "9     Coastal ecosystems; exploration and navigation   \n",
       "\n",
       "                                             science  \n",
       "0  Exploring the school environment and local eco...  \n",
       "1      Water cycle, rivers; Geology, caves, aquifers  \n",
       "2   Food chains and food webs; Local flora and fauna  \n",
       "3  Seasonal Changes and Plants; Winter Animal Ada...  \n",
       "4   Physical science (matter, energy, force, motion)  \n",
       "5                Climate zones, seasons, and weather  \n",
       "6          The human body, heart health and exercise  \n",
       "7  Life cycles of plants and animals (frogs and b...  \n",
       "8                  Solar System and celestial bodies  \n",
       "9              Ocean zones; Marine life and habitats  "
      ]
     },
     "execution_count": 3,
     "metadata": {},
     "output_type": "execute_result"
    }
   ],
   "source": [
    "GSHEET_ID = os.getenv('GSHEET_ID')\n",
    "google_sheet_url = f\"https://docs.google.com/spreadsheets/d/{GSHEET_ID}/export?format=csv&gid=0\"\n",
    "annual_plan_df = pd.read_csv(google_sheet_url)\n",
    "annual_plan_df.rename(columns=lambda x: x.replace(\" \", \"_\").lower(), inplace=True)\n",
    "annual_plan_df"
   ]
  },
  {
   "cell_type": "markdown",
   "id": "ac4a13b0-088d-441c-b02a-4c44e3c9b5aa",
   "metadata": {},
   "source": [
    "# Create Prompt Templates"
   ]
  },
  {
   "cell_type": "code",
   "execution_count": 4,
   "id": "71282f17-be38-4121-99c6-d4999390bffb",
   "metadata": {},
   "outputs": [],
   "source": [
    "class ActivityIdea(BaseModel):\n",
    "    name: str\n",
    "    description: str\n",
    "\n",
    "class ActivityIdeasOutput(BaseModel):\n",
    "    ideas: List[ActivityIdea]\n",
    "# Set up a parser + inject instructions into the prompt template.\n",
    "activity_ideas_parser = PydanticOutputParser(pydantic_object=ActivityIdeasOutput)"
   ]
  },
  {
   "cell_type": "code",
   "execution_count": 5,
   "id": "cba0a205-2646-4f93-a31b-5b27350c760f",
   "metadata": {},
   "outputs": [],
   "source": [
    "general_system_prompt = SystemMessagePromptTemplate.from_template(\n",
    "    template= \"\"\"\n",
    "    You are a curriculum development expert and I am a teacher of second graders at a micro-school, with seven students of varying abilities.\n",
    "    - The microschool stresses the importance of outdoor education and student-led development, but it also wants to ensure high academic standards.\n",
    "    - Try to work in phonics work and literacy development into the language art activities.\n",
    "    - Try to work in arithmetic and numeracy development into the math activities.\n",
    "    - Keep in mind the grade level and number of the students when generating your response.\n",
    "    \"\"\"\n",
    ")"
   ]
  },
  {
   "cell_type": "code",
   "execution_count": 6,
   "id": "8cf68d12-3753-4c52-b4b5-1380ae1c8b7b",
   "metadata": {},
   "outputs": [],
   "source": [
    "idea_system_prompt = SystemMessagePromptTemplate.from_template(\n",
    "    template= \"\"\"\n",
    "    I want you to help me brainstorm activity ideas for my classroom.\n",
    "    Each activity could also be thought of as a lesson where the kids are learning valuable skills.\n",
    "    I only need you to give me the activity names and a brief description of each idea.\n",
    "    {format_instructions}\n",
    "    \n",
    "    Here are some additional guidelines for generating these ideas:\n",
    "    - Be creative in your activity ideas. Avoid common activities that have no direct relation to the lesson content, like scavenger hunts and word searches.\n",
    "    - Each activity idea should be able to be accomplished in 30 mins-3 hours.\n",
    "    - Each activity should relate directly to skills and concepts from the relevant academic subject.\n",
    "    - The description should only be sentence or two and should not simply repeat the theme or the topic. It should describe the nature of the activity.\n",
    "    \"\"\"\n",
    ")"
   ]
  },
  {
   "cell_type": "code",
   "execution_count": 7,
   "id": "6ca20a2c-b933-4572-ad08-91080112626d",
   "metadata": {},
   "outputs": [],
   "source": [
    "idea_human_prompt = HumanMessagePromptTemplate.from_template(\n",
    "    template=\"\"\"\n",
    "    I want you to generate {num_ideas} activity ideas for the month of {month}. The theme for this month is {theme}.\n",
    "    The academic subject is {subject} and the topic suggestions for this month are: {topic}.    \n",
    "    \"\"\"\n",
    ")"
   ]
  },
  {
   "cell_type": "code",
   "execution_count": 8,
   "id": "bebac731-6296-472e-ae09-81554b9f2531",
   "metadata": {},
   "outputs": [],
   "source": [
    "idea_chat_prompt_template = ChatPromptTemplate(\n",
    "    messages=[general_system_prompt, idea_system_prompt, idea_human_prompt],\n",
    "    input_variables=[\"num_ideas\", \"month\", \"theme\", \"subject\", \"topic\"],\n",
    "    partial_variables={\"format_instructions\": activity_ideas_parser.get_format_instructions()}\n",
    ")"
   ]
  },
  {
   "cell_type": "code",
   "execution_count": 9,
   "id": "f6734f66-33e2-487c-801c-31b86f66b0e8",
   "metadata": {},
   "outputs": [
    {
     "name": "stdout",
     "output_type": "stream",
     "text": [
      "The output should be formatted as a JSON instance that conforms to the JSON schema below.\n",
      "\n",
      "As an example, for the schema {\"properties\": {\"foo\": {\"title\": \"Foo\", \"description\": \"a list of strings\", \"type\": \"array\", \"items\": {\"type\": \"string\"}}}, \"required\": [\"foo\"]}\n",
      "the object {\"foo\": [\"bar\", \"baz\"]} is a well-formatted instance of the schema. The object {\"properties\": {\"foo\": [\"bar\", \"baz\"]}} is not well-formatted.\n",
      "\n",
      "Here is the output schema:\n",
      "```\n",
      "{\"properties\": {\"ideas\": {\"title\": \"Ideas\", \"type\": \"array\", \"items\": {\"$ref\": \"#/definitions/ActivityIdea\"}}}, \"required\": [\"ideas\"], \"definitions\": {\"ActivityIdea\": {\"title\": \"ActivityIdea\", \"type\": \"object\", \"properties\": {\"name\": {\"title\": \"Name\", \"type\": \"string\"}, \"description\": {\"title\": \"Description\", \"type\": \"string\"}}, \"required\": [\"name\", \"description\"]}}}\n",
      "```\n"
     ]
    }
   ],
   "source": [
    "print(activity_ideas_parser.get_format_instructions())"
   ]
  },
  {
   "cell_type": "code",
   "execution_count": 10,
   "id": "74cacd5a-fff6-4c43-86f6-e1a9593e4535",
   "metadata": {},
   "outputs": [],
   "source": [
    "class LessonPlanOutput(BaseModel):\n",
    "    time_estimate: str\n",
    "    list_of_materials: List[str]\n",
    "    procedure: List[str]\n",
    "    additional_notes: List[str]\n",
    "    differentiation_strategies: List[str]\n",
    "\n",
    "# Set up a parser + inject instructions into the prompt template.\n",
    "lesson_plan_parser = PydanticOutputParser(pydantic_object=LessonPlanOutput)"
   ]
  },
  {
   "cell_type": "code",
   "execution_count": 11,
   "id": "acd3ca7d-be4b-4d33-812a-990706a9628f",
   "metadata": {},
   "outputs": [],
   "source": [
    "lesson_plan_system_prompt = SystemMessagePromptTemplate.from_template(\n",
    "    template=\"\"\"\n",
    "    I want you to generate a detailed lesson plan. I will give you a name and a short description of the lesson, as well as the academic subject the lesson plan should relate to.\n",
    "    You will provide:\n",
    "     - a time estimate\n",
    "     - a list of materials\n",
    "     - a step-by-step procedure for executing the lesson.\n",
    "     - additional notes\n",
    "     - differentiation strategies for evaluating students and providing additional challenge or assistance, and modifications for neurodivergent students\n",
    "     \n",
    "     Additional guidelines for the lesson plan:\n",
    "      - Ensure that the lesson uses and develops skills relevant to the academic subject.\n",
    "      - Try to make the best estimate of the total amount of time the activity will take. Be generous because these are young kids and they take a while!\n",
    "      - The 'additional notes' specifies the actual content mentioned in the 'procedure' (e.g., interview questions, puzzle clues, specific writing prompts, etc.), so lesson plan provides everything needed to execute the lesson.\n",
    "    \n",
    "    {format_instructions}\n",
    "    \"\"\"\n",
    ")"
   ]
  },
  {
   "cell_type": "code",
   "execution_count": 12,
   "id": "b1a583b2-4c85-4163-9526-8631598cdf19",
   "metadata": {},
   "outputs": [],
   "source": [
    "lesson_plan_human_prompt = HumanMessagePromptTemplate.from_template(\n",
    "    template=\"\"\"\n",
    "    I want you to generate a *detailed* lesson plan for the academic subject of {subject}.\n",
    "    The name of the lesson is {activity_name}, and the short description is: {activity_description}.\n",
    "    \"\"\"\n",
    ")"
   ]
  },
  {
   "cell_type": "code",
   "execution_count": 13,
   "id": "982eec11-b61f-42d5-8ca2-5f3c103ece44",
   "metadata": {},
   "outputs": [],
   "source": [
    "    # - The 'differentiation strategies' provides modifications for students who need more support, for students who need more challenge, and for neurodivergent students."
   ]
  },
  {
   "cell_type": "code",
   "execution_count": 14,
   "id": "549c688e-42f8-44ed-9e84-9e0fd66b0c51",
   "metadata": {},
   "outputs": [],
   "source": [
    "    # - The 'additional notes' must **NOT** include differentiation strageties. There should be no overlap. Double-check this before giving me your response."
   ]
  },
  {
   "cell_type": "code",
   "execution_count": 15,
   "id": "6ae08714-d533-4725-b7a3-fae601ff6c5c",
   "metadata": {},
   "outputs": [],
   "source": [
    "lesson_plan_chat_prompt_template = ChatPromptTemplate(\n",
    "    messages=[general_system_prompt, lesson_plan_system_prompt, lesson_plan_human_prompt],\n",
    "    input_variables=[\"activity_name\", \"activity_description\", \"subject\"],\n",
    "    partial_variables={\"format_instructions\": lesson_plan_parser.get_format_instructions()}\n",
    ")"
   ]
  },
  {
   "cell_type": "code",
   "execution_count": 16,
   "id": "2c95618e-5b54-4b30-89dd-eccc5b0bd099",
   "metadata": {},
   "outputs": [
    {
     "name": "stdout",
     "output_type": "stream",
     "text": [
      "The output should be formatted as a JSON instance that conforms to the JSON schema below.\n",
      "\n",
      "As an example, for the schema {\"properties\": {\"foo\": {\"title\": \"Foo\", \"description\": \"a list of strings\", \"type\": \"array\", \"items\": {\"type\": \"string\"}}}, \"required\": [\"foo\"]}\n",
      "the object {\"foo\": [\"bar\", \"baz\"]} is a well-formatted instance of the schema. The object {\"properties\": {\"foo\": [\"bar\", \"baz\"]}} is not well-formatted.\n",
      "\n",
      "Here is the output schema:\n",
      "```\n",
      "{\"properties\": {\"time_estimate\": {\"title\": \"Time Estimate\", \"type\": \"string\"}, \"list_of_materials\": {\"title\": \"List Of Materials\", \"type\": \"array\", \"items\": {\"type\": \"string\"}}, \"procedure\": {\"title\": \"Procedure\", \"type\": \"array\", \"items\": {\"type\": \"string\"}}, \"additional_notes\": {\"title\": \"Additional Notes\", \"type\": \"array\", \"items\": {\"type\": \"string\"}}, \"differentiation_strategies\": {\"title\": \"Differentiation Strategies\", \"type\": \"array\", \"items\": {\"type\": \"string\"}}}, \"required\": [\"time_estimate\", \"list_of_materials\", \"procedure\", \"additional_notes\", \"differentiation_strategies\"]}\n",
      "```\n"
     ]
    }
   ],
   "source": [
    "print(lesson_plan_parser.get_format_instructions())"
   ]
  },
  {
   "cell_type": "markdown",
   "id": "48bb69f8-a88c-4d5c-a204-6bc6e4c3c275",
   "metadata": {},
   "source": [
    "# Test on Single Record"
   ]
  },
  {
   "cell_type": "code",
   "execution_count": 17,
   "id": "ef850678-6948-4c2e-9545-72aebcb1813e",
   "metadata": {},
   "outputs": [],
   "source": [
    "num_plans = 5"
   ]
  },
  {
   "cell_type": "code",
   "execution_count": 18,
   "id": "ba55d394-bbbe-4d91-a800-733c009c6638",
   "metadata": {},
   "outputs": [],
   "source": [
    "month = \"September\"\n",
    "subject = 'math'"
   ]
  },
  {
   "cell_type": "code",
   "execution_count": 19,
   "id": "a5529a5c-a967-473e-9f92-df8b0c1852e1",
   "metadata": {},
   "outputs": [],
   "source": [
    "month_record = annual_plan_df.query(\"month == @month\").to_dict(orient='records')[0]"
   ]
  },
  {
   "cell_type": "code",
   "execution_count": 20,
   "id": "fbdda230-1448-4191-9636-bae7ce2597f7",
   "metadata": {},
   "outputs": [],
   "source": [
    "theme = month_record['theme_to_explore']\n",
    "topic = month_record[subject]"
   ]
  },
  {
   "cell_type": "code",
   "execution_count": 21,
   "id": "30d76435-0f38-4dd0-8dbe-7581cdb6ca5d",
   "metadata": {},
   "outputs": [],
   "source": [
    "idea_prompt = idea_chat_prompt_template.format_prompt(\n",
    "    num_ideas=num_plans,\n",
    "    month=month,\n",
    "    theme=theme,\n",
    "    subject=subject, \n",
    "    topic=topic \n",
    ")"
   ]
  },
  {
   "cell_type": "code",
   "execution_count": 22,
   "id": "ec97e284-7a9a-4cc7-938c-d681fbaa2195",
   "metadata": {},
   "outputs": [],
   "source": [
    "idea_messages = idea_prompt.to_messages()"
   ]
  },
  {
   "cell_type": "code",
   "execution_count": 23,
   "id": "19eedfd8-e4ea-4354-b8c2-da5e7e855ac2",
   "metadata": {
    "scrolled": true
   },
   "outputs": [
    {
     "data": {
      "text/plain": [
       "[SystemMessage(content='\\n    You are a curriculum development expert and I am a teacher of second graders at a micro-school, with seven students of varying abilities.\\n    - The microschool stresses the importance of outdoor education and student-led development, but it also wants to ensure high academic standards.\\n    - Try to work in phonics work and literacy development into the language art activities.\\n    - Try to work in arithmetic and numeracy development into the math activities.\\n    - Keep in mind the grade level and number of the students when generating your response.\\n    ', additional_kwargs={}),\n",
       " SystemMessage(content='\\n    I want you to help me brainstorm activity ideas for my classroom.\\n    Each activity could also be thought of as a lesson where the kids are learning valuable skills.\\n    I only need you to give me the activity names and a brief description of each idea.\\n    The output should be formatted as a JSON instance that conforms to the JSON schema below.\\n\\nAs an example, for the schema {\"properties\": {\"foo\": {\"title\": \"Foo\", \"description\": \"a list of strings\", \"type\": \"array\", \"items\": {\"type\": \"string\"}}}, \"required\": [\"foo\"]}\\nthe object {\"foo\": [\"bar\", \"baz\"]} is a well-formatted instance of the schema. The object {\"properties\": {\"foo\": [\"bar\", \"baz\"]}} is not well-formatted.\\n\\nHere is the output schema:\\n```\\n{\"properties\": {\"ideas\": {\"title\": \"Ideas\", \"type\": \"array\", \"items\": {\"$ref\": \"#/definitions/ActivityIdea\"}}}, \"required\": [\"ideas\"], \"definitions\": {\"ActivityIdea\": {\"title\": \"ActivityIdea\", \"type\": \"object\", \"properties\": {\"name\": {\"title\": \"Name\", \"type\": \"string\"}, \"description\": {\"title\": \"Description\", \"type\": \"string\"}}, \"required\": [\"name\", \"description\"]}}}\\n```\\n    \\n    Here are some additional guidelines for generating these ideas:\\n    - Be creative in your activity ideas. Avoid common activities that have no direct relation to the lesson content, like scavenger hunts and word searches.\\n    - Each activity idea should be able to be accomplished in 30 mins-3 hours.\\n    - Each activity should relate directly to skills and concepts from the relevant academic subject.\\n    - The description should only be sentence or two and should not simply repeat the theme or the topic. It should describe the nature of the activity.\\n    ', additional_kwargs={}),\n",
       " HumanMessage(content='\\n    I want you to generate 5 activity ideas for the month of September. The theme for this month is On the Map, where we’re from.\\n    The academic subject is math and the topic suggestions for this month are: latitutde and longitude; place value.    \\n    ', additional_kwargs={}, example=False)]"
      ]
     },
     "execution_count": 23,
     "metadata": {},
     "output_type": "execute_result"
    }
   ],
   "source": [
    "idea_messages"
   ]
  },
  {
   "cell_type": "markdown",
   "id": "08a50d1a-2e7b-40ae-bc8c-845620401f38",
   "metadata": {},
   "source": [
    "### Instantiate Test Chat Model"
   ]
  },
  {
   "cell_type": "code",
   "execution_count": 24,
   "id": "fbba9d9d-39bb-49ce-a8e8-69cacd631f76",
   "metadata": {},
   "outputs": [],
   "source": [
    "model_name = \"gpt-3.5-turbo\"\n",
    "temperature = 0.1\n",
    "chat_model = ChatOpenAI(model_name=model_name, temperature=temperature, max_tokens=3000)\n",
    "# model_name = \"text-davinci-003\"\n",
    "# model = OpenAI(model_name=model_name, temperature=temperature, max_tokens=3000)\n",
    "# from langchain.chat_models import ChatGooglePalm\n",
    "# chat_model = ChatGooglePalm(model_name='models/chat-bison-001', temperature=.8, max_tokens=500)"
   ]
  },
  {
   "cell_type": "code",
   "execution_count": 25,
   "id": "09d253ed-8d1d-4633-b86b-c4b5fe0a7300",
   "metadata": {},
   "outputs": [],
   "source": [
    "idea_response = chat_model(idea_messages)"
   ]
  },
  {
   "cell_type": "code",
   "execution_count": 26,
   "id": "03ecda6d-f8e5-4770-a5a0-8e42e5f217ba",
   "metadata": {},
   "outputs": [],
   "source": [
    "ideas_parsed = activity_ideas_parser.parse(idea_response.content)"
   ]
  },
  {
   "cell_type": "code",
   "execution_count": 27,
   "id": "1c4abafe-3557-492e-b9c5-81dc50015329",
   "metadata": {},
   "outputs": [
    {
     "name": "stdout",
     "output_type": "stream",
     "text": [
      "{'ideas': [{'description': 'Students will create a visual representation of '\n",
      "                           'their personal journey by plotting their '\n",
      "                           'birthplace and current location on a world map, '\n",
      "                           'using latitude and longitude coordinates.',\n",
      "            'name': 'Mapping Our Journey'},\n",
      "           {'description': 'Students will work in pairs to search for hidden '\n",
      "                           'objects in the schoolyard, using latitude and '\n",
      "                           'longitude coordinates as clues to find each item.',\n",
      "            'name': 'Latitude and Longitude Scavenger Hunt'},\n",
      "           {'description': 'Students will solve place value puzzles by '\n",
      "                           'arranging number cards to create the largest and '\n",
      "                           'smallest numbers possible, reinforcing their '\n",
      "                           'understanding of place value concepts.',\n",
      "            'name': 'Place Value Puzzles'},\n",
      "           {'description': 'Students will solve math problems related to maps '\n",
      "                           'and geography, such as calculating distances '\n",
      "                           'between cities or determining the scale of a map.',\n",
      "            'name': 'Map Math Challenge'},\n",
      "           {'description': 'Students will learn about time zones by '\n",
      "                           'researching different cities around the world and '\n",
      "                           'comparing their local time to the time in those '\n",
      "                           'cities, practicing addition and subtraction of '\n",
      "                           'hours.',\n",
      "            'name': 'Exploring Time Zones'}]}\n"
     ]
    }
   ],
   "source": [
    "pp.pprint(ideas_parsed.dict())"
   ]
  },
  {
   "cell_type": "code",
   "execution_count": 28,
   "id": "e7cc668f-134c-4f6f-93ff-38515e09cb93",
   "metadata": {},
   "outputs": [],
   "source": [
    "idea = ideas_parsed.ideas[0]"
   ]
  },
  {
   "cell_type": "code",
   "execution_count": 29,
   "id": "5f408fe2-56b7-4c17-8a54-a314a3433e33",
   "metadata": {},
   "outputs": [],
   "source": [
    "idea_name = idea.name\n",
    "idea_description = idea.description"
   ]
  },
  {
   "cell_type": "code",
   "execution_count": 30,
   "id": "c2e1a71e-7ba6-468a-b2f5-b363d957a7db",
   "metadata": {},
   "outputs": [
    {
     "name": "stdout",
     "output_type": "stream",
     "text": [
      "Mapping Our Journey: Students will create a visual representation of their personal journey by plotting their birthplace and current location on a world map, using latitude and longitude coordinates.\n"
     ]
    }
   ],
   "source": [
    "print(f\"{idea_name}: {idea_description}\")"
   ]
  },
  {
   "cell_type": "code",
   "execution_count": 31,
   "id": "ab62f60d-e220-4b47-86ae-6e258185fca2",
   "metadata": {},
   "outputs": [],
   "source": [
    "lesson_plan_prompt_value = lesson_plan_chat_prompt_template.format_prompt(\n",
    "    activity_name=idea_name,\n",
    "    activity_description=idea_description,\n",
    "    subject=subject\n",
    ")"
   ]
  },
  {
   "cell_type": "code",
   "execution_count": 32,
   "id": "a03e9d8d-f07e-4f0e-ba49-1677cdcf76f5",
   "metadata": {},
   "outputs": [],
   "source": [
    "lp_messages = lesson_plan_prompt_value.to_messages()"
   ]
  },
  {
   "cell_type": "code",
   "execution_count": 33,
   "id": "ce4b74df-5f9a-49ef-a89c-e3043cdcf7e3",
   "metadata": {},
   "outputs": [
    {
     "data": {
      "text/plain": [
       "[SystemMessage(content='\\n    You are a curriculum development expert and I am a teacher of second graders at a micro-school, with seven students of varying abilities.\\n    - The microschool stresses the importance of outdoor education and student-led development, but it also wants to ensure high academic standards.\\n    - Try to work in phonics work and literacy development into the language art activities.\\n    - Try to work in arithmetic and numeracy development into the math activities.\\n    - Keep in mind the grade level and number of the students when generating your response.\\n    ', additional_kwargs={}),\n",
       " SystemMessage(content='\\n    I want you to generate a detailed lesson plan. I will give you a name and a short description of the lesson, as well as the academic subject the lesson plan should relate to.\\n    You will provide:\\n     - a time estimate\\n     - a list of materials\\n     - a step-by-step procedure for executing the lesson.\\n     - additional notes\\n     - differentiation strategies for evaluating students and providing additional challenge or assistance, and modifications for neurodivergent students\\n     \\n     Additional guidelines for the lesson plan:\\n      - Ensure that the lesson uses and develops skills relevant to the academic subject.\\n      - Try to make the best estimate of the total amount of time the activity will take. Be generous because these are young kids and they take a while!\\n      - The \\'additional notes\\' specifies the actual content mentioned in the \\'procedure\\' (e.g., interview questions, puzzle clues, specific writing prompts, etc.), so lesson plan provides everything needed to execute the lesson.\\n    \\n    The output should be formatted as a JSON instance that conforms to the JSON schema below.\\n\\nAs an example, for the schema {\"properties\": {\"foo\": {\"title\": \"Foo\", \"description\": \"a list of strings\", \"type\": \"array\", \"items\": {\"type\": \"string\"}}}, \"required\": [\"foo\"]}\\nthe object {\"foo\": [\"bar\", \"baz\"]} is a well-formatted instance of the schema. The object {\"properties\": {\"foo\": [\"bar\", \"baz\"]}} is not well-formatted.\\n\\nHere is the output schema:\\n```\\n{\"properties\": {\"time_estimate\": {\"title\": \"Time Estimate\", \"type\": \"string\"}, \"list_of_materials\": {\"title\": \"List Of Materials\", \"type\": \"array\", \"items\": {\"type\": \"string\"}}, \"procedure\": {\"title\": \"Procedure\", \"type\": \"array\", \"items\": {\"type\": \"string\"}}, \"additional_notes\": {\"title\": \"Additional Notes\", \"type\": \"array\", \"items\": {\"type\": \"string\"}}, \"differentiation_strategies\": {\"title\": \"Differentiation Strategies\", \"type\": \"array\", \"items\": {\"type\": \"string\"}}}, \"required\": [\"time_estimate\", \"list_of_materials\", \"procedure\", \"additional_notes\", \"differentiation_strategies\"]}\\n```\\n    ', additional_kwargs={}),\n",
       " HumanMessage(content='\\n    I want you to generate a *detailed* lesson plan for the academic subject of math.\\n    The name of the lesson is Mapping Our Journey, and the short description is: Students will create a visual representation of their personal journey by plotting their birthplace and current location on a world map, using latitude and longitude coordinates..\\n    ', additional_kwargs={}, example=False)]"
      ]
     },
     "execution_count": 33,
     "metadata": {},
     "output_type": "execute_result"
    }
   ],
   "source": [
    "lp_messages"
   ]
  },
  {
   "cell_type": "code",
   "execution_count": 34,
   "id": "8227753a-d3d8-410f-84b3-590109994b75",
   "metadata": {},
   "outputs": [],
   "source": [
    "lp_response = chat_model(lp_messages)"
   ]
  },
  {
   "cell_type": "code",
   "execution_count": 35,
   "id": "6e43433f-1964-4ff5-b8e8-7aa8cc692fbd",
   "metadata": {},
   "outputs": [],
   "source": [
    "lp_parsed = lesson_plan_parser.parse(lp_response.content)"
   ]
  },
  {
   "cell_type": "code",
   "execution_count": 36,
   "id": "689d1ba2-fec0-48c3-8637-d127781f5275",
   "metadata": {},
   "outputs": [],
   "source": [
    "lp_dict = lp_parsed.dict()"
   ]
  },
  {
   "cell_type": "code",
   "execution_count": 37,
   "id": "832dc9a8-0de4-47fc-b2e3-f03c91d29585",
   "metadata": {},
   "outputs": [],
   "source": [
    "full_lp = {k: v for k, v in idea.dict().items()}\n",
    "full_lp.update(lp_dict)"
   ]
  },
  {
   "cell_type": "code",
   "execution_count": 38,
   "id": "72e83436-c333-4aef-8b87-15f73ea9d02b",
   "metadata": {
    "scrolled": true
   },
   "outputs": [
    {
     "data": {
      "text/plain": [
       "[\"Before the lesson, gather the latitude and longitude coordinates for each student's birthplace and current location.\",\n",
       " 'If some students have difficulty with plotting the coordinates, provide additional support by guiding them through the process step by step.',\n",
       " 'For neurodivergent students, consider providing visual aids or manipulatives to help them understand and visualize the concept of latitude and longitude.',\n",
       " 'To incorporate literacy development, have the students write a short paragraph describing their personal journey and what they have learned from the activity.']"
      ]
     },
     "execution_count": 38,
     "metadata": {},
     "output_type": "execute_result"
    }
   ],
   "source": [
    "full_lp['additional_notes']"
   ]
  },
  {
   "cell_type": "code",
   "execution_count": 39,
   "id": "03a923b3-cd8b-4411-9810-157965cb5809",
   "metadata": {},
   "outputs": [
    {
     "data": {
      "text/plain": [
       "['For advanced students, challenge them to plot additional locations on the map, such as places they have visited or places they would like to visit in the future.',\n",
       " 'For students who need extra support, provide a simplified version of the world map with pre-marked latitude and longitude lines to assist with plotting the coordinates.',\n",
       " 'For neurodivergent students, offer alternative ways of representing their personal journey, such as using pictures or symbols instead of coordinates.']"
      ]
     },
     "execution_count": 39,
     "metadata": {},
     "output_type": "execute_result"
    }
   ],
   "source": [
    "full_lp['differentiation_strategies']"
   ]
  },
  {
   "cell_type": "markdown",
   "id": "03141867-d447-46a7-a823-4ed8765284ac",
   "metadata": {},
   "source": [
    "## Define Markdown Helper Functions"
   ]
  },
  {
   "cell_type": "code",
   "execution_count": 40,
   "id": "a6a8d2f6-0ed4-48fe-bfc9-963b4c15d81c",
   "metadata": {},
   "outputs": [],
   "source": [
    "def make_ordered_list_markdown(lst):\n",
    "    markdown_list = [f\"{idx}. {val}\" for idx, val in enumerate(lst, start=1)]\n",
    "    return '\\n'.join(markdown_list)"
   ]
  },
  {
   "cell_type": "code",
   "execution_count": 41,
   "id": "998ee8e0-6b5b-4e3e-9c6d-c37a1481b1f3",
   "metadata": {},
   "outputs": [],
   "source": [
    "def make_list_markdown(lst):\n",
    "    return \"- \" + \"\\n- \".join(lst)"
   ]
  },
  {
   "cell_type": "code",
   "execution_count": 42,
   "id": "ee7c2632-1664-4e3a-b9d0-32479bbd7301",
   "metadata": {},
   "outputs": [],
   "source": [
    "def convert_lesson_plan_to_markdown(lesson_plan_dict):\n",
    "    res = []\n",
    "    res.append(f\"## {lesson_plan_dict['name']}\")\n",
    "    res.append(lesson_plan_dict['description'])\n",
    "    res.append(f\"\\n### Time estimate: {lesson_plan_dict['time_estimate']}\")\n",
    "    res.append(f\"\\n### Materials\")\n",
    "    res.append(make_list_markdown(lesson_plan_dict[\"list_of_materials\"]))\n",
    "    res.append(f\"\\n### Procedure\")\n",
    "    res.append(make_ordered_list_markdown(lesson_plan_dict['procedure']))\n",
    "    res.append(f\"\\n### Additional notes\")\n",
    "    res.append(make_list_markdown(lesson_plan_dict['additional_notes']))\n",
    "    res.append(f\"\\n### Differentiation strategies\")\n",
    "    res.append(make_list_markdown(lesson_plan_dict['differentiation_strategies']))\n",
    "    \n",
    "    return \"\\n\".join(res)\n",
    "    "
   ]
  },
  {
   "cell_type": "code",
   "execution_count": 43,
   "id": "ca1e82b9-91b7-49a6-8cb6-4d4ec08210c9",
   "metadata": {
    "scrolled": true
   },
   "outputs": [],
   "source": [
    "md = convert_lesson_plan_to_markdown(full_lp)"
   ]
  },
  {
   "cell_type": "code",
   "execution_count": 44,
   "id": "b1a21bf9-ad74-4821-9b7a-26acb1cd44ab",
   "metadata": {},
   "outputs": [
    {
     "data": {
      "text/markdown": [
       "## Mapping Our Journey\n",
       "Students will create a visual representation of their personal journey by plotting their birthplace and current location on a world map, using latitude and longitude coordinates.\n",
       "\n",
       "### Time estimate: 60 minutes\n",
       "\n",
       "### Materials\n",
       "- World map\n",
       "- Latitude and longitude coordinates of birthplace and current location\n",
       "- Pencils\n",
       "- Colored markers or crayons\n",
       "\n",
       "### Procedure\n",
       "1. Introduce the lesson by explaining to the students that they will be creating a visual representation of their personal journey.\n",
       "2. Show the students a world map and explain how latitude and longitude coordinates can be used to locate places on the map.\n",
       "3. Provide each student with a copy of the world map and their latitude and longitude coordinates for their birthplace and current location.\n",
       "4. Instruct the students to plot their birthplace and current location on the map using the latitude and longitude coordinates.\n",
       "5. Encourage the students to use different colored markers or crayons to distinguish between their birthplace and current location.\n",
       "6. Once the students have plotted their locations, have them label each point with the corresponding latitude and longitude coordinates.\n",
       "7. Give the students time to share their maps with the class and explain the significance of their personal journey.\n",
       "8. Facilitate a class discussion about the different journeys represented on the maps and the similarities and differences between them.\n",
       "\n",
       "### Additional notes\n",
       "- Before the lesson, gather the latitude and longitude coordinates for each student's birthplace and current location.\n",
       "- If some students have difficulty with plotting the coordinates, provide additional support by guiding them through the process step by step.\n",
       "- For neurodivergent students, consider providing visual aids or manipulatives to help them understand and visualize the concept of latitude and longitude.\n",
       "- To incorporate literacy development, have the students write a short paragraph describing their personal journey and what they have learned from the activity.\n",
       "\n",
       "### Differentiation strategies\n",
       "- For advanced students, challenge them to plot additional locations on the map, such as places they have visited or places they would like to visit in the future.\n",
       "- For students who need extra support, provide a simplified version of the world map with pre-marked latitude and longitude lines to assist with plotting the coordinates.\n",
       "- For neurodivergent students, offer alternative ways of representing their personal journey, such as using pictures or symbols instead of coordinates."
      ],
      "text/plain": [
       "<IPython.core.display.Markdown object>"
      ]
     },
     "metadata": {},
     "output_type": "display_data"
    }
   ],
   "source": [
    "display(Markdown(md))"
   ]
  },
  {
   "cell_type": "markdown",
   "id": "915f045c-ff9c-4361-971d-e9e7fb1a4fa7",
   "metadata": {},
   "source": [
    "# Define Wrapper Functions"
   ]
  },
  {
   "cell_type": "code",
   "execution_count": 45,
   "id": "2e4dbec5-2624-48e5-98b5-7afb8b70eb95",
   "metadata": {},
   "outputs": [],
   "source": [
    "def prompt_wrapper(prompt_template, parser, model, max_retries=5, **kwargs):\n",
    "    prompt_value = prompt_template.format_prompt(**kwargs)\n",
    "    messages = prompt_value.to_messages()\n",
    "    for attempt in range(max_retries + 1):  #sometimes the parser fails inexplicably\n",
    "        try:\n",
    "            output = model(messages)\n",
    "            parsed_output = parser.parse(output.content)\n",
    "            break\n",
    "        except Exception as e:\n",
    "            if attempt < max_retries:\n",
    "                print(e)\n",
    "                print(f\"Attempt {attempt + 1} failed. Retrying...\")\n",
    "                time.sleep(2)  # Wait before retrying\n",
    "            else:\n",
    "                print(f\"API call failed after {max_retries} attempts. Skipping.\")\n",
    "    return parsed_output"
   ]
  },
  {
   "cell_type": "code",
   "execution_count": 46,
   "id": "8b745061-18b3-4db6-8bdf-3e3698368cb6",
   "metadata": {},
   "outputs": [],
   "source": [
    "chat_model = ChatOpenAI(model_name=\"gpt-3.5-turbo\", temperature=temperature, max_tokens=3000)"
   ]
  },
  {
   "cell_type": "code",
   "execution_count": 47,
   "id": "6ad745de-c80b-47e7-bc68-61068dce5117",
   "metadata": {},
   "outputs": [
    {
     "name": "stdout",
     "output_type": "stream",
     "text": [
      "{'ideas': [{'description': 'Students will create a visual representation of '\n",
      "                           'their journey to school using latitude and '\n",
      "                           'longitude coordinates.',\n",
      "            'name': 'Mapping Our Journey'},\n",
      "           {'description': 'Students will use a map to identify and locate '\n",
      "                           'different landmarks in their neighborhood, '\n",
      "                           'practicing their understanding of latitude and '\n",
      "                           'longitude.',\n",
      "            'name': 'Exploring Our Neighborhood'},\n",
      "           {'description': 'Students will participate in a scavenger hunt '\n",
      "                           'where they have to find objects or places using '\n",
      "                           'latitude and longitude coordinates.',\n",
      "            'name': 'Latitude and Longitude Scavenger Hunt'},\n",
      "           {'description': 'Students will go on a treasure hunt around the '\n",
      "                           'school, solving place value problems to find clues '\n",
      "                           'and locate the hidden treasure.',\n",
      "            'name': 'Place Value Treasure Hunt'},\n",
      "           {'description': 'Students will solve math problems related to maps '\n",
      "                           'and geography, such as calculating distances '\n",
      "                           'between locations or converting units of '\n",
      "                           'measurement.',\n",
      "            'name': 'Map Math Challenge'}]}\n"
     ]
    }
   ],
   "source": [
    "# Generate activity ideas for each month-subject combo\n",
    "activity_ideas_parsed = prompt_wrapper(  \n",
    "                prompt_template=idea_chat_prompt_template, \n",
    "                parser=activity_ideas_parser,\n",
    "                model=chat_model,\n",
    "                num_ideas=num_plans,\n",
    "                month=month,\n",
    "                theme=theme,\n",
    "                subject=subject, \n",
    "                topic=topic\n",
    "            )\n",
    "\n",
    "# examine output\n",
    "pp.pprint(activity_ideas_parsed.dict())"
   ]
  },
  {
   "cell_type": "code",
   "execution_count": 48,
   "id": "779dd20e-f97c-4d8d-80a8-a05147a6f39c",
   "metadata": {},
   "outputs": [],
   "source": [
    "def wrapper(annual_plan_df, activity_ideas_model, lesson_plan_model, num_plans=5, months=None):\n",
    "    res = {}\n",
    "    if months is None:\n",
    "        months = annual_plan_df['month'].values\n",
    "    df = annual_plan_df.query('month.isin(@months)')\n",
    "    display(df)\n",
    "    for idx, row in df.head(3).iterrows(): # first iterate through the months in the table\n",
    "        month = row[\"month\"]\n",
    "        theme = row[\"theme_to_explore\"]\n",
    "        print(f\"# {month}\")\n",
    "        markdown_lst = []\n",
    "        markdown_lst.append(f\"# {month}\")\n",
    "        markdown_lst.append(f\"## Theme: {theme}\")\n",
    "        res[month] = dict()\n",
    "        subjects = df.columns[2:].values\n",
    "        for subject in subjects:  # for each month, iterate through the academic subjects\n",
    "            pretty_subject = subject.replace(\"_\", \" \").title()\n",
    "            markdown_lst.append(f\"\\n# {pretty_subject}\")\n",
    "            print(f\"## {pretty_subject}\")\n",
    "            topic = row[subject]\n",
    "            activity_ideas_parsed = prompt_wrapper(  # Generate activity ideas for each month-subject combo\n",
    "                prompt_template=idea_chat_prompt_template, \n",
    "                parser=activity_ideas_parser,\n",
    "                model=activity_ideas_model,\n",
    "                num_ideas=num_plans,\n",
    "                month=month,\n",
    "                theme=theme,\n",
    "                subject=subject, \n",
    "                topic=topic\n",
    "            )\n",
    "            print(\"  - Generated ideas\")\n",
    "            res[month][subject] = activity_ideas_parsed.dict()\n",
    "            \n",
    "            for idea in res[month][subject][\"ideas\"]: #  Generate lesson plans for each idea\n",
    "                activity_name = idea[\"name\"]\n",
    "                activity_description = idea[\"description\"]\n",
    "                lesson_plan = prompt_wrapper(\n",
    "                    prompt_template=lesson_plan_chat_prompt_template, \n",
    "                    parser=lesson_plan_parser,\n",
    "                    model=lesson_plan_model,\n",
    "                    activity_name=activity_name, \n",
    "                    activity_description=activity_description, \n",
    "                    subject=subject\n",
    "                )\n",
    "                idea.update(lesson_plan)\n",
    "                lesson_plan_markdown = convert_lesson_plan_to_markdown(idea)\n",
    "                markdown_lst.append(f\"\\n{lesson_plan_markdown}\")\n",
    "                markdown_string = \"\\n\".join(markdown_lst)\n",
    "            print(\"  - Generated lesson plans\")\n",
    "                \n",
    "        # Write the output of each month to a Markdown file\n",
    "        output_file_path = f'../output/{idx + 1} {month} Lesson Plans.md'\n",
    "        with open(output_file_path, \"w\") as output_file:\n",
    "            output_file.write(markdown_string)\n",
    "\n",
    "        print(f\"Markdown output written to '{output_file_path}'.\")\n",
    "        print(\"*\" * 50, \"\\n\")\n",
    "        # break\n",
    "    \n",
    "    # Write full results to a JSON file\n",
    "    full_result_output_path = \"../output/lesson_plan.json\"\n",
    "    with open(full_result_output_path , \"w\") as json_file:\n",
    "        json.dump(res, json_file)\n",
    "    print(f\"JSON output written to '{full_result_output_path }'.\")\n",
    "    return res"
   ]
  },
  {
   "cell_type": "markdown",
   "id": "c096e392-98cd-4b6f-a666-43a0e5e64d1d",
   "metadata": {},
   "source": [
    "# Run"
   ]
  },
  {
   "cell_type": "code",
   "execution_count": 49,
   "id": "f035cc07-b571-4dc2-b750-a6b8f3028fba",
   "metadata": {},
   "outputs": [
    {
     "data": {
      "text/html": [
       "<div>\n",
       "<style scoped>\n",
       "    .dataframe tbody tr th:only-of-type {\n",
       "        vertical-align: middle;\n",
       "    }\n",
       "\n",
       "    .dataframe tbody tr th {\n",
       "        vertical-align: top;\n",
       "    }\n",
       "\n",
       "    .dataframe thead th {\n",
       "        text-align: right;\n",
       "    }\n",
       "</style>\n",
       "<table border=\"1\" class=\"dataframe\">\n",
       "  <thead>\n",
       "    <tr style=\"text-align: right;\">\n",
       "      <th></th>\n",
       "      <th>month</th>\n",
       "      <th>theme_to_explore</th>\n",
       "      <th>language_arts</th>\n",
       "      <th>math</th>\n",
       "      <th>social_studies</th>\n",
       "      <th>science</th>\n",
       "    </tr>\n",
       "  </thead>\n",
       "  <tbody>\n",
       "    <tr>\n",
       "      <th>0</th>\n",
       "      <td>August</td>\n",
       "      <td>Getting to Know One Another; Class Community</td>\n",
       "      <td>Personal narratives, reading comprehension</td>\n",
       "      <td>Counting and sorting</td>\n",
       "      <td>Our classroom community; citizenship and gover...</td>\n",
       "      <td>Exploring the school environment and local eco...</td>\n",
       "    </tr>\n",
       "    <tr>\n",
       "      <th>1</th>\n",
       "      <td>September</td>\n",
       "      <td>On the Map, where we’re from</td>\n",
       "      <td>Descriptive writing (My Place); vocabulary dev...</td>\n",
       "      <td>latitutde and longitude; place value</td>\n",
       "      <td>My hometown; local history; geography</td>\n",
       "      <td>Water cycle, rivers; Geology, caves, aquifers</td>\n",
       "    </tr>\n",
       "    <tr>\n",
       "      <th>2</th>\n",
       "      <td>October</td>\n",
       "      <td>Fall; Halloween; Dia de los Muertos</td>\n",
       "      <td>Creative writing; grammar and punctuation</td>\n",
       "      <td>units of measurement (length, weight, etc.); E...</td>\n",
       "      <td>Fall celebrations around the world; elections</td>\n",
       "      <td>Food chains and food webs; Local flora and fauna</td>\n",
       "    </tr>\n",
       "    <tr>\n",
       "      <th>3</th>\n",
       "      <td>November</td>\n",
       "      <td>Gratitude; Native Americans</td>\n",
       "      <td>Listening and speaking skills; Thankful Though...</td>\n",
       "      <td>Addition and subtraction</td>\n",
       "      <td>Native American history; Settlement of US and ...</td>\n",
       "      <td>Seasonal Changes and Plants; Winter Animal Ada...</td>\n",
       "    </tr>\n",
       "    <tr>\n",
       "      <th>4</th>\n",
       "      <td>December</td>\n",
       "      <td>Winter Solstice and winter holidays</td>\n",
       "      <td>book exchange; holiday cards; holiday play/skit</td>\n",
       "      <td>Geometry (2-D shapes); symmetry (snowflake)</td>\n",
       "      <td>Winter holidays worldwide</td>\n",
       "      <td>Physical science (matter, energy, force, motion)</td>\n",
       "    </tr>\n",
       "    <tr>\n",
       "      <th>5</th>\n",
       "      <td>January</td>\n",
       "      <td>Calendar, New Year, Goals, MLK</td>\n",
       "      <td>Dreams and goals; journaling; 'I Have a Dream'...</td>\n",
       "      <td>Time units, Calendar math, multiplication</td>\n",
       "      <td>New Year's Celebrations worldwide; Community h...</td>\n",
       "      <td>Climate zones, seasons, and weather</td>\n",
       "    </tr>\n",
       "  </tbody>\n",
       "</table>\n",
       "</div>"
      ],
      "text/plain": [
       "       month                              theme_to_explore  \\\n",
       "0     August  Getting to Know One Another; Class Community   \n",
       "1  September                  On the Map, where we’re from   \n",
       "2    October           Fall; Halloween; Dia de los Muertos   \n",
       "3   November                   Gratitude; Native Americans   \n",
       "4   December           Winter Solstice and winter holidays   \n",
       "5    January                Calendar, New Year, Goals, MLK   \n",
       "\n",
       "                                       language_arts  \\\n",
       "0         Personal narratives, reading comprehension   \n",
       "1  Descriptive writing (My Place); vocabulary dev...   \n",
       "2          Creative writing; grammar and punctuation   \n",
       "3  Listening and speaking skills; Thankful Though...   \n",
       "4    book exchange; holiday cards; holiday play/skit   \n",
       "5  Dreams and goals; journaling; 'I Have a Dream'...   \n",
       "\n",
       "                                                math  \\\n",
       "0                               Counting and sorting   \n",
       "1               latitutde and longitude; place value   \n",
       "2  units of measurement (length, weight, etc.); E...   \n",
       "3                           Addition and subtraction   \n",
       "4        Geometry (2-D shapes); symmetry (snowflake)   \n",
       "5          Time units, Calendar math, multiplication   \n",
       "\n",
       "                                      social_studies  \\\n",
       "0  Our classroom community; citizenship and gover...   \n",
       "1              My hometown; local history; geography   \n",
       "2     Fall celebrations around the world; elections    \n",
       "3  Native American history; Settlement of US and ...   \n",
       "4                          Winter holidays worldwide   \n",
       "5  New Year's Celebrations worldwide; Community h...   \n",
       "\n",
       "                                             science  \n",
       "0  Exploring the school environment and local eco...  \n",
       "1      Water cycle, rivers; Geology, caves, aquifers  \n",
       "2   Food chains and food webs; Local flora and fauna  \n",
       "3  Seasonal Changes and Plants; Winter Animal Ada...  \n",
       "4   Physical science (matter, energy, force, motion)  \n",
       "5                Climate zones, seasons, and weather  "
      ]
     },
     "execution_count": 49,
     "metadata": {},
     "output_type": "execute_result"
    }
   ],
   "source": [
    "annual_plan_df.head(6)"
   ]
  },
  {
   "cell_type": "code",
   "execution_count": 50,
   "id": "dad23e3f-a553-4be4-8164-dc9da5349c34",
   "metadata": {},
   "outputs": [],
   "source": [
    "activity_ideas_model = ChatOpenAI(model_name=model_name, temperature=.8, max_tokens=500)"
   ]
  },
  {
   "cell_type": "code",
   "execution_count": 51,
   "id": "46e25840-99c8-4005-8e8a-2cd84a4c32e8",
   "metadata": {},
   "outputs": [],
   "source": [
    "lesson_plan_model = ChatOpenAI(model_name=model_name, temperature=.2, max_tokens=3000)"
   ]
  },
  {
   "cell_type": "code",
   "execution_count": 52,
   "id": "0569823d-c768-41ab-aa2b-783dd0fba072",
   "metadata": {},
   "outputs": [],
   "source": [
    "months = [\n",
    "    # \"September\",\n",
    "    # \"October\",\n",
    "    \"November\",\n",
    "    # \"December\"\n",
    "]"
   ]
  },
  {
   "cell_type": "code",
   "execution_count": 53,
   "id": "9d47adbe-57ce-45fa-b32c-396c84e17f77",
   "metadata": {},
   "outputs": [
    {
     "data": {
      "text/html": [
       "<div>\n",
       "<style scoped>\n",
       "    .dataframe tbody tr th:only-of-type {\n",
       "        vertical-align: middle;\n",
       "    }\n",
       "\n",
       "    .dataframe tbody tr th {\n",
       "        vertical-align: top;\n",
       "    }\n",
       "\n",
       "    .dataframe thead th {\n",
       "        text-align: right;\n",
       "    }\n",
       "</style>\n",
       "<table border=\"1\" class=\"dataframe\">\n",
       "  <thead>\n",
       "    <tr style=\"text-align: right;\">\n",
       "      <th></th>\n",
       "      <th>month</th>\n",
       "      <th>theme_to_explore</th>\n",
       "      <th>language_arts</th>\n",
       "      <th>math</th>\n",
       "      <th>social_studies</th>\n",
       "      <th>science</th>\n",
       "    </tr>\n",
       "  </thead>\n",
       "  <tbody>\n",
       "    <tr>\n",
       "      <th>3</th>\n",
       "      <td>November</td>\n",
       "      <td>Gratitude; Native Americans</td>\n",
       "      <td>Listening and speaking skills; Thankful Though...</td>\n",
       "      <td>Addition and subtraction</td>\n",
       "      <td>Native American history; Settlement of US and ...</td>\n",
       "      <td>Seasonal Changes and Plants; Winter Animal Ada...</td>\n",
       "    </tr>\n",
       "  </tbody>\n",
       "</table>\n",
       "</div>"
      ],
      "text/plain": [
       "      month             theme_to_explore  \\\n",
       "3  November  Gratitude; Native Americans   \n",
       "\n",
       "                                       language_arts  \\\n",
       "3  Listening and speaking skills; Thankful Though...   \n",
       "\n",
       "                       math  \\\n",
       "3  Addition and subtraction   \n",
       "\n",
       "                                      social_studies  \\\n",
       "3  Native American history; Settlement of US and ...   \n",
       "\n",
       "                                             science  \n",
       "3  Seasonal Changes and Plants; Winter Animal Ada...  "
      ]
     },
     "metadata": {},
     "output_type": "display_data"
    },
    {
     "name": "stdout",
     "output_type": "stream",
     "text": [
      "# November\n",
      "## Language Arts\n",
      "  - Generated ideas\n"
     ]
    },
    {
     "name": "stderr",
     "output_type": "stream",
     "text": [
      "Retrying langchain.chat_models.openai.ChatOpenAI.completion_with_retry.<locals>._completion_with_retry in 4.0 seconds as it raised Timeout: Request timed out: HTTPSConnectionPool(host='api.openai.com', port=443): Read timed out. (read timeout=600).\n"
     ]
    },
    {
     "name": "stdout",
     "output_type": "stream",
     "text": [
      "  - Generated lesson plans\n",
      "## Math\n",
      "  - Generated ideas\n",
      "  - Generated lesson plans\n",
      "## Social Studies\n",
      "  - Generated ideas\n",
      "  - Generated lesson plans\n",
      "## Science\n",
      "  - Generated ideas\n",
      "  - Generated lesson plans\n",
      "Markdown output written to '../output/4 November Lesson Plans.md'.\n",
      "************************************************** \n",
      "\n",
      "JSON output written to '../output/lesson_plan.json'.\n"
     ]
    }
   ],
   "source": [
    "lesson_plans = wrapper(annual_plan_df, activity_ideas_model, lesson_plan_model, months=months)"
   ]
  },
  {
   "cell_type": "markdown",
   "id": "14c4c95d-8f44-48e8-98ab-f02272102bfd",
   "metadata": {},
   "source": [
    "# View Results"
   ]
  },
  {
   "cell_type": "code",
   "execution_count": 54,
   "id": "6c3a9449-3cb8-4cfb-a05d-c29e84d695d6",
   "metadata": {},
   "outputs": [],
   "source": [
    "month = months[0]"
   ]
  },
  {
   "cell_type": "code",
   "execution_count": 55,
   "id": "633c52e5-dd2d-43ab-9d0f-c2ab789fd70f",
   "metadata": {},
   "outputs": [
    {
     "data": {
      "text/markdown": [
       "**Gratitude Circle**: In this activity, students will sit in a circle and take turns sharing something they are grateful for. This will help develop their listening and speaking skills as they actively listen to their peers and express their own gratitude."
      ],
      "text/plain": [
       "<IPython.core.display.Markdown object>"
      ]
     },
     "metadata": {},
     "output_type": "display_data"
    },
    {
     "data": {
      "text/markdown": [
       "**Gratitude Journal**: Students will create their own gratitude journals, where they can write or draw things they are thankful for. This activity will encourage reflection and improve their language arts skills as they express their thoughts and feelings."
      ],
      "text/plain": [
       "<IPython.core.display.Markdown object>"
      ]
     },
     "metadata": {},
     "output_type": "display_data"
    },
    {
     "data": {
      "text/markdown": [
       "**Thankful Storytelling**: In this activity, students will take turns sharing a story about a time they felt grateful or received an act of kindness. This will enhance their listening and speaking skills while incorporating the theme of gratitude."
      ],
      "text/plain": [
       "<IPython.core.display.Markdown object>"
      ]
     },
     "metadata": {},
     "output_type": "display_data"
    },
    {
     "data": {
      "text/markdown": [
       "**Native American Legends**: Students will explore Native American legends and myths, learning about their storytelling traditions. They will then have the opportunity to create their own short stories inspired by Native American culture. This activity will foster creativity and enhance their language arts skills."
      ],
      "text/plain": [
       "<IPython.core.display.Markdown object>"
      ]
     },
     "metadata": {},
     "output_type": "display_data"
    },
    {
     "data": {
      "text/markdown": [
       "**Gratitude Collaborative Art**: Students will work together to create a collaborative art piece that represents gratitude. They will discuss and share ideas on what gratitude means to them and how they can visually depict it. This activity will promote teamwork and creativity while integrating the theme of gratitude."
      ],
      "text/plain": [
       "<IPython.core.display.Markdown object>"
      ]
     },
     "metadata": {},
     "output_type": "display_data"
    }
   ],
   "source": [
    "for idea in lesson_plans[month]['language_arts']['ideas']:\n",
    "    display(Markdown(f\"**{idea['name']}**: {idea['description']}\"))"
   ]
  },
  {
   "cell_type": "code",
   "execution_count": 56,
   "id": "d31036c9-fdc2-4aa1-ad22-f8dd0af85595",
   "metadata": {},
   "outputs": [
    {
     "data": {
      "application/json": {
       "November": {
        "language_arts": {
         "ideas": [
          {
           "additional_notes": [
            "This activity can be done as a daily or weekly routine to foster a positive and grateful classroom environment.",
            "Encourage students to use descriptive language and provide specific details when expressing their gratitude.",
            "This activity can be modified for neurodivergent students by allowing them to express their gratitude in a way that is comfortable for them, such as drawing or using visual aids.",
            "For phonics and literacy development, have students practice writing their gratitude statements using proper spelling and punctuation.",
            "For numeracy development, have students keep track of the number of gratitude statements shared during each circle and create a graph or chart to represent the data."
           ],
           "description": "In this activity, students will sit in a circle and take turns sharing something they are grateful for. This will help develop their listening and speaking skills as they actively listen to their peers and express their own gratitude.",
           "differentiation_strategies": [
            "For students who need additional challenge, encourage them to think of multiple things they are grateful for and share them in a single turn.",
            "For students who need additional support, provide sentence starters or sentence frames to help them structure their gratitude statements.",
            "For neurodivergent students, allow them to express their gratitude in alternative ways, such as through art or using assistive technology."
           ],
           "list_of_materials": [],
           "name": "Gratitude Circle",
           "procedure": [
            "Gather the students in a circle on the floor or in chairs.",
            "Explain to the students that today they will be participating in a gratitude circle.",
            "Model the activity by starting with your own gratitude statement. For example, 'I am grateful for my family because they always support me.'",
            "Pass a small object, such as a stuffed animal or a ball, to the student on your right and instruct them to share something they are grateful for.",
            "Encourage the students to actively listen to their peers and show appreciation by nodding or clapping after each gratitude statement.",
            "Continue passing the object around the circle, allowing each student to share their gratitude statement.",
            "If a student is struggling to come up with something they are grateful for, provide prompts or examples to help them.",
            "After each student has had a turn, conclude the activity by discussing how expressing gratitude can make us feel happier and more connected to others.",
            "Ask the students to reflect on the activity by writing or drawing about one thing they are grateful for."
           ],
           "time_estimate": "20 minutes"
          },
          {
           "additional_notes": [
            "- This activity can be modified for neurodivergent students by allowing them to use alternative methods of expression, such as dictating their thoughts to a teacher or using visual aids instead of writing.",
            "- For students who struggle with writing, encourage them to draw pictures or use stickers to represent things they are grateful for.",
            "- To incorporate phonics and literacy development, have the students practice writing the words 'gratitude' and 'journal' on the cover of their notebooks.",
            "- This activity can also be extended by having students share their entries with each other or creating a gratitude bulletin board to display their work."
           ],
           "description": "Students will create their own gratitude journals, where they can write or draw things they are thankful for. This activity will encourage reflection and improve their language arts skills as they express their thoughts and feelings.",
           "differentiation_strategies": [
            "- For students who need additional challenge, encourage them to write longer entries or explore deeper reflections in their journals.",
            "- For students who need additional support, provide sentence starters or sentence frames to help them express their thoughts.",
            "- Offer one-on-one support for students who may struggle with the concept of gratitude or need extra guidance in creating their journals."
           ],
           "list_of_materials": [
            "Blank notebooks or paper",
            "Pencils or markers",
            "Optional: stickers or decorative materials"
           ],
           "name": "Gratitude Journal",
           "procedure": [
            "1. Begin the lesson by discussing the concept of gratitude with the students. Ask them to share examples of things they are grateful for.",
            "2. Explain that they will be creating their own gratitude journals, where they can write or draw things they are thankful for.",
            "3. Distribute the blank notebooks or paper to each student.",
            "4. Encourage the students to decorate the covers of their journals using pencils, markers, stickers, or other decorative materials.",
            "5. Instruct the students to write the title 'Gratitude Journal' on the cover of their notebooks.",
            "6. Have the students number the pages of their journals from 1 to 10 (or more, depending on the number of pages available).",
            "7. Explain that each day, they will write or draw something they are grateful for on a new page of their journal.",
            "8. Provide some prompts to help them get started, such as 'What made you smile today?' or 'Who are you thankful for?'",
            "9. Give the students time to work on their journals. Circulate around the room to provide assistance and guidance as needed.",
            "10. Once the students have completed their first entry, gather them together for a reflection discussion.",
            "11. Ask volunteers to share what they wrote or drew in their journals and why they chose that particular thing to be grateful for.",
            "12. Discuss the importance of expressing gratitude and how it can positively impact our mindset and relationships.",
            "13. Encourage the students to continue using their gratitude journals on a regular basis, either at school or at home.",
            "14. Collect the journals at the end of the lesson to keep them safe until the next time they are used."
           ],
           "time_estimate": "45 minutes"
          },
          {
           "additional_notes": [
            "Encourage students to use descriptive language and details in their storytelling.",
            "Remind students to take turns and listen attentively to their classmates' stories.",
            "Consider sharing your own story of gratitude to model storytelling and create a safe and inclusive environment.",
            "If any student has difficulty coming up with a story, provide prompts or examples to help them get started.",
            "For neurodivergent students, consider allowing them to share their story in a different format, such as drawing or writing if speaking in front of the class is challenging for them."
           ],
           "description": "In this activity, students will take turns sharing a story about a time they felt grateful or received an act of kindness. This will enhance their listening and speaking skills while incorporating the theme of gratitude.",
           "differentiation_strategies": [
            "For students who need additional support, provide sentence starters or visual aids to help them structure their storytelling.",
            "For students who are more advanced, encourage them to incorporate dialogue or create a fictional story with a gratitude theme.",
            "For neurodivergent students, offer alternative ways to participate, such as sharing their story with a partner or recording a video to be played for the class."
           ],
           "list_of_materials": [
            "Chart paper",
            "Markers",
            "Thankful Storytelling prompt cards (printed or written on index cards)"
           ],
           "name": "Thankful Storytelling",
           "procedure": [
            "Begin by introducing the concept of gratitude to the students. Explain that gratitude is the feeling of being thankful and appreciative for something or someone.",
            "Discuss examples of things or actions that can make someone feel grateful, such as receiving a gift, someone helping them, or spending time with loved ones.",
            "Explain that today, the students will have the opportunity to share stories about a time they felt grateful or received an act of kindness.",
            "Display the Thankful Storytelling prompt cards on the chart paper. These prompts can include questions like: 'Tell us about a time someone did something kind for you' or 'Share a story about a time you felt really grateful.'",
            "Explain that each student will have a turn to pick a prompt card and share their story with the class.",
            "Invite the first student to choose a prompt card and share their story. Encourage the other students to actively listen and show appreciation for each story shared.",
            "After each student shares their story, facilitate a brief discussion by asking questions like 'How did that story make you feel?' or 'Can you think of a time when you felt similar?'",
            "Continue the activity until each student has had a chance to share their story.",
            "Wrap up the activity by discussing the importance of gratitude and how sharing stories can help build a sense of community and empathy.",
            "Optional: Have the students create a thank-you card or drawing for someone they feel grateful for as an extension activity."
           ],
           "time_estimate": "30 minutes"
          },
          {
           "additional_notes": [
            "You may want to provide a variety of Native American legends and myths for students to choose from, or allow them to research and find their own stories.",
            "Encourage students to incorporate descriptive language and sensory details in their stories to make them more engaging.",
            "For neurodivergent students, provide visual aids or graphic organizers to help them organize their ideas before writing.",
            "For students who need extra support, consider providing sentence starters or writing prompts to help them get started with their stories.",
            "For students who need an additional challenge, encourage them to incorporate dialogue or create multiple characters in their stories."
           ],
           "description": "Students will explore Native American legends and myths, learning about their storytelling traditions. They will then have the opportunity to create their own short stories inspired by Native American culture. This activity will foster creativity and enhance their language arts skills.",
           "differentiation_strategies": [
            "Observe and assess students' understanding of the elements of a story during the class discussion.",
            "Provide individual feedback and guidance to students as they brainstorm and write their stories.",
            "Offer support and accommodations to neurodivergent students as needed, such as additional time or modified expectations.",
            "Encourage peer collaboration and feedback during the sharing portion of the lesson.",
            "Provide extension activities for students who finish early, such as creating illustrations for other students' stories or researching more about Native American culture."
           ],
           "list_of_materials": [
            "Books or printouts of Native American legends and myths",
            "Paper",
            "Pencils",
            "Art supplies (optional)"
           ],
           "name": "Native American Legends",
           "procedure": [
            "Begin the lesson by discussing with students what legends and myths are. Explain that these are traditional stories passed down through generations to explain natural phenomena, teach moral lessons, or entertain.",
            "Show students examples of Native American legends and myths. Read aloud one or two stories, or provide printouts for them to read independently.",
            "Lead a class discussion about the elements of the stories. Ask students to identify the characters, settings, and main events in the stories.",
            "Explain to students that they will have the opportunity to create their own short stories inspired by Native American culture. Encourage them to think about the themes, characters, and settings they would like to include in their stories.",
            "Give each student a piece of paper and ask them to brainstorm ideas for their stories. They can write down key words or phrases to help them remember their ideas.",
            "Once students have brainstormed, have them begin writing their stories. Remind them to include a clear beginning, middle, and end.",
            "After students have finished writing, give them the option to illustrate their stories using art supplies. This can help bring their stories to life and enhance their creativity.",
            "Allow students to share their stories with the class. Encourage them to read aloud or summarize their stories, and provide positive feedback and encouragement to each student.",
            "Wrap up the lesson by discussing the importance of storytelling in Native American culture and how it connects to language arts. Emphasize the creativity and language skills students developed through this activity."
           ],
           "time_estimate": "60 minutes"
          },
          {
           "additional_notes": [
            "Encourage students to use their phonics skills to label or write short descriptions of their drawings.",
            "During the class discussion, model and reinforce proper listening and speaking skills.",
            "Consider playing soft instrumental music in the background to create a calm and creative atmosphere.",
            "If any students have difficulty with drawing or writing, provide pre-cut images or words that they can use to contribute to the collaborative art piece.",
            "For neurodivergent students, provide visual supports such as visual schedules or step-by-step instructions to help them understand and follow the process."
           ],
           "description": "Students will work together to create a collaborative art piece that represents gratitude. They will discuss and share ideas on what gratitude means to them and how they can visually depict it. This activity will promote teamwork and creativity while integrating the theme of gratitude.",
           "differentiation_strategies": [
            "For students who need additional challenge, encourage them to incorporate more complex designs or use different art techniques (e.g., shading, blending colors).",
            "For students who need additional support, provide sentence starters or prompts to help them express their ideas during the class discussion.",
            "For neurodivergent students, allow them to contribute to the collaborative art piece in their preferred way (e.g., using stickers instead of drawing).",
            "For students with fine motor difficulties, provide adaptive art tools such as larger markers or grips to make it easier for them to draw or write."
           ],
           "list_of_materials": [
            "Large poster board or canvas",
            "Markers, crayons, or colored pencils",
            "Scissors",
            "Glue sticks",
            "Magazines or printed images",
            "Construction paper",
            "Stickers or other decorative materials"
           ],
           "name": "Gratitude Collaborative Art",
           "procedure": [
            "Introduce the concept of gratitude to the students. Explain that gratitude is the feeling of being thankful and appreciative for the things and people in our lives.",
            "Lead a class discussion on what gratitude means to them. Ask students to share examples of things they are grateful for and why.",
            "Explain that the class will be creating a collaborative art piece that represents gratitude. Each student will contribute to the artwork by adding their own visual representation of gratitude.",
            "Provide each student with a piece of construction paper and art supplies (markers, crayons, colored pencils). Instruct them to create a small drawing or design that represents gratitude to them.",
            "Once the individual drawings are complete, distribute the large poster board or canvas to the students. Explain that they will be working together to create a larger artwork by combining their individual drawings.",
            "Encourage students to discuss and share their ideas on how to arrange and combine the drawings to create a cohesive art piece. They can use scissors to cut out their drawings and glue sticks to attach them to the poster board or canvas.",
            "Allow students to add additional decorations or elements to the artwork using magazines, printed images, stickers, or other decorative materials.",
            "Once the collaborative art piece is complete, display it in a prominent place in the classroom or school to remind students of the importance of gratitude.",
            "Conclude the lesson by having a class reflection on the process of creating the collaborative art piece. Ask students to share their thoughts on working together, the meaning behind their individual drawings, and what they learned about gratitude through this activity."
           ],
           "time_estimate": "60 minutes"
          }
         ]
        },
        "math": {
         "ideas": [
          {
           "additional_notes": [
            "This activity can be done daily or weekly, depending on the time available.",
            "Encourage students to think beyond material possessions and consider intangible blessings such as love, friendship, and good health.",
            "Remind students that it's okay to have different numbers in their jars, as gratitude can vary from day to day.",
            "Provide support and guidance as needed during the decoration and writing process.",
            "Reinforce the importance of a growth mindset and encourage students to see challenges as opportunities for learning.",
            "Use this activity as an opportunity to discuss empathy and gratitude towards others."
           ],
           "description": "Students will create a gratitude jar and practice counting their daily blessings. They will write the numbers of items they are grateful for and practice addition by adding the numbers together.",
           "differentiation_strategies": [
            "For students who need additional support, provide pre-cut construction paper and assist with writing the numbers on the small pieces of paper.",
            "For students who are more advanced, encourage them to write larger numbers and practice addition with larger sums.",
            "For neurodivergent students, provide visual aids or manipulatives to help with counting and addition.",
            "Modify the activity for students with fine motor challenges by allowing them to use stickers or pre-made number cards instead of writing the numbers."
           ],
           "list_of_materials": [
            "Empty jar or container",
            "Construction paper",
            "Scissors",
            "Markers or crayons",
            "Glue or tape",
            "Small pieces of paper"
           ],
           "name": "Counting Gratitude",
           "procedure": [
            "Introduce the concept of gratitude to the students. Explain that gratitude means feeling thankful for the things we have in our lives.",
            "Discuss the importance of recognizing and appreciating the positive things in our lives.",
            "Explain that the students will be creating a gratitude jar to help them practice counting their blessings.",
            "Distribute the materials to each student.",
            "Instruct the students to decorate the jar using the construction paper, markers, and other materials.",
            "Encourage the students to be creative and personalize their jars.",
            "Once the jars are decorated, have the students cut small pieces of paper to write their daily blessings on.",
            "Instruct the students to write a number on each piece of paper, representing the number of blessings they are grateful for that day.",
            "For example, if a student is grateful for their family, they would write the number 1 on a piece of paper.",
            "If they are grateful for their friends and their favorite toy, they would write the number 2 on another piece of paper.",
            "Have the students fold their pieces of paper and place them in their gratitude jars.",
            "After a few days or a week, gather the students together and have them take turns sharing the numbers in their jars.",
            "Encourage the students to practice counting the numbers together.",
            "Guide the students in adding the numbers together to find the total number of blessings they have counted.",
            "Discuss the concept of addition and how it relates to counting the blessings in their jars.",
            "Celebrate the students' efforts and encourage them to continue practicing gratitude and counting their blessings.",
            "Optional: Have the students create a chart or graph to visually represent the total number of blessings counted each day."
           ],
           "time_estimate": "45 minutes"
          },
          {
           "additional_notes": [
            "This lesson can be adapted for students of different abilities by providing additional support or challenge as needed.",
            "For students who need extra support, provide sentence starters or prompts to help them come up with their math story problems.",
            "For students who need an extra challenge, encourage them to create multi-step math story problems or incorporate larger numbers.",
            "For neurodivergent students, provide visual aids or manipulatives to help them understand and solve the math story problems.",
            "Consider incorporating a discussion about different ways to express gratitude and how it can positively impact our lives."
           ],
           "description": "Students will create math story problems based on the theme of gratitude. They will write addition and subtraction problems that incorporate elements of being thankful and expressing gratitude.",
           "differentiation_strategies": [
            "Provide sentence starters or prompts for students who need extra support",
            "Encourage students who need an extra challenge to create multi-step problems or incorporate larger numbers",
            "Use visual aids or manipulatives for neurodivergent students",
            "Incorporate a discussion about different ways to express gratitude for all students"
           ],
           "list_of_materials": [
            "Paper",
            "Pencils",
            "Markers or colored pencils"
           ],
           "name": "Thankful Math Stories",
           "procedure": [
            "Begin the lesson by discussing the concept of gratitude and why it is important to express thankfulness.",
            "Explain to the students that they will be creating math story problems based on the theme of gratitude.",
            "Provide examples of math story problems that incorporate elements of gratitude. For example, 'Sara has 5 apples and she wants to share them with her friends. If she gives 2 apples to her best friend and 1 apple to her sister, how many apples does she have left to be thankful for?'",
            "Have the students brainstorm ideas for their own math story problems. Encourage them to think about situations in which they feel grateful or thankful.",
            "Once the students have come up with their ideas, have them write out their math story problems on paper. Remind them to include the numbers and operations (addition or subtraction) in their problems.",
            "After the students have written their math story problems, have them illustrate their problems using markers or colored pencils.",
            "Once the students have finished writing and illustrating their math story problems, have them share their problems with the class. Each student can take turns reading their problem aloud and asking their classmates to solve it.",
            "Encourage the students to solve each other's problems using mental math or by writing out the equations.",
            "After each problem is solved, discuss the solution as a class and talk about why the problem incorporated elements of gratitude.",
            "Wrap up the lesson by discussing how math can be used to express gratitude and how it can be applied to real-life situations."
           ],
           "time_estimate": "45 minutes"
          },
          {
           "additional_notes": [
            "- Prior to the lesson, research and prepare examples of Native American number systems to share with the students.",
            "- Make sure to provide enough manipulatives for each group to use during the activity.",
            "- Encourage students to be creative and think outside the box when creating their number patterns.",
            "- Use open-ended questions to promote critical thinking and discussion during the class discussion.",
            "- Display the students' chart papers around the classroom as a visual representation of their learning."
           ],
           "description": "Students will learn about Native American number systems and patterns. They will explore different counting systems and create their own number patterns using addition and subtraction.",
           "differentiation_strategies": [
            "- For students who need additional support, provide pre-made number patterns for them to explore and extend.",
            "- For students who need an extra challenge, encourage them to create more complex number patterns using multiplication and division.",
            "- Modify the activity for neurodivergent students by allowing them to use alternative methods to represent their number patterns, such as drawing or using tactile materials."
           ],
           "list_of_materials": [
            "Chart paper",
            "Markers",
            "Index cards",
            "Pencils",
            "Manipulatives (e.g., counting beads, blocks)"
           ],
           "name": "Native American Number Patterns",
           "procedure": [
            "Introduction (5 minutes):\n- Begin the lesson by asking students if they know how different cultures count and represent numbers. Discuss briefly how numbers are represented in our own culture.",
            "Native American Number Systems (15 minutes):\n- Introduce Native American number systems and explain that different tribes had different ways of counting and representing numbers.\n- Show examples of Native American number systems, such as the Mayan number system or the Cherokee number system.\n- Discuss the patterns and symbols used in these number systems.",
            "Exploring Number Patterns (20 minutes):\n- Divide the students into pairs or small groups.\n- Give each group a set of index cards and manipulatives.\n- Instruct the students to create their own number patterns using addition and subtraction.\n- Encourage them to use the manipulatives to help visualize the patterns.\n- Have each group share their number patterns with the class.",
            "Class Discussion (10 minutes):\n- Lead a class discussion about the different number patterns created by the groups.\n- Ask students to identify any similarities or differences between the patterns.\n- Discuss the concept of a pattern and how it can be represented using numbers.",
            "Wrap-up (10 minutes):\n- Have each student create a chart paper displaying their favorite number pattern.\n- Ask them to explain their pattern to the class.",
            "Conclusion (5 minutes):\n- Summarize the lesson by emphasizing the importance of patterns in mathematics and different ways of representing numbers."
           ],
           "time_estimate": "60 minutes"
          },
          {
           "additional_notes": [
            "Encourage students to use colorful markers or colored pencils to make their graphs visually appealing.",
            "For neurodivergent students, provide additional support by pairing them with a peer or providing a visual aid to help them understand the concept of a graph.",
            "To make the activity more challenging, have students create a double bar graph or a line graph instead of a simple bar graph.",
            "To incorporate literacy development, have students write a short paragraph explaining why they are grateful for the category with the most responses on their graph."
           ],
           "description": "Students will conduct a survey to find out what their classmates are grateful for. They will collect data and create a gratitude graph using addition and subtraction to show the number of responses for each category.",
           "differentiation_strategies": [
            "For students who need extra support, provide a pre-made graph template with the categories already labeled.",
            "For students who need an extra challenge, encourage them to come up with additional categories for the survey and include them in their graph.",
            "For neurodivergent students, provide alternative ways for them to participate, such as using pictures or symbols instead of written responses."
           ],
           "list_of_materials": [
            "Chart paper or whiteboard",
            "Markers or colored pencils",
            "Index cards or sticky notes",
            "Tape or magnets",
            "Gratitude Graph worksheet (printed or digital)"
           ],
           "name": "Gratitude Graph",
           "procedure": [
            "Introduce the concept of gratitude to the students. Discuss what it means to be grateful and why it is important.",
            "Explain that the class will be conducting a survey to find out what their classmates are grateful for.",
            "Brainstorm different categories of things that students might be grateful for (e.g., family, friends, pets, nature, toys, etc.). Write these categories on the chart paper or whiteboard.",
            "Distribute index cards or sticky notes to each student. Instruct them to write down one thing they are grateful for and their name on the card.",
            "Collect the cards and read them aloud, categorizing each response under the appropriate category on the chart paper or whiteboard.",
            "Count the number of responses for each category and record the totals.",
            "Introduce the concept of a graph to the students. Explain that a graph is a visual representation of data.",
            "Draw a simple bar graph on the chart paper or whiteboard, labeling the categories on the x-axis and the number of responses on the y-axis.",
            "Using the recorded totals, have the students help you create the gratitude graph by drawing bars of different heights for each category.",
            "Discuss the graph with the students. Ask questions such as: Which category had the most responses? Which category had the fewest responses? Are there any categories that have the same number of responses?",
            "Distribute the Gratitude Graph worksheet to each student. Instruct them to create their own gratitude graph using the data from the class survey.",
            "Allow time for students to complete their worksheets. Circulate around the room to provide assistance as needed.",
            "Once students have finished their graphs, have them share their work with the class. Encourage them to explain their graph and discuss any interesting findings.",
            "Wrap up the lesson by discussing the importance of gratitude and how it can positively impact our lives."
           ],
           "time_estimate": "60 minutes"
          },
          {
           "additional_notes": [
            "- Emphasize the importance of writing neatly and clearly on their shopping lists to avoid confusion when calculating the total cost.",
            "- Encourage the students to be creative and think of alternative options for expensive items that can be replaced with more affordable alternatives.",
            "- If time allows, you can have the students share their shopping lists and budgeting decisions with the class.",
            "- This activity can also be done in pairs or small groups to promote collaboration and discussion."
           ],
           "description": "Students will create a shopping list for a Thanksgiving meal. They will practice addition and subtraction as they calculate the total cost of the items and make adjustments based on budget constraints.",
           "differentiation_strategies": [
            "- For students who need additional support, provide a pre-made shopping list with prices for them to use as a reference.",
            "- For students who need an extra challenge, ask them to calculate the sales tax or discounts for certain items and adjust their budgets accordingly.",
            "- Modify the activity for neurodivergent students by providing visual aids or manipulatives to help them understand and visualize the addition and subtraction calculations."
           ],
           "list_of_materials": [
            "Paper",
            "Pencils",
            "Thanksgiving food catalogs or grocery store flyers",
            "Calculator (optional)"
           ],
           "name": "Thanksgiving Shopping",
           "procedure": [
            "1. Begin the lesson by discussing the concept of budgeting and the importance of making smart financial decisions.",
            "2. Explain to the students that they will be planning a Thanksgiving meal and creating a shopping list.",
            "3. Distribute the Thanksgiving food catalogs or grocery store flyers to the students.",
            "4. Instruct the students to browse through the catalogs or flyers and choose the items they would like to include in their Thanksgiving meal.",
            "5. Have the students write down the name of each item and its price on a piece of paper.",
            "6. Once the students have completed their shopping lists, ask them to add up the prices of all the items to find the total cost.",
            "7. Discuss with the students the concept of a budget and explain that they may need to make adjustments to their shopping lists based on their budget constraints.",
            "8. Instruct the students to choose one item from their shopping list that they can remove or replace with a less expensive option to stay within their budget.",
            "9. Have the students subtract the cost of the item they removed or replaced from the total cost to find the new total.",
            "10. Encourage the students to discuss their budgeting decisions with their classmates and explain their reasoning.",
            "11. Optional: If available, provide calculators for the students to use for the addition and subtraction calculations.",
            "12. Wrap up the lesson by having a class discussion about the importance of budgeting and making smart financial decisions."
           ],
           "time_estimate": "60 minutes"
          }
         ]
        },
        "science": {
         "ideas": [
          {
           "additional_notes": [
            "This activity can be done over the course of a week or longer, depending on the desired duration.",
            "Consider incorporating a discussion about the changing seasons and how it relates to the growth of the Thankful Tree.",
            "To incorporate literacy development, have students write a sentence or short paragraph explaining why they are grateful for each item on their leaves.",
            "To incorporate numeracy development, have students count the number of leaves on the tree each day and keep a tally of the total number of leaves throughout the activity."
           ],
           "description": "Students create a tree on a bulletin board and each day write down something they are grateful for on a leaf and add it to the tree.",
           "differentiation_strategies": [
            "For students who struggle with writing, allow them to dictate their gratitude statements to a teacher or peer.",
            "For students who need additional challenge, encourage them to write longer explanations or find synonyms for common gratitude words.",
            "For neurodivergent students, provide visual supports such as a visual schedule or step-by-step instructions to help them understand and follow the activity.",
            "For students with fine motor difficulties, provide pre-cut leaf shapes or adaptive scissors to assist with cutting."
           ],
           "list_of_materials": [
            "Bulletin board or large piece of paper",
            "Construction paper in various colors",
            "Scissors",
            "Markers or crayons",
            "Tape or glue"
           ],
           "name": "Thankful Tree",
           "procedure": [
            "Introduce the concept of gratitude to the students. Discuss what it means to be thankful and why it is important to express gratitude.",
            "Explain the activity: Students will create a Thankful Tree on a bulletin board or large piece of paper. Each day, they will write down something they are grateful for on a leaf and add it to the tree.",
            "Set up the bulletin board or large piece of paper in a visible area of the classroom.",
            "Give each student a piece of construction paper and ask them to cut out a leaf shape. They can use different colors of construction paper to make their leaves more vibrant.",
            "Once the leaves are cut out, have the students write something they are grateful for on each leaf. Encourage them to be specific and thoughtful in their responses.",
            "Provide markers or crayons for the students to decorate their leaves if they wish.",
            "Once the leaves are complete, have the students tape or glue them onto the bulletin board or large piece of paper to create the Thankful Tree.",
            "Encourage the students to add a new leaf to the tree each day, writing down something different they are grateful for.",
            "Throughout the activity, engage in discussions with the students about their gratitude and encourage them to share their thoughts and feelings.",
            "At the end of the activity, reflect as a class on the things they wrote on the leaves and the impact of expressing gratitude."
           ],
           "time_estimate": "30 minutes"
          },
          {
           "additional_notes": [
            "Encourage students to use phonics skills to sound out unfamiliar plant names.",
            "For neurodivergent students, provide visual aids or simplified texts to support their research.",
            "For advanced students, challenge them to find additional information about the plants or to research plants from a specific Native American tribe."
           ],
           "description": "Students research and learn about plants that were used by Native Americans for food, medicine, and other purposes.",
           "differentiation_strategies": [
            "Observe and assess students' ability to research and summarize information about the plants.",
            "Provide additional support or guidance to students who may struggle with reading or research skills.",
            "Offer extension activities or resources for students who finish early or want to explore the topic further."
           ],
           "list_of_materials": [
            "Books or online resources about Native American plants",
            "Paper and pencils",
            "Art supplies (optional)"
           ],
           "name": "Native American Plant Exploration",
           "procedure": [
            "Introduce the lesson by discussing the importance of plants in Native American culture and how they were used for food, medicine, and other purposes.",
            "Explain to the students that they will be researching and learning about different plants that were used by Native Americans.",
            "Provide the students with books or online resources about Native American plants. Encourage them to explore and find information about at least three different plants.",
            "Have the students write down the names of the plants they are researching and make a list of the different ways each plant was used by Native Americans.",
            "After the students have finished their research, gather them together and have each student share one plant they learned about and how it was used by Native Americans.",
            "If time allows, you can also have the students create drawings or paintings of the plants they researched, labeling the different parts and their uses.",
            "Wrap up the lesson by discussing the importance of respecting and preserving Native American traditions and knowledge about plants."
           ],
           "time_estimate": "60 minutes"
          },
          {
           "additional_notes": [
            "- Before the lesson, gather a variety of books or online resources about animal adaptations to provide options for student research.",
            "- If time permits, consider taking the students on a nature walk to observe local animals and discuss their adaptations.",
            "- For neurodivergent students, provide visual aids or graphic organizers to help them organize their research notes.",
            "- For students who need additional challenge, encourage them to research and present on multiple animals or explore more complex adaptations.",
            "- For students who need additional support, pair them with a partner who can provide assistance during the research and presentation process."
           ],
           "description": "Students research and create presentations about how different animals adapt to survive the winter season.",
           "differentiation_strategies": [
            "- Use flexible grouping to pair students with different abilities together, allowing them to support and learn from each other.",
            "- Provide additional resources or books at different reading levels to accommodate students with varying reading abilities.",
            "- Offer alternative ways for students to present their research, such as creating a diorama or acting out a skit.",
            "- Allow students to choose from a list of animals with varying levels of complexity for their research, so they can select one that matches their abilities and interests."
           ],
           "list_of_materials": [
            "Books or online resources about animal adaptations",
            "Paper and pencils",
            "Art supplies (optional)",
            "Computers or tablets with internet access (optional)"
           ],
           "name": "Animal Adaptation Research",
           "procedure": [
            "Introduction (10 minutes):\n- Begin the lesson by discussing the concept of animal adaptations and how animals change their behavior, bodies, or habitats to survive in different seasons.\n- Show pictures or videos of different animals and ask students to identify any adaptations they notice.",
            "Research (30 minutes):\n- Divide the students into small groups or pairs.\n- Provide each group with books or online resources about animal adaptations.\n- Instruct students to choose an animal that adapts to survive the winter season and research its specific adaptations.\n- Encourage students to take notes and gather information about the animal's behavior, physical characteristics, and habitat changes.",
            "Presentation Preparation (30 minutes):\n- Have each group create a presentation to share their research findings.\n- Students can use paper and pencils to create posters or use art supplies to draw pictures of their chosen animal and its adaptations.\n- If available, students can also use computers or tablets to create digital presentations.",
            "Presentations (15 minutes):\n- Allow each group to present their research findings to the class.\n- Encourage students to use their posters, drawings, or digital presentations to explain the adaptations of their chosen animal.\n- After each presentation, facilitate a brief discussion to ask questions and allow other students to share their thoughts.",
            "Wrap-up (5 minutes):\n- Summarize the key points discussed during the presentations.\n- Ask students to reflect on what they learned about animal adaptations and how they can apply this knowledge to other animals or seasons."
           ],
           "time_estimate": "90 minutes"
          },
          {
           "additional_notes": [
            "- Remind the students to write neatly and use complete sentences in their gratitude journals.",
            "- Encourage the students to be specific in their entries, rather than just writing general statements like 'I am grateful for my family.'",
            "- Provide examples of specific things to be grateful for, such as a kind gesture from a friend, a beautiful sunset, or a favorite book.",
            "- Consider incorporating a short mindfulness or relaxation activity before or after the journaling to help students focus and reflect.",
            "- Use this activity as an opportunity to discuss the importance of gratitude and positive thinking in daily life."
           ],
           "description": "Students keep a daily gratitude journal, writing down things they are thankful for each day and reflecting on why they are grateful.",
           "differentiation_strategies": [
            "- For students who struggle with writing, allow them to draw a picture of something they are grateful for instead.",
            "- For students who need extra support, provide sentence starters or prompts to help them articulate their thoughts.",
            "- For students who are more advanced, challenge them to write multiple entries each day or to write longer reflections on why they are grateful."
           ],
           "list_of_materials": [
            "Notebooks or paper",
            "Pencils or pens"
           ],
           "name": "Gratitude Journals",
           "procedure": [
            "1. Begin the lesson by discussing the concept of gratitude with the students. Ask them to share examples of things they are grateful for.",
            "2. Explain to the students that they will be keeping a gratitude journal. Each day, they will write down at least one thing they are thankful for and reflect on why they are grateful for it.",
            "3. Distribute the notebooks or paper and pencils or pens to the students.",
            "4. Instruct the students to write the date at the top of the page and then write down one thing they are grateful for.",
            "5. Encourage the students to take a few moments to reflect on why they are grateful for that particular thing.",
            "6. After the students have finished writing, give them the opportunity to share their entries with the class, if they feel comfortable doing so.",
            "7. Repeat this activity each day, allowing the students to choose different things they are grateful for.",
            "8. At the end of the week, have a class discussion about the impact of practicing gratitude and how it made them feel.",
            "9. Encourage the students to continue keeping their gratitude journals outside of class."
           ],
           "time_estimate": "30 minutes"
          },
          {
           "additional_notes": [
            "Before the lesson, scout the school grounds or nearby park to identify areas where signs of seasonal changes are likely to be found.",
            "Consider incorporating a discussion about the scientific method and how scientists make observations and collect data.",
            "If time permits, allow students to create a nature journal or artwork based on their observations from the scavenger hunt.",
            "For neurodivergent students, provide visual supports such as picture cards or a visual schedule to help them understand the steps of the scavenger hunt.",
            "For students with physical disabilities, ensure that the nature walk route is accessible and provide any necessary accommodations or adaptations.",
            "For students who struggle with writing, allow them to draw or dictate their observations on the scavenger hunt worksheet."
           ],
           "description": "Students go on a nature walk to observe and document signs of seasonal changes, such as changes in leaves, weather, and animal behavior.",
           "differentiation_strategies": [
            "For advanced students, challenge them to research and identify additional signs of seasonal changes that were not included on the scavenger hunt worksheet.",
            "For struggling students, provide them with a pre-filled scavenger hunt worksheet or pair them up with a peer who can assist them during the nature walk.",
            "For students who are non-verbal or have limited verbal communication, encourage them to use alternative forms of communication such as pointing, gestures, or using a communication device to indicate their observations."
           ],
           "list_of_materials": [
            "Clipboards",
            "Pencils",
            "Seasonal Changes Scavenger Hunt worksheet (printed)",
            "Magnifying glasses (optional)",
            "Binoculars (optional)",
            "Field guides or nature identification books (optional)"
           ],
           "name": "Seasonal Changes Scavenger Hunt",
           "procedure": [
            "Introduce the concept of seasonal changes to the students. Explain that different seasons bring different weather, changes in plants and animals, and other observable differences in the environment.",
            "Discuss examples of seasonal changes with the students, such as leaves changing color in the fall, animals migrating in the winter, or flowers blooming in the spring.",
            "Explain that the students will be going on a nature walk to observe and document signs of seasonal changes.",
            "Distribute clipboards, pencils, and the Seasonal Changes Scavenger Hunt worksheet to each student.",
            "Review the scavenger hunt worksheet with the students, pointing out the different items they will be looking for during the walk.",
            "Lead the students on a nature walk around the school grounds or a nearby park. Encourage them to observe their surroundings and look for signs of seasonal changes.",
            "As the students find items on the scavenger hunt worksheet, have them check them off or write down their observations.",
            "Encourage the students to use magnifying glasses, binoculars, or field guides to get a closer look at plants, insects, or birds they encounter.",
            "After the nature walk, gather the students together and discuss their findings. Ask them to share what they observed and any interesting discoveries they made.",
            "Wrap up the lesson by reviewing the concept of seasonal changes and how they can be observed in nature.",
            "Collect the scavenger hunt worksheets from the students for assessment purposes."
           ],
           "time_estimate": "60 minutes"
          }
         ]
        },
        "social_studies": {
         "ideas": [
          {
           "additional_notes": [
            "Before the lesson, gather a variety of Native American artifacts to ensure that each group has a unique set to explore.",
            "Encourage students to use descriptive language in their observations and reflections.",
            "Provide support and guidance to students who may struggle with writing or note-taking.",
            "Consider inviting a guest speaker who is knowledgeable about Native American culture to share additional insights and answer questions."
           ],
           "description": "Students will explore and analyze different Native American artifacts to learn about their culture and way of life.",
           "differentiation_strategies": [
            "For students who need additional support, provide a graphic organizer to help them organize their observations.",
            "For students who need an extra challenge, encourage them to research and present on a specific Native American tribe and their artifacts.",
            "For neurodivergent students, provide visual aids and hands-on activities to engage their different learning styles.",
            "Modify the writing task for neurodivergent students by allowing them to create a visual representation or use assistive technology to complete their reflection."
           ],
           "list_of_materials": [
            "Various Native American artifacts (e.g. pottery, tools, clothing)",
            "Magnifying glasses",
            "Notebooks or paper",
            "Pencils or pens"
           ],
           "name": "Native American Artifact Exploration",
           "procedure": [
            "Begin the lesson by discussing Native American culture and their importance in American history. Ask students if they know anything about Native American tribes or artifacts.",
            "Introduce the concept of artifacts and explain that artifacts are objects made or used by people in the past that can provide information about their culture and way of life.",
            "Show the students a few Native American artifacts and discuss their purpose and significance. Encourage students to observe the details of the artifacts using magnifying glasses.",
            "Divide the students into small groups and distribute a set of different Native American artifacts to each group.",
            "In their groups, students should examine the artifacts closely, discussing their observations and making notes about the materials used, the purpose of the artifact, and any other details they find interesting.",
            "After examining the artifacts, reconvene as a class and have each group share one artifact they found particularly interesting. Encourage students to ask questions and share their thoughts about the artifacts.",
            "Lead a class discussion about the different artifacts and what they reveal about Native American culture. Ask students to make connections between the artifacts and what they have learned about Native American tribes.",
            "Wrap up the lesson by having students write a short reflection in their notebooks or on paper, summarizing what they learned about Native American culture through the exploration of artifacts."
           ],
           "time_estimate": "60 minutes"
          },
          {
           "additional_notes": [
            "- Encourage students to think beyond material possessions and focus on people, experiences, or qualities they are grateful for.",
            "- Remind students to use complete sentences and explain why they are grateful for their chosen person, thing, or experience.",
            "- Consider having a visual aid, such as a gratitude jar or a gratitude wall, where students can write or draw their expressions of gratitude throughout the year.",
            "- This activity can be done regularly to foster a culture of gratitude in the classroom."
           ],
           "description": "Students will sit in a circle and take turns expressing gratitude for something or someone in their lives, while discussing the importance of gratitude.",
           "differentiation_strategies": [
            "- For students who struggle with verbal expression, allow them to draw or write their gratitude on a piece of paper and share it with the class.",
            "- For students who need additional support, provide sentence starters or prompts to help them articulate their gratitude.",
            "- For students who are more advanced, encourage them to think deeply and reflect on the impact of gratitude in their lives and the lives of others.",
            "- For neurodivergent students, be mindful of sensory sensitivities and provide alternative seating options or fidget tools if needed."
           ],
           "list_of_materials": [],
           "name": "Gratitude Circle",
           "procedure": [
            "1. Gather the students in a circle on the floor or in chairs.",
            "2. Explain to the students that today they will be participating in a gratitude circle.",
            "3. Define gratitude for the students: feeling thankful and appreciative for something or someone in their lives.",
            "4. Begin the gratitude circle by modeling an example. Share something you are grateful for and explain why.",
            "5. Pass a gratitude object, such as a small stuffed animal or a gratitude stone, around the circle. The student holding the object will have a turn to share their gratitude.",
            "6. Encourage each student to share something they are grateful for and explain why. Remind them to listen attentively to their classmates' gratitude expressions.",
            "7. After each student shares, the next student in the circle will have a turn.",
            "8. Continue the gratitude circle until each student has had a chance to share.",
            "9. Facilitate a brief discussion about the importance of gratitude. Ask questions such as:",
            "   - Why is it important to express gratitude?",
            "   - How does expressing gratitude make us feel?",
            "   - How can expressing gratitude improve our relationships with others?",
            "   - How can we incorporate gratitude into our daily lives?",
            "10. Conclude the gratitude circle by expressing gratitude for the students' participation and sharing.",
            "11. Thank the students for their thoughtful contributions and dismiss them to their next activity."
           ],
           "time_estimate": "20 minutes"
          },
          {
           "additional_notes": [
            "Encourage students to use their phonics and literacy skills to read and research information about the settlement of the US and Texas.",
            "This lesson can be modified for neurodivergent students by providing visual aids, such as pictures or illustrations, to support their understanding of the timeline.",
            "For students who need additional challenge, ask them to research specific Native American tribes and their contributions in more detail.",
            "To assess student understanding, observe their participation in the class discussion and their ability to accurately place the index cards or sticky notes on the timeline."
           ],
           "description": "Students will create a timeline of the settlement of the US and Texas, highlighting the contributions of Native Americans to these regions.",
           "differentiation_strategies": [
            "Provide additional support for struggling readers by pairing them with a peer or providing simplified reading materials.",
            "Offer alternative ways for students to present their research, such as creating a mini poster or giving a short presentation.",
            "For students who finish early, provide extension activities, such as creating a map showing the locations of different Native American tribes during different time periods."
           ],
           "list_of_materials": [
            "Large poster paper or whiteboard",
            "Markers or colored pencils",
            "Index cards or sticky notes",
            "Books or online resources about the settlement of the US and Texas",
            "Pictures or illustrations of Native American tribes"
           ],
           "name": "Settlement Timeline",
           "procedure": [
            "Introduce the lesson by discussing the concept of settlement and its importance in history. Explain that settlement refers to the process of people establishing communities in a new area.",
            "Display a large poster paper or use a whiteboard to create a timeline. Divide the timeline into sections for different time periods, such as prehistoric times, colonial period, westward expansion, etc.",
            "Provide students with books or online resources about the settlement of the US and Texas. Encourage them to research and find information about the contributions of Native Americans to these regions.",
            "Ask students to create index cards or sticky notes with important events or contributions of Native Americans. They should write the event or contribution on one side and the corresponding time period on the other side.",
            "Have students take turns placing their index cards or sticky notes on the timeline in the appropriate time period. Encourage them to explain the significance of each event or contribution as they place it on the timeline.",
            "After all the index cards or sticky notes have been placed, review the timeline as a class. Discuss the contributions of Native Americans and how they shaped the settlement of the US and Texas.",
            "Allow students to add illustrations or pictures of Native American tribes to the timeline to make it visually engaging.",
            "Conclude the lesson by having a class discussion about what they learned and the importance of recognizing the contributions of Native Americans in the settlement of the US and Texas."
           ],
           "time_estimate": "60 minutes"
          },
          {
           "additional_notes": [
            "Before the lesson, make sure to research reliable online resources about Native American cuisine to provide to the students.",
            "Consider inviting a guest speaker from a local Native American community to share their knowledge and experiences with the students.",
            "If time allows, have the students create a visual display showcasing the different Native American tribes and their cuisines."
           ],
           "description": "Students will research and prepare a traditional Native American dish, learning about the ingredients and cooking techniques used by Native Americans.",
           "differentiation_strategies": [
            "For students who need extra support, provide them with simplified research materials or assign them to work with a partner.",
            "For students who finish early, encourage them to explore additional Native American recipes or create a presentation about a specific tribe's cuisine.",
            "For neurodivergent students, provide visual aids and step-by-step instructions to support their understanding of the cooking process.",
            "For neurodivergent students who may struggle with group work, allow them to work independently or with a trusted peer."
           ],
           "list_of_materials": [
            "Computers or tablets with internet access",
            "Recipe cards or paper",
            "Pens or pencils",
            "Ingredients for the chosen Native American dish (based on research)"
           ],
           "name": "Native American Cuisine",
           "procedure": [
            "Introduce the lesson by discussing the importance of understanding different cultures and their traditions.",
            "Explain that today, students will be learning about Native American cuisine and preparing a traditional dish.",
            "Divide the students into small groups and assign each group a different Native American tribe to research.",
            "Provide the students with computers or tablets and direct them to reliable online resources to research the assigned tribe's cuisine.",
            "Instruct the students to take notes on the ingredients and cooking techniques used by the tribe.",
            "After the research phase, gather the students back together and have each group share their findings.",
            "Discuss the similarities and differences between the different Native American cuisines.",
            "Ask each group to choose a traditional dish from their assigned tribe to prepare.",
            "Provide the students with recipe cards or paper and have them write down the chosen recipe.",
            "Once the recipes are written, distribute the necessary ingredients for each dish.",
            "Guide the students through the cooking process, ensuring they follow the recipe and use appropriate cooking techniques.",
            "While the dishes are cooking, encourage the students to discuss the cultural significance of the dish they are preparing.",
            "Once the dishes are ready, have each group present their dish to the class, explaining the cultural significance and sharing any interesting facts they learned during their research.",
            "Allow the students to taste and enjoy the different dishes.",
            "Wrap up the lesson by discussing the importance of preserving and respecting cultural traditions.",
            "Encourage the students to reflect on what they learned and how they can apply their knowledge of Native American cuisine in their own lives."
           ],
           "time_estimate": "90 minutes"
          },
          {
           "additional_notes": [
            "You may choose to provide prompts or suggestions for what the students can write about in their gratitude journals, especially if they are struggling to come up with ideas.",
            "Encourage the students to be creative and think outside the box when expressing their gratitude. It can be something small or something big, as long as it brings them joy and appreciation.",
            "Remind the students to bring their gratitude journals to class every day so they can continue adding to them.",
            "Consider setting aside a few minutes at the beginning or end of each class to allow the students to write in their gratitude journals. This will help establish a routine and make it a regular part of their day."
           ],
           "description": "Students will create a gratitude journal, where they will write down things they are grateful for each day, reflecting on the positive aspects of their lives.",
           "differentiation_strategies": [
            "For students who struggle with writing, allow them to draw pictures or use stickers to represent what they are grateful for.",
            "For students who need extra support, provide sentence starters or prompts to help them get started with their journal entries.",
            "For students who are more advanced, encourage them to reflect on why they are grateful for certain things and how it impacts their lives.",
            "For neurodivergent students, be flexible with the format of their gratitude journals. They may prefer to use a digital platform or create a visual collage instead of writing."
           ],
           "list_of_materials": [
            "Notebooks or blank paper",
            "Pencils or pens",
            "Markers or colored pencils (optional)"
           ],
           "name": "Gratitude Journal",
           "procedure": [
            "Introduce the concept of gratitude to the students. Explain that gratitude is the practice of recognizing and appreciating the positive aspects of our lives.",
            "Discuss the importance of gratitude and how it can improve our overall well-being and happiness.",
            "Explain that the students will be creating a gratitude journal, where they will write down things they are grateful for each day.",
            "Distribute notebooks or blank paper to each student.",
            "Instruct the students to write the date at the top of the first page of their journal.",
            "Ask the students to think about something they are grateful for today and write it down in their journal. Encourage them to be specific and detailed.",
            "Give the students a few minutes to complete their journal entry.",
            "After the students have finished writing, invite volunteers to share what they wrote in their journals. Encourage positive and supportive feedback from their peers.",
            "Repeat the process of writing in the gratitude journal each day. Encourage the students to reflect on different aspects of their lives and find something new to be grateful for each day.",
            "Optional: Allow the students to decorate their journal pages with markers or colored pencils to make them more visually appealing.",
            "Wrap up the lesson by discussing the benefits of practicing gratitude and how it can positively impact their lives."
           ],
           "time_estimate": "30 minutes"
          }
         ]
        }
       }
      },
      "text/plain": [
       "<IPython.core.display.JSON object>"
      ]
     },
     "metadata": {
      "application/json": {
       "expanded": false,
       "root": "root"
      }
     },
     "output_type": "display_data"
    }
   ],
   "source": [
    "display(JSON(lesson_plans))"
   ]
  },
  {
   "cell_type": "code",
   "execution_count": null,
   "id": "79190c8c-1dfc-4873-9df4-cabced457408",
   "metadata": {},
   "outputs": [],
   "source": []
  }
 ],
 "metadata": {
  "kernelspec": {
   "display_name": "Python 3 (ipykernel)",
   "language": "python",
   "name": "python3"
  },
  "language_info": {
   "codemirror_mode": {
    "name": "ipython",
    "version": 3
   },
   "file_extension": ".py",
   "mimetype": "text/x-python",
   "name": "python",
   "nbconvert_exporter": "python",
   "pygments_lexer": "ipython3",
   "version": "3.9.16"
  }
 },
 "nbformat": 4,
 "nbformat_minor": 5
}
