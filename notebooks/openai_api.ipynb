{
 "cells": [
  {
   "cell_type": "code",
   "execution_count": 11,
   "id": "04e74489-d0bb-4c9d-97e7-4e6e945f10c9",
   "metadata": {},
   "outputs": [
    {
     "name": "stdout",
     "output_type": "stream",
     "text": [
      "Python 3.9.16\n"
     ]
    }
   ],
   "source": [
    "! python -V"
   ]
  },
  {
   "cell_type": "code",
   "execution_count": 12,
   "id": "bf910b2a-7752-428d-8c3c-97ba48466fe7",
   "metadata": {},
   "outputs": [],
   "source": [
    "import os"
   ]
  },
  {
   "cell_type": "code",
   "execution_count": 13,
   "id": "29d44c69-db64-411d-b495-70a73ebf42e8",
   "metadata": {},
   "outputs": [
    {
     "data": {
      "text/plain": [
       "True"
      ]
     },
     "execution_count": 13,
     "metadata": {},
     "output_type": "execute_result"
    }
   ],
   "source": [
    "from dotenv import load_dotenv\n",
    "load_dotenv(override=True)"
   ]
  },
  {
   "cell_type": "code",
   "execution_count": 14,
   "id": "965dc476-d9da-4d08-8d03-34a9d64eecf5",
   "metadata": {},
   "outputs": [],
   "source": [
    "OPENAI_API_KEY = os.getenv(\"OPENAI_API_KEY\")"
   ]
  },
  {
   "cell_type": "code",
   "execution_count": 16,
   "id": "76267088-98fa-4a7a-9d59-c9e3e7da2b3c",
   "metadata": {},
   "outputs": [],
   "source": [
    "MODEL = 'gpt-3.5-turbo'"
   ]
  },
  {
   "cell_type": "code",
   "execution_count": 17,
   "id": "43b149c4-9271-4ce6-b659-df963de1cb94",
   "metadata": {},
   "outputs": [],
   "source": [
    "messages = [\n",
    "    {\"role\": \"system\", \"content\": \"You are a helpful assistant.\"},\n",
    "    {\"role\": \"user\", \"content\": \"Translate the following English text to French: 'Hello, how are you?'\"}\n",
    "]"
   ]
  },
  {
   "cell_type": "markdown",
   "id": "b0c71b10-426c-4c56-a91b-c10125e8a4cc",
   "metadata": {},
   "source": [
    "## Interacting with GPT via API and Python `requests` library"
   ]
  },
  {
   "cell_type": "code",
   "execution_count": 18,
   "id": "5e55e294-9f7e-4aa9-b49b-01a5efad1915",
   "metadata": {},
   "outputs": [],
   "source": [
    "import requests\n",
    "import json\n",
    "\n",
    "API_ENDPOINT = \"https://api.openai.com/v1/chat/completions\"\n",
    "\n",
    "def generate_chat_completion(messages, model=\"gpt-4\", temperature=1, max_tokens=None):\n",
    "    headers = {\n",
    "        \"Content-Type\": \"application/json\",\n",
    "        \"Authorization\": f\"Bearer {OPENAI_API_KEY}\",\n",
    "    }\n",
    "\n",
    "    data = {\n",
    "        \"model\": model,\n",
    "        \"messages\": messages,\n",
    "        \"temperature\": temperature,\n",
    "    }\n",
    "\n",
    "    if max_tokens is not None:\n",
    "        data[\"max_tokens\"] = max_tokens\n",
    "\n",
    "    response = requests.post(API_ENDPOINT, headers=headers, data=json.dumps(data))\n",
    "\n",
    "    if response.status_code == 200:\n",
    "        return response.json()[\"choices\"][0][\"message\"][\"content\"]\n",
    "    else:\n",
    "        raise Exception(f\"Error {response.status_code}: {response.text}\")\n"
   ]
  },
  {
   "cell_type": "code",
   "execution_count": 19,
   "id": "a4158fec-5e48-4e61-befc-1ea1327e773f",
   "metadata": {},
   "outputs": [
    {
     "name": "stdout",
     "output_type": "stream",
     "text": [
      "Bonjour, comment ça va ?\n"
     ]
    }
   ],
   "source": [
    "response_text = generate_chat_completion(messages, MODEL)\n",
    "print(response_text)"
   ]
  },
  {
   "cell_type": "markdown",
   "id": "49a1eac6-baf9-4167-bcea-3f47e17c88b1",
   "metadata": {},
   "source": [
    "## Interacting with GPT via `openai` Python SDK"
   ]
  },
  {
   "cell_type": "code",
   "execution_count": 20,
   "id": "7a283285-9f6a-49e3-952d-c19cc1ba0349",
   "metadata": {},
   "outputs": [],
   "source": [
    "import openai"
   ]
  },
  {
   "cell_type": "code",
   "execution_count": 21,
   "id": "2536609b-ad0b-4a03-8f09-d59c9ca6eedc",
   "metadata": {},
   "outputs": [
    {
     "ename": "NameError",
     "evalue": "name 'API_KEY' is not defined",
     "output_type": "error",
     "traceback": [
      "\u001b[0;31m---------------------------------------------------------------------------\u001b[0m",
      "\u001b[0;31mNameError\u001b[0m                                 Traceback (most recent call last)",
      "Cell \u001b[0;32mIn[21], line 1\u001b[0m\n\u001b[0;32m----> 1\u001b[0m openai\u001b[38;5;241m.\u001b[39mapi_key \u001b[38;5;241m=\u001b[39m \u001b[43mAPI_KEY\u001b[49m\n",
      "\u001b[0;31mNameError\u001b[0m: name 'API_KEY' is not defined"
     ]
    }
   ],
   "source": [
    "openai.api_key = API_KEY"
   ]
  },
  {
   "cell_type": "code",
   "execution_count": 22,
   "id": "57583f72-d3f1-487d-8409-fb5fdd3a6976",
   "metadata": {},
   "outputs": [],
   "source": [
    "chat_completion = openai.ChatCompletion.create(model=\"gpt-3.5-turbo\", messages=messages)"
   ]
  },
  {
   "cell_type": "code",
   "execution_count": 23,
   "id": "568e14a2-b386-48ed-b503-cfdc0ea92d35",
   "metadata": {},
   "outputs": [
    {
     "data": {
      "text/plain": [
       "openai.openai_object.OpenAIObject"
      ]
     },
     "execution_count": 23,
     "metadata": {},
     "output_type": "execute_result"
    }
   ],
   "source": [
    "type(chat_completion)"
   ]
  },
  {
   "cell_type": "code",
   "execution_count": 24,
   "id": "d236abcb-75c7-4462-a6b6-c289a82c62ad",
   "metadata": {},
   "outputs": [
    {
     "data": {
      "text/plain": [
       "<OpenAIObject chat.completion id=chatcmpl-7nwiWj2EBcOJVivQOVBaab0YxupoM at 0x10ce6c450> JSON: {\n",
       "  \"id\": \"chatcmpl-7nwiWj2EBcOJVivQOVBaab0YxupoM\",\n",
       "  \"object\": \"chat.completion\",\n",
       "  \"created\": 1692138136,\n",
       "  \"model\": \"gpt-3.5-turbo-0613\",\n",
       "  \"choices\": [\n",
       "    {\n",
       "      \"index\": 0,\n",
       "      \"message\": {\n",
       "        \"role\": \"assistant\",\n",
       "        \"content\": \"Bonjour, comment \\u00e7a va ?\"\n",
       "      },\n",
       "      \"finish_reason\": \"stop\"\n",
       "    }\n",
       "  ],\n",
       "  \"usage\": {\n",
       "    \"prompt_tokens\": 32,\n",
       "    \"completion_tokens\": 6,\n",
       "    \"total_tokens\": 38\n",
       "  }\n",
       "}"
      ]
     },
     "execution_count": 24,
     "metadata": {},
     "output_type": "execute_result"
    }
   ],
   "source": [
    "chat_completion"
   ]
  },
  {
   "cell_type": "markdown",
   "id": "dfa6be20-f586-466f-bfdb-c5bf0b4351e1",
   "metadata": {},
   "source": [
    "## Interacting with GPT via `langchain.chat_models`"
   ]
  },
  {
   "cell_type": "code",
   "execution_count": 25,
   "id": "0a48fb9d-af2a-4780-a5af-7587d8499490",
   "metadata": {},
   "outputs": [],
   "source": [
    "from langchain.chat_models import ChatOpenAI"
   ]
  },
  {
   "cell_type": "code",
   "execution_count": 27,
   "id": "ecc4af3d-b072-41eb-9f96-f9a993f86087",
   "metadata": {},
   "outputs": [],
   "source": [
    "chat_params = {\n",
    "        \"model\": \"gpt-3.5-turbo\", # Bigger context window\n",
    "        \"openai_api_key\": OPENAI_API_KEY,\n",
    "        \"temperature\": 0.5, # To avoid pure copy-pasting from docs lookup\n",
    "        \"max_tokens\": 4000\n",
    "    }"
   ]
  },
  {
   "cell_type": "code",
   "execution_count": 28,
   "id": "f29c224c-3eeb-47b9-80b1-4b2920d4ff78",
   "metadata": {},
   "outputs": [],
   "source": [
    "llm = ChatOpenAI(**chat_params)"
   ]
  },
  {
   "cell_type": "code",
   "execution_count": 29,
   "id": "ff7b979e-c913-4dac-a337-5a8f7c0f0075",
   "metadata": {},
   "outputs": [
    {
     "data": {
      "text/plain": [
       "langchain.chat_models.openai.ChatOpenAI"
      ]
     },
     "execution_count": 29,
     "metadata": {},
     "output_type": "execute_result"
    }
   ],
   "source": [
    "type(llm)"
   ]
  },
  {
   "cell_type": "code",
   "execution_count": 30,
   "id": "b72dec9a-916e-4f31-bf39-e616a5c13171",
   "metadata": {},
   "outputs": [
    {
     "data": {
      "text/plain": [
       "'Bonjour, comment ça va ?'"
      ]
     },
     "execution_count": 30,
     "metadata": {},
     "output_type": "execute_result"
    }
   ],
   "source": [
    "llm.predict(messages[1]['content'])"
   ]
  },
  {
   "cell_type": "code",
   "execution_count": null,
   "id": "94f51fec-db2c-43da-873d-9f5f99b34add",
   "metadata": {},
   "outputs": [],
   "source": []
  }
 ],
 "metadata": {
  "kernelspec": {
   "display_name": "Python 3 (ipykernel)",
   "language": "python",
   "name": "python3"
  },
  "language_info": {
   "codemirror_mode": {
    "name": "ipython",
    "version": 3
   },
   "file_extension": ".py",
   "mimetype": "text/x-python",
   "name": "python",
   "nbconvert_exporter": "python",
   "pygments_lexer": "ipython3",
   "version": "3.9.16"
  }
 },
 "nbformat": 4,
 "nbformat_minor": 5
}
