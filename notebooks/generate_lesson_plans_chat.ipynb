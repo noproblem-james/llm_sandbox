{
 "cells": [
  {
   "cell_type": "markdown",
   "id": "56c0fcb2-ecb6-4bdf-8305-67937a7f4463",
   "metadata": {},
   "source": [
    "# TODO\n",
    "- [X] specify lesson plan in json format, then convert to markdown\n",
    "- [ ] parallelize the lesson plan creation\n",
    "- [ ] generate all activity ideas at once, so there is less repetition in the ideas (e.g., there are many small variations on the 'scavenger hunt' idea)\n",
    "- [ ] try different models:\n",
    "  - [X] chat model instead of LLM\n",
    "  - [ ] different providers instead of OpenAI\n",
    "  - [ ] local model"
   ]
  },
  {
   "cell_type": "code",
   "execution_count": 1,
   "id": "fc2b0572-02a4-4f96-9fdf-0f9bda0d28c9",
   "metadata": {},
   "outputs": [],
   "source": [
    "import os\n",
    "import json\n",
    "import time\n",
    "import pprint as pp\n",
    "import pandas as pd\n",
    "from pydantic import BaseModel, Field\n",
    "from typing import List, Dict\n",
    "from dotenv import load_dotenv\n",
    "# from langchain.prompts import PromptTemplate\n",
    "# from langchain.llms import OpenAI\n",
    "\n",
    "from langchain.output_parsers import PydanticOutputParser\n",
    "from IPython.display import display, Markdown, JSON"
   ]
  },
  {
   "cell_type": "code",
   "execution_count": 2,
   "id": "9a4a0690-a728-41b6-a23c-064a47576386",
   "metadata": {},
   "outputs": [],
   "source": [
    "from langchain.chat_models import ChatOpenAI"
   ]
  },
  {
   "cell_type": "code",
   "execution_count": 3,
   "id": "35a3aa19-60d3-4542-8379-e672d7691ab4",
   "metadata": {},
   "outputs": [],
   "source": [
    "from langchain.prompts import HumanMessagePromptTemplate, SystemMessagePromptTemplate, ChatPromptTemplate"
   ]
  },
  {
   "cell_type": "code",
   "execution_count": 4,
   "id": "a73b7144-33c5-45aa-b30e-150f8155707b",
   "metadata": {
    "scrolled": true
   },
   "outputs": [
    {
     "data": {
      "text/plain": [
       "True"
      ]
     },
     "execution_count": 4,
     "metadata": {},
     "output_type": "execute_result"
    }
   ],
   "source": [
    "load_dotenv(override=True) # loading API key from environment"
   ]
  },
  {
   "cell_type": "markdown",
   "id": "7c3a3d4e-4a93-466a-93d6-e7f466a79b21",
   "metadata": {},
   "source": [
    "## Read in data with annual curriculum plan"
   ]
  },
  {
   "cell_type": "code",
   "execution_count": 5,
   "id": "0a0c2e78-bace-4029-8a65-1b1b33ae9f19",
   "metadata": {},
   "outputs": [
    {
     "data": {
      "text/html": [
       "<div>\n",
       "<style scoped>\n",
       "    .dataframe tbody tr th:only-of-type {\n",
       "        vertical-align: middle;\n",
       "    }\n",
       "\n",
       "    .dataframe tbody tr th {\n",
       "        vertical-align: top;\n",
       "    }\n",
       "\n",
       "    .dataframe thead th {\n",
       "        text-align: right;\n",
       "    }\n",
       "</style>\n",
       "<table border=\"1\" class=\"dataframe\">\n",
       "  <thead>\n",
       "    <tr style=\"text-align: right;\">\n",
       "      <th></th>\n",
       "      <th>month</th>\n",
       "      <th>theme_to_explore</th>\n",
       "      <th>language_arts</th>\n",
       "      <th>math</th>\n",
       "      <th>social_studies</th>\n",
       "      <th>science</th>\n",
       "    </tr>\n",
       "  </thead>\n",
       "  <tbody>\n",
       "    <tr>\n",
       "      <th>0</th>\n",
       "      <td>August</td>\n",
       "      <td>Getting to Know One Another; Class Community</td>\n",
       "      <td>Personal narratives, reading comprehension</td>\n",
       "      <td>Counting and sorting</td>\n",
       "      <td>Our classroom community; citizenship and gover...</td>\n",
       "      <td>Exploring the school environment and local eco...</td>\n",
       "    </tr>\n",
       "    <tr>\n",
       "      <th>1</th>\n",
       "      <td>September</td>\n",
       "      <td>On the Map, where we’re from</td>\n",
       "      <td>My Place: Descriptive Writing; vocabulary deve...</td>\n",
       "      <td>latitutde and longitude; place value</td>\n",
       "      <td>My hometown; local history; geography</td>\n",
       "      <td>Water cycle, rivers; Geology, caves; acquifers</td>\n",
       "    </tr>\n",
       "    <tr>\n",
       "      <th>2</th>\n",
       "      <td>October</td>\n",
       "      <td>Fall; Halloween; Dia de los Muertos</td>\n",
       "      <td>Creative Writing; Listening and speaking skills</td>\n",
       "      <td>units of measurement--length, weight, etc.; Es...</td>\n",
       "      <td>Fall celebrations around the world; elections</td>\n",
       "      <td>Animal science: Investigating Local Food Chains</td>\n",
       "    </tr>\n",
       "    <tr>\n",
       "      <th>3</th>\n",
       "      <td>November</td>\n",
       "      <td>Gratitude; Native Americans</td>\n",
       "      <td>Thankful Thoughts; Native American Storytelling</td>\n",
       "      <td>Addition and subtraction</td>\n",
       "      <td>Native American history; settlement of Texas</td>\n",
       "      <td>Investigating Seasonal Changes and Plants; Win...</td>\n",
       "    </tr>\n",
       "    <tr>\n",
       "      <th>4</th>\n",
       "      <td>December</td>\n",
       "      <td>Winter Solstice and winter holidays</td>\n",
       "      <td>book exchange; holiday cards; holiday play/skit</td>\n",
       "      <td>Snowflake Symmetry; geometry (2-D shapes)</td>\n",
       "      <td>Winter Holidays Worldwide</td>\n",
       "      <td>Physical science -- matter, energy, force, motion</td>\n",
       "    </tr>\n",
       "    <tr>\n",
       "      <th>5</th>\n",
       "      <td>January</td>\n",
       "      <td>Calendar, New Year, Goals, MLK</td>\n",
       "      <td>dreams and goals; journaling; 'I Have a Dream'...</td>\n",
       "      <td>Time units, Calendar math, multiplication</td>\n",
       "      <td>New Year's Celebrations Around the World; Comm...</td>\n",
       "      <td>Weather, Climate Zones, and Seasons</td>\n",
       "    </tr>\n",
       "    <tr>\n",
       "      <th>6</th>\n",
       "      <td>February</td>\n",
       "      <td>Black History, Love/Valentine's Day</td>\n",
       "      <td>African American biographies; exploring emotio...</td>\n",
       "      <td>Fractions, Division; Number Patterns</td>\n",
       "      <td>African American Achievements; Civil Rights Mo...</td>\n",
       "      <td>The human body, heart health and exercise</td>\n",
       "    </tr>\n",
       "    <tr>\n",
       "      <th>7</th>\n",
       "      <td>March</td>\n",
       "      <td>Spring; Easter; Ramadan</td>\n",
       "      <td>Springtime poetry; nature observation</td>\n",
       "      <td>Patterns and Geometry; Geometry in Islamic Art</td>\n",
       "      <td>Cultural Spring Celebrations -- Easter, Ramadan</td>\n",
       "      <td>Life Cycles of Plants and Animals (frogs and b...</td>\n",
       "    </tr>\n",
       "    <tr>\n",
       "      <th>8</th>\n",
       "      <td>April</td>\n",
       "      <td>Space; Passover</td>\n",
       "      <td>Space stories, science fiction; constellation ...</td>\n",
       "      <td>Patterns and algebraic thinking; math in the s...</td>\n",
       "      <td>Passover origins; History of astronomy</td>\n",
       "      <td>Exploring the Solar System and Celestial Bodies</td>\n",
       "    </tr>\n",
       "    <tr>\n",
       "      <th>9</th>\n",
       "      <td>May</td>\n",
       "      <td>Ocean Life</td>\n",
       "      <td>Ocean vocabulary; sea creatures; sea stories</td>\n",
       "      <td>Problem-solving and mathematical reasoning; oc...</td>\n",
       "      <td>Coastal Ecosystems; exploration and navigation</td>\n",
       "      <td>Ocean zones, Marine Life and Habitats</td>\n",
       "    </tr>\n",
       "  </tbody>\n",
       "</table>\n",
       "</div>"
      ],
      "text/plain": [
       "       month                              theme_to_explore  \\\n",
       "0     August  Getting to Know One Another; Class Community   \n",
       "1  September                  On the Map, where we’re from   \n",
       "2    October           Fall; Halloween; Dia de los Muertos   \n",
       "3   November                   Gratitude; Native Americans   \n",
       "4   December           Winter Solstice and winter holidays   \n",
       "5    January                Calendar, New Year, Goals, MLK   \n",
       "6   February           Black History, Love/Valentine's Day   \n",
       "7      March                       Spring; Easter; Ramadan   \n",
       "8      April                               Space; Passover   \n",
       "9        May                                    Ocean Life   \n",
       "\n",
       "                                       language_arts  \\\n",
       "0         Personal narratives, reading comprehension   \n",
       "1  My Place: Descriptive Writing; vocabulary deve...   \n",
       "2    Creative Writing; Listening and speaking skills   \n",
       "3    Thankful Thoughts; Native American Storytelling   \n",
       "4    book exchange; holiday cards; holiday play/skit   \n",
       "5  dreams and goals; journaling; 'I Have a Dream'...   \n",
       "6  African American biographies; exploring emotio...   \n",
       "7              Springtime poetry; nature observation   \n",
       "8  Space stories, science fiction; constellation ...   \n",
       "9       Ocean vocabulary; sea creatures; sea stories   \n",
       "\n",
       "                                                math  \\\n",
       "0                               Counting and sorting   \n",
       "1               latitutde and longitude; place value   \n",
       "2  units of measurement--length, weight, etc.; Es...   \n",
       "3                           Addition and subtraction   \n",
       "4          Snowflake Symmetry; geometry (2-D shapes)   \n",
       "5          Time units, Calendar math, multiplication   \n",
       "6               Fractions, Division; Number Patterns   \n",
       "7     Patterns and Geometry; Geometry in Islamic Art   \n",
       "8  Patterns and algebraic thinking; math in the s...   \n",
       "9  Problem-solving and mathematical reasoning; oc...   \n",
       "\n",
       "                                      social_studies  \\\n",
       "0  Our classroom community; citizenship and gover...   \n",
       "1              My hometown; local history; geography   \n",
       "2     Fall celebrations around the world; elections    \n",
       "3       Native American history; settlement of Texas   \n",
       "4                          Winter Holidays Worldwide   \n",
       "5  New Year's Celebrations Around the World; Comm...   \n",
       "6  African American Achievements; Civil Rights Mo...   \n",
       "7    Cultural Spring Celebrations -- Easter, Ramadan   \n",
       "8             Passover origins; History of astronomy   \n",
       "9     Coastal Ecosystems; exploration and navigation   \n",
       "\n",
       "                                             science  \n",
       "0  Exploring the school environment and local eco...  \n",
       "1     Water cycle, rivers; Geology, caves; acquifers  \n",
       "2    Animal science: Investigating Local Food Chains  \n",
       "3  Investigating Seasonal Changes and Plants; Win...  \n",
       "4  Physical science -- matter, energy, force, motion  \n",
       "5                Weather, Climate Zones, and Seasons  \n",
       "6          The human body, heart health and exercise  \n",
       "7  Life Cycles of Plants and Animals (frogs and b...  \n",
       "8    Exploring the Solar System and Celestial Bodies  \n",
       "9              Ocean zones, Marine Life and Habitats  "
      ]
     },
     "execution_count": 5,
     "metadata": {},
     "output_type": "execute_result"
    }
   ],
   "source": [
    "GSHEET_ID = os.getenv('GSHEET_ID')\n",
    "google_sheet_url = f\"https://docs.google.com/spreadsheets/d/{GSHEET_ID}/export?format=csv&gid=0\"\n",
    "annual_plan_df = pd.read_csv(google_sheet_url)\n",
    "annual_plan_df.rename(columns=lambda x: x.replace(\" \", \"_\").lower(), inplace=True)\n",
    "annual_plan_df"
   ]
  },
  {
   "cell_type": "markdown",
   "id": "d3aa8756-38a8-4372-8583-0196a1a39c1a",
   "metadata": {},
   "source": [
    "## Instantiate the Chat Model"
   ]
  },
  {
   "cell_type": "code",
   "execution_count": 6,
   "id": "2bc4b303-2db5-47c7-b3c8-e3b42225f30b",
   "metadata": {},
   "outputs": [],
   "source": [
    "# model_name = \"text-davinci-003\"\n",
    "model_name = \"gpt-3.5-turbo\"\n",
    "temperature = 0.1\n",
    "# model = OpenAI(model_name=model_name, temperature=temperature, max_tokens=3000)"
   ]
  },
  {
   "cell_type": "code",
   "execution_count": 7,
   "id": "d0dd926d-ef1e-4e30-8866-2797f1e0c8bd",
   "metadata": {},
   "outputs": [],
   "source": [
    "chat_model = ChatOpenAI(model_name=model_name, temperature=temperature, max_tokens=3000)"
   ]
  },
  {
   "cell_type": "code",
   "execution_count": 8,
   "id": "e95e4742-7db1-4421-8d32-3b2578efe900",
   "metadata": {},
   "outputs": [],
   "source": [
    "chat_model = ChatOpenAI(model_name=model_name, temperature=temperature, max_tokens=3000)"
   ]
  },
  {
   "cell_type": "markdown",
   "id": "ac4a13b0-088d-441c-b02a-4c44e3c9b5aa",
   "metadata": {},
   "source": [
    "# Create Prompt Templates"
   ]
  },
  {
   "cell_type": "code",
   "execution_count": 9,
   "id": "71282f17-be38-4121-99c6-d4999390bffb",
   "metadata": {},
   "outputs": [],
   "source": [
    "class ActivityIdea(BaseModel):\n",
    "    name: str\n",
    "    description: str\n",
    "\n",
    "class ActivityIdeasOutput(BaseModel):\n",
    "    ideas: List[ActivityIdea]\n",
    "# Set up a parser + inject instructions into the prompt template.\n",
    "activity_ideas_parser = PydanticOutputParser(pydantic_object=ActivityIdeasOutput)"
   ]
  },
  {
   "cell_type": "code",
   "execution_count": 10,
   "id": "6ca20a2c-b933-4572-ad08-91080112626d",
   "metadata": {},
   "outputs": [],
   "source": [
    "idea_human_prompt = HumanMessagePromptTemplate.from_template(\n",
    "    template=\"\"\"Answer the user query.\n",
    "    {format_instructions}\n",
    "    You are a curriculum development expert and I am a teacher of second graders at a micro-school, with seven students of varying abilities.\n",
    "    I want you to generate {num_ideas} activity ideas for the month of {month}. Each activity could also be thought of as a lesson where the kids are learning valuable skills.\n",
    "    I have a theme for the month, which is {theme}.\n",
    "    The academic subject is {subject} and the topic is {topic}.\n",
    "\n",
    "    Here are some additional guidelines:\n",
    "    - The microschool  stresses the importance of outdoor education and student-led development, but it also wants to ensure high academic standards, so your lesson plans should be a mix of exploration and drilling the fundamentals. \n",
    "    - Try to be creative in your ideas. Do not use the idea of a scavenger hunt, because it has been overdone.\n",
    "    - Try to work in phonics work and literacy development into the language art activities.\n",
    "    - Try to work in arithmetic and numeracy development into the math activities.\n",
    "    - Each activity idea should be able to be accomplished in 30 mins-3 hours.\n",
    "    - Each activity should relate directly to skills and concepts from the academic subject of {subject}.\n",
    "    - I only need you to give me the activity names and a brief description of each idea.\n",
    "    - The description should only be sentence or two and should not simply repeat the theme or the topic. It should describe the nature of the activity.\n",
    "    - Keep in mind these are second-graders who are not ready for advanced concepts like decimals.\n",
    "    \"\"\"\n",
    ")"
   ]
  },
  {
   "cell_type": "code",
   "execution_count": 11,
   "id": "bebac731-6296-472e-ae09-81554b9f2531",
   "metadata": {},
   "outputs": [],
   "source": [
    "idea_chat_prompt_template = ChatPromptTemplate(\n",
    "    messages=[idea_human_prompt],\n",
    "    input_variables=[\"num_ideas\", \"month\", \"theme\", \"subject\", \"topic\"],\n",
    "    partial_variables={\"format_instructions\": activity_ideas_parser.get_format_instructions()}\n",
    ")"
   ]
  },
  {
   "cell_type": "code",
   "execution_count": 12,
   "id": "f6734f66-33e2-487c-801c-31b86f66b0e8",
   "metadata": {},
   "outputs": [
    {
     "name": "stdout",
     "output_type": "stream",
     "text": [
      "The output should be formatted as a JSON instance that conforms to the JSON schema below.\n",
      "\n",
      "As an example, for the schema {\"properties\": {\"foo\": {\"title\": \"Foo\", \"description\": \"a list of strings\", \"type\": \"array\", \"items\": {\"type\": \"string\"}}}, \"required\": [\"foo\"]}\n",
      "the object {\"foo\": [\"bar\", \"baz\"]} is a well-formatted instance of the schema. The object {\"properties\": {\"foo\": [\"bar\", \"baz\"]}} is not well-formatted.\n",
      "\n",
      "Here is the output schema:\n",
      "```\n",
      "{\"properties\": {\"ideas\": {\"title\": \"Ideas\", \"type\": \"array\", \"items\": {\"$ref\": \"#/definitions/ActivityIdea\"}}}, \"required\": [\"ideas\"], \"definitions\": {\"ActivityIdea\": {\"title\": \"ActivityIdea\", \"type\": \"object\", \"properties\": {\"name\": {\"title\": \"Name\", \"type\": \"string\"}, \"description\": {\"title\": \"Description\", \"type\": \"string\"}}, \"required\": [\"name\", \"description\"]}}}\n",
      "```\n"
     ]
    }
   ],
   "source": [
    "print(activity_ideas_parser.get_format_instructions())"
   ]
  },
  {
   "cell_type": "code",
   "execution_count": 13,
   "id": "74cacd5a-fff6-4c43-86f6-e1a9593e4535",
   "metadata": {},
   "outputs": [],
   "source": [
    "class LessonPlanOutput(BaseModel):\n",
    "    time_estimate: str\n",
    "    list_of_materials: List[str]\n",
    "    procedure: List[str]\n",
    "    additional_notes: List[str]\n",
    "    differentiation_strategies: List[str]\n",
    "\n",
    "# Set up a parser + inject instructions into the prompt template.\n",
    "lesson_plan_parser = PydanticOutputParser(pydantic_object=LessonPlanOutput)"
   ]
  },
  {
   "cell_type": "code",
   "execution_count": 14,
   "id": "b1a583b2-4c85-4163-9526-8631598cdf19",
   "metadata": {},
   "outputs": [],
   "source": [
    "lesson_plan_human_prompt = HumanMessagePromptTemplate.from_template(\n",
    "    template=\"\"\"Answer the user query.\n",
    "    {format_instructions}\n",
    "    You are a curriculum development expert and i am a teacher of second graders at a micro-school, with seven students of varying abilities.\n",
    "    I want you to generate a *detailed* lesson plan.\n",
    "    The name of the lesson is {activity_name}, and the short description is: {activity_description}\n",
    "\n",
    "    Additional guidelines for the lesson plan:\n",
    "    - The microschool  stresses the importance of outdoor education and student-led development, but it also wants to ensure high academic standards.\n",
    "    - Ensure that the lesson uses and develops skills relevant to the academic subject: {subject}\n",
    "    - Try to make the best estimate of the total amount of time the activity will take. Be generous because these are young kids and they take a while!\n",
    "    - The 'additional notes' specifies the actual content mentioned in the 'procedure' (e.g., interview questions, puzzle clues, specific writing prompts, etc.), so the teacher does not need to do additional brainstorming to execute the lesson.\n",
    "    - The 'differentiation strategies' provides modifications for students who need more support, for students who need more challenge, and for neurodivergent students. This information should not appear elsewhere in your response.\n",
    "    \"\"\"\n",
    ")"
   ]
  },
  {
   "cell_type": "code",
   "execution_count": 15,
   "id": "6ae08714-d533-4725-b7a3-fae601ff6c5c",
   "metadata": {},
   "outputs": [],
   "source": [
    "lesson_plan_chat_prompt_template = ChatPromptTemplate(\n",
    "    messages=[lesson_plan_human_prompt],\n",
    "    input_variables=[\"activity_name\", \"activity_description\", \"subject\"],\n",
    "    partial_variables={\"format_instructions\": lesson_plan_parser.get_format_instructions()}\n",
    ")"
   ]
  },
  {
   "cell_type": "code",
   "execution_count": 16,
   "id": "2c95618e-5b54-4b30-89dd-eccc5b0bd099",
   "metadata": {},
   "outputs": [
    {
     "name": "stdout",
     "output_type": "stream",
     "text": [
      "The output should be formatted as a JSON instance that conforms to the JSON schema below.\n",
      "\n",
      "As an example, for the schema {\"properties\": {\"foo\": {\"title\": \"Foo\", \"description\": \"a list of strings\", \"type\": \"array\", \"items\": {\"type\": \"string\"}}}, \"required\": [\"foo\"]}\n",
      "the object {\"foo\": [\"bar\", \"baz\"]} is a well-formatted instance of the schema. The object {\"properties\": {\"foo\": [\"bar\", \"baz\"]}} is not well-formatted.\n",
      "\n",
      "Here is the output schema:\n",
      "```\n",
      "{\"properties\": {\"time_estimate\": {\"title\": \"Time Estimate\", \"type\": \"string\"}, \"list_of_materials\": {\"title\": \"List Of Materials\", \"type\": \"array\", \"items\": {\"type\": \"string\"}}, \"procedure\": {\"title\": \"Procedure\", \"type\": \"array\", \"items\": {\"type\": \"string\"}}, \"additional_notes\": {\"title\": \"Additional Notes\", \"type\": \"array\", \"items\": {\"type\": \"string\"}}, \"differentiation_strategies\": {\"title\": \"Differentiation Strategies\", \"type\": \"array\", \"items\": {\"type\": \"string\"}}}, \"required\": [\"time_estimate\", \"list_of_materials\", \"procedure\", \"additional_notes\", \"differentiation_strategies\"]}\n",
      "```\n"
     ]
    }
   ],
   "source": [
    "print(lesson_plan_parser.get_format_instructions())"
   ]
  },
  {
   "cell_type": "markdown",
   "id": "48bb69f8-a88c-4d5c-a204-6bc6e4c3c275",
   "metadata": {},
   "source": [
    "# Test on Single Record"
   ]
  },
  {
   "cell_type": "code",
   "execution_count": 17,
   "id": "ef850678-6948-4c2e-9545-72aebcb1813e",
   "metadata": {},
   "outputs": [],
   "source": [
    "num_plans = 5"
   ]
  },
  {
   "cell_type": "code",
   "execution_count": 18,
   "id": "ba55d394-bbbe-4d91-a800-733c009c6638",
   "metadata": {},
   "outputs": [],
   "source": [
    "month = \"September\"\n",
    "subject = 'math'"
   ]
  },
  {
   "cell_type": "code",
   "execution_count": 19,
   "id": "a5529a5c-a967-473e-9f92-df8b0c1852e1",
   "metadata": {},
   "outputs": [],
   "source": [
    "month_record = annual_plan_df.query(\"month == @month\").to_dict(orient='records')[0]"
   ]
  },
  {
   "cell_type": "code",
   "execution_count": 20,
   "id": "fbdda230-1448-4191-9636-bae7ce2597f7",
   "metadata": {},
   "outputs": [],
   "source": [
    "theme = month_record['theme_to_explore']\n",
    "topic = month_record[subject]"
   ]
  },
  {
   "cell_type": "code",
   "execution_count": 21,
   "id": "30d76435-0f38-4dd0-8dbe-7581cdb6ca5d",
   "metadata": {},
   "outputs": [],
   "source": [
    "idea_prompt = idea_chat_prompt_template.format_prompt(\n",
    "    num_ideas=num_plans,\n",
    "    month=month,\n",
    "    theme=theme,\n",
    "    subject=subject, \n",
    "    topic=topic \n",
    ")"
   ]
  },
  {
   "cell_type": "code",
   "execution_count": 22,
   "id": "ec97e284-7a9a-4cc7-938c-d681fbaa2195",
   "metadata": {},
   "outputs": [],
   "source": [
    "idea_messages = idea_prompt.to_messages()"
   ]
  },
  {
   "cell_type": "code",
   "execution_count": 23,
   "id": "19eedfd8-e4ea-4354-b8c2-da5e7e855ac2",
   "metadata": {},
   "outputs": [
    {
     "data": {
      "text/plain": [
       "[HumanMessage(content='Answer the user query.\\n    The output should be formatted as a JSON instance that conforms to the JSON schema below.\\n\\nAs an example, for the schema {\"properties\": {\"foo\": {\"title\": \"Foo\", \"description\": \"a list of strings\", \"type\": \"array\", \"items\": {\"type\": \"string\"}}}, \"required\": [\"foo\"]}\\nthe object {\"foo\": [\"bar\", \"baz\"]} is a well-formatted instance of the schema. The object {\"properties\": {\"foo\": [\"bar\", \"baz\"]}} is not well-formatted.\\n\\nHere is the output schema:\\n```\\n{\"properties\": {\"ideas\": {\"title\": \"Ideas\", \"type\": \"array\", \"items\": {\"$ref\": \"#/definitions/ActivityIdea\"}}}, \"required\": [\"ideas\"], \"definitions\": {\"ActivityIdea\": {\"title\": \"ActivityIdea\", \"type\": \"object\", \"properties\": {\"name\": {\"title\": \"Name\", \"type\": \"string\"}, \"description\": {\"title\": \"Description\", \"type\": \"string\"}}, \"required\": [\"name\", \"description\"]}}}\\n```\\n    You are a curriculum development expert and I am a teacher of second graders at a micro-school, with seven students of varying abilities.\\n    I want you to generate 5 activity ideas for the month of September. Each activity could also be thought of as a lesson where the kids are learning valuable skills.\\n    I have a theme for the month, which is On the Map, where we’re from.\\n    The academic subject is math and the topic is latitutde and longitude; place value.\\n\\n    Here are some additional guidelines:\\n    - The microschool  stresses the importance of outdoor education and student-led development, but it also wants to ensure high academic standards, so your lesson plans should be a mix of exploration and drilling the fundamentals. \\n    - Try to be creative in your ideas. Do not use the idea of a scavenger hunt, because it has been overdone.\\n    - Try to work in phonics work and literacy development into the language art activities.\\n    - Try to work in arithmetic and numeracy development into the math activities.\\n    - Each activity idea should be able to be accomplished in 30 mins-3 hours.\\n    - Each activity should relate directly to skills and concepts from the academic subject of math.\\n    - I only need you to give me the activity names and a brief description of each idea.\\n    - The description should only be sentence or two and should not simply repeat the theme or the topic. It should describe the nature of the activity.\\n    - Keep in mind these are second-graders who are not ready for advanced concepts like decimals.\\n    ', additional_kwargs={}, example=False)]"
      ]
     },
     "execution_count": 23,
     "metadata": {},
     "output_type": "execute_result"
    }
   ],
   "source": [
    "idea_messages"
   ]
  },
  {
   "cell_type": "code",
   "execution_count": 24,
   "id": "09d253ed-8d1d-4633-b86b-c4b5fe0a7300",
   "metadata": {},
   "outputs": [],
   "source": [
    "idea_response = chat_model(idea_messages)"
   ]
  },
  {
   "cell_type": "code",
   "execution_count": 25,
   "id": "03ecda6d-f8e5-4770-a5a0-8e42e5f217ba",
   "metadata": {},
   "outputs": [],
   "source": [
    "ideas_parsed = activity_ideas_parser.parse(idea_response.content)"
   ]
  },
  {
   "cell_type": "code",
   "execution_count": 26,
   "id": "1c4abafe-3557-492e-b9c5-81dc50015329",
   "metadata": {},
   "outputs": [
    {
     "name": "stdout",
     "output_type": "stream",
     "text": [
      "{'ideas': [{'description': 'Students will create their own maps using basic '\n",
      "                           'shapes and colors, practicing spatial awareness '\n",
      "                           'and understanding of cardinal directions.',\n",
      "            'name': 'Map Art'},\n",
      "           {'description': 'Students will participate in a physical activity '\n",
      "                           'where they move along a number line, reinforcing '\n",
      "                           'their understanding of place value and number '\n",
      "                           'sequencing.',\n",
      "            'name': 'Number Line Race'},\n",
      "           {'description': 'Students will play a game of bingo using latitude '\n",
      "                           'and longitude coordinates, improving their ability '\n",
      "                           'to locate and identify points on a map.',\n",
      "            'name': 'Latitude and Longitude Bingo'},\n",
      "           {'description': 'Students will create and share stories that '\n",
      "                           'incorporate math concepts, enhancing their '\n",
      "                           'numeracy skills and creativity.',\n",
      "            'name': 'Math Storytelling'},\n",
      "           {'description': 'Students will go on a nature walk to identify and '\n",
      "                           'collect objects in different shapes, reinforcing '\n",
      "                           'their understanding of geometric shapes and their '\n",
      "                           'attributes.',\n",
      "            'name': 'Shape Hunt'}]}\n"
     ]
    }
   ],
   "source": [
    "pp.pprint(ideas_parsed.dict())"
   ]
  },
  {
   "cell_type": "code",
   "execution_count": 27,
   "id": "e7cc668f-134c-4f6f-93ff-38515e09cb93",
   "metadata": {},
   "outputs": [],
   "source": [
    "idea = ideas_parsed.ideas[0]"
   ]
  },
  {
   "cell_type": "code",
   "execution_count": 28,
   "id": "5f408fe2-56b7-4c17-8a54-a314a3433e33",
   "metadata": {},
   "outputs": [],
   "source": [
    "idea_name = idea.name\n",
    "idea_description = idea.description"
   ]
  },
  {
   "cell_type": "code",
   "execution_count": 29,
   "id": "c2e1a71e-7ba6-468a-b2f5-b363d957a7db",
   "metadata": {},
   "outputs": [
    {
     "name": "stdout",
     "output_type": "stream",
     "text": [
      "Map Art: Students will create their own maps using basic shapes and colors, practicing spatial awareness and understanding of cardinal directions.\n"
     ]
    }
   ],
   "source": [
    "print(f\"{idea_name}: {idea_description}\")"
   ]
  },
  {
   "cell_type": "code",
   "execution_count": 30,
   "id": "ab62f60d-e220-4b47-86ae-6e258185fca2",
   "metadata": {},
   "outputs": [],
   "source": [
    "lesson_plan_prompt_value = lesson_plan_chat_prompt_template.format_prompt(\n",
    "    activity_name=idea_name,\n",
    "    activity_description=idea_description,\n",
    "    subject=subject\n",
    ")"
   ]
  },
  {
   "cell_type": "code",
   "execution_count": 31,
   "id": "a03e9d8d-f07e-4f0e-ba49-1677cdcf76f5",
   "metadata": {},
   "outputs": [],
   "source": [
    "lp_messages = lesson_plan_prompt_value.to_messages()"
   ]
  },
  {
   "cell_type": "code",
   "execution_count": 32,
   "id": "8227753a-d3d8-410f-84b3-590109994b75",
   "metadata": {},
   "outputs": [],
   "source": [
    "lp_response = chat_model(lp_messages)"
   ]
  },
  {
   "cell_type": "code",
   "execution_count": 33,
   "id": "6e43433f-1964-4ff5-b8e8-7aa8cc692fbd",
   "metadata": {},
   "outputs": [],
   "source": [
    "lp_parsed = lesson_plan_parser.parse(lp_response.content)"
   ]
  },
  {
   "cell_type": "code",
   "execution_count": 34,
   "id": "689d1ba2-fec0-48c3-8637-d127781f5275",
   "metadata": {},
   "outputs": [],
   "source": [
    "lp_dict = lp_parsed.dict()"
   ]
  },
  {
   "cell_type": "code",
   "execution_count": 35,
   "id": "832dc9a8-0de4-47fc-b2e3-f03c91d29585",
   "metadata": {},
   "outputs": [],
   "source": [
    "full_lp = {k: v for k, v in idea.dict().items()}\n",
    "full_lp.update(lp_dict)"
   ]
  },
  {
   "cell_type": "code",
   "execution_count": 36,
   "id": "72e83436-c333-4aef-8b87-15f73ea9d02b",
   "metadata": {},
   "outputs": [
    {
     "data": {
      "text/plain": [
       "['Encourage creativity and imagination when drawing the maps.',\n",
       " 'Provide guidance and support to students who may struggle with drawing or labeling.',\n",
       " 'For students who finish early, encourage them to add additional details or features to their maps.',\n",
       " 'For students who need more support, provide pre-drawn templates for them to use as a starting point.',\n",
       " 'For students who need more challenge, encourage them to include a key or legend on their maps to represent different symbols or features.',\n",
       " 'For neurodivergent students, provide visual aids or step-by-step instructions to help them with the drawing and labeling process.']"
      ]
     },
     "execution_count": 36,
     "metadata": {},
     "output_type": "execute_result"
    }
   ],
   "source": [
    "lp_dict['additional_notes']"
   ]
  },
  {
   "cell_type": "markdown",
   "id": "03141867-d447-46a7-a823-4ed8765284ac",
   "metadata": {},
   "source": [
    "## Define Markdown Helper Functions"
   ]
  },
  {
   "cell_type": "code",
   "execution_count": 37,
   "id": "a6a8d2f6-0ed4-48fe-bfc9-963b4c15d81c",
   "metadata": {},
   "outputs": [],
   "source": [
    "def make_ordered_list_markdown(lst):\n",
    "    markdown_list = [f\"{idx}. {val}\" for idx, val in enumerate(lst, start=1)]\n",
    "    return '\\n'.join(markdown_list)"
   ]
  },
  {
   "cell_type": "code",
   "execution_count": 38,
   "id": "998ee8e0-6b5b-4e3e-9c6d-c37a1481b1f3",
   "metadata": {},
   "outputs": [],
   "source": [
    "def make_list_markdown(lst):\n",
    "    return \"- \" + \"\\n- \".join(lst)"
   ]
  },
  {
   "cell_type": "code",
   "execution_count": 39,
   "id": "ee7c2632-1664-4e3a-b9d0-32479bbd7301",
   "metadata": {},
   "outputs": [],
   "source": [
    "def convert_lesson_plan_to_markdown(lesson_plan_dict):\n",
    "    res = []\n",
    "    res.append(f\"## {lesson_plan_dict['name']}\")\n",
    "    res.append(lesson_plan_dict['description'])\n",
    "    res.append(f\"\\n### Time estimate: {lesson_plan_dict['time_estimate']}\")\n",
    "    res.append(f\"\\n### Materials\")\n",
    "    res.append(make_list_markdown(lesson_plan_dict[\"list_of_materials\"]))\n",
    "    res.append(f\"\\n### Procedure\")\n",
    "    res.append(make_ordered_list_markdown(lesson_plan_dict['procedure']))\n",
    "    res.append(f\"\\n### Additional notes\")\n",
    "    res.append(make_list_markdown(lesson_plan_dict['additional_notes']))\n",
    "    res.append(f\"\\n### Differentiation strategies\")\n",
    "    res.append(make_list_markdown(lesson_plan_dict['differentiation_strategies']))\n",
    "    \n",
    "    return \"\\n\".join(res)\n",
    "    "
   ]
  },
  {
   "cell_type": "code",
   "execution_count": 41,
   "id": "ca1e82b9-91b7-49a6-8cb6-4d4ec08210c9",
   "metadata": {
    "scrolled": true
   },
   "outputs": [],
   "source": [
    "md = convert_lesson_plan_to_markdown(full_lp)"
   ]
  },
  {
   "cell_type": "code",
   "execution_count": 42,
   "id": "b1a21bf9-ad74-4821-9b7a-26acb1cd44ab",
   "metadata": {},
   "outputs": [
    {
     "data": {
      "text/markdown": [
       "## Map Art\n",
       "Students will create their own maps using basic shapes and colors, practicing spatial awareness and understanding of cardinal directions.\n",
       "\n",
       "### Time estimate: 60 minutes\n",
       "\n",
       "### Materials\n",
       "- Paper\n",
       "- Pencils\n",
       "- Crayons\n",
       "- Rulers\n",
       "- Scissors\n",
       "\n",
       "### Procedure\n",
       "1. Start by discussing maps with the students. Talk about what maps are, why they are important, and how they can be used.\n",
       "2. Explain the concept of cardinal directions (north, south, east, west) and how they are represented on a map.\n",
       "3. Provide each student with a piece of paper and ask them to draw a basic map of their choosing. Encourage them to include different shapes and colors to represent different features on their map.\n",
       "4. Once the students have finished drawing their maps, have them label the cardinal directions on their maps.\n",
       "5. After labeling the cardinal directions, ask the students to share their maps with the class. Have them explain the different features on their maps and how they represent real-world locations.\n",
       "6. As a math activity, ask the students to measure the distances between different features on their maps using rulers. Have them record the measurements on their maps.\n",
       "7. Finally, have a class discussion about the importance of spatial awareness and how it relates to math. Ask the students to reflect on how they used math skills during the activity.\n",
       "\n",
       "### Additional notes\n",
       "- Encourage creativity and imagination when drawing the maps.\n",
       "- Provide guidance and support to students who may struggle with drawing or labeling.\n",
       "- For students who finish early, encourage them to add additional details or features to their maps.\n",
       "- For students who need more support, provide pre-drawn templates for them to use as a starting point.\n",
       "- For students who need more challenge, encourage them to include a key or legend on their maps to represent different symbols or features.\n",
       "- For neurodivergent students, provide visual aids or step-by-step instructions to help them with the drawing and labeling process.\n",
       "\n",
       "### Differentiation strategies\n",
       "- Provide pre-drawn templates for students who need more support.\n",
       "- Encourage students who need more challenge to include a key or legend on their maps.\n",
       "- Provide visual aids or step-by-step instructions for neurodivergent students."
      ],
      "text/plain": [
       "<IPython.core.display.Markdown object>"
      ]
     },
     "metadata": {},
     "output_type": "display_data"
    }
   ],
   "source": [
    "display(Markdown(md))"
   ]
  },
  {
   "cell_type": "markdown",
   "id": "915f045c-ff9c-4361-971d-e9e7fb1a4fa7",
   "metadata": {},
   "source": [
    "# Define Wrapper Functions"
   ]
  },
  {
   "cell_type": "code",
   "execution_count": 43,
   "id": "2e4dbec5-2624-48e5-98b5-7afb8b70eb95",
   "metadata": {},
   "outputs": [],
   "source": [
    "def prompt_wrapper(prompt_template, parser, model, max_retries=5, **kwargs):\n",
    "    prompt_value = prompt_template.format_prompt(**kwargs)\n",
    "    messages = prompt_value.to_messages()\n",
    "    for attempt in range(max_retries + 1):  #sometimes the parser fails inexplicably\n",
    "        try:\n",
    "            output = model(messages)\n",
    "            parsed_output = parser.parse(output.content)\n",
    "            break\n",
    "        except Exception as e:\n",
    "            if attempt < max_retries:\n",
    "                # print(e)\n",
    "                print(f\"Attempt {attempt + 1} failed. Retrying...\")\n",
    "                time.sleep(2)  # Wait before retrying\n",
    "            else:\n",
    "                print(f\"API call failed after {max_retries} attempts. Skipping.\")\n",
    "    return parsed_output"
   ]
  },
  {
   "cell_type": "code",
   "execution_count": 44,
   "id": "56cb7f44-4dbe-4022-8ddf-69093647e558",
   "metadata": {},
   "outputs": [],
   "source": [
    "activity_ideas_parsed = prompt_wrapper(  # Generate activity ideas for each month-subject combo\n",
    "                prompt_template=idea_chat_prompt_template, \n",
    "                parser=activity_ideas_parser,\n",
    "                model=chat_model,\n",
    "                num_ideas=num_plans,\n",
    "                month=month,\n",
    "                theme=theme,\n",
    "                subject=subject, \n",
    "                topic=topic\n",
    "            )"
   ]
  },
  {
   "cell_type": "code",
   "execution_count": 45,
   "id": "0a3f26c1-4d35-4589-8599-87fbb6127c51",
   "metadata": {},
   "outputs": [
    {
     "name": "stdout",
     "output_type": "stream",
     "text": [
      "{'ideas': [{'description': 'Students will create their own maps using basic '\n",
      "                           'shapes and colors, practicing spatial awareness '\n",
      "                           'and understanding of cardinal directions.',\n",
      "            'name': 'Map Art'},\n",
      "           {'description': 'Students will use a giant number line to '\n",
      "                           'physically move along and practice addition and '\n",
      "                           'subtraction, reinforcing place value concepts.',\n",
      "            'name': 'Number Line Journey'},\n",
      "           {'description': 'Students will solve latitude and longitude puzzles '\n",
      "                           'to locate hidden treasures on a map, enhancing '\n",
      "                           'their understanding of coordinates and map reading '\n",
      "                           'skills.',\n",
      "            'name': 'Latitude and Longitude Scramble'},\n",
      "           {'description': 'Students will listen to a story about a journey '\n",
      "                           'and solve math problems related to the story, '\n",
      "                           'integrating literacy and numeracy development.',\n",
      "            'name': 'Math Story Time'},\n",
      "           {'description': 'Students will explore the school grounds to find '\n",
      "                           'and identify different shapes, reinforcing '\n",
      "                           'geometry concepts and spatial recognition.',\n",
      "            'name': 'Shape Hunt'}]}\n"
     ]
    }
   ],
   "source": [
    "pp.pprint(activity_ideas_parsed.dict())"
   ]
  },
  {
   "cell_type": "code",
   "execution_count": 47,
   "id": "779dd20e-f97c-4d8d-80a8-a05147a6f39c",
   "metadata": {},
   "outputs": [],
   "source": [
    "def wrapper(annual_plan_df, activity_ideas_model, lesson_plan_model, num_plans=5, months=None):\n",
    "    res = {}\n",
    "    if months is None:\n",
    "        months = annual_plan_df['month'].values\n",
    "    df = annual_plan_df.query('month.isin(@months)')\n",
    "    for idx, row in df.head(3).iterrows(): # first iterate through the months in the table\n",
    "        month = row[\"month\"]\n",
    "        theme = row[\"theme_to_explore\"]\n",
    "        print(f\"# {month}\")\n",
    "        markdown_lst = []\n",
    "        markdown_lst.append(f\"# {month}\")\n",
    "        markdown_lst.append(f\"## Theme: {theme}\")\n",
    "        res[month] = dict()\n",
    "        subjects = df.columns[2:].values\n",
    "        for subject in subjects:  # for each month, iterate through the academic subjects\n",
    "            pretty_subject = subject.replace(\"_\", \" \").title()\n",
    "            markdown_lst.append(f\"\\n# {pretty_subject}\")\n",
    "            print(f\"- {pretty_subject}\")\n",
    "            topic = row[subject]\n",
    "            activity_ideas_parsed = prompt_wrapper(  # Generate activity ideas for each month-subject combo\n",
    "                prompt_template=idea_chat_prompt_template, \n",
    "                parser=activity_ideas_parser,\n",
    "                model=activity_ideas_model,\n",
    "                num_ideas=num_plans,\n",
    "                month=month,\n",
    "                theme=theme,\n",
    "                subject=subject, \n",
    "                topic=topic\n",
    "            )\n",
    "            print(\"Generated ideas\")\n",
    "            res[month][subject] = activity_ideas_parsed.dict()\n",
    "            \n",
    "            for idea in res[month][subject][\"ideas\"]: #  Generate lesson plans for each idea\n",
    "                activity_name = idea[\"name\"]\n",
    "                activity_description = idea[\"description\"]\n",
    "                lesson_plan = prompt_wrapper(\n",
    "                    prompt_template=lesson_plan_chat_prompt_template, \n",
    "                    parser=lesson_plan_parser,\n",
    "                    model=lesson_plan_model,\n",
    "                    activity_name=activity_name, \n",
    "                    activity_description=activity_description, \n",
    "                    subject=subject\n",
    "                )\n",
    "                idea.update(lesson_plan)\n",
    "                lesson_plan_markdown = convert_lesson_plan_to_markdown(idea)\n",
    "                markdown_lst.append(f\"\\n{lesson_plan_markdown}\")\n",
    "                markdown_string = \"\\n\".join(markdown_lst)\n",
    "            print(\"Generated lesson plans\")\n",
    "                \n",
    "        # Write the output of each month to a Markdown file\n",
    "        output_file_path = f'../output/{idx + 1} {month} Lesson Plans.md'\n",
    "        with open(output_file_path, \"w\") as output_file:\n",
    "            output_file.write(markdown_string)\n",
    "\n",
    "        print(f\"Markdown output written to '{output_file_path}'.\")\n",
    "        print(\"*\" * 50, \"\\n\")\n",
    "        # break\n",
    "    \n",
    "    # Write full results to a JSON file\n",
    "    full_result_output_path = \"../output/lesson_plan.json\"\n",
    "    with open(full_result_output_path , \"w\") as json_file:\n",
    "        json.dump(res, json_file)\n",
    "    print(f\"JSON output written to '{full_result_output_path }'.\")\n",
    "    return res"
   ]
  },
  {
   "cell_type": "markdown",
   "id": "c096e392-98cd-4b6f-a666-43a0e5e64d1d",
   "metadata": {},
   "source": [
    "# Run"
   ]
  },
  {
   "cell_type": "code",
   "execution_count": 48,
   "id": "f035cc07-b571-4dc2-b750-a6b8f3028fba",
   "metadata": {},
   "outputs": [
    {
     "data": {
      "text/html": [
       "<div>\n",
       "<style scoped>\n",
       "    .dataframe tbody tr th:only-of-type {\n",
       "        vertical-align: middle;\n",
       "    }\n",
       "\n",
       "    .dataframe tbody tr th {\n",
       "        vertical-align: top;\n",
       "    }\n",
       "\n",
       "    .dataframe thead th {\n",
       "        text-align: right;\n",
       "    }\n",
       "</style>\n",
       "<table border=\"1\" class=\"dataframe\">\n",
       "  <thead>\n",
       "    <tr style=\"text-align: right;\">\n",
       "      <th></th>\n",
       "      <th>month</th>\n",
       "      <th>theme_to_explore</th>\n",
       "      <th>language_arts</th>\n",
       "      <th>math</th>\n",
       "      <th>social_studies</th>\n",
       "      <th>science</th>\n",
       "    </tr>\n",
       "  </thead>\n",
       "  <tbody>\n",
       "    <tr>\n",
       "      <th>0</th>\n",
       "      <td>August</td>\n",
       "      <td>Getting to Know One Another; Class Community</td>\n",
       "      <td>Personal narratives, reading comprehension</td>\n",
       "      <td>Counting and sorting</td>\n",
       "      <td>Our classroom community; citizenship and gover...</td>\n",
       "      <td>Exploring the school environment and local eco...</td>\n",
       "    </tr>\n",
       "    <tr>\n",
       "      <th>1</th>\n",
       "      <td>September</td>\n",
       "      <td>On the Map, where we’re from</td>\n",
       "      <td>My Place: Descriptive Writing; vocabulary deve...</td>\n",
       "      <td>latitutde and longitude; place value</td>\n",
       "      <td>My hometown; local history; geography</td>\n",
       "      <td>Water cycle, rivers; Geology, caves; acquifers</td>\n",
       "    </tr>\n",
       "    <tr>\n",
       "      <th>2</th>\n",
       "      <td>October</td>\n",
       "      <td>Fall; Halloween; Dia de los Muertos</td>\n",
       "      <td>Creative Writing; Listening and speaking skills</td>\n",
       "      <td>units of measurement--length, weight, etc.; Es...</td>\n",
       "      <td>Fall celebrations around the world; elections</td>\n",
       "      <td>Animal science: Investigating Local Food Chains</td>\n",
       "    </tr>\n",
       "    <tr>\n",
       "      <th>3</th>\n",
       "      <td>November</td>\n",
       "      <td>Gratitude; Native Americans</td>\n",
       "      <td>Thankful Thoughts; Native American Storytelling</td>\n",
       "      <td>Addition and subtraction</td>\n",
       "      <td>Native American history; settlement of Texas</td>\n",
       "      <td>Investigating Seasonal Changes and Plants; Win...</td>\n",
       "    </tr>\n",
       "    <tr>\n",
       "      <th>4</th>\n",
       "      <td>December</td>\n",
       "      <td>Winter Solstice and winter holidays</td>\n",
       "      <td>book exchange; holiday cards; holiday play/skit</td>\n",
       "      <td>Snowflake Symmetry; geometry (2-D shapes)</td>\n",
       "      <td>Winter Holidays Worldwide</td>\n",
       "      <td>Physical science -- matter, energy, force, motion</td>\n",
       "    </tr>\n",
       "  </tbody>\n",
       "</table>\n",
       "</div>"
      ],
      "text/plain": [
       "       month                              theme_to_explore  \\\n",
       "0     August  Getting to Know One Another; Class Community   \n",
       "1  September                  On the Map, where we’re from   \n",
       "2    October           Fall; Halloween; Dia de los Muertos   \n",
       "3   November                   Gratitude; Native Americans   \n",
       "4   December           Winter Solstice and winter holidays   \n",
       "\n",
       "                                       language_arts  \\\n",
       "0         Personal narratives, reading comprehension   \n",
       "1  My Place: Descriptive Writing; vocabulary deve...   \n",
       "2    Creative Writing; Listening and speaking skills   \n",
       "3    Thankful Thoughts; Native American Storytelling   \n",
       "4    book exchange; holiday cards; holiday play/skit   \n",
       "\n",
       "                                                math  \\\n",
       "0                               Counting and sorting   \n",
       "1               latitutde and longitude; place value   \n",
       "2  units of measurement--length, weight, etc.; Es...   \n",
       "3                           Addition and subtraction   \n",
       "4          Snowflake Symmetry; geometry (2-D shapes)   \n",
       "\n",
       "                                      social_studies  \\\n",
       "0  Our classroom community; citizenship and gover...   \n",
       "1              My hometown; local history; geography   \n",
       "2     Fall celebrations around the world; elections    \n",
       "3       Native American history; settlement of Texas   \n",
       "4                          Winter Holidays Worldwide   \n",
       "\n",
       "                                             science  \n",
       "0  Exploring the school environment and local eco...  \n",
       "1     Water cycle, rivers; Geology, caves; acquifers  \n",
       "2    Animal science: Investigating Local Food Chains  \n",
       "3  Investigating Seasonal Changes and Plants; Win...  \n",
       "4  Physical science -- matter, energy, force, motion  "
      ]
     },
     "execution_count": 48,
     "metadata": {},
     "output_type": "execute_result"
    }
   ],
   "source": [
    "annual_plan_df.head()"
   ]
  },
  {
   "cell_type": "code",
   "execution_count": 49,
   "id": "46e25840-99c8-4005-8e8a-2cd84a4c32e8",
   "metadata": {},
   "outputs": [],
   "source": [
    "lesson_plan_model = ChatOpenAI(model_name=model_name, temperature=.2, max_tokens=3000)"
   ]
  },
  {
   "cell_type": "code",
   "execution_count": 50,
   "id": "dad23e3f-a553-4be4-8164-dc9da5349c34",
   "metadata": {},
   "outputs": [],
   "source": [
    "activity_ideas_model = ChatOpenAI(model_name=model_name, temperature=.8, max_tokens=3000)"
   ]
  },
  {
   "cell_type": "code",
   "execution_count": null,
   "id": "9d47adbe-57ce-45fa-b32c-396c84e17f77",
   "metadata": {},
   "outputs": [
    {
     "name": "stdout",
     "output_type": "stream",
     "text": [
      "# September\n",
      "- Language Arts\n",
      "Generated ideas\n",
      "Generated lesson plans\n",
      "- Math\n",
      "Generated ideas\n",
      "Generated lesson plans\n",
      "- Social Studies\n",
      "Generated ideas\n",
      "Generated lesson plans\n",
      "- Science\n",
      "Generated ideas\n",
      "Generated lesson plans\n",
      "Markdown output written to '../output/2 September Lesson Plans.md'.\n",
      "************************************************** \n",
      "\n",
      "# October\n",
      "- Language Arts\n",
      "Generated ideas\n",
      "Generated lesson plans\n",
      "- Math\n",
      "Generated ideas\n",
      "Generated lesson plans\n",
      "- Social Studies\n",
      "Generated ideas\n",
      "Generated lesson plans\n",
      "- Science\n",
      "Generated ideas\n"
     ]
    }
   ],
   "source": [
    "lesson_plans = wrapper(annual_plan_df, activity_ideas_model, lesson_plan_model, months=[\"September\", \"October\"])"
   ]
  },
  {
   "cell_type": "markdown",
   "id": "14c4c95d-8f44-48e8-98ab-f02272102bfd",
   "metadata": {},
   "source": [
    "# View Results"
   ]
  },
  {
   "cell_type": "code",
   "execution_count": null,
   "id": "633c52e5-dd2d-43ab-9d0f-c2ab789fd70f",
   "metadata": {},
   "outputs": [],
   "source": [
    "for idea in lesson_plans['September']['language_arts']['ideas']:\n",
    "    display(Markdown(f\"**{idea['name']}**: {idea['description']}\"))"
   ]
  },
  {
   "cell_type": "code",
   "execution_count": null,
   "id": "d31036c9-fdc2-4aa1-ad22-f8dd0af85595",
   "metadata": {},
   "outputs": [],
   "source": [
    "display(JSON(lesson_plans))"
   ]
  },
  {
   "cell_type": "code",
   "execution_count": null,
   "id": "fc8f4e34-1958-459a-8684-d05437f5b095",
   "metadata": {},
   "outputs": [],
   "source": [
    "display(JSON(lesson_plans))"
   ]
  },
  {
   "cell_type": "code",
   "execution_count": null,
   "id": "c2d58215-a64f-428f-88fc-a7eb1f713b1f",
   "metadata": {},
   "outputs": [],
   "source": []
  }
 ],
 "metadata": {
  "kernelspec": {
   "display_name": "Python 3 (ipykernel)",
   "language": "python",
   "name": "python3"
  },
  "language_info": {
   "codemirror_mode": {
    "name": "ipython",
    "version": 3
   },
   "file_extension": ".py",
   "mimetype": "text/x-python",
   "name": "python",
   "nbconvert_exporter": "python",
   "pygments_lexer": "ipython3",
   "version": "3.9.16"
  }
 },
 "nbformat": 4,
 "nbformat_minor": 5
}
