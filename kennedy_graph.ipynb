{
 "cells": [
  {
   "cell_type": "code",
   "execution_count": 1,
   "id": "7322ecab-77bd-4be0-af9c-32acc33275f8",
   "metadata": {
    "tags": []
   },
   "outputs": [],
   "source": [
    "from rdflib import Graph, Namespace\n",
    "from rdflib.plugins.sparql import prepareQuery"
   ]
  },
  {
   "cell_type": "markdown",
   "id": "097c7b6c-983e-4bfc-928f-b1eabf77023e",
   "metadata": {},
   "source": [
    "## Parse graph from TTL"
   ]
  },
  {
   "cell_type": "code",
   "execution_count": 2,
   "id": "11c3c1e7-e6df-46fb-8ee0-af101400b26b",
   "metadata": {
    "tags": []
   },
   "outputs": [],
   "source": [
    "# Create an empty RDF graph\n",
    "graph = Graph()"
   ]
  },
  {
   "cell_type": "code",
   "execution_count": 3,
   "id": "51597edf-e259-4a15-8de9-7987dd18aa32",
   "metadata": {
    "tags": []
   },
   "outputs": [
    {
     "data": {
      "text/plain": [
       "<Graph identifier=N5a83896febc746758c349939c0d7cf2a (<class 'rdflib.graph.Graph'>)>"
      ]
     },
     "execution_count": 3,
     "metadata": {},
     "output_type": "execute_result"
    }
   ],
   "source": [
    "graph.parse(\"kennedys_rdf_gpt_output.ttl\", format='turtle')"
   ]
  },
  {
   "cell_type": "code",
   "execution_count": 4,
   "id": "dcf8b1a7-fd99-48f2-aa1b-a448d4f91030",
   "metadata": {
    "tags": []
   },
   "outputs": [
    {
     "data": {
      "text/plain": [
       "43"
      ]
     },
     "execution_count": 4,
     "metadata": {},
     "output_type": "execute_result"
    }
   ],
   "source": [
    "len(graph.all_nodes())"
   ]
  },
  {
   "cell_type": "code",
   "execution_count": 5,
   "id": "c5251e70-5936-44d9-9f76-f0376eda0194",
   "metadata": {
    "tags": []
   },
   "outputs": [
    {
     "name": "stdout",
     "output_type": "stream",
     "text": [
      "Number of triples: 115\n"
     ]
    }
   ],
   "source": [
    "# Print the number of triples in the graph\n",
    "print(f\"Number of triples: {len(graph)}\")"
   ]
  },
  {
   "cell_type": "markdown",
   "id": "442a6fb4-00a6-46e5-ab62-dff88c50997e",
   "metadata": {
    "tags": []
   },
   "source": [
    "## Query the graph"
   ]
  },
  {
   "cell_type": "code",
   "execution_count": 6,
   "id": "971a0dd9-d189-4741-9844-4f02693c4bfb",
   "metadata": {
    "tags": []
   },
   "outputs": [],
   "source": [
    "# Define the SPARQL query \"What is Rose Kennedy's profession?\"\n",
    "query = prepareQuery(\n",
    "    \"\"\"\n",
    "    PREFIX kennedys: <http://topbraid.org/examples/kennedys#>\n",
    "    SELECT ?profession\n",
    "    WHERE {\n",
    "        kennedys:Rose_Kennedy kennedys:profession ?profession .\n",
    "    }\n",
    "    \"\"\",\n",
    "    initNs={\"kennedys\": \"http://topbraid.org/examples/kennedys#\"}\n",
    ")"
   ]
  },
  {
   "cell_type": "code",
   "execution_count": 7,
   "id": "6b9f75e8-6618-492f-b4a6-a2f10fa25783",
   "metadata": {
    "tags": []
   },
   "outputs": [],
   "source": [
    "# Execute the SPARQL query on the graph\n",
    "results = graph.query(query)"
   ]
  },
  {
   "cell_type": "code",
   "execution_count": 8,
   "id": "20c1f3f3-8062-4424-b800-148ec30cc394",
   "metadata": {
    "tags": []
   },
   "outputs": [
    {
     "name": "stdout",
     "output_type": "stream",
     "text": [
      "http://topbraid.org/examples/kennedys#philanthropist\n",
      "http://topbraid.org/examples/kennedys#socialite\n"
     ]
    }
   ],
   "source": [
    "for row in results:\n",
    "    profession = str(row.profession)\n",
    "    print(profession)"
   ]
  },
  {
   "cell_type": "markdown",
   "id": "dfba5214-0fbc-40bd-8388-ae51785a8ac7",
   "metadata": {
    "tags": []
   },
   "source": [
    "## Pretty Print results\n",
    "Without string manipulation"
   ]
  },
  {
   "cell_type": "code",
   "execution_count": 9,
   "id": "17995047-4e89-4a07-9bf1-4f18f9e1a4dc",
   "metadata": {
    "tags": []
   },
   "outputs": [],
   "source": [
    "# # Define the custom namespaces\n",
    "kennedys = Namespace(\"http://topbraid.org/examples/kennedys#\")\n",
    "# rdf = Namespace(\"http://www.w3.org/1999/02/22-rdf-syntax-ns#\")\n",
    "# rdfs = Namespace(\"http://www.w3.org/2000/01/rdf-schema#\")"
   ]
  },
  {
   "cell_type": "code",
   "execution_count": 10,
   "id": "dacaf0e0-b2e4-4fd1-82c6-15f51eded3dc",
   "metadata": {
    "tags": []
   },
   "outputs": [],
   "source": [
    "from rdflib.namespace import NamespaceManager"
   ]
  },
  {
   "cell_type": "code",
   "execution_count": 11,
   "id": "93ca8a95-a542-45d2-a58d-cac2bd8e07b6",
   "metadata": {
    "tags": []
   },
   "outputs": [],
   "source": [
    "namespace_manager = NamespaceManager(graph)\n",
    "namespace_manager.bind(\"kennedys\", kennedys)"
   ]
  },
  {
   "cell_type": "code",
   "execution_count": 12,
   "id": "818d2f5c-76be-402c-a19e-a0bb85a014c1",
   "metadata": {
    "tags": []
   },
   "outputs": [
    {
     "name": "stdout",
     "output_type": "stream",
     "text": [
      "kennedys:philanthropist\n",
      "kennedys:socialite\n"
     ]
    }
   ],
   "source": [
    "# iterate through query result again\n",
    "for row in results:\n",
    "    profession = str(row.profession)\n",
    "    print(namespace_manager.qname(profession))"
   ]
  },
  {
   "cell_type": "markdown",
   "id": "a44aafa7-919d-4132-b7fe-c6e4576bc42f",
   "metadata": {
    "tags": []
   },
   "source": [
    "### Inspect graph directly to pretty print triples"
   ]
  },
  {
   "cell_type": "code",
   "execution_count": 30,
   "id": "07a23936-721e-4cd3-aa07-772fa1defba9",
   "metadata": {
    "tags": []
   },
   "outputs": [
    {
     "name": "stdout",
     "output_type": "stream",
     "text": [
      "Subject: kennedys:Rosemary_Kennedy\n",
      "Predicate: kennedys:sibling\n",
      "Object: kennedys:Kathleen_Kennedy\n",
      "\n",
      "Subject: kennedys:John_Kennedy\n",
      "Predicate: kennedys:sibling\n",
      "Object: kennedys:Patricia_Kennedy\n",
      "\n",
      "Subject: kennedys:Edward_Kennedy\n",
      "Predicate: rdf:type\n",
      "Object: kennedys:Person\n",
      "\n",
      "Subject: kennedys:Rose_Kennedy\n",
      "Predicate: kennedys:child\n",
      "Object: kennedys:Robert_Kennedy\n",
      "\n",
      "Subject: kennedys:Rosemary_Kennedy\n",
      "Predicate: kennedys:firstName\n",
      "Object: \"Rosemary\"\n",
      "\n"
     ]
    }
   ],
   "source": [
    "# Using counter to only print first five triples that occur in the graph\n",
    "counter = 5\n",
    "for subject, predicate, obj in graph:\n",
    "    # Resolve and print the subject, predicate, and object values\n",
    "    subject_value = subject.n3(graph.namespace_manager)\n",
    "    predicate_value = predicate.n3(graph.namespace_manager)\n",
    "    object_value = obj.n3(graph.namespace_manager)\n",
    "    print(f\"Subject: {subject_value}\")\n",
    "    print(f\"Predicate: {predicate_value}\")\n",
    "    print(f\"Object: {object_value}\")\n",
    "    print()\n",
    "    counter -=1\n",
    "    if counter == 0:\n",
    "        break"
   ]
  },
  {
   "cell_type": "markdown",
   "id": "cf085b77-d3c3-44fd-8bff-96fd29c0764b",
   "metadata": {},
   "source": [
    "## Parse the graph directly from the Internet"
   ]
  },
  {
   "cell_type": "code",
   "execution_count": 14,
   "id": "04b7906f-5dc9-4073-8d7f-f6b0218b33ed",
   "metadata": {
    "tags": []
   },
   "outputs": [],
   "source": [
    "graph_1 = Graph()"
   ]
  },
  {
   "cell_type": "code",
   "execution_count": 15,
   "id": "fa496caf-4337-4d90-9152-08ecc089487a",
   "metadata": {
    "tags": []
   },
   "outputs": [],
   "source": [
    "from rdflib.plugin import register, Parser"
   ]
  },
  {
   "cell_type": "code",
   "execution_count": 16,
   "id": "2843577d-a920-441b-a7fb-51be9b18ef3f",
   "metadata": {
    "tags": []
   },
   "outputs": [],
   "source": [
    "# Register the RDF/XML parser plugin\n",
    "register('rdfxml', Parser, 'rdflib.plugins.parsers.rdfxml', 'RDFXMLParser')"
   ]
  },
  {
   "cell_type": "code",
   "execution_count": 17,
   "id": "fc5df35d-e802-47ef-a574-90cba05e60b1",
   "metadata": {
    "tags": []
   },
   "outputs": [],
   "source": [
    "url = \"https://www.topbraid.org/examples/kennedys\""
   ]
  },
  {
   "cell_type": "code",
   "execution_count": 18,
   "id": "b3bf7b73-f938-45ee-a9a5-5887318e3cc0",
   "metadata": {
    "tags": []
   },
   "outputs": [
    {
     "data": {
      "text/plain": [
       "<Graph identifier=Nb3c3fa33ba66424193e08dc2fe5130ae (<class 'rdflib.graph.Graph'>)>"
      ]
     },
     "execution_count": 18,
     "metadata": {},
     "output_type": "execute_result"
    }
   ],
   "source": [
    "graph_1.parse(url, format=\"rdfxml\", expand=True)"
   ]
  },
  {
   "cell_type": "code",
   "execution_count": 19,
   "id": "9af2ac28-499b-4210-98bf-92601fbe0dcf",
   "metadata": {
    "tags": []
   },
   "outputs": [
    {
     "data": {
      "text/plain": [
       "527"
      ]
     },
     "execution_count": 19,
     "metadata": {},
     "output_type": "execute_result"
    }
   ],
   "source": [
    "len(graph_1.all_nodes())"
   ]
  },
  {
   "cell_type": "code",
   "execution_count": 20,
   "id": "b0ae87e2-764e-4413-81ec-d08a390bcd31",
   "metadata": {
    "tags": []
   },
   "outputs": [
    {
     "name": "stdout",
     "output_type": "stream",
     "text": [
      "Number of triples: 1155\n"
     ]
    }
   ],
   "source": [
    "# Print the number of triples in the graph\n",
    "print(f\"Number of triples: {len(graph_1)}\")"
   ]
  },
  {
   "cell_type": "markdown",
   "id": "7af978a2-ddd0-44c9-9e4f-2410bef6f173",
   "metadata": {
    "tags": []
   },
   "source": [
    "## Put graph into Neo4j"
   ]
  },
  {
   "cell_type": "code",
   "execution_count": 21,
   "id": "544452e7-c698-4dad-8ec1-e2b6aff27908",
   "metadata": {
    "tags": []
   },
   "outputs": [],
   "source": [
    "from neo4j import GraphDatabase"
   ]
  },
  {
   "cell_type": "code",
   "execution_count": 22,
   "id": "2bc8cc28-e59d-4933-981f-fdd99b2c7a5f",
   "metadata": {
    "tags": []
   },
   "outputs": [],
   "source": [
    "driver = GraphDatabase.driver(\"neo4j://localhost:7687\", auth=(\"neo4j\", \"password\"))"
   ]
  },
  {
   "cell_type": "code",
   "execution_count": 23,
   "id": "3c1fea7b-a028-4efc-9207-b6ad45d55950",
   "metadata": {
    "tags": []
   },
   "outputs": [],
   "source": [
    "# Open a session\n",
    "with driver.session() as session:\n",
    "    # Iterate over all the triples in the RDF graph\n",
    "    for subject, predicate, obj in graph:\n",
    "        # Convert the RDF triples into Neo4j Cypher queries\n",
    "        cypher_query = f\"\"\"\n",
    "        MERGE (s:Node {{label: \"{subject}\"}})\n",
    "        MERGE (o:Node {{label: \"{obj}\"}})\n",
    "        MERGE (s)-[:`{predicate}`]->(o)\n",
    "        \"\"\"\n",
    "        # Execute the Cypher query\n",
    "        session.run(cypher_query)"
   ]
  },
  {
   "cell_type": "markdown",
   "id": "32659821-d1c9-409a-961e-855e3957b9c8",
   "metadata": {
    "tags": []
   },
   "source": [
    "### Query to see if data inserted properly"
   ]
  },
  {
   "cell_type": "code",
   "execution_count": 24,
   "id": "6f0fc2f7-d083-4c56-9dbb-8d7cc12cc568",
   "metadata": {
    "tags": []
   },
   "outputs": [
    {
     "name": "stdout",
     "output_type": "stream",
     "text": [
      "Subject: http://topbraid.org/examples/kennedys#Rosemary_Kennedy, Predicate: http://topbraid.org/examples/kennedys#sibling, Object: http://topbraid.org/examples/kennedys#Jean_Kennedy\n",
      "Subject: http://topbraid.org/examples/kennedys#Patricia_Kennedy, Predicate: http://topbraid.org/examples/kennedys#sibling, Object: http://topbraid.org/examples/kennedys#Kathleen_Kennedy\n",
      "Subject: http://topbraid.org/examples/kennedys#Eunice_Kennedy, Predicate: http://topbraid.org/examples/kennedys#lastName, Object: Kennedy Shriver\n",
      "Subject: http://topbraid.org/examples/kennedys#Rose_Kennedy, Predicate: http://topbraid.org/examples/kennedys#child, Object: http://topbraid.org/examples/kennedys#Jean_Kennedy\n",
      "Subject: http://topbraid.org/examples/kennedys#John_Kennedy, Predicate: http://topbraid.org/examples/kennedys#firstName, Object: John Fitzgerald\n",
      "Subject: http://topbraid.org/examples/kennedys#Kathleen_Kennedy, Predicate: http://topbraid.org/examples/kennedys#sibling, Object: http://topbraid.org/examples/kennedys#Rosemary_Kennedy\n",
      "Subject: http://topbraid.org/examples/kennedys#John_Kennedy, Predicate: http://www.w3.org/1999/02/22-rdf-syntax-ns#type, Object: http://topbraid.org/examples/kennedys#Person\n",
      "Subject: http://topbraid.org/examples/kennedys#PJ_Kennedy, Predicate: http://topbraid.org/examples/kennedys#child, Object: http://topbraid.org/examples/kennedys#Robert_Kennedy\n",
      "Subject: http://topbraid.org/examples/kennedys#PJ_Kennedy, Predicate: http://topbraid.org/examples/kennedys#child, Object: http://topbraid.org/examples/kennedys#Rosemary_Kennedy\n",
      "Subject: http://topbraid.org/examples/kennedys#PJ_Kennedy, Predicate: http://topbraid.org/examples/kennedys#profession, Object: http://topbraid.org/examples/kennedys#politician\n",
      "Subject: http://topbraid.org/examples/kennedys#Rosemary_Kennedy, Predicate: http://topbraid.org/examples/kennedys#firstName, Object: Rosemary\n",
      "Subject: http://topbraid.org/examples/kennedys#Eunice_Kennedy, Predicate: http://topbraid.org/examples/kennedys#sibling, Object: http://topbraid.org/examples/kennedys#Joe_Kennedy\n",
      "Subject: http://topbraid.org/examples/kennedys#Rose_Kennedy, Predicate: http://topbraid.org/examples/kennedys#profession, Object: http://topbraid.org/examples/kennedys#philanthropist\n",
      "Subject: http://topbraid.org/examples/kennedys#Eunice_Kennedy, Predicate: http://topbraid.org/examples/kennedys#profession, Object: http://topbraid.org/examples/kennedys#public-servant\n",
      "Subject: http://topbraid.org/examples/kennedys#Jean_Kennedy, Predicate: http://topbraid.org/examples/kennedys#lastName, Object: Kennedy Smith\n",
      "Subject: http://topbraid.org/examples/kennedys#Jean_Kennedy, Predicate: http://topbraid.org/examples/kennedys#spouse, Object: http://topbraid.org/examples/kennedys#Stephen_Edward_Smith\n",
      "Subject: http://topbraid.org/examples/kennedys#Eunice_Kennedy, Predicate: http://topbraid.org/examples/kennedys#sibling, Object: http://topbraid.org/examples/kennedys#John_Kennedy\n",
      "Subject: http://topbraid.org/examples/kennedys#John_Kennedy, Predicate: http://topbraid.org/examples/kennedys#lastName, Object: Kennedy\n",
      "Subject: http://topbraid.org/examples/kennedys#Rose_Kennedy, Predicate: http://topbraid.org/examples/kennedys#child, Object: http://topbraid.org/examples/kennedys#John_Kennedy\n",
      "Subject: http://topbraid.org/examples/kennedys#PJ_Kennedy, Predicate: http://topbraid.org/examples/kennedys#profession, Object: http://topbraid.org/examples/kennedys#businessman\n",
      "Subject: http://topbraid.org/examples/kennedys#Patricia_Kennedy, Predicate: http://topbraid.org/examples/kennedys#sibling, Object: http://topbraid.org/examples/kennedys#Robert_Kennedy\n",
      "Subject: http://topbraid.org/examples/kennedys#Joe_Kennedy, Predicate: http://topbraid.org/examples/kennedys#profession, Object: http://topbraid.org/examples/kennedys#naval-aviator\n",
      "Subject: http://topbraid.org/examples/kennedys#PJ_Kennedy, Predicate: http://topbraid.org/examples/kennedys#child, Object: http://topbraid.org/examples/kennedys#Patricia_Kennedy\n",
      "Subject: http://topbraid.org/examples/kennedys#Joe_Kennedy, Predicate: http://topbraid.org/examples/kennedys#firstName, Object: Joseph Patrick\n",
      "Subject: http://topbraid.org/examples/kennedys#PJ_Kennedy, Predicate: http://topbraid.org/examples/kennedys#child, Object: http://topbraid.org/examples/kennedys#Edward_Kennedy\n",
      "Subject: http://topbraid.org/examples/kennedys#Patricia_Kennedy, Predicate: http://topbraid.org/examples/kennedys#sibling, Object: http://topbraid.org/examples/kennedys#Eunice_Kennedy\n",
      "Subject: http://topbraid.org/examples/kennedys#John_Kennedy, Predicate: http://topbraid.org/examples/kennedys#sibling, Object: http://topbraid.org/examples/kennedys#Joe_Kennedy\n",
      "Subject: http://topbraid.org/examples/kennedys#Robert_Kennedy, Predicate: http://topbraid.org/examples/kennedys#lastName, Object: Kennedy\n",
      "Subject: http://topbraid.org/examples/kennedys#John_Kennedy, Predicate: http://topbraid.org/examples/kennedys#sibling, Object: http://topbraid.org/examples/kennedys#Jean_Kennedy\n",
      "Subject: http://topbraid.org/examples/kennedys#Rose_Kennedy, Predicate: http://www.w3.org/1999/02/22-rdf-syntax-ns#type, Object: http://topbraid.org/examples/kennedys#Matriarch\n",
      "Subject: http://topbraid.org/examples/kennedys#PJ_Kennedy, Predicate: http://topbraid.org/examples/kennedys#child, Object: http://topbraid.org/examples/kennedys#Joe_Kennedy\n",
      "Subject: http://topbraid.org/examples/kennedys#Eunice_Kennedy, Predicate: http://www.w3.org/1999/02/22-rdf-syntax-ns#type, Object: http://topbraid.org/examples/kennedys#Person\n",
      "Subject: http://topbraid.org/examples/kennedys#Rose_Kennedy, Predicate: http://topbraid.org/examples/kennedys#child, Object: http://topbraid.org/examples/kennedys#Rosemary_Kennedy\n",
      "Subject: http://topbraid.org/examples/kennedys#Kathleen_Kennedy, Predicate: http://topbraid.org/examples/kennedys#sibling, Object: http://topbraid.org/examples/kennedys#John_Kennedy\n",
      "Subject: http://topbraid.org/examples/kennedys#Rosemary_Kennedy, Predicate: http://www.w3.org/1999/02/22-rdf-syntax-ns#type, Object: http://topbraid.org/examples/kennedys#Person\n",
      "Subject: http://topbraid.org/examples/kennedys#Rose_Kennedy, Predicate: http://topbraid.org/examples/kennedys#child, Object: http://topbraid.org/examples/kennedys#Patricia_Kennedy\n",
      "Subject: http://topbraid.org/examples/kennedys#Rose_Kennedy, Predicate: http://topbraid.org/examples/kennedys#child, Object: http://topbraid.org/examples/kennedys#Edward_Kennedy\n",
      "Subject: http://topbraid.org/examples/kennedys#John_Kennedy, Predicate: http://topbraid.org/examples/kennedys#sibling, Object: http://topbraid.org/examples/kennedys#Eunice_Kennedy\n",
      "Subject: http://topbraid.org/examples/kennedys#Rose_Kennedy, Predicate: http://topbraid.org/examples/kennedys#child, Object: http://topbraid.org/examples/kennedys#Kathleen_Kennedy\n",
      "Subject: http://topbraid.org/examples/kennedys#Joe_Kennedy, Predicate: http://www.w3.org/1999/02/22-rdf-syntax-ns#type, Object: http://topbraid.org/examples/kennedys#Person\n",
      "Subject: http://topbraid.org/examples/kennedys#John_Kennedy, Predicate: http://topbraid.org/examples/kennedys#sibling, Object: http://topbraid.org/examples/kennedys#Patricia_Kennedy\n",
      "Subject: http://topbraid.org/examples/kennedys#John_Kennedy, Predicate: http://topbraid.org/examples/kennedys#child, Object: http://topbraid.org/examples/kennedys#Joe_Kennedy\n",
      "Subject: http://topbraid.org/examples/kennedys#John_Kennedy, Predicate: http://topbraid.org/examples/kennedys#sibling, Object: http://topbraid.org/examples/kennedys#Edward_Kennedy\n",
      "Subject: http://topbraid.org/examples/kennedys#Rose_Kennedy, Predicate: http://topbraid.org/examples/kennedys#firstName, Object: Rose Elizabeth Fitzgerald\n",
      "Subject: http://topbraid.org/examples/kennedys#Eunice_Kennedy, Predicate: http://topbraid.org/examples/kennedys#sibling, Object: http://topbraid.org/examples/kennedys#Rosemary_Kennedy\n",
      "Subject: http://topbraid.org/examples/kennedys#Rosemary_Kennedy, Predicate: http://topbraid.org/examples/kennedys#sibling, Object: http://topbraid.org/examples/kennedys#John_Kennedy\n",
      "Subject: http://topbraid.org/examples/kennedys#Joe_Kennedy, Predicate: http://topbraid.org/examples/kennedys#sibling, Object: http://topbraid.org/examples/kennedys#Eunice_Kennedy\n",
      "Subject: http://topbraid.org/examples/kennedys#Kathleen_Kennedy, Predicate: http://topbraid.org/examples/kennedys#sibling, Object: http://topbraid.org/examples/kennedys#Joe_Kennedy\n",
      "Subject: http://topbraid.org/examples/kennedys#Patricia_Kennedy, Predicate: http://www.w3.org/1999/02/22-rdf-syntax-ns#type, Object: http://topbraid.org/examples/kennedys#Person\n",
      "Subject: http://topbraid.org/examples/kennedys#Patricia_Kennedy, Predicate: http://topbraid.org/examples/kennedys#profession, Object: http://topbraid.org/examples/kennedys#businessperson\n",
      "Subject: http://topbraid.org/examples/kennedys#Edward_Kennedy, Predicate: http://www.w3.org/1999/02/22-rdf-syntax-ns#type, Object: http://topbraid.org/examples/kennedys#Person\n",
      "Subject: http://topbraid.org/examples/kennedys#Rosemary_Kennedy, Predicate: http://topbraid.org/examples/kennedys#sibling, Object: http://topbraid.org/examples/kennedys#Joe_Kennedy\n",
      "Subject: http://topbraid.org/examples/kennedys#Robert_Kennedy, Predicate: http://topbraid.org/examples/kennedys#spouse, Object: http://topbraid.org/examples/kennedys#Ethel_Skakel\n",
      "Subject: http://topbraid.org/examples/kennedys#PJ_Kennedy, Predicate: http://topbraid.org/examples/kennedys#child, Object: http://topbraid.org/examples/kennedys#Jean_Kennedy\n",
      "Subject: http://topbraid.org/examples/kennedys#Jean_Kennedy, Predicate: http://topbraid.org/examples/kennedys#profession, Object: http://topbraid.org/examples/kennedys#diplomat\n",
      "Subject: http://topbraid.org/examples/kennedys#Eunice_Kennedy, Predicate: http://topbraid.org/examples/kennedys#spouse, Object: http://topbraid.org/examples/kennedys#Robert_Sargent_Shriver_Jr\n",
      "Subject: http://topbraid.org/examples/kennedys#Joe_Kennedy, Predicate: http://topbraid.org/examples/kennedys#sibling, Object: http://topbraid.org/examples/kennedys#Robert_Kennedy\n",
      "Subject: http://topbraid.org/examples/kennedys#Rosemary_Kennedy, Predicate: http://topbraid.org/examples/kennedys#lastName, Object: Kennedy\n",
      "Subject: http://topbraid.org/examples/kennedys#Robert_Kennedy, Predicate: http://www.w3.org/1999/02/22-rdf-syntax-ns#type, Object: http://topbraid.org/examples/kennedys#Person\n",
      "Subject: http://topbraid.org/examples/kennedys#Eunice_Kennedy, Predicate: http://topbraid.org/examples/kennedys#sibling, Object: http://topbraid.org/examples/kennedys#Jean_Kennedy\n",
      "Subject: http://topbraid.org/examples/kennedys#Jean_Kennedy, Predicate: http://topbraid.org/examples/kennedys#firstName, Object: Jean Ann\n",
      "Subject: http://topbraid.org/examples/kennedys#Edward_Kennedy, Predicate: http://topbraid.org/examples/kennedys#lastName, Object: Kennedy\n",
      "Subject: http://topbraid.org/examples/kennedys#Robert_Kennedy, Predicate: http://topbraid.org/examples/kennedys#profession, Object: http://topbraid.org/examples/kennedys#politician\n",
      "Subject: http://topbraid.org/examples/kennedys#PJ_Kennedy, Predicate: http://topbraid.org/examples/kennedys#child, Object: http://topbraid.org/examples/kennedys#Eunice_Kennedy\n",
      "Subject: http://topbraid.org/examples/kennedys#Robert_Kennedy, Predicate: http://topbraid.org/examples/kennedys#firstName, Object: Robert Francis\n",
      "Subject: http://topbraid.org/examples/kennedys#Rosemary_Kennedy, Predicate: http://topbraid.org/examples/kennedys#sibling, Object: http://topbraid.org/examples/kennedys#Eunice_Kennedy\n",
      "Subject: http://topbraid.org/examples/kennedys#Rosemary_Kennedy, Predicate: http://topbraid.org/examples/kennedys#sibling, Object: http://topbraid.org/examples/kennedys#Kathleen_Kennedy\n",
      "Subject: http://topbraid.org/examples/kennedys#PJ_Kennedy, Predicate: http://topbraid.org/examples/kennedys#child, Object: http://topbraid.org/examples/kennedys#John_Kennedy\n",
      "Subject: http://topbraid.org/examples/kennedys#Joe_Kennedy, Predicate: http://topbraid.org/examples/kennedys#sibling, Object: http://topbraid.org/examples/kennedys#Jean_Kennedy\n",
      "Subject: http://topbraid.org/examples/kennedys#PJ_Kennedy, Predicate: http://www.w3.org/1999/02/22-rdf-syntax-ns#type, Object: http://topbraid.org/examples/kennedys#Patriarch\n",
      "Subject: http://topbraid.org/examples/kennedys#Jean_Kennedy, Predicate: http://www.w3.org/1999/02/22-rdf-syntax-ns#type, Object: http://topbraid.org/examples/kennedys#Person\n",
      "Subject: http://topbraid.org/examples/kennedys#Kathleen_Kennedy, Predicate: http://topbraid.org/examples/kennedys#lastName, Object: Kennedy\n",
      "Subject: http://topbraid.org/examples/kennedys#John_Kennedy, Predicate: http://topbraid.org/examples/kennedys#profession, Object: http://topbraid.org/examples/kennedys#politician\n",
      "Subject: http://topbraid.org/examples/kennedys#Kathleen_Kennedy, Predicate: http://topbraid.org/examples/kennedys#sibling, Object: http://topbraid.org/examples/kennedys#Robert_Kennedy\n",
      "Subject: http://topbraid.org/examples/kennedys#Rosemary_Kennedy, Predicate: http://topbraid.org/examples/kennedys#sibling, Object: http://topbraid.org/examples/kennedys#Patricia_Kennedy\n",
      "Subject: http://topbraid.org/examples/kennedys#Rosemary_Kennedy, Predicate: http://topbraid.org/examples/kennedys#sibling, Object: http://topbraid.org/examples/kennedys#Edward_Kennedy\n",
      "Subject: http://topbraid.org/examples/kennedys#Kathleen_Kennedy, Predicate: http://topbraid.org/examples/kennedys#sibling, Object: http://topbraid.org/examples/kennedys#Eunice_Kennedy\n",
      "Subject: http://topbraid.org/examples/kennedys#Rosemary_Kennedy, Predicate: http://topbraid.org/examples/kennedys#sibling, Object: http://topbraid.org/examples/kennedys#Robert_Kennedy\n",
      "Subject: http://topbraid.org/examples/kennedys#Joe_Kennedy, Predicate: http://topbraid.org/examples/kennedys#lastName, Object: Kennedy Jr.\n",
      "Subject: http://topbraid.org/examples/kennedys#Kathleen_Kennedy, Predicate: http://topbraid.org/examples/kennedys#sibling, Object: http://topbraid.org/examples/kennedys#Patricia_Kennedy\n",
      "Subject: http://topbraid.org/examples/kennedys#Kathleen_Kennedy, Predicate: http://topbraid.org/examples/kennedys#sibling, Object: http://topbraid.org/examples/kennedys#Edward_Kennedy\n",
      "Subject: http://topbraid.org/examples/kennedys#Rose_Kennedy, Predicate: http://topbraid.org/examples/kennedys#child, Object: http://topbraid.org/examples/kennedys#Joe_Kennedy\n",
      "Subject: http://topbraid.org/examples/kennedys#Patricia_Kennedy, Predicate: http://topbraid.org/examples/kennedys#sibling, Object: http://topbraid.org/examples/kennedys#Rosemary_Kennedy\n",
      "Subject: http://topbraid.org/examples/kennedys#Patricia_Kennedy, Predicate: http://topbraid.org/examples/kennedys#sibling, Object: http://topbraid.org/examples/kennedys#Jean\n",
      "Subject: http://topbraid.org/examples/kennedys#Patricia_Kennedy, Predicate: http://topbraid.org/examples/kennedys#sibling, Object: http://topbraid.org/examples/kennedys#John_Kennedy\n",
      "Subject: http://topbraid.org/examples/kennedys#Kathleen_Kennedy, Predicate: http://topbraid.org/examples/kennedys#firstName, Object: Kathleen Agnes\n",
      "Subject: http://topbraid.org/examples/kennedys#Kathleen_Kennedy, Predicate: http://www.w3.org/1999/02/22-rdf-syntax-ns#type, Object: http://topbraid.org/examples/kennedys#Person\n",
      "Subject: http://topbraid.org/examples/kennedys#Edward_Kennedy, Predicate: http://topbraid.org/examples/kennedys#profession, Object: http://topbraid.org/examples/kennedys#politician\n",
      "Subject: http://topbraid.org/examples/kennedys#Joe_Kennedy, Predicate: http://topbraid.org/examples/kennedys#sibling, Object: http://topbraid.org/examples/kennedys#John_Kennedy\n",
      "Subject: http://topbraid.org/examples/kennedys#PJ_Kennedy, Predicate: http://topbraid.org/examples/kennedys#child, Object: http://topbraid.org/examples/kennedys#Kathleen_Kennedy\n",
      "Subject: http://topbraid.org/examples/kennedys#John_Kennedy, Predicate: http://topbraid.org/examples/kennedys#spouse, Object: http://topbraid.org/examples/kennedys#Jacqueline_Bouvier\n",
      "Subject: http://topbraid.org/examples/kennedys#Rose_Kennedy, Predicate: http://topbraid.org/examples/kennedys#profession, Object: http://topbraid.org/examples/kennedys#socialite\n",
      "Subject: http://topbraid.org/examples/kennedys#Rose_Kennedy, Predicate: http://topbraid.org/examples/kennedys#lastName, Object: Kennedy\n",
      "Subject: http://topbraid.org/examples/kennedys#Joe_Kennedy, Predicate: http://topbraid.org/examples/kennedys#sibling, Object: http://topbraid.org/examples/kennedys#Patricia_Kennedy\n",
      "Subject: http://topbraid.org/examples/kennedys#Joe_Kennedy, Predicate: http://topbraid.org/examples/kennedys#sibling, Object: http://topbraid.org/examples/kennedys#Edward_Kennedy\n",
      "Subject: http://topbraid.org/examples/kennedys#Rose_Kennedy, Predicate: http://topbraid.org/examples/kennedys#child, Object: http://topbraid.org/examples/kennedys#Eunice_Kennedy\n",
      "Subject: http://topbraid.org/examples/kennedys#John_Kennedy, Predicate: http://topbraid.org/examples/kennedys#sibling, Object: http://topbraid.org/examples/kennedys#Kathleen_Kennedy\n",
      "Subject: http://topbraid.org/examples/kennedys#PJ_Kennedy, Predicate: http://topbraid.org/examples/kennedys#lastName, Object: Kennedy\n",
      "Subject: http://topbraid.org/examples/kennedys#Eunice_Kennedy, Predicate: http://topbraid.org/examples/kennedys#sibling, Object: http://topbraid.org/examples/kennedys#Robert_Kennedy\n",
      "Subject: http://topbraid.org/examples/kennedys#Edward_Kennedy, Predicate: http://topbraid.org/examples/kennedys#firstName, Object: Edward Moore\n",
      "Subject: http://topbraid.org/examples/kennedys#John_Kennedy, Predicate: http://topbraid.org/examples/kennedys#sibling, Object: http://topbraid.org/examples/kennedys#Robert_Kennedy\n",
      "Subject: http://topbraid.org/examples/kennedys#John_Kennedy, Predicate: http://topbraid.org/examples/kennedys#sibling, Object: http://topbraid.org/examples/kennedys#Rosemary_Kennedy\n",
      "Subject: http://topbraid.org/examples/kennedys#Eunice_Kennedy, Predicate: http://topbraid.org/examples/kennedys#sibling, Object: http://topbraid.org/examples/kennedys#Patricia_Kennedy\n",
      "Subject: http://topbraid.org/examples/kennedys#Eunice_Kennedy, Predicate: http://topbraid.org/examples/kennedys#sibling, Object: http://topbraid.org/examples/kennedys#Edward_Kennedy\n",
      "Subject: http://topbraid.org/examples/kennedys#Rose_Kennedy, Predicate: http://topbraid.org/examples/kennedys#child, Object: http://topbraid.org/examples/kennedys#Robert_Kennedy\n",
      "Subject: http://topbraid.org/examples/kennedys#PJ_Kennedy, Predicate: http://topbraid.org/examples/kennedys#firstName, Object: Patrick Joseph\n",
      "Subject: http://topbraid.org/examples/kennedys#Joe_Kennedy, Predicate: http://topbraid.org/examples/kennedys#sibling, Object: http://topbraid.org/examples/kennedys#Rosemary_Kennedy\n",
      "Subject: http://topbraid.org/examples/kennedys#Joe_Kennedy, Predicate: http://topbraid.org/examples/kennedys#sibling, Object: http://topbraid.org/examples/kennedys#Kathleen_Kennedy\n",
      "Subject: http://topbraid.org/examples/kennedys#Patricia_Kennedy, Predicate: http://topbraid.org/examples/kennedys#lastName, Object: Kennedy Lawford\n",
      "Subject: http://topbraid.org/examples/kennedys#Eunice_Kennedy, Predicate: http://topbraid.org/examples/kennedys#sibling, Object: http://topbraid.org/examples/kennedys#Kathleen_Kennedy\n",
      "Subject: http://topbraid.org/examples/kennedys#Kathleen_Kennedy, Predicate: http://topbraid.org/examples/kennedys#profession, Object: http://topbraid.org/examples/kennedys#socialite\n",
      "Subject: http://topbraid.org/examples/kennedys#Patricia_Kennedy, Predicate: http://topbraid.org/examples/kennedys#sibling, Object: http://topbraid.org/examples/kennedys#Joe_Kennedy\n",
      "Subject: http://topbraid.org/examples/kennedys#Patricia_Kennedy, Predicate: http://topbraid.org/examples/kennedys#firstName, Object: Patricia\n",
      "Subject: http://topbraid.org/examples/kennedys#Kathleen_Kennedy, Predicate: http://topbraid.org/examples/kennedys#sibling, Object: http://topbraid.org/examples/kennedys#Jean_Kennedy\n",
      "Subject: http://topbraid.org/examples/kennedys#Eunice_Kennedy, Predicate: http://topbraid.org/examples/kennedys#firstName, Object: Eunice Mary\n"
     ]
    }
   ],
   "source": [
    "# Open a session\n",
    "with driver.session() as session:\n",
    "    # Execute a Cypher query to retrieve the data\n",
    "    cypher_query = \"\"\"\n",
    "    MATCH (s)-[r]->(o)\n",
    "    RETURN s.label AS subject, type(r) AS predicate, o.label AS object\n",
    "    \"\"\"\n",
    "    result = session.run(cypher_query)\n",
    "    # parse result\n",
    "    for record in result:\n",
    "        subject = record[\"subject\"]\n",
    "        predicate = record[\"predicate\"]\n",
    "        obj = record[\"object\"]\n",
    "        print(f\"Subject: {subject}, Predicate: {predicate}, Object: {obj}\")"
   ]
  },
  {
   "cell_type": "markdown",
   "id": "02d0da8b-3b74-4a15-8a17-45480bf91fea",
   "metadata": {},
   "source": [
    "It just inserts the URIs; there is probably a better way to do this.\n",
    "Could try to recursively parse the graph using the URIs, or maybe need to ask what I am actually doing here."
   ]
  },
  {
   "cell_type": "markdown",
   "id": "0ea75702-1968-43ca-8e45-411f53cadf86",
   "metadata": {},
   "source": [
    "### Cleanup"
   ]
  },
  {
   "cell_type": "code",
   "execution_count": 28,
   "id": "97fc08b5-5ddf-4f61-8f47-3c450553eabd",
   "metadata": {
    "tags": []
   },
   "outputs": [],
   "source": [
    "with driver.session() as session:\n",
    "    # Execute a Cypher query to delete all nodes and relationships\n",
    "    cypher_query = \"\"\"\n",
    "    MATCH (n)\n",
    "    DETACH DELETE n\n",
    "    \"\"\"\n",
    "    session.run(cypher_query)"
   ]
  },
  {
   "cell_type": "markdown",
   "id": "7d5fc931-506f-46dc-b02e-cba884fecdb2",
   "metadata": {},
   "source": [
    "# Trying to recursively parse the graph"
   ]
  },
  {
   "cell_type": "code",
   "execution_count": 26,
   "id": "bd11075b-50ca-40b7-93eb-d66d3e3ef74b",
   "metadata": {},
   "outputs": [],
   "source": [
    "import urllib.request\n",
    "import xml.etree.ElementTree as ET\n",
    "from rdflib import Graph, URIRef"
   ]
  },
  {
   "cell_type": "code",
   "execution_count": 27,
   "id": "4e34b2d7-532e-4382-ada2-c139c48a66ed",
   "metadata": {
    "tags": []
   },
   "outputs": [
    {
     "ename": "FileNotFoundError",
     "evalue": "[Errno 2] No such file or directory: 'https://www.topbraid.org/examples/kennedys'",
     "output_type": "error",
     "traceback": [
      "\u001b[0;31m---------------------------------------------------------------------------\u001b[0m",
      "\u001b[0;31mFileNotFoundError\u001b[0m                         Traceback (most recent call last)",
      "\u001b[0;32m/var/folders/b1/hl9s16b9173_58xr6yn3v9qr0000gn/T/ipykernel_94870/2990516615.py\u001b[0m in \u001b[0;36m<module>\u001b[0;34m\u001b[0m\n\u001b[1;32m      1\u001b[0m \u001b[0;31m# Load the RDF/XML data from the URL\u001b[0m\u001b[0;34m\u001b[0m\u001b[0;34m\u001b[0m\u001b[0;34m\u001b[0m\u001b[0m\n\u001b[0;32m----> 2\u001b[0;31m \u001b[0mresponse\u001b[0m \u001b[0;34m=\u001b[0m \u001b[0mET\u001b[0m\u001b[0;34m.\u001b[0m\u001b[0mparse\u001b[0m\u001b[0;34m(\u001b[0m\u001b[0;34m\"https://www.topbraid.org/examples/kennedys\"\u001b[0m\u001b[0;34m)\u001b[0m\u001b[0;34m.\u001b[0m\u001b[0mgetroot\u001b[0m\u001b[0;34m(\u001b[0m\u001b[0;34m)\u001b[0m\u001b[0;34m\u001b[0m\u001b[0;34m\u001b[0m\u001b[0m\n\u001b[0m\u001b[1;32m      3\u001b[0m \u001b[0;34m\u001b[0m\u001b[0m\n\u001b[1;32m      4\u001b[0m \u001b[0;31m# Recursive function to process XML elements and add triples to the graph\u001b[0m\u001b[0;34m\u001b[0m\u001b[0;34m\u001b[0m\u001b[0;34m\u001b[0m\u001b[0m\n\u001b[1;32m      5\u001b[0m \u001b[0;32mdef\u001b[0m \u001b[0mprocess_element\u001b[0m\u001b[0;34m(\u001b[0m\u001b[0melement\u001b[0m\u001b[0;34m,\u001b[0m \u001b[0mparent_subject\u001b[0m\u001b[0;34m=\u001b[0m\u001b[0;32mNone\u001b[0m\u001b[0;34m)\u001b[0m\u001b[0;34m:\u001b[0m\u001b[0;34m\u001b[0m\u001b[0;34m\u001b[0m\u001b[0m\n",
      "\u001b[0;32m~/miniconda3/lib/python3.7/xml/etree/ElementTree.py\u001b[0m in \u001b[0;36mparse\u001b[0;34m(source, parser)\u001b[0m\n\u001b[1;32m   1195\u001b[0m     \"\"\"\n\u001b[1;32m   1196\u001b[0m     \u001b[0mtree\u001b[0m \u001b[0;34m=\u001b[0m \u001b[0mElementTree\u001b[0m\u001b[0;34m(\u001b[0m\u001b[0;34m)\u001b[0m\u001b[0;34m\u001b[0m\u001b[0;34m\u001b[0m\u001b[0m\n\u001b[0;32m-> 1197\u001b[0;31m     \u001b[0mtree\u001b[0m\u001b[0;34m.\u001b[0m\u001b[0mparse\u001b[0m\u001b[0;34m(\u001b[0m\u001b[0msource\u001b[0m\u001b[0;34m,\u001b[0m \u001b[0mparser\u001b[0m\u001b[0;34m)\u001b[0m\u001b[0;34m\u001b[0m\u001b[0;34m\u001b[0m\u001b[0m\n\u001b[0m\u001b[1;32m   1198\u001b[0m     \u001b[0;32mreturn\u001b[0m \u001b[0mtree\u001b[0m\u001b[0;34m\u001b[0m\u001b[0;34m\u001b[0m\u001b[0m\n\u001b[1;32m   1199\u001b[0m \u001b[0;34m\u001b[0m\u001b[0m\n",
      "\u001b[0;32m~/miniconda3/lib/python3.7/xml/etree/ElementTree.py\u001b[0m in \u001b[0;36mparse\u001b[0;34m(self, source, parser)\u001b[0m\n\u001b[1;32m    585\u001b[0m         \u001b[0mclose_source\u001b[0m \u001b[0;34m=\u001b[0m \u001b[0;32mFalse\u001b[0m\u001b[0;34m\u001b[0m\u001b[0;34m\u001b[0m\u001b[0m\n\u001b[1;32m    586\u001b[0m         \u001b[0;32mif\u001b[0m \u001b[0;32mnot\u001b[0m \u001b[0mhasattr\u001b[0m\u001b[0;34m(\u001b[0m\u001b[0msource\u001b[0m\u001b[0;34m,\u001b[0m \u001b[0;34m\"read\"\u001b[0m\u001b[0;34m)\u001b[0m\u001b[0;34m:\u001b[0m\u001b[0;34m\u001b[0m\u001b[0;34m\u001b[0m\u001b[0m\n\u001b[0;32m--> 587\u001b[0;31m             \u001b[0msource\u001b[0m \u001b[0;34m=\u001b[0m \u001b[0mopen\u001b[0m\u001b[0;34m(\u001b[0m\u001b[0msource\u001b[0m\u001b[0;34m,\u001b[0m \u001b[0;34m\"rb\"\u001b[0m\u001b[0;34m)\u001b[0m\u001b[0;34m\u001b[0m\u001b[0;34m\u001b[0m\u001b[0m\n\u001b[0m\u001b[1;32m    588\u001b[0m             \u001b[0mclose_source\u001b[0m \u001b[0;34m=\u001b[0m \u001b[0;32mTrue\u001b[0m\u001b[0;34m\u001b[0m\u001b[0;34m\u001b[0m\u001b[0m\n\u001b[1;32m    589\u001b[0m         \u001b[0;32mtry\u001b[0m\u001b[0;34m:\u001b[0m\u001b[0;34m\u001b[0m\u001b[0;34m\u001b[0m\u001b[0m\n",
      "\u001b[0;31mFileNotFoundError\u001b[0m: [Errno 2] No such file or directory: 'https://www.topbraid.org/examples/kennedys'"
     ]
    }
   ],
   "source": [
    "# Load the RDF/XML data from the URL\n",
    "response = ET.parse(\"https://www.topbraid.org/examples/kennedys\").getroot()\n",
    "\n",
    "# Recursive function to process XML elements and add triples to the graph\n",
    "def process_element(element, parent_subject=None):\n",
    "    subject = parent_subject or URIRef(element.attrib.get(\"rdf:about\"))\n",
    "\n",
    "    for child in element:\n",
    "        predicate = URIRef(child.tag)\n",
    "        if \"resource\" in child.attrib:\n",
    "            obj = URIRef(child.attrib[\"resource\"])\n",
    "            graph.add((subject, predicate, obj))\n",
    "            process_element(child, parent_subject=obj)\n",
    "        else:\n",
    "            obj = child.text\n",
    "            graph.add((subject, predicate, obj))\n",
    "\n",
    "# Process the root element\n",
    "process_element(response)\n",
    "\n",
    "# Print the number of triples in the graph\n",
    "print(f\"Number of triples: {len(graph)}\")"
   ]
  }
 ],
 "metadata": {
  "kernelspec": {
   "display_name": "Python 3 (ipykernel)",
   "language": "python",
   "name": "python3"
  },
  "language_info": {
   "codemirror_mode": {
    "name": "ipython",
    "version": 3
   },
   "file_extension": ".py",
   "mimetype": "text/x-python",
   "name": "python",
   "nbconvert_exporter": "python",
   "pygments_lexer": "ipython3",
   "version": "3.7.12"
  }
 },
 "nbformat": 4,
 "nbformat_minor": 5
}
